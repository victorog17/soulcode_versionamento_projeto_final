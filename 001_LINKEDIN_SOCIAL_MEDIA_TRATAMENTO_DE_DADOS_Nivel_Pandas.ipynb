{
  "nbformat": 4,
  "nbformat_minor": 0,
  "metadata": {
    "colab": {
      "name": "001_LINKEDIN_SOCIAL_MEDIA_TRATAMENTO_DE_DADOS_Nivel_Pandas",
      "provenance": [],
      "collapsed_sections": [
        "OrDGiX-WWjn2"
      ]
    },
    "kernelspec": {
      "name": "python3",
      "display_name": "Python 3"
    },
    "language_info": {
      "name": "python"
    }
  },
  "cells": [
    {
      "cell_type": "markdown",
      "metadata": {
        "id": "JxXE0WxRelF6"
      },
      "source": [
        "#**Importações** \n"
      ]
    },
    {
      "cell_type": "markdown",
      "metadata": {
        "id": "nlPtpG41AXVJ"
      },
      "source": [
        "***Bibliotecas e instalações***"
      ]
    },
    {
      "cell_type": "code",
      "metadata": {
        "id": "hRrDlsZ-1_tr"
      },
      "source": [
        "pip install pandera"
      ],
      "execution_count": null,
      "outputs": []
    },
    {
      "cell_type": "code",
      "metadata": {
        "id": "aNyFDuM-GYrr"
      },
      "source": [
        "import pandas as pd\n",
        "import pandera as pa\n",
        "from google.cloud import storage\n",
        "from matplotlib import pyplot as plt\n",
        "import os"
      ],
      "execution_count": null,
      "outputs": []
    },
    {
      "cell_type": "code",
      "metadata": {
        "id": "J7SfQQ4z6ksL"
      },
      "source": [
        "pip install fsspec"
      ],
      "execution_count": null,
      "outputs": []
    },
    {
      "cell_type": "code",
      "metadata": {
        "id": "MXjdAF2T6tnw"
      },
      "source": [
        "pip install gcsfs"
      ],
      "execution_count": null,
      "outputs": []
    },
    {
      "cell_type": "markdown",
      "metadata": {
        "id": "f228CLuCeuZs"
      },
      "source": [
        "***Importando DataFrame***"
      ]
    },
    {
      "cell_type": "code",
      "metadata": {
        "id": "fZhbzBTWGtVq",
        "colab": {
          "base_uri": "https://localhost:8080/"
        },
        "outputId": "a1cd47c1-4190-4c7a-edc7-ce9b5e91effc"
      },
      "source": [
        "df = pd.read_csv(r'gs://projetofinalgrupo8/entrada/LinkedIn_Profile_Data.csv')"
      ],
      "execution_count": null,
      "outputs": [
        {
          "output_type": "stream",
          "name": "stderr",
          "text": [
            "/usr/local/lib/python3.7/dist-packages/IPython/core/interactiveshell.py:2718: DtypeWarning: Columns (0) have mixed types.Specify dtype option on import or set low_memory=False.\n",
            "  interactivity=interactivity, compiler=compiler, result=result)\n"
          ]
        }
      ]
    },
    {
      "cell_type": "code",
      "metadata": {
        "id": "n9UHmF1RHM06",
        "colab": {
          "base_uri": "https://localhost:8080/",
          "height": 379
        },
        "outputId": "99f18106-1af8-4cd7-abdf-0415cdbbfad5"
      },
      "source": [
        "df.head(10)"
      ],
      "execution_count": null,
      "outputs": [
        {
          "output_type": "execute_result",
          "data": {
            "text/html": [
              "<div>\n",
              "<style scoped>\n",
              "    .dataframe tbody tr th:only-of-type {\n",
              "        vertical-align: middle;\n",
              "    }\n",
              "\n",
              "    .dataframe tbody tr th {\n",
              "        vertical-align: top;\n",
              "    }\n",
              "\n",
              "    .dataframe thead th {\n",
              "        text-align: right;\n",
              "    }\n",
              "</style>\n",
              "<table border=\"1\" class=\"dataframe\">\n",
              "  <thead>\n",
              "    <tr style=\"text-align: right;\">\n",
              "      <th></th>\n",
              "      <th>c_id</th>\n",
              "      <th>avg_time_in_previous_position</th>\n",
              "      <th>avg_current_position_length</th>\n",
              "      <th>avg_previous_position_length</th>\n",
              "      <th>m_urn</th>\n",
              "      <th>m_urn_id</th>\n",
              "      <th>no_of_promotions</th>\n",
              "      <th>no_of_previous_positions</th>\n",
              "      <th>current_position_length</th>\n",
              "      <th>age</th>\n",
              "      <th>beauty</th>\n",
              "      <th>beauty_female</th>\n",
              "      <th>beauty_male</th>\n",
              "      <th>blur</th>\n",
              "      <th>emo_anger</th>\n",
              "      <th>emp_disgust</th>\n",
              "      <th>emo_fear</th>\n",
              "      <th>emo_happiness</th>\n",
              "      <th>emo_neutral</th>\n",
              "      <th>emo_sadness</th>\n",
              "      <th>emo_surprise</th>\n",
              "      <th>ethnicity</th>\n",
              "      <th>gender</th>\n",
              "      <th>glass</th>\n",
              "      <th>head_pitch</th>\n",
              "      <th>head_roll</th>\n",
              "      <th>head_yaw</th>\n",
              "      <th>mouth_close</th>\n",
              "      <th>mouth_mask</th>\n",
              "      <th>mouth_open</th>\n",
              "      <th>mouth_other</th>\n",
              "      <th>skin_acne</th>\n",
              "      <th>skin_dark_circle</th>\n",
              "      <th>skin_health</th>\n",
              "      <th>skin_stain</th>\n",
              "      <th>smile</th>\n",
              "      <th>nationality</th>\n",
              "      <th>african</th>\n",
              "      <th>celtic_english</th>\n",
              "      <th>east_asian</th>\n",
              "      <th>european</th>\n",
              "      <th>greek</th>\n",
              "      <th>hispanic</th>\n",
              "      <th>jewish</th>\n",
              "      <th>muslim</th>\n",
              "      <th>nordic</th>\n",
              "      <th>south_asian</th>\n",
              "      <th>n_followers</th>\n",
              "      <th>face_quality</th>\n",
              "    </tr>\n",
              "  </thead>\n",
              "  <tbody>\n",
              "    <tr>\n",
              "      <th>0</th>\n",
              "      <td>1</td>\n",
              "      <td>2.000000</td>\n",
              "      <td>457.0</td>\n",
              "      <td>1338.000000</td>\n",
              "      <td>urn:li:member:149435456</td>\n",
              "      <td>3008</td>\n",
              "      <td>1</td>\n",
              "      <td>1</td>\n",
              "      <td>457</td>\n",
              "      <td>37</td>\n",
              "      <td>57.57</td>\n",
              "      <td>63.829</td>\n",
              "      <td>57.57</td>\n",
              "      <td>0.421</td>\n",
              "      <td>76.6</td>\n",
              "      <td>0.7</td>\n",
              "      <td>0.7</td>\n",
              "      <td>99.035</td>\n",
              "      <td>0.086</td>\n",
              "      <td>0.007</td>\n",
              "      <td>0.091</td>\n",
              "      <td>Asian</td>\n",
              "      <td>Male</td>\n",
              "      <td>Normal</td>\n",
              "      <td>7.735048</td>\n",
              "      <td>-5.195693</td>\n",
              "      <td>12.394546</td>\n",
              "      <td>100.0</td>\n",
              "      <td>0.0</td>\n",
              "      <td>0.0</td>\n",
              "      <td>0.0</td>\n",
              "      <td>0.734</td>\n",
              "      <td>3.295</td>\n",
              "      <td>34.366</td>\n",
              "      <td>1.411</td>\n",
              "      <td>77.536</td>\n",
              "      <td>east_asian</td>\n",
              "      <td>0.0</td>\n",
              "      <td>6.04</td>\n",
              "      <td>87.77</td>\n",
              "      <td>5.27</td>\n",
              "      <td>0.0</td>\n",
              "      <td>0.0</td>\n",
              "      <td>0.0</td>\n",
              "      <td>0.0</td>\n",
              "      <td>0.0</td>\n",
              "      <td>0.0</td>\n",
              "      <td>420</td>\n",
              "      <td>67.662</td>\n",
              "    </tr>\n",
              "    <tr>\n",
              "      <th>1</th>\n",
              "      <td>2</td>\n",
              "      <td>1.500000</td>\n",
              "      <td>212.0</td>\n",
              "      <td>897.500000</td>\n",
              "      <td>urn:li:member:149435456</td>\n",
              "      <td>3008</td>\n",
              "      <td>1</td>\n",
              "      <td>2</td>\n",
              "      <td>212</td>\n",
              "      <td>37</td>\n",
              "      <td>57.57</td>\n",
              "      <td>63.829</td>\n",
              "      <td>57.57</td>\n",
              "      <td>0.421</td>\n",
              "      <td>76.6</td>\n",
              "      <td>0.7</td>\n",
              "      <td>0.7</td>\n",
              "      <td>99.035</td>\n",
              "      <td>0.086</td>\n",
              "      <td>0.007</td>\n",
              "      <td>0.091</td>\n",
              "      <td>Asian</td>\n",
              "      <td>Male</td>\n",
              "      <td>Normal</td>\n",
              "      <td>7.735048</td>\n",
              "      <td>-5.195693</td>\n",
              "      <td>12.394546</td>\n",
              "      <td>100.0</td>\n",
              "      <td>0.0</td>\n",
              "      <td>0.0</td>\n",
              "      <td>0.0</td>\n",
              "      <td>0.734</td>\n",
              "      <td>3.295</td>\n",
              "      <td>34.366</td>\n",
              "      <td>1.411</td>\n",
              "      <td>77.536</td>\n",
              "      <td>east_asian</td>\n",
              "      <td>0.0</td>\n",
              "      <td>6.04</td>\n",
              "      <td>87.77</td>\n",
              "      <td>5.27</td>\n",
              "      <td>0.0</td>\n",
              "      <td>0.0</td>\n",
              "      <td>0.0</td>\n",
              "      <td>0.0</td>\n",
              "      <td>0.0</td>\n",
              "      <td>0.0</td>\n",
              "      <td>420</td>\n",
              "      <td>67.662</td>\n",
              "    </tr>\n",
              "    <tr>\n",
              "      <th>2</th>\n",
              "      <td>3</td>\n",
              "      <td>1.333333</td>\n",
              "      <td>243.0</td>\n",
              "      <td>669.000000</td>\n",
              "      <td>urn:li:member:149435456</td>\n",
              "      <td>3008</td>\n",
              "      <td>1</td>\n",
              "      <td>3</td>\n",
              "      <td>243</td>\n",
              "      <td>37</td>\n",
              "      <td>57.57</td>\n",
              "      <td>63.829</td>\n",
              "      <td>57.57</td>\n",
              "      <td>0.421</td>\n",
              "      <td>76.6</td>\n",
              "      <td>0.7</td>\n",
              "      <td>0.7</td>\n",
              "      <td>99.035</td>\n",
              "      <td>0.086</td>\n",
              "      <td>0.007</td>\n",
              "      <td>0.091</td>\n",
              "      <td>Asian</td>\n",
              "      <td>Male</td>\n",
              "      <td>Normal</td>\n",
              "      <td>7.735048</td>\n",
              "      <td>-5.195693</td>\n",
              "      <td>12.394546</td>\n",
              "      <td>100.0</td>\n",
              "      <td>0.0</td>\n",
              "      <td>0.0</td>\n",
              "      <td>0.0</td>\n",
              "      <td>0.734</td>\n",
              "      <td>3.295</td>\n",
              "      <td>34.366</td>\n",
              "      <td>1.411</td>\n",
              "      <td>77.536</td>\n",
              "      <td>east_asian</td>\n",
              "      <td>0.0</td>\n",
              "      <td>6.04</td>\n",
              "      <td>87.77</td>\n",
              "      <td>5.27</td>\n",
              "      <td>0.0</td>\n",
              "      <td>0.0</td>\n",
              "      <td>0.0</td>\n",
              "      <td>0.0</td>\n",
              "      <td>0.0</td>\n",
              "      <td>0.0</td>\n",
              "      <td>420</td>\n",
              "      <td>67.662</td>\n",
              "    </tr>\n",
              "    <tr>\n",
              "      <th>3</th>\n",
              "      <td>4</td>\n",
              "      <td>1.250000</td>\n",
              "      <td>123.0</td>\n",
              "      <td>562.500000</td>\n",
              "      <td>urn:li:member:149435456</td>\n",
              "      <td>3008</td>\n",
              "      <td>1</td>\n",
              "      <td>4</td>\n",
              "      <td>123</td>\n",
              "      <td>37</td>\n",
              "      <td>57.57</td>\n",
              "      <td>63.829</td>\n",
              "      <td>57.57</td>\n",
              "      <td>0.421</td>\n",
              "      <td>76.6</td>\n",
              "      <td>0.7</td>\n",
              "      <td>0.7</td>\n",
              "      <td>99.035</td>\n",
              "      <td>0.086</td>\n",
              "      <td>0.007</td>\n",
              "      <td>0.091</td>\n",
              "      <td>Asian</td>\n",
              "      <td>Male</td>\n",
              "      <td>Normal</td>\n",
              "      <td>7.735048</td>\n",
              "      <td>-5.195693</td>\n",
              "      <td>12.394546</td>\n",
              "      <td>100.0</td>\n",
              "      <td>0.0</td>\n",
              "      <td>0.0</td>\n",
              "      <td>0.0</td>\n",
              "      <td>0.734</td>\n",
              "      <td>3.295</td>\n",
              "      <td>34.366</td>\n",
              "      <td>1.411</td>\n",
              "      <td>77.536</td>\n",
              "      <td>east_asian</td>\n",
              "      <td>0.0</td>\n",
              "      <td>6.04</td>\n",
              "      <td>87.77</td>\n",
              "      <td>5.27</td>\n",
              "      <td>0.0</td>\n",
              "      <td>0.0</td>\n",
              "      <td>0.0</td>\n",
              "      <td>0.0</td>\n",
              "      <td>0.0</td>\n",
              "      <td>0.0</td>\n",
              "      <td>420</td>\n",
              "      <td>67.662</td>\n",
              "    </tr>\n",
              "    <tr>\n",
              "      <th>4</th>\n",
              "      <td>5</td>\n",
              "      <td>1.200000</td>\n",
              "      <td>244.0</td>\n",
              "      <td>474.600000</td>\n",
              "      <td>urn:li:member:149435456</td>\n",
              "      <td>3008</td>\n",
              "      <td>1</td>\n",
              "      <td>5</td>\n",
              "      <td>244</td>\n",
              "      <td>37</td>\n",
              "      <td>57.57</td>\n",
              "      <td>63.829</td>\n",
              "      <td>57.57</td>\n",
              "      <td>0.421</td>\n",
              "      <td>76.6</td>\n",
              "      <td>0.7</td>\n",
              "      <td>0.7</td>\n",
              "      <td>99.035</td>\n",
              "      <td>0.086</td>\n",
              "      <td>0.007</td>\n",
              "      <td>0.091</td>\n",
              "      <td>Asian</td>\n",
              "      <td>Male</td>\n",
              "      <td>Normal</td>\n",
              "      <td>7.735048</td>\n",
              "      <td>-5.195693</td>\n",
              "      <td>12.394546</td>\n",
              "      <td>100.0</td>\n",
              "      <td>0.0</td>\n",
              "      <td>0.0</td>\n",
              "      <td>0.0</td>\n",
              "      <td>0.734</td>\n",
              "      <td>3.295</td>\n",
              "      <td>34.366</td>\n",
              "      <td>1.411</td>\n",
              "      <td>77.536</td>\n",
              "      <td>east_asian</td>\n",
              "      <td>0.0</td>\n",
              "      <td>6.04</td>\n",
              "      <td>87.77</td>\n",
              "      <td>5.27</td>\n",
              "      <td>0.0</td>\n",
              "      <td>0.0</td>\n",
              "      <td>0.0</td>\n",
              "      <td>0.0</td>\n",
              "      <td>0.0</td>\n",
              "      <td>0.0</td>\n",
              "      <td>420</td>\n",
              "      <td>67.662</td>\n",
              "    </tr>\n",
              "    <tr>\n",
              "      <th>5</th>\n",
              "      <td>6</td>\n",
              "      <td>1.166667</td>\n",
              "      <td>304.0</td>\n",
              "      <td>436.166667</td>\n",
              "      <td>urn:li:member:149435456</td>\n",
              "      <td>3008</td>\n",
              "      <td>1</td>\n",
              "      <td>6</td>\n",
              "      <td>304</td>\n",
              "      <td>37</td>\n",
              "      <td>57.57</td>\n",
              "      <td>63.829</td>\n",
              "      <td>57.57</td>\n",
              "      <td>0.421</td>\n",
              "      <td>76.6</td>\n",
              "      <td>0.7</td>\n",
              "      <td>0.7</td>\n",
              "      <td>99.035</td>\n",
              "      <td>0.086</td>\n",
              "      <td>0.007</td>\n",
              "      <td>0.091</td>\n",
              "      <td>Asian</td>\n",
              "      <td>Male</td>\n",
              "      <td>Normal</td>\n",
              "      <td>7.735048</td>\n",
              "      <td>-5.195693</td>\n",
              "      <td>12.394546</td>\n",
              "      <td>100.0</td>\n",
              "      <td>0.0</td>\n",
              "      <td>0.0</td>\n",
              "      <td>0.0</td>\n",
              "      <td>0.734</td>\n",
              "      <td>3.295</td>\n",
              "      <td>34.366</td>\n",
              "      <td>1.411</td>\n",
              "      <td>77.536</td>\n",
              "      <td>east_asian</td>\n",
              "      <td>0.0</td>\n",
              "      <td>6.04</td>\n",
              "      <td>87.77</td>\n",
              "      <td>5.27</td>\n",
              "      <td>0.0</td>\n",
              "      <td>0.0</td>\n",
              "      <td>0.0</td>\n",
              "      <td>0.0</td>\n",
              "      <td>0.0</td>\n",
              "      <td>0.0</td>\n",
              "      <td>420</td>\n",
              "      <td>67.662</td>\n",
              "    </tr>\n",
              "    <tr>\n",
              "      <th>6</th>\n",
              "      <td>7</td>\n",
              "      <td>2.000000</td>\n",
              "      <td>457.0</td>\n",
              "      <td>1338.000000</td>\n",
              "      <td>urn:li:member:149435456</td>\n",
              "      <td>3008</td>\n",
              "      <td>1</td>\n",
              "      <td>1</td>\n",
              "      <td>457</td>\n",
              "      <td>37</td>\n",
              "      <td>57.57</td>\n",
              "      <td>63.829</td>\n",
              "      <td>57.57</td>\n",
              "      <td>0.421</td>\n",
              "      <td>76.6</td>\n",
              "      <td>0.7</td>\n",
              "      <td>0.7</td>\n",
              "      <td>99.035</td>\n",
              "      <td>0.086</td>\n",
              "      <td>0.007</td>\n",
              "      <td>0.091</td>\n",
              "      <td>Asian</td>\n",
              "      <td>Male</td>\n",
              "      <td>Normal</td>\n",
              "      <td>7.735048</td>\n",
              "      <td>-5.195693</td>\n",
              "      <td>12.394546</td>\n",
              "      <td>100.0</td>\n",
              "      <td>0.0</td>\n",
              "      <td>0.0</td>\n",
              "      <td>0.0</td>\n",
              "      <td>0.734</td>\n",
              "      <td>3.295</td>\n",
              "      <td>34.366</td>\n",
              "      <td>1.411</td>\n",
              "      <td>77.536</td>\n",
              "      <td>east_asian</td>\n",
              "      <td>0.0</td>\n",
              "      <td>6.04</td>\n",
              "      <td>87.77</td>\n",
              "      <td>5.27</td>\n",
              "      <td>0.0</td>\n",
              "      <td>0.0</td>\n",
              "      <td>0.0</td>\n",
              "      <td>0.0</td>\n",
              "      <td>0.0</td>\n",
              "      <td>0.0</td>\n",
              "      <td>420</td>\n",
              "      <td>67.662</td>\n",
              "    </tr>\n",
              "    <tr>\n",
              "      <th>7</th>\n",
              "      <td>8</td>\n",
              "      <td>1.500000</td>\n",
              "      <td>212.0</td>\n",
              "      <td>897.500000</td>\n",
              "      <td>urn:li:member:149435456</td>\n",
              "      <td>3008</td>\n",
              "      <td>1</td>\n",
              "      <td>2</td>\n",
              "      <td>212</td>\n",
              "      <td>37</td>\n",
              "      <td>57.57</td>\n",
              "      <td>63.829</td>\n",
              "      <td>57.57</td>\n",
              "      <td>0.421</td>\n",
              "      <td>76.6</td>\n",
              "      <td>0.7</td>\n",
              "      <td>0.7</td>\n",
              "      <td>99.035</td>\n",
              "      <td>0.086</td>\n",
              "      <td>0.007</td>\n",
              "      <td>0.091</td>\n",
              "      <td>Asian</td>\n",
              "      <td>Male</td>\n",
              "      <td>Normal</td>\n",
              "      <td>7.735048</td>\n",
              "      <td>-5.195693</td>\n",
              "      <td>12.394546</td>\n",
              "      <td>100.0</td>\n",
              "      <td>0.0</td>\n",
              "      <td>0.0</td>\n",
              "      <td>0.0</td>\n",
              "      <td>0.734</td>\n",
              "      <td>3.295</td>\n",
              "      <td>34.366</td>\n",
              "      <td>1.411</td>\n",
              "      <td>77.536</td>\n",
              "      <td>east_asian</td>\n",
              "      <td>0.0</td>\n",
              "      <td>6.04</td>\n",
              "      <td>87.77</td>\n",
              "      <td>5.27</td>\n",
              "      <td>0.0</td>\n",
              "      <td>0.0</td>\n",
              "      <td>0.0</td>\n",
              "      <td>0.0</td>\n",
              "      <td>0.0</td>\n",
              "      <td>0.0</td>\n",
              "      <td>420</td>\n",
              "      <td>67.662</td>\n",
              "    </tr>\n",
              "    <tr>\n",
              "      <th>8</th>\n",
              "      <td>9</td>\n",
              "      <td>1.333333</td>\n",
              "      <td>243.0</td>\n",
              "      <td>669.000000</td>\n",
              "      <td>urn:li:member:149435456</td>\n",
              "      <td>3008</td>\n",
              "      <td>1</td>\n",
              "      <td>3</td>\n",
              "      <td>243</td>\n",
              "      <td>37</td>\n",
              "      <td>57.57</td>\n",
              "      <td>63.829</td>\n",
              "      <td>57.57</td>\n",
              "      <td>0.421</td>\n",
              "      <td>76.6</td>\n",
              "      <td>0.7</td>\n",
              "      <td>0.7</td>\n",
              "      <td>99.035</td>\n",
              "      <td>0.086</td>\n",
              "      <td>0.007</td>\n",
              "      <td>0.091</td>\n",
              "      <td>Asian</td>\n",
              "      <td>Male</td>\n",
              "      <td>Normal</td>\n",
              "      <td>7.735048</td>\n",
              "      <td>-5.195693</td>\n",
              "      <td>12.394546</td>\n",
              "      <td>100.0</td>\n",
              "      <td>0.0</td>\n",
              "      <td>0.0</td>\n",
              "      <td>0.0</td>\n",
              "      <td>0.734</td>\n",
              "      <td>3.295</td>\n",
              "      <td>34.366</td>\n",
              "      <td>1.411</td>\n",
              "      <td>77.536</td>\n",
              "      <td>east_asian</td>\n",
              "      <td>0.0</td>\n",
              "      <td>6.04</td>\n",
              "      <td>87.77</td>\n",
              "      <td>5.27</td>\n",
              "      <td>0.0</td>\n",
              "      <td>0.0</td>\n",
              "      <td>0.0</td>\n",
              "      <td>0.0</td>\n",
              "      <td>0.0</td>\n",
              "      <td>0.0</td>\n",
              "      <td>420</td>\n",
              "      <td>67.662</td>\n",
              "    </tr>\n",
              "    <tr>\n",
              "      <th>9</th>\n",
              "      <td>10</td>\n",
              "      <td>1.250000</td>\n",
              "      <td>123.0</td>\n",
              "      <td>562.500000</td>\n",
              "      <td>urn:li:member:149435456</td>\n",
              "      <td>3008</td>\n",
              "      <td>1</td>\n",
              "      <td>4</td>\n",
              "      <td>123</td>\n",
              "      <td>37</td>\n",
              "      <td>57.57</td>\n",
              "      <td>63.829</td>\n",
              "      <td>57.57</td>\n",
              "      <td>0.421</td>\n",
              "      <td>76.6</td>\n",
              "      <td>0.7</td>\n",
              "      <td>0.7</td>\n",
              "      <td>99.035</td>\n",
              "      <td>0.086</td>\n",
              "      <td>0.007</td>\n",
              "      <td>0.091</td>\n",
              "      <td>Asian</td>\n",
              "      <td>Male</td>\n",
              "      <td>Normal</td>\n",
              "      <td>7.735048</td>\n",
              "      <td>-5.195693</td>\n",
              "      <td>12.394546</td>\n",
              "      <td>100.0</td>\n",
              "      <td>0.0</td>\n",
              "      <td>0.0</td>\n",
              "      <td>0.0</td>\n",
              "      <td>0.734</td>\n",
              "      <td>3.295</td>\n",
              "      <td>34.366</td>\n",
              "      <td>1.411</td>\n",
              "      <td>77.536</td>\n",
              "      <td>east_asian</td>\n",
              "      <td>0.0</td>\n",
              "      <td>6.04</td>\n",
              "      <td>87.77</td>\n",
              "      <td>5.27</td>\n",
              "      <td>0.0</td>\n",
              "      <td>0.0</td>\n",
              "      <td>0.0</td>\n",
              "      <td>0.0</td>\n",
              "      <td>0.0</td>\n",
              "      <td>0.0</td>\n",
              "      <td>420</td>\n",
              "      <td>67.662</td>\n",
              "    </tr>\n",
              "  </tbody>\n",
              "</table>\n",
              "</div>"
            ],
            "text/plain": [
              "  c_id  avg_time_in_previous_position  ...  n_followers  face_quality\n",
              "0    1                       2.000000  ...          420        67.662\n",
              "1    2                       1.500000  ...          420        67.662\n",
              "2    3                       1.333333  ...          420        67.662\n",
              "3    4                       1.250000  ...          420        67.662\n",
              "4    5                       1.200000  ...          420        67.662\n",
              "5    6                       1.166667  ...          420        67.662\n",
              "6    7                       2.000000  ...          420        67.662\n",
              "7    8                       1.500000  ...          420        67.662\n",
              "8    9                       1.333333  ...          420        67.662\n",
              "9   10                       1.250000  ...          420        67.662\n",
              "\n",
              "[10 rows x 49 columns]"
            ]
          },
          "metadata": {},
          "execution_count": 8
        }
      ]
    },
    {
      "cell_type": "markdown",
      "metadata": {
        "id": "7DAyghngAxvK"
      },
      "source": [
        "#**Exploração dos dados**"
      ]
    },
    {
      "cell_type": "markdown",
      "metadata": {
        "id": "ouTEU4l6BEHk"
      },
      "source": [
        "***Verificando valores da coluna***"
      ]
    },
    {
      "cell_type": "code",
      "metadata": {
        "id": "uXcC7u3pWhiZ",
        "colab": {
          "base_uri": "https://localhost:8080/"
        },
        "outputId": "1fdc4cc5-1485-40a8-f713-7355089f0a99"
      },
      "source": [
        "df.avg_time_in_previous_position.unique()"
      ],
      "execution_count": null,
      "outputs": [
        {
          "output_type": "execute_result",
          "data": {
            "text/plain": [
              "array([ 2.        ,  1.5       ,  1.33333333,  1.25      ,  1.2       ,\n",
              "        1.16666667,  1.        ,  1.66666667,  1.75      ,  4.        ,\n",
              "        2.5       ,  1.14285714,  1.125     ,  1.11111111,  1.1       ,\n",
              "        1.09090909,  3.        ,  2.33333333,  2.25      ,  1.83333333,\n",
              "        1.71428571,  1.625     ,  1.55555556,  1.54545454,  1.46153846,\n",
              "        1.42857143,  1.4       ,  5.        ,  3.5       ,  2.66666667,\n",
              "        1.6       ,  1.8       ,  1.18181818,  3.33333333,  1.85714286,\n",
              "        1.57142857,  4.5       ,  1.28571429,  2.2       ,  1.22222222,\n",
              "        1.23076923,  1.21428571,  2.75      ,  2.4       ,  1.3       ,\n",
              "        1.27272727,  1.1875    ,  1.17647059,  1.15789474,  1.15      ,\n",
              "        1.13636364,  1.17391304,  1.16      ,  6.        ,  1.375     ,\n",
              "        1.08333333,  1.07692308,  1.07142857,  1.44444444,  2.16666667,\n",
              "        1.03448276,  1.03333333,  1.03225806,  1.03125   ,  1.03030303,\n",
              "        1.02941177,  1.02857143,  1.02777778,  1.02702703,  1.02631579,\n",
              "        1.02564103,  1.025     ,  1.02439024,  1.02380952,  1.02325581,\n",
              "        1.02272727,  1.02222222,  1.02173913,  1.06666667,  1.0625    ,\n",
              "        1.05882353,  1.05555556,  1.05263158,  2.375     ,  2.22222222,\n",
              "        1.875     ,  1.77777778,  1.15384615, 12.        ,  6.5       ,\n",
              "        4.66666667,  3.75      ,  1.13333333,  2.6       ,  2.14285714,\n",
              "        2.125     ,  1.9       ,  1.81818182,  1.91666667,  1.84615385,\n",
              "        1.78571429,  1.82352941,  1.78947368,  1.76190476,  1.72727273,\n",
              "        1.69565217,  1.64      ,  1.61538461,  1.59259259,  1.55172414,\n",
              "        1.53333333,  1.51612903,  1.48484849,  1.47058823,  1.54285714,\n",
              "        1.52777778,  1.51351351,  1.48717949,  1.475     ,  1.48780488,\n",
              "        1.47619048,  1.51162791,  1.48888889,  1.47826087,  1.46808511,\n",
              "        1.45833333,  1.44897959,  8.        ,  7.        ,  1.45454546,\n",
              "        1.05      ,  1.04761905,  1.04545454,  1.04347826,  1.04166667,\n",
              "        1.58333333,  2.28571429,  3.66666667,  1.36363636,  1.30769231,\n",
              "        1.26666667,  1.23529412,  1.21052632,  5.33333333,  4.25      ,\n",
              "        1.35714286,  9.        ,  1.11764706,  1.41666667,  3.2       ,\n",
              "        2.83333333,  1.10526316, 11.        , 10.        ,  1.7       ,\n",
              "        5.5       ,  4.33333333,  1.20833333,  1.19230769,  1.18518518,\n",
              "        1.17857143,  1.17241379,  1.16129032,  1.15625   ,  1.15151515,\n",
              "        1.14705882,  1.13888889,  1.13513514,  1.13157895,  1.12820513,\n",
              "        1.12195122,  1.11904762,  1.11627907,  3.25      ,  2.8       ,\n",
              "        1.38461539,  1.3125    ,  1.29411765,  1.88888889,  1.03703704,\n",
              "        1.03571429,  1.26086956,  1.29166667,  1.32      ,  1.39285714,\n",
              "        1.37931034,  1.36666667,  1.35483871,  1.34375   ,  1.32352941,\n",
              "        1.19047619, 15.        ,  5.66666667,  4.75      ,  1.04      ,\n",
              "        1.03846154,  1.13043478,  1.12      ,  1.14814815,  1.13793103,\n",
              "        1.12903226,  2.42857143,  1.76923077,  1.73333333,  1.76470588,\n",
              "        1.72222222,  1.68421053,  1.77272727,  1.73913044,  1.70833333,\n",
              "        1.68      ,  1.65384615,  1.62962963,  1.68965517,  1.64516129,\n",
              "        1.60606061,  1.52631579,  1.43478261,  1.37037037,  1.34482759,\n",
              "        1.32258064,  1.3030303 ,  1.27777778,  1.27027027,  1.26315789,\n",
              "        1.25641026,  1.24390244,  1.23809524,  1.23255814,  1.22727273,\n",
              "        1.2173913 ,  1.63636364,  1.53846154,  1.0952381 ,  1.08695652,\n",
              "        1.11538461,  1.10714286,  1.10344828,  1.6875    ,  1.64705882,\n",
              "        1.61111111,  1.57894737,  1.55      ,  1.52380952, 14.        ,\n",
              "        8.5       ])"
            ]
          },
          "metadata": {},
          "execution_count": 9
        }
      ]
    },
    {
      "cell_type": "markdown",
      "metadata": {
        "id": "Dnx2tJtSBXfR"
      },
      "source": [
        "***Listando e verificando colunas especificas***"
      ]
    },
    {
      "cell_type": "code",
      "metadata": {
        "id": "CNq2pQQSS5sJ",
        "colab": {
          "base_uri": "https://localhost:8080/",
          "height": 669
        },
        "outputId": "ecfadd67-e6ee-4e63-d3ad-2c2cd373e08e"
      },
      "source": [
        "df[['avg_time_in_previous_position','ethnicity','gender',\t'glass','m_urn_id','no_of_previous_positions']].head(20)"
      ],
      "execution_count": null,
      "outputs": [
        {
          "output_type": "execute_result",
          "data": {
            "text/html": [
              "<div>\n",
              "<style scoped>\n",
              "    .dataframe tbody tr th:only-of-type {\n",
              "        vertical-align: middle;\n",
              "    }\n",
              "\n",
              "    .dataframe tbody tr th {\n",
              "        vertical-align: top;\n",
              "    }\n",
              "\n",
              "    .dataframe thead th {\n",
              "        text-align: right;\n",
              "    }\n",
              "</style>\n",
              "<table border=\"1\" class=\"dataframe\">\n",
              "  <thead>\n",
              "    <tr style=\"text-align: right;\">\n",
              "      <th></th>\n",
              "      <th>avg_time_in_previous_position</th>\n",
              "      <th>ethnicity</th>\n",
              "      <th>gender</th>\n",
              "      <th>glass</th>\n",
              "      <th>m_urn_id</th>\n",
              "      <th>no_of_previous_positions</th>\n",
              "    </tr>\n",
              "  </thead>\n",
              "  <tbody>\n",
              "    <tr>\n",
              "      <th>0</th>\n",
              "      <td>2.000000</td>\n",
              "      <td>Asian</td>\n",
              "      <td>Male</td>\n",
              "      <td>Normal</td>\n",
              "      <td>3008</td>\n",
              "      <td>1</td>\n",
              "    </tr>\n",
              "    <tr>\n",
              "      <th>1</th>\n",
              "      <td>1.500000</td>\n",
              "      <td>Asian</td>\n",
              "      <td>Male</td>\n",
              "      <td>Normal</td>\n",
              "      <td>3008</td>\n",
              "      <td>2</td>\n",
              "    </tr>\n",
              "    <tr>\n",
              "      <th>2</th>\n",
              "      <td>1.333333</td>\n",
              "      <td>Asian</td>\n",
              "      <td>Male</td>\n",
              "      <td>Normal</td>\n",
              "      <td>3008</td>\n",
              "      <td>3</td>\n",
              "    </tr>\n",
              "    <tr>\n",
              "      <th>3</th>\n",
              "      <td>1.250000</td>\n",
              "      <td>Asian</td>\n",
              "      <td>Male</td>\n",
              "      <td>Normal</td>\n",
              "      <td>3008</td>\n",
              "      <td>4</td>\n",
              "    </tr>\n",
              "    <tr>\n",
              "      <th>4</th>\n",
              "      <td>1.200000</td>\n",
              "      <td>Asian</td>\n",
              "      <td>Male</td>\n",
              "      <td>Normal</td>\n",
              "      <td>3008</td>\n",
              "      <td>5</td>\n",
              "    </tr>\n",
              "    <tr>\n",
              "      <th>5</th>\n",
              "      <td>1.166667</td>\n",
              "      <td>Asian</td>\n",
              "      <td>Male</td>\n",
              "      <td>Normal</td>\n",
              "      <td>3008</td>\n",
              "      <td>6</td>\n",
              "    </tr>\n",
              "    <tr>\n",
              "      <th>6</th>\n",
              "      <td>2.000000</td>\n",
              "      <td>Asian</td>\n",
              "      <td>Male</td>\n",
              "      <td>Normal</td>\n",
              "      <td>3008</td>\n",
              "      <td>1</td>\n",
              "    </tr>\n",
              "    <tr>\n",
              "      <th>7</th>\n",
              "      <td>1.500000</td>\n",
              "      <td>Asian</td>\n",
              "      <td>Male</td>\n",
              "      <td>Normal</td>\n",
              "      <td>3008</td>\n",
              "      <td>2</td>\n",
              "    </tr>\n",
              "    <tr>\n",
              "      <th>8</th>\n",
              "      <td>1.333333</td>\n",
              "      <td>Asian</td>\n",
              "      <td>Male</td>\n",
              "      <td>Normal</td>\n",
              "      <td>3008</td>\n",
              "      <td>3</td>\n",
              "    </tr>\n",
              "    <tr>\n",
              "      <th>9</th>\n",
              "      <td>1.250000</td>\n",
              "      <td>Asian</td>\n",
              "      <td>Male</td>\n",
              "      <td>Normal</td>\n",
              "      <td>3008</td>\n",
              "      <td>4</td>\n",
              "    </tr>\n",
              "    <tr>\n",
              "      <th>10</th>\n",
              "      <td>1.200000</td>\n",
              "      <td>Asian</td>\n",
              "      <td>Male</td>\n",
              "      <td>Normal</td>\n",
              "      <td>3008</td>\n",
              "      <td>5</td>\n",
              "    </tr>\n",
              "    <tr>\n",
              "      <th>11</th>\n",
              "      <td>1.166667</td>\n",
              "      <td>Asian</td>\n",
              "      <td>Male</td>\n",
              "      <td>Normal</td>\n",
              "      <td>3008</td>\n",
              "      <td>6</td>\n",
              "    </tr>\n",
              "    <tr>\n",
              "      <th>12</th>\n",
              "      <td>2.000000</td>\n",
              "      <td>Black</td>\n",
              "      <td>Female</td>\n",
              "      <td>Normal</td>\n",
              "      <td>3009</td>\n",
              "      <td>1</td>\n",
              "    </tr>\n",
              "    <tr>\n",
              "      <th>13</th>\n",
              "      <td>1.000000</td>\n",
              "      <td>White</td>\n",
              "      <td>Male</td>\n",
              "      <td>Normal</td>\n",
              "      <td>3010</td>\n",
              "      <td>1</td>\n",
              "    </tr>\n",
              "    <tr>\n",
              "      <th>14</th>\n",
              "      <td>1.000000</td>\n",
              "      <td>White</td>\n",
              "      <td>Male</td>\n",
              "      <td>Normal</td>\n",
              "      <td>3010</td>\n",
              "      <td>2</td>\n",
              "    </tr>\n",
              "    <tr>\n",
              "      <th>15</th>\n",
              "      <td>1.000000</td>\n",
              "      <td>White</td>\n",
              "      <td>Male</td>\n",
              "      <td>None</td>\n",
              "      <td>3011</td>\n",
              "      <td>1</td>\n",
              "    </tr>\n",
              "    <tr>\n",
              "      <th>16</th>\n",
              "      <td>1.000000</td>\n",
              "      <td>White</td>\n",
              "      <td>Male</td>\n",
              "      <td>None</td>\n",
              "      <td>3011</td>\n",
              "      <td>2</td>\n",
              "    </tr>\n",
              "    <tr>\n",
              "      <th>17</th>\n",
              "      <td>1.000000</td>\n",
              "      <td>White</td>\n",
              "      <td>Male</td>\n",
              "      <td>None</td>\n",
              "      <td>3011</td>\n",
              "      <td>3</td>\n",
              "    </tr>\n",
              "    <tr>\n",
              "      <th>18</th>\n",
              "      <td>1.000000</td>\n",
              "      <td>White</td>\n",
              "      <td>Male</td>\n",
              "      <td>None</td>\n",
              "      <td>3011</td>\n",
              "      <td>4</td>\n",
              "    </tr>\n",
              "    <tr>\n",
              "      <th>19</th>\n",
              "      <td>1.000000</td>\n",
              "      <td>White</td>\n",
              "      <td>Male</td>\n",
              "      <td>None</td>\n",
              "      <td>3011</td>\n",
              "      <td>5</td>\n",
              "    </tr>\n",
              "  </tbody>\n",
              "</table>\n",
              "</div>"
            ],
            "text/plain": [
              "    avg_time_in_previous_position ethnicity  ... m_urn_id no_of_previous_positions\n",
              "0                        2.000000     Asian  ...     3008                        1\n",
              "1                        1.500000     Asian  ...     3008                        2\n",
              "2                        1.333333     Asian  ...     3008                        3\n",
              "3                        1.250000     Asian  ...     3008                        4\n",
              "4                        1.200000     Asian  ...     3008                        5\n",
              "5                        1.166667     Asian  ...     3008                        6\n",
              "6                        2.000000     Asian  ...     3008                        1\n",
              "7                        1.500000     Asian  ...     3008                        2\n",
              "8                        1.333333     Asian  ...     3008                        3\n",
              "9                        1.250000     Asian  ...     3008                        4\n",
              "10                       1.200000     Asian  ...     3008                        5\n",
              "11                       1.166667     Asian  ...     3008                        6\n",
              "12                       2.000000     Black  ...     3009                        1\n",
              "13                       1.000000     White  ...     3010                        1\n",
              "14                       1.000000     White  ...     3010                        2\n",
              "15                       1.000000     White  ...     3011                        1\n",
              "16                       1.000000     White  ...     3011                        2\n",
              "17                       1.000000     White  ...     3011                        3\n",
              "18                       1.000000     White  ...     3011                        4\n",
              "19                       1.000000     White  ...     3011                        5\n",
              "\n",
              "[20 rows x 6 columns]"
            ]
          },
          "metadata": {},
          "execution_count": 10
        }
      ]
    },
    {
      "cell_type": "markdown",
      "metadata": {
        "id": "GYknuSjTJPcN"
      },
      "source": [
        "***Verificando dimensão do DataFrame***"
      ]
    },
    {
      "cell_type": "code",
      "metadata": {
        "id": "d_2uz1YwDX-8",
        "colab": {
          "base_uri": "https://localhost:8080/"
        },
        "outputId": "803af06e-3279-4763-f3c7-25eaa0cc33c5"
      },
      "source": [
        "df.shape"
      ],
      "execution_count": null,
      "outputs": [
        {
          "output_type": "execute_result",
          "data": {
            "text/plain": [
              "(62706, 49)"
            ]
          },
          "metadata": {},
          "execution_count": 11
        }
      ]
    },
    {
      "cell_type": "markdown",
      "metadata": {
        "id": "MQ6ka97KJWDX"
      },
      "source": [
        "***Visualizando colunas existentes***"
      ]
    },
    {
      "cell_type": "code",
      "metadata": {
        "id": "1WdsuLctuiWB",
        "colab": {
          "base_uri": "https://localhost:8080/"
        },
        "outputId": "a9856c10-6f3c-47e0-a8ba-3818adca7e13"
      },
      "source": [
        "df.columns"
      ],
      "execution_count": null,
      "outputs": [
        {
          "output_type": "execute_result",
          "data": {
            "text/plain": [
              "Index(['c_id', 'avg_time_in_previous_position', 'avg_current_position_length',\n",
              "       'avg_previous_position_length', 'm_urn', 'm_urn_id', 'no_of_promotions',\n",
              "       'no_of_previous_positions', 'current_position_length', 'age', 'beauty',\n",
              "       'beauty_female', 'beauty_male', 'blur', 'emo_anger', 'emp_disgust',\n",
              "       'emo_fear', 'emo_happiness', 'emo_neutral', 'emo_sadness',\n",
              "       'emo_surprise', 'ethnicity', 'gender', 'glass', 'head_pitch',\n",
              "       'head_roll', 'head_yaw', 'mouth_close', 'mouth_mask', 'mouth_open',\n",
              "       'mouth_other', 'skin_acne', 'skin_dark_circle', 'skin_health',\n",
              "       'skin_stain', 'smile', 'nationality', 'african', 'celtic_english',\n",
              "       'east_asian', 'european', 'greek', 'hispanic', 'jewish', 'muslim',\n",
              "       'nordic', 'south_asian', 'n_followers', 'face_quality'],\n",
              "      dtype='object')"
            ]
          },
          "metadata": {},
          "execution_count": 12
        }
      ]
    },
    {
      "cell_type": "markdown",
      "metadata": {
        "id": "qnx12jiYfD8x"
      },
      "source": [
        "#Backup"
      ]
    },
    {
      "cell_type": "code",
      "metadata": {
        "id": "NUcs4L6D0xvq"
      },
      "source": [
        "df2 = df.copy()"
      ],
      "execution_count": null,
      "outputs": []
    },
    {
      "cell_type": "code",
      "metadata": {
        "colab": {
          "base_uri": "https://localhost:8080/",
          "height": 472
        },
        "id": "UEdTI9XBcAdt",
        "outputId": "0aa7a5c3-6807-4a1d-b895-6a35600f8720"
      },
      "source": [
        "df2.head(13)"
      ],
      "execution_count": null,
      "outputs": [
        {
          "output_type": "execute_result",
          "data": {
            "text/html": [
              "<div>\n",
              "<style scoped>\n",
              "    .dataframe tbody tr th:only-of-type {\n",
              "        vertical-align: middle;\n",
              "    }\n",
              "\n",
              "    .dataframe tbody tr th {\n",
              "        vertical-align: top;\n",
              "    }\n",
              "\n",
              "    .dataframe thead th {\n",
              "        text-align: right;\n",
              "    }\n",
              "</style>\n",
              "<table border=\"1\" class=\"dataframe\">\n",
              "  <thead>\n",
              "    <tr style=\"text-align: right;\">\n",
              "      <th></th>\n",
              "      <th>c_id</th>\n",
              "      <th>avg_time_in_previous_position</th>\n",
              "      <th>avg_current_position_length</th>\n",
              "      <th>avg_previous_position_length</th>\n",
              "      <th>m_urn</th>\n",
              "      <th>m_urn_id</th>\n",
              "      <th>no_of_promotions</th>\n",
              "      <th>no_of_previous_positions</th>\n",
              "      <th>current_position_length</th>\n",
              "      <th>age</th>\n",
              "      <th>beauty</th>\n",
              "      <th>beauty_female</th>\n",
              "      <th>beauty_male</th>\n",
              "      <th>blur</th>\n",
              "      <th>emo_anger</th>\n",
              "      <th>emp_disgust</th>\n",
              "      <th>emo_fear</th>\n",
              "      <th>emo_happiness</th>\n",
              "      <th>emo_neutral</th>\n",
              "      <th>emo_sadness</th>\n",
              "      <th>emo_surprise</th>\n",
              "      <th>ethnicity</th>\n",
              "      <th>gender</th>\n",
              "      <th>glass</th>\n",
              "      <th>head_pitch</th>\n",
              "      <th>head_roll</th>\n",
              "      <th>head_yaw</th>\n",
              "      <th>mouth_close</th>\n",
              "      <th>mouth_mask</th>\n",
              "      <th>mouth_open</th>\n",
              "      <th>mouth_other</th>\n",
              "      <th>skin_acne</th>\n",
              "      <th>skin_dark_circle</th>\n",
              "      <th>skin_health</th>\n",
              "      <th>skin_stain</th>\n",
              "      <th>smile</th>\n",
              "      <th>nationality</th>\n",
              "      <th>african</th>\n",
              "      <th>celtic_english</th>\n",
              "      <th>east_asian</th>\n",
              "      <th>european</th>\n",
              "      <th>greek</th>\n",
              "      <th>hispanic</th>\n",
              "      <th>jewish</th>\n",
              "      <th>muslim</th>\n",
              "      <th>nordic</th>\n",
              "      <th>south_asian</th>\n",
              "      <th>n_followers</th>\n",
              "      <th>face_quality</th>\n",
              "    </tr>\n",
              "  </thead>\n",
              "  <tbody>\n",
              "    <tr>\n",
              "      <th>0</th>\n",
              "      <td>1</td>\n",
              "      <td>2.000000</td>\n",
              "      <td>457.0</td>\n",
              "      <td>1338.000000</td>\n",
              "      <td>urn:li:member:149435456</td>\n",
              "      <td>3008</td>\n",
              "      <td>1</td>\n",
              "      <td>1</td>\n",
              "      <td>457</td>\n",
              "      <td>37</td>\n",
              "      <td>57.570</td>\n",
              "      <td>63.829</td>\n",
              "      <td>57.570</td>\n",
              "      <td>0.421</td>\n",
              "      <td>76.6</td>\n",
              "      <td>0.7</td>\n",
              "      <td>0.7</td>\n",
              "      <td>99.035</td>\n",
              "      <td>0.086</td>\n",
              "      <td>0.007</td>\n",
              "      <td>0.091</td>\n",
              "      <td>Asian</td>\n",
              "      <td>Male</td>\n",
              "      <td>Normal</td>\n",
              "      <td>7.735048</td>\n",
              "      <td>-5.195693</td>\n",
              "      <td>12.394546</td>\n",
              "      <td>100.00</td>\n",
              "      <td>0.0</td>\n",
              "      <td>0.000</td>\n",
              "      <td>0.000</td>\n",
              "      <td>0.734</td>\n",
              "      <td>3.295</td>\n",
              "      <td>34.366</td>\n",
              "      <td>1.411</td>\n",
              "      <td>77.536</td>\n",
              "      <td>east_asian</td>\n",
              "      <td>0.0</td>\n",
              "      <td>6.04</td>\n",
              "      <td>87.77</td>\n",
              "      <td>5.27</td>\n",
              "      <td>0.0</td>\n",
              "      <td>0.00</td>\n",
              "      <td>0.0</td>\n",
              "      <td>0.0</td>\n",
              "      <td>0.0</td>\n",
              "      <td>0.0</td>\n",
              "      <td>420</td>\n",
              "      <td>67.662</td>\n",
              "    </tr>\n",
              "    <tr>\n",
              "      <th>1</th>\n",
              "      <td>2</td>\n",
              "      <td>1.500000</td>\n",
              "      <td>212.0</td>\n",
              "      <td>897.500000</td>\n",
              "      <td>urn:li:member:149435456</td>\n",
              "      <td>3008</td>\n",
              "      <td>1</td>\n",
              "      <td>2</td>\n",
              "      <td>212</td>\n",
              "      <td>37</td>\n",
              "      <td>57.570</td>\n",
              "      <td>63.829</td>\n",
              "      <td>57.570</td>\n",
              "      <td>0.421</td>\n",
              "      <td>76.6</td>\n",
              "      <td>0.7</td>\n",
              "      <td>0.7</td>\n",
              "      <td>99.035</td>\n",
              "      <td>0.086</td>\n",
              "      <td>0.007</td>\n",
              "      <td>0.091</td>\n",
              "      <td>Asian</td>\n",
              "      <td>Male</td>\n",
              "      <td>Normal</td>\n",
              "      <td>7.735048</td>\n",
              "      <td>-5.195693</td>\n",
              "      <td>12.394546</td>\n",
              "      <td>100.00</td>\n",
              "      <td>0.0</td>\n",
              "      <td>0.000</td>\n",
              "      <td>0.000</td>\n",
              "      <td>0.734</td>\n",
              "      <td>3.295</td>\n",
              "      <td>34.366</td>\n",
              "      <td>1.411</td>\n",
              "      <td>77.536</td>\n",
              "      <td>east_asian</td>\n",
              "      <td>0.0</td>\n",
              "      <td>6.04</td>\n",
              "      <td>87.77</td>\n",
              "      <td>5.27</td>\n",
              "      <td>0.0</td>\n",
              "      <td>0.00</td>\n",
              "      <td>0.0</td>\n",
              "      <td>0.0</td>\n",
              "      <td>0.0</td>\n",
              "      <td>0.0</td>\n",
              "      <td>420</td>\n",
              "      <td>67.662</td>\n",
              "    </tr>\n",
              "    <tr>\n",
              "      <th>2</th>\n",
              "      <td>3</td>\n",
              "      <td>1.333333</td>\n",
              "      <td>243.0</td>\n",
              "      <td>669.000000</td>\n",
              "      <td>urn:li:member:149435456</td>\n",
              "      <td>3008</td>\n",
              "      <td>1</td>\n",
              "      <td>3</td>\n",
              "      <td>243</td>\n",
              "      <td>37</td>\n",
              "      <td>57.570</td>\n",
              "      <td>63.829</td>\n",
              "      <td>57.570</td>\n",
              "      <td>0.421</td>\n",
              "      <td>76.6</td>\n",
              "      <td>0.7</td>\n",
              "      <td>0.7</td>\n",
              "      <td>99.035</td>\n",
              "      <td>0.086</td>\n",
              "      <td>0.007</td>\n",
              "      <td>0.091</td>\n",
              "      <td>Asian</td>\n",
              "      <td>Male</td>\n",
              "      <td>Normal</td>\n",
              "      <td>7.735048</td>\n",
              "      <td>-5.195693</td>\n",
              "      <td>12.394546</td>\n",
              "      <td>100.00</td>\n",
              "      <td>0.0</td>\n",
              "      <td>0.000</td>\n",
              "      <td>0.000</td>\n",
              "      <td>0.734</td>\n",
              "      <td>3.295</td>\n",
              "      <td>34.366</td>\n",
              "      <td>1.411</td>\n",
              "      <td>77.536</td>\n",
              "      <td>east_asian</td>\n",
              "      <td>0.0</td>\n",
              "      <td>6.04</td>\n",
              "      <td>87.77</td>\n",
              "      <td>5.27</td>\n",
              "      <td>0.0</td>\n",
              "      <td>0.00</td>\n",
              "      <td>0.0</td>\n",
              "      <td>0.0</td>\n",
              "      <td>0.0</td>\n",
              "      <td>0.0</td>\n",
              "      <td>420</td>\n",
              "      <td>67.662</td>\n",
              "    </tr>\n",
              "    <tr>\n",
              "      <th>3</th>\n",
              "      <td>4</td>\n",
              "      <td>1.250000</td>\n",
              "      <td>123.0</td>\n",
              "      <td>562.500000</td>\n",
              "      <td>urn:li:member:149435456</td>\n",
              "      <td>3008</td>\n",
              "      <td>1</td>\n",
              "      <td>4</td>\n",
              "      <td>123</td>\n",
              "      <td>37</td>\n",
              "      <td>57.570</td>\n",
              "      <td>63.829</td>\n",
              "      <td>57.570</td>\n",
              "      <td>0.421</td>\n",
              "      <td>76.6</td>\n",
              "      <td>0.7</td>\n",
              "      <td>0.7</td>\n",
              "      <td>99.035</td>\n",
              "      <td>0.086</td>\n",
              "      <td>0.007</td>\n",
              "      <td>0.091</td>\n",
              "      <td>Asian</td>\n",
              "      <td>Male</td>\n",
              "      <td>Normal</td>\n",
              "      <td>7.735048</td>\n",
              "      <td>-5.195693</td>\n",
              "      <td>12.394546</td>\n",
              "      <td>100.00</td>\n",
              "      <td>0.0</td>\n",
              "      <td>0.000</td>\n",
              "      <td>0.000</td>\n",
              "      <td>0.734</td>\n",
              "      <td>3.295</td>\n",
              "      <td>34.366</td>\n",
              "      <td>1.411</td>\n",
              "      <td>77.536</td>\n",
              "      <td>east_asian</td>\n",
              "      <td>0.0</td>\n",
              "      <td>6.04</td>\n",
              "      <td>87.77</td>\n",
              "      <td>5.27</td>\n",
              "      <td>0.0</td>\n",
              "      <td>0.00</td>\n",
              "      <td>0.0</td>\n",
              "      <td>0.0</td>\n",
              "      <td>0.0</td>\n",
              "      <td>0.0</td>\n",
              "      <td>420</td>\n",
              "      <td>67.662</td>\n",
              "    </tr>\n",
              "    <tr>\n",
              "      <th>4</th>\n",
              "      <td>5</td>\n",
              "      <td>1.200000</td>\n",
              "      <td>244.0</td>\n",
              "      <td>474.600000</td>\n",
              "      <td>urn:li:member:149435456</td>\n",
              "      <td>3008</td>\n",
              "      <td>1</td>\n",
              "      <td>5</td>\n",
              "      <td>244</td>\n",
              "      <td>37</td>\n",
              "      <td>57.570</td>\n",
              "      <td>63.829</td>\n",
              "      <td>57.570</td>\n",
              "      <td>0.421</td>\n",
              "      <td>76.6</td>\n",
              "      <td>0.7</td>\n",
              "      <td>0.7</td>\n",
              "      <td>99.035</td>\n",
              "      <td>0.086</td>\n",
              "      <td>0.007</td>\n",
              "      <td>0.091</td>\n",
              "      <td>Asian</td>\n",
              "      <td>Male</td>\n",
              "      <td>Normal</td>\n",
              "      <td>7.735048</td>\n",
              "      <td>-5.195693</td>\n",
              "      <td>12.394546</td>\n",
              "      <td>100.00</td>\n",
              "      <td>0.0</td>\n",
              "      <td>0.000</td>\n",
              "      <td>0.000</td>\n",
              "      <td>0.734</td>\n",
              "      <td>3.295</td>\n",
              "      <td>34.366</td>\n",
              "      <td>1.411</td>\n",
              "      <td>77.536</td>\n",
              "      <td>east_asian</td>\n",
              "      <td>0.0</td>\n",
              "      <td>6.04</td>\n",
              "      <td>87.77</td>\n",
              "      <td>5.27</td>\n",
              "      <td>0.0</td>\n",
              "      <td>0.00</td>\n",
              "      <td>0.0</td>\n",
              "      <td>0.0</td>\n",
              "      <td>0.0</td>\n",
              "      <td>0.0</td>\n",
              "      <td>420</td>\n",
              "      <td>67.662</td>\n",
              "    </tr>\n",
              "    <tr>\n",
              "      <th>5</th>\n",
              "      <td>6</td>\n",
              "      <td>1.166667</td>\n",
              "      <td>304.0</td>\n",
              "      <td>436.166667</td>\n",
              "      <td>urn:li:member:149435456</td>\n",
              "      <td>3008</td>\n",
              "      <td>1</td>\n",
              "      <td>6</td>\n",
              "      <td>304</td>\n",
              "      <td>37</td>\n",
              "      <td>57.570</td>\n",
              "      <td>63.829</td>\n",
              "      <td>57.570</td>\n",
              "      <td>0.421</td>\n",
              "      <td>76.6</td>\n",
              "      <td>0.7</td>\n",
              "      <td>0.7</td>\n",
              "      <td>99.035</td>\n",
              "      <td>0.086</td>\n",
              "      <td>0.007</td>\n",
              "      <td>0.091</td>\n",
              "      <td>Asian</td>\n",
              "      <td>Male</td>\n",
              "      <td>Normal</td>\n",
              "      <td>7.735048</td>\n",
              "      <td>-5.195693</td>\n",
              "      <td>12.394546</td>\n",
              "      <td>100.00</td>\n",
              "      <td>0.0</td>\n",
              "      <td>0.000</td>\n",
              "      <td>0.000</td>\n",
              "      <td>0.734</td>\n",
              "      <td>3.295</td>\n",
              "      <td>34.366</td>\n",
              "      <td>1.411</td>\n",
              "      <td>77.536</td>\n",
              "      <td>east_asian</td>\n",
              "      <td>0.0</td>\n",
              "      <td>6.04</td>\n",
              "      <td>87.77</td>\n",
              "      <td>5.27</td>\n",
              "      <td>0.0</td>\n",
              "      <td>0.00</td>\n",
              "      <td>0.0</td>\n",
              "      <td>0.0</td>\n",
              "      <td>0.0</td>\n",
              "      <td>0.0</td>\n",
              "      <td>420</td>\n",
              "      <td>67.662</td>\n",
              "    </tr>\n",
              "    <tr>\n",
              "      <th>6</th>\n",
              "      <td>7</td>\n",
              "      <td>2.000000</td>\n",
              "      <td>457.0</td>\n",
              "      <td>1338.000000</td>\n",
              "      <td>urn:li:member:149435456</td>\n",
              "      <td>3008</td>\n",
              "      <td>1</td>\n",
              "      <td>1</td>\n",
              "      <td>457</td>\n",
              "      <td>37</td>\n",
              "      <td>57.570</td>\n",
              "      <td>63.829</td>\n",
              "      <td>57.570</td>\n",
              "      <td>0.421</td>\n",
              "      <td>76.6</td>\n",
              "      <td>0.7</td>\n",
              "      <td>0.7</td>\n",
              "      <td>99.035</td>\n",
              "      <td>0.086</td>\n",
              "      <td>0.007</td>\n",
              "      <td>0.091</td>\n",
              "      <td>Asian</td>\n",
              "      <td>Male</td>\n",
              "      <td>Normal</td>\n",
              "      <td>7.735048</td>\n",
              "      <td>-5.195693</td>\n",
              "      <td>12.394546</td>\n",
              "      <td>100.00</td>\n",
              "      <td>0.0</td>\n",
              "      <td>0.000</td>\n",
              "      <td>0.000</td>\n",
              "      <td>0.734</td>\n",
              "      <td>3.295</td>\n",
              "      <td>34.366</td>\n",
              "      <td>1.411</td>\n",
              "      <td>77.536</td>\n",
              "      <td>east_asian</td>\n",
              "      <td>0.0</td>\n",
              "      <td>6.04</td>\n",
              "      <td>87.77</td>\n",
              "      <td>5.27</td>\n",
              "      <td>0.0</td>\n",
              "      <td>0.00</td>\n",
              "      <td>0.0</td>\n",
              "      <td>0.0</td>\n",
              "      <td>0.0</td>\n",
              "      <td>0.0</td>\n",
              "      <td>420</td>\n",
              "      <td>67.662</td>\n",
              "    </tr>\n",
              "    <tr>\n",
              "      <th>7</th>\n",
              "      <td>8</td>\n",
              "      <td>1.500000</td>\n",
              "      <td>212.0</td>\n",
              "      <td>897.500000</td>\n",
              "      <td>urn:li:member:149435456</td>\n",
              "      <td>3008</td>\n",
              "      <td>1</td>\n",
              "      <td>2</td>\n",
              "      <td>212</td>\n",
              "      <td>37</td>\n",
              "      <td>57.570</td>\n",
              "      <td>63.829</td>\n",
              "      <td>57.570</td>\n",
              "      <td>0.421</td>\n",
              "      <td>76.6</td>\n",
              "      <td>0.7</td>\n",
              "      <td>0.7</td>\n",
              "      <td>99.035</td>\n",
              "      <td>0.086</td>\n",
              "      <td>0.007</td>\n",
              "      <td>0.091</td>\n",
              "      <td>Asian</td>\n",
              "      <td>Male</td>\n",
              "      <td>Normal</td>\n",
              "      <td>7.735048</td>\n",
              "      <td>-5.195693</td>\n",
              "      <td>12.394546</td>\n",
              "      <td>100.00</td>\n",
              "      <td>0.0</td>\n",
              "      <td>0.000</td>\n",
              "      <td>0.000</td>\n",
              "      <td>0.734</td>\n",
              "      <td>3.295</td>\n",
              "      <td>34.366</td>\n",
              "      <td>1.411</td>\n",
              "      <td>77.536</td>\n",
              "      <td>east_asian</td>\n",
              "      <td>0.0</td>\n",
              "      <td>6.04</td>\n",
              "      <td>87.77</td>\n",
              "      <td>5.27</td>\n",
              "      <td>0.0</td>\n",
              "      <td>0.00</td>\n",
              "      <td>0.0</td>\n",
              "      <td>0.0</td>\n",
              "      <td>0.0</td>\n",
              "      <td>0.0</td>\n",
              "      <td>420</td>\n",
              "      <td>67.662</td>\n",
              "    </tr>\n",
              "    <tr>\n",
              "      <th>8</th>\n",
              "      <td>9</td>\n",
              "      <td>1.333333</td>\n",
              "      <td>243.0</td>\n",
              "      <td>669.000000</td>\n",
              "      <td>urn:li:member:149435456</td>\n",
              "      <td>3008</td>\n",
              "      <td>1</td>\n",
              "      <td>3</td>\n",
              "      <td>243</td>\n",
              "      <td>37</td>\n",
              "      <td>57.570</td>\n",
              "      <td>63.829</td>\n",
              "      <td>57.570</td>\n",
              "      <td>0.421</td>\n",
              "      <td>76.6</td>\n",
              "      <td>0.7</td>\n",
              "      <td>0.7</td>\n",
              "      <td>99.035</td>\n",
              "      <td>0.086</td>\n",
              "      <td>0.007</td>\n",
              "      <td>0.091</td>\n",
              "      <td>Asian</td>\n",
              "      <td>Male</td>\n",
              "      <td>Normal</td>\n",
              "      <td>7.735048</td>\n",
              "      <td>-5.195693</td>\n",
              "      <td>12.394546</td>\n",
              "      <td>100.00</td>\n",
              "      <td>0.0</td>\n",
              "      <td>0.000</td>\n",
              "      <td>0.000</td>\n",
              "      <td>0.734</td>\n",
              "      <td>3.295</td>\n",
              "      <td>34.366</td>\n",
              "      <td>1.411</td>\n",
              "      <td>77.536</td>\n",
              "      <td>east_asian</td>\n",
              "      <td>0.0</td>\n",
              "      <td>6.04</td>\n",
              "      <td>87.77</td>\n",
              "      <td>5.27</td>\n",
              "      <td>0.0</td>\n",
              "      <td>0.00</td>\n",
              "      <td>0.0</td>\n",
              "      <td>0.0</td>\n",
              "      <td>0.0</td>\n",
              "      <td>0.0</td>\n",
              "      <td>420</td>\n",
              "      <td>67.662</td>\n",
              "    </tr>\n",
              "    <tr>\n",
              "      <th>9</th>\n",
              "      <td>10</td>\n",
              "      <td>1.250000</td>\n",
              "      <td>123.0</td>\n",
              "      <td>562.500000</td>\n",
              "      <td>urn:li:member:149435456</td>\n",
              "      <td>3008</td>\n",
              "      <td>1</td>\n",
              "      <td>4</td>\n",
              "      <td>123</td>\n",
              "      <td>37</td>\n",
              "      <td>57.570</td>\n",
              "      <td>63.829</td>\n",
              "      <td>57.570</td>\n",
              "      <td>0.421</td>\n",
              "      <td>76.6</td>\n",
              "      <td>0.7</td>\n",
              "      <td>0.7</td>\n",
              "      <td>99.035</td>\n",
              "      <td>0.086</td>\n",
              "      <td>0.007</td>\n",
              "      <td>0.091</td>\n",
              "      <td>Asian</td>\n",
              "      <td>Male</td>\n",
              "      <td>Normal</td>\n",
              "      <td>7.735048</td>\n",
              "      <td>-5.195693</td>\n",
              "      <td>12.394546</td>\n",
              "      <td>100.00</td>\n",
              "      <td>0.0</td>\n",
              "      <td>0.000</td>\n",
              "      <td>0.000</td>\n",
              "      <td>0.734</td>\n",
              "      <td>3.295</td>\n",
              "      <td>34.366</td>\n",
              "      <td>1.411</td>\n",
              "      <td>77.536</td>\n",
              "      <td>east_asian</td>\n",
              "      <td>0.0</td>\n",
              "      <td>6.04</td>\n",
              "      <td>87.77</td>\n",
              "      <td>5.27</td>\n",
              "      <td>0.0</td>\n",
              "      <td>0.00</td>\n",
              "      <td>0.0</td>\n",
              "      <td>0.0</td>\n",
              "      <td>0.0</td>\n",
              "      <td>0.0</td>\n",
              "      <td>420</td>\n",
              "      <td>67.662</td>\n",
              "    </tr>\n",
              "    <tr>\n",
              "      <th>10</th>\n",
              "      <td>11</td>\n",
              "      <td>1.200000</td>\n",
              "      <td>244.0</td>\n",
              "      <td>474.600000</td>\n",
              "      <td>urn:li:member:149435456</td>\n",
              "      <td>3008</td>\n",
              "      <td>1</td>\n",
              "      <td>5</td>\n",
              "      <td>244</td>\n",
              "      <td>37</td>\n",
              "      <td>57.570</td>\n",
              "      <td>63.829</td>\n",
              "      <td>57.570</td>\n",
              "      <td>0.421</td>\n",
              "      <td>76.6</td>\n",
              "      <td>0.7</td>\n",
              "      <td>0.7</td>\n",
              "      <td>99.035</td>\n",
              "      <td>0.086</td>\n",
              "      <td>0.007</td>\n",
              "      <td>0.091</td>\n",
              "      <td>Asian</td>\n",
              "      <td>Male</td>\n",
              "      <td>Normal</td>\n",
              "      <td>7.735048</td>\n",
              "      <td>-5.195693</td>\n",
              "      <td>12.394546</td>\n",
              "      <td>100.00</td>\n",
              "      <td>0.0</td>\n",
              "      <td>0.000</td>\n",
              "      <td>0.000</td>\n",
              "      <td>0.734</td>\n",
              "      <td>3.295</td>\n",
              "      <td>34.366</td>\n",
              "      <td>1.411</td>\n",
              "      <td>77.536</td>\n",
              "      <td>east_asian</td>\n",
              "      <td>0.0</td>\n",
              "      <td>6.04</td>\n",
              "      <td>87.77</td>\n",
              "      <td>5.27</td>\n",
              "      <td>0.0</td>\n",
              "      <td>0.00</td>\n",
              "      <td>0.0</td>\n",
              "      <td>0.0</td>\n",
              "      <td>0.0</td>\n",
              "      <td>0.0</td>\n",
              "      <td>420</td>\n",
              "      <td>67.662</td>\n",
              "    </tr>\n",
              "    <tr>\n",
              "      <th>11</th>\n",
              "      <td>12</td>\n",
              "      <td>1.166667</td>\n",
              "      <td>304.0</td>\n",
              "      <td>436.166667</td>\n",
              "      <td>urn:li:member:149435456</td>\n",
              "      <td>3008</td>\n",
              "      <td>1</td>\n",
              "      <td>6</td>\n",
              "      <td>304</td>\n",
              "      <td>37</td>\n",
              "      <td>57.570</td>\n",
              "      <td>63.829</td>\n",
              "      <td>57.570</td>\n",
              "      <td>0.421</td>\n",
              "      <td>76.6</td>\n",
              "      <td>0.7</td>\n",
              "      <td>0.7</td>\n",
              "      <td>99.035</td>\n",
              "      <td>0.086</td>\n",
              "      <td>0.007</td>\n",
              "      <td>0.091</td>\n",
              "      <td>Asian</td>\n",
              "      <td>Male</td>\n",
              "      <td>Normal</td>\n",
              "      <td>7.735048</td>\n",
              "      <td>-5.195693</td>\n",
              "      <td>12.394546</td>\n",
              "      <td>100.00</td>\n",
              "      <td>0.0</td>\n",
              "      <td>0.000</td>\n",
              "      <td>0.000</td>\n",
              "      <td>0.734</td>\n",
              "      <td>3.295</td>\n",
              "      <td>34.366</td>\n",
              "      <td>1.411</td>\n",
              "      <td>77.536</td>\n",
              "      <td>east_asian</td>\n",
              "      <td>0.0</td>\n",
              "      <td>6.04</td>\n",
              "      <td>87.77</td>\n",
              "      <td>5.27</td>\n",
              "      <td>0.0</td>\n",
              "      <td>0.00</td>\n",
              "      <td>0.0</td>\n",
              "      <td>0.0</td>\n",
              "      <td>0.0</td>\n",
              "      <td>0.0</td>\n",
              "      <td>420</td>\n",
              "      <td>67.662</td>\n",
              "    </tr>\n",
              "    <tr>\n",
              "      <th>12</th>\n",
              "      <td>13</td>\n",
              "      <td>2.000000</td>\n",
              "      <td>245.0</td>\n",
              "      <td>578.000000</td>\n",
              "      <td>urn:li:member:14946608</td>\n",
              "      <td>3009</td>\n",
              "      <td>1</td>\n",
              "      <td>1</td>\n",
              "      <td>245</td>\n",
              "      <td>39</td>\n",
              "      <td>59.489</td>\n",
              "      <td>59.489</td>\n",
              "      <td>52.798</td>\n",
              "      <td>0.647</td>\n",
              "      <td>6629.1</td>\n",
              "      <td>161.3</td>\n",
              "      <td>646.7</td>\n",
              "      <td>8.816</td>\n",
              "      <td>0.697</td>\n",
              "      <td>0.446</td>\n",
              "      <td>15.670</td>\n",
              "      <td>Black</td>\n",
              "      <td>Female</td>\n",
              "      <td>Normal</td>\n",
              "      <td>19.363672</td>\n",
              "      <td>-12.114436</td>\n",
              "      <td>14.449760</td>\n",
              "      <td>0.07</td>\n",
              "      <td>0.0</td>\n",
              "      <td>97.476</td>\n",
              "      <td>2.453</td>\n",
              "      <td>30.107</td>\n",
              "      <td>14.306</td>\n",
              "      <td>0.754</td>\n",
              "      <td>97.187</td>\n",
              "      <td>55.243</td>\n",
              "      <td>hispanic</td>\n",
              "      <td>0.0</td>\n",
              "      <td>1.76</td>\n",
              "      <td>2.94</td>\n",
              "      <td>0.00</td>\n",
              "      <td>0.0</td>\n",
              "      <td>94.64</td>\n",
              "      <td>0.0</td>\n",
              "      <td>0.0</td>\n",
              "      <td>0.0</td>\n",
              "      <td>0.0</td>\n",
              "      <td>1676</td>\n",
              "      <td>32.126</td>\n",
              "    </tr>\n",
              "  </tbody>\n",
              "</table>\n",
              "</div>"
            ],
            "text/plain": [
              "   c_id  avg_time_in_previous_position  ...  n_followers  face_quality\n",
              "0     1                       2.000000  ...          420        67.662\n",
              "1     2                       1.500000  ...          420        67.662\n",
              "2     3                       1.333333  ...          420        67.662\n",
              "3     4                       1.250000  ...          420        67.662\n",
              "4     5                       1.200000  ...          420        67.662\n",
              "5     6                       1.166667  ...          420        67.662\n",
              "6     7                       2.000000  ...          420        67.662\n",
              "7     8                       1.500000  ...          420        67.662\n",
              "8     9                       1.333333  ...          420        67.662\n",
              "9    10                       1.250000  ...          420        67.662\n",
              "10   11                       1.200000  ...          420        67.662\n",
              "11   12                       1.166667  ...          420        67.662\n",
              "12   13                       2.000000  ...         1676        32.126\n",
              "\n",
              "[13 rows x 49 columns]"
            ]
          },
          "metadata": {},
          "execution_count": 14
        }
      ]
    },
    {
      "cell_type": "markdown",
      "metadata": {
        "id": "RXTE01OygC5W"
      },
      "source": [
        "#Dropando colunas\n"
      ]
    },
    {
      "cell_type": "code",
      "metadata": {
        "colab": {
          "base_uri": "https://localhost:8080/"
        },
        "id": "guVbXKK6YyxS",
        "outputId": "a90357b8-b962-4eb8-de76-b3c652de49f1"
      },
      "source": [
        "df2.shape"
      ],
      "execution_count": null,
      "outputs": [
        {
          "output_type": "execute_result",
          "data": {
            "text/plain": [
              "(62706, 49)"
            ]
          },
          "metadata": {},
          "execution_count": 15
        }
      ]
    },
    {
      "cell_type": "markdown",
      "metadata": {
        "id": "pE7SuTepPUk4"
      },
      "source": [
        "***Removendo colunas irrelevantes***"
      ]
    },
    {
      "cell_type": "code",
      "metadata": {
        "id": "nRfQ1Mmy334W"
      },
      "source": [
        "df2 = df2.drop(['c_id','m_urn','avg_current_position_length','no_of_promotions','head_pitch','head_roll','head_yaw', \n",
        "                'mouth_close', 'mouth_mask', 'mouth_open','mouth_other','beauty',\n",
        "                'skin_acne', 'skin_dark_circle', 'skin_health','skin_stain',\n",
        "                'african', 'celtic_english','east_asian', 'european', 'greek',\n",
        "                'hispanic', 'jewish', 'muslim','nordic', 'south_asian','beauty_female', \n",
        "                'beauty_male','avg_previous_position_length'], axis=1)"
      ],
      "execution_count": null,
      "outputs": []
    },
    {
      "cell_type": "markdown",
      "metadata": {
        "id": "-3x8B2tMPatF"
      },
      "source": [
        "***Visualizando colunas restantes***"
      ]
    },
    {
      "cell_type": "code",
      "metadata": {
        "id": "wGscn5Sn27Vo",
        "colab": {
          "base_uri": "https://localhost:8080/"
        },
        "outputId": "f7ca9c15-af24-4a06-ed37-4eaeed7e30e3"
      },
      "source": [
        "df2.columns"
      ],
      "execution_count": null,
      "outputs": [
        {
          "output_type": "execute_result",
          "data": {
            "text/plain": [
              "Index(['avg_time_in_previous_position', 'm_urn_id', 'no_of_previous_positions',\n",
              "       'current_position_length', 'age', 'blur', 'emo_anger', 'emp_disgust',\n",
              "       'emo_fear', 'emo_happiness', 'emo_neutral', 'emo_sadness',\n",
              "       'emo_surprise', 'ethnicity', 'gender', 'glass', 'smile', 'nationality',\n",
              "       'n_followers', 'face_quality'],\n",
              "      dtype='object')"
            ]
          },
          "metadata": {},
          "execution_count": 17
        }
      ]
    },
    {
      "cell_type": "markdown",
      "metadata": {
        "id": "eSNQEVSgWzk_"
      },
      "source": [
        "***Removendo linhas com 'm_urn_id' repetidos***"
      ]
    },
    {
      "cell_type": "code",
      "metadata": {
        "id": "2qOGIje0W0lc"
      },
      "source": [
        "df2 = df2.drop_duplicates(subset=['m_urn_id'])"
      ],
      "execution_count": null,
      "outputs": []
    },
    {
      "cell_type": "code",
      "metadata": {
        "colab": {
          "base_uri": "https://localhost:8080/",
          "height": 379
        },
        "id": "hBBnYaVzzy3K",
        "outputId": "b4f8785b-d339-4005-ac76-7987dfde270c"
      },
      "source": [
        "df2.head(10)"
      ],
      "execution_count": null,
      "outputs": [
        {
          "output_type": "execute_result",
          "data": {
            "text/html": [
              "<div>\n",
              "<style scoped>\n",
              "    .dataframe tbody tr th:only-of-type {\n",
              "        vertical-align: middle;\n",
              "    }\n",
              "\n",
              "    .dataframe tbody tr th {\n",
              "        vertical-align: top;\n",
              "    }\n",
              "\n",
              "    .dataframe thead th {\n",
              "        text-align: right;\n",
              "    }\n",
              "</style>\n",
              "<table border=\"1\" class=\"dataframe\">\n",
              "  <thead>\n",
              "    <tr style=\"text-align: right;\">\n",
              "      <th></th>\n",
              "      <th>avg_time_in_previous_position</th>\n",
              "      <th>m_urn_id</th>\n",
              "      <th>no_of_previous_positions</th>\n",
              "      <th>current_position_length</th>\n",
              "      <th>age</th>\n",
              "      <th>blur</th>\n",
              "      <th>emo_anger</th>\n",
              "      <th>emp_disgust</th>\n",
              "      <th>emo_fear</th>\n",
              "      <th>emo_happiness</th>\n",
              "      <th>emo_neutral</th>\n",
              "      <th>emo_sadness</th>\n",
              "      <th>emo_surprise</th>\n",
              "      <th>ethnicity</th>\n",
              "      <th>gender</th>\n",
              "      <th>glass</th>\n",
              "      <th>smile</th>\n",
              "      <th>nationality</th>\n",
              "      <th>n_followers</th>\n",
              "      <th>face_quality</th>\n",
              "    </tr>\n",
              "  </thead>\n",
              "  <tbody>\n",
              "    <tr>\n",
              "      <th>0</th>\n",
              "      <td>2.0</td>\n",
              "      <td>3008</td>\n",
              "      <td>1</td>\n",
              "      <td>457</td>\n",
              "      <td>37</td>\n",
              "      <td>0.421</td>\n",
              "      <td>76.6</td>\n",
              "      <td>0.7</td>\n",
              "      <td>0.7</td>\n",
              "      <td>99.035</td>\n",
              "      <td>0.086</td>\n",
              "      <td>0.007</td>\n",
              "      <td>0.091</td>\n",
              "      <td>Asian</td>\n",
              "      <td>Male</td>\n",
              "      <td>Normal</td>\n",
              "      <td>77.536</td>\n",
              "      <td>east_asian</td>\n",
              "      <td>420</td>\n",
              "      <td>67.662</td>\n",
              "    </tr>\n",
              "    <tr>\n",
              "      <th>12</th>\n",
              "      <td>2.0</td>\n",
              "      <td>3009</td>\n",
              "      <td>1</td>\n",
              "      <td>245</td>\n",
              "      <td>39</td>\n",
              "      <td>0.647</td>\n",
              "      <td>6629.1</td>\n",
              "      <td>161.3</td>\n",
              "      <td>646.7</td>\n",
              "      <td>8.816</td>\n",
              "      <td>0.697</td>\n",
              "      <td>0.446</td>\n",
              "      <td>15.670</td>\n",
              "      <td>Black</td>\n",
              "      <td>Female</td>\n",
              "      <td>Normal</td>\n",
              "      <td>55.243</td>\n",
              "      <td>hispanic</td>\n",
              "      <td>1676</td>\n",
              "      <td>32.126</td>\n",
              "    </tr>\n",
              "    <tr>\n",
              "      <th>13</th>\n",
              "      <td>1.0</td>\n",
              "      <td>3010</td>\n",
              "      <td>1</td>\n",
              "      <td>1827</td>\n",
              "      <td>37</td>\n",
              "      <td>64.262</td>\n",
              "      <td>8.2</td>\n",
              "      <td>8.2</td>\n",
              "      <td>8.2</td>\n",
              "      <td>9.585</td>\n",
              "      <td>63.067</td>\n",
              "      <td>0.103</td>\n",
              "      <td>26.998</td>\n",
              "      <td>White</td>\n",
              "      <td>Male</td>\n",
              "      <td>Normal</td>\n",
              "      <td>63.774</td>\n",
              "      <td>hispanic</td>\n",
              "      <td>319</td>\n",
              "      <td>0.006</td>\n",
              "    </tr>\n",
              "    <tr>\n",
              "      <th>15</th>\n",
              "      <td>1.0</td>\n",
              "      <td>3011</td>\n",
              "      <td>1</td>\n",
              "      <td>1065</td>\n",
              "      <td>59</td>\n",
              "      <td>0.435</td>\n",
              "      <td>150.6</td>\n",
              "      <td>215.7</td>\n",
              "      <td>9.8</td>\n",
              "      <td>95.314</td>\n",
              "      <td>0.728</td>\n",
              "      <td>0.098</td>\n",
              "      <td>0.098</td>\n",
              "      <td>White</td>\n",
              "      <td>Male</td>\n",
              "      <td>None</td>\n",
              "      <td>93.269</td>\n",
              "      <td>celtic_english</td>\n",
              "      <td>2381</td>\n",
              "      <td>88.694</td>\n",
              "    </tr>\n",
              "    <tr>\n",
              "      <th>21</th>\n",
              "      <td>1.0</td>\n",
              "      <td>3012</td>\n",
              "      <td>1</td>\n",
              "      <td>243</td>\n",
              "      <td>31</td>\n",
              "      <td>2.125</td>\n",
              "      <td>0.7</td>\n",
              "      <td>17.5</td>\n",
              "      <td>5.7</td>\n",
              "      <td>73.232</td>\n",
              "      <td>14.742</td>\n",
              "      <td>0.007</td>\n",
              "      <td>11.779</td>\n",
              "      <td>White</td>\n",
              "      <td>Male</td>\n",
              "      <td>Normal</td>\n",
              "      <td>6.671</td>\n",
              "      <td>celtic_english</td>\n",
              "      <td>332</td>\n",
              "      <td>55.399</td>\n",
              "    </tr>\n",
              "    <tr>\n",
              "      <th>23</th>\n",
              "      <td>1.0</td>\n",
              "      <td>3013</td>\n",
              "      <td>1</td>\n",
              "      <td>3925</td>\n",
              "      <td>42</td>\n",
              "      <td>0.354</td>\n",
              "      <td>0.0</td>\n",
              "      <td>0.0</td>\n",
              "      <td>0.0</td>\n",
              "      <td>100.000</td>\n",
              "      <td>0.000</td>\n",
              "      <td>0.000</td>\n",
              "      <td>0.000</td>\n",
              "      <td>White</td>\n",
              "      <td>Female</td>\n",
              "      <td>None</td>\n",
              "      <td>97.428</td>\n",
              "      <td>hispanic</td>\n",
              "      <td>784</td>\n",
              "      <td>94.145</td>\n",
              "    </tr>\n",
              "    <tr>\n",
              "      <th>27</th>\n",
              "      <td>1.0</td>\n",
              "      <td>3014</td>\n",
              "      <td>1</td>\n",
              "      <td>699</td>\n",
              "      <td>51</td>\n",
              "      <td>0.317</td>\n",
              "      <td>1.5</td>\n",
              "      <td>34.7</td>\n",
              "      <td>29.4</td>\n",
              "      <td>98.661</td>\n",
              "      <td>0.086</td>\n",
              "      <td>0.015</td>\n",
              "      <td>0.582</td>\n",
              "      <td>White</td>\n",
              "      <td>Female</td>\n",
              "      <td>None</td>\n",
              "      <td>98.941</td>\n",
              "      <td>celtic_english</td>\n",
              "      <td>1607</td>\n",
              "      <td>59.917</td>\n",
              "    </tr>\n",
              "    <tr>\n",
              "      <th>35</th>\n",
              "      <td>1.0</td>\n",
              "      <td>3015</td>\n",
              "      <td>1</td>\n",
              "      <td>61</td>\n",
              "      <td>42</td>\n",
              "      <td>0.371</td>\n",
              "      <td>0.0</td>\n",
              "      <td>0.0</td>\n",
              "      <td>0.0</td>\n",
              "      <td>100.000</td>\n",
              "      <td>0.000</td>\n",
              "      <td>0.000</td>\n",
              "      <td>0.000</td>\n",
              "      <td>White</td>\n",
              "      <td>Male</td>\n",
              "      <td>None</td>\n",
              "      <td>94.807</td>\n",
              "      <td>european</td>\n",
              "      <td>2222</td>\n",
              "      <td>75.535</td>\n",
              "    </tr>\n",
              "    <tr>\n",
              "      <th>42</th>\n",
              "      <td>1.0</td>\n",
              "      <td>3016</td>\n",
              "      <td>1</td>\n",
              "      <td>395</td>\n",
              "      <td>33</td>\n",
              "      <td>0.357</td>\n",
              "      <td>0.0</td>\n",
              "      <td>0.0</td>\n",
              "      <td>0.0</td>\n",
              "      <td>96.423</td>\n",
              "      <td>3.435</td>\n",
              "      <td>0.002</td>\n",
              "      <td>0.139</td>\n",
              "      <td>Asian</td>\n",
              "      <td>Male</td>\n",
              "      <td>Normal</td>\n",
              "      <td>10.482</td>\n",
              "      <td>east_asian</td>\n",
              "      <td>1259</td>\n",
              "      <td>94.098</td>\n",
              "    </tr>\n",
              "    <tr>\n",
              "      <th>53</th>\n",
              "      <td>2.0</td>\n",
              "      <td>3017</td>\n",
              "      <td>1</td>\n",
              "      <td>1096</td>\n",
              "      <td>50</td>\n",
              "      <td>2.314</td>\n",
              "      <td>0.0</td>\n",
              "      <td>0.0</td>\n",
              "      <td>0.0</td>\n",
              "      <td>100.000</td>\n",
              "      <td>0.000</td>\n",
              "      <td>0.000</td>\n",
              "      <td>0.000</td>\n",
              "      <td>White</td>\n",
              "      <td>Male</td>\n",
              "      <td>None</td>\n",
              "      <td>95.800</td>\n",
              "      <td>celtic_english</td>\n",
              "      <td>331</td>\n",
              "      <td>87.997</td>\n",
              "    </tr>\n",
              "  </tbody>\n",
              "</table>\n",
              "</div>"
            ],
            "text/plain": [
              "    avg_time_in_previous_position  m_urn_id  ...  n_followers  face_quality\n",
              "0                             2.0      3008  ...          420        67.662\n",
              "12                            2.0      3009  ...         1676        32.126\n",
              "13                            1.0      3010  ...          319         0.006\n",
              "15                            1.0      3011  ...         2381        88.694\n",
              "21                            1.0      3012  ...          332        55.399\n",
              "23                            1.0      3013  ...          784        94.145\n",
              "27                            1.0      3014  ...         1607        59.917\n",
              "35                            1.0      3015  ...         2222        75.535\n",
              "42                            1.0      3016  ...         1259        94.098\n",
              "53                            2.0      3017  ...          331        87.997\n",
              "\n",
              "[10 rows x 20 columns]"
            ]
          },
          "metadata": {},
          "execution_count": 19
        }
      ]
    },
    {
      "cell_type": "markdown",
      "metadata": {
        "id": "d21tdzebfHS0"
      },
      "source": [
        "#Renomeando colunas"
      ]
    },
    {
      "cell_type": "markdown",
      "metadata": {
        "id": "0ftdXDVMe7mF"
      },
      "source": [
        "***Criando listas para renomear colunas***"
      ]
    },
    {
      "cell_type": "code",
      "metadata": {
        "id": "L094aw9LiQj6"
      },
      "source": [
        "col_old = ['avg_time_in_previous_position', 'm_urn_id', \n",
        "           'no_of_previous_positions', 'age','blur', 'emo_anger', \n",
        "           'emp_disgust', 'emo_fear', 'emo_happiness','emo_neutral', 'emo_sadness','emo_surprise', 'ethnicity', \n",
        "           'gender', 'glass', 'smile', 'nationality','n_followers', 'face_quality']\n",
        "\n",
        "col_new = ['tempo_cargo_anterior', 'id_usuario', 'promocoes','dias_cargo_anterior',\n",
        "           'idade', 'desfoque', 'raiva', 'desgosto', 'medo','felicidade','neutro','triste', 'surpresa', \n",
        "           'etnia', 'genero', 'oculos','sorriso','nacionalidade','seguidores', 'qualidade_imagem']"
      ],
      "execution_count": null,
      "outputs": []
    },
    {
      "cell_type": "code",
      "metadata": {
        "id": "hMCyn1pHgeAs"
      },
      "source": [
        "df2.columns = col_new"
      ],
      "execution_count": null,
      "outputs": []
    },
    {
      "cell_type": "markdown",
      "metadata": {
        "id": "fM9GxELTT5r7"
      },
      "source": [
        "***Verificando colunas renomeadas***"
      ]
    },
    {
      "cell_type": "code",
      "metadata": {
        "id": "9_c8QLuRsFFj",
        "colab": {
          "base_uri": "https://localhost:8080/"
        },
        "outputId": "1cf94ad3-509a-4a22-957c-7c4c764500c8"
      },
      "source": [
        "df2.columns"
      ],
      "execution_count": null,
      "outputs": [
        {
          "output_type": "execute_result",
          "data": {
            "text/plain": [
              "Index(['tempo_cargo_anterior', 'id_usuario', 'promocoes',\n",
              "       'dias_cargo_anterior', 'idade', 'desfoque', 'raiva', 'desgosto', 'medo',\n",
              "       'felicidade', 'neutro', 'triste', 'surpresa', 'etnia', 'genero',\n",
              "       'oculos', 'sorriso', 'nacionalidade', 'seguidores', 'qualidade_imagem'],\n",
              "      dtype='object')"
            ]
          },
          "metadata": {},
          "execution_count": 22
        }
      ]
    },
    {
      "cell_type": "markdown",
      "metadata": {
        "id": "2oGObtg4vCgS"
      },
      "source": [
        "#Identificando as colunas a serem traduzidas\n"
      ]
    },
    {
      "cell_type": "markdown",
      "metadata": {
        "id": "pmiwnD83gq3r"
      },
      "source": [
        "***Selecionando apenas as colunas com string***"
      ]
    },
    {
      "cell_type": "code",
      "metadata": {
        "id": "nIkVu_lctpQ3",
        "colab": {
          "base_uri": "https://localhost:8080/",
          "height": 419
        },
        "outputId": "aedb7f00-7dea-45c9-a6b5-f0f18883b252"
      },
      "source": [
        "df2.select_dtypes(include='object')"
      ],
      "execution_count": null,
      "outputs": [
        {
          "output_type": "execute_result",
          "data": {
            "text/html": [
              "<div>\n",
              "<style scoped>\n",
              "    .dataframe tbody tr th:only-of-type {\n",
              "        vertical-align: middle;\n",
              "    }\n",
              "\n",
              "    .dataframe tbody tr th {\n",
              "        vertical-align: top;\n",
              "    }\n",
              "\n",
              "    .dataframe thead th {\n",
              "        text-align: right;\n",
              "    }\n",
              "</style>\n",
              "<table border=\"1\" class=\"dataframe\">\n",
              "  <thead>\n",
              "    <tr style=\"text-align: right;\">\n",
              "      <th></th>\n",
              "      <th>etnia</th>\n",
              "      <th>genero</th>\n",
              "      <th>oculos</th>\n",
              "      <th>nacionalidade</th>\n",
              "    </tr>\n",
              "  </thead>\n",
              "  <tbody>\n",
              "    <tr>\n",
              "      <th>0</th>\n",
              "      <td>Asian</td>\n",
              "      <td>Male</td>\n",
              "      <td>Normal</td>\n",
              "      <td>east_asian</td>\n",
              "    </tr>\n",
              "    <tr>\n",
              "      <th>12</th>\n",
              "      <td>Black</td>\n",
              "      <td>Female</td>\n",
              "      <td>Normal</td>\n",
              "      <td>hispanic</td>\n",
              "    </tr>\n",
              "    <tr>\n",
              "      <th>13</th>\n",
              "      <td>White</td>\n",
              "      <td>Male</td>\n",
              "      <td>Normal</td>\n",
              "      <td>hispanic</td>\n",
              "    </tr>\n",
              "    <tr>\n",
              "      <th>15</th>\n",
              "      <td>White</td>\n",
              "      <td>Male</td>\n",
              "      <td>None</td>\n",
              "      <td>celtic_english</td>\n",
              "    </tr>\n",
              "    <tr>\n",
              "      <th>21</th>\n",
              "      <td>White</td>\n",
              "      <td>Male</td>\n",
              "      <td>Normal</td>\n",
              "      <td>celtic_english</td>\n",
              "    </tr>\n",
              "    <tr>\n",
              "      <th>...</th>\n",
              "      <td>...</td>\n",
              "      <td>...</td>\n",
              "      <td>...</td>\n",
              "      <td>...</td>\n",
              "    </tr>\n",
              "    <tr>\n",
              "      <th>62684</th>\n",
              "      <td>White</td>\n",
              "      <td>Male</td>\n",
              "      <td>Normal</td>\n",
              "      <td>south_asian</td>\n",
              "    </tr>\n",
              "    <tr>\n",
              "      <th>62688</th>\n",
              "      <td>White</td>\n",
              "      <td>Male</td>\n",
              "      <td>None</td>\n",
              "      <td>nordic</td>\n",
              "    </tr>\n",
              "    <tr>\n",
              "      <th>62690</th>\n",
              "      <td>White</td>\n",
              "      <td>Male</td>\n",
              "      <td>Normal</td>\n",
              "      <td>south_asian</td>\n",
              "    </tr>\n",
              "    <tr>\n",
              "      <th>62695</th>\n",
              "      <td>White</td>\n",
              "      <td>Male</td>\n",
              "      <td>Normal</td>\n",
              "      <td>celtic_english</td>\n",
              "    </tr>\n",
              "    <tr>\n",
              "      <th>62697</th>\n",
              "      <td>White</td>\n",
              "      <td>Male</td>\n",
              "      <td>None</td>\n",
              "      <td>hispanic</td>\n",
              "    </tr>\n",
              "  </tbody>\n",
              "</table>\n",
              "<p>15257 rows × 4 columns</p>\n",
              "</div>"
            ],
            "text/plain": [
              "       etnia  genero  oculos   nacionalidade\n",
              "0      Asian    Male  Normal      east_asian\n",
              "12     Black  Female  Normal        hispanic\n",
              "13     White    Male  Normal        hispanic\n",
              "15     White    Male    None  celtic_english\n",
              "21     White    Male  Normal  celtic_english\n",
              "...      ...     ...     ...             ...\n",
              "62684  White    Male  Normal     south_asian\n",
              "62688  White    Male    None          nordic\n",
              "62690  White    Male  Normal     south_asian\n",
              "62695  White    Male  Normal  celtic_english\n",
              "62697  White    Male    None        hispanic\n",
              "\n",
              "[15257 rows x 4 columns]"
            ]
          },
          "metadata": {},
          "execution_count": 23
        }
      ]
    },
    {
      "cell_type": "markdown",
      "metadata": {
        "id": "ciAVRO4sgHOs"
      },
      "source": [
        "#Vericando e modificando a coluna 'etnia'"
      ]
    },
    {
      "cell_type": "markdown",
      "metadata": {
        "id": "D6iM-6hqhFM4"
      },
      "source": [
        "***Consultando valores da coluna***"
      ]
    },
    {
      "cell_type": "code",
      "metadata": {
        "id": "4-IsjDpGya_2",
        "colab": {
          "base_uri": "https://localhost:8080/"
        },
        "outputId": "1e6e98d9-7362-4eb1-89ce-59f84c0a8f35"
      },
      "source": [
        "df2['etnia'].unique()"
      ],
      "execution_count": null,
      "outputs": [
        {
          "output_type": "execute_result",
          "data": {
            "text/plain": [
              "array(['Asian', 'Black', 'White'], dtype=object)"
            ]
          },
          "metadata": {},
          "execution_count": 24
        }
      ]
    },
    {
      "cell_type": "code",
      "metadata": {
        "id": "soqLvx3MEAy4",
        "colab": {
          "base_uri": "https://localhost:8080/",
          "height": 482
        },
        "outputId": "da57eaaa-5214-4e02-dc1b-4f67590ee997"
      },
      "source": [
        "df2.groupby([\"etnia\"]).genero.count().plot.bar(figsize=(12,7))"
      ],
      "execution_count": null,
      "outputs": [
        {
          "output_type": "execute_result",
          "data": {
            "text/plain": [
              "<matplotlib.axes._subplots.AxesSubplot at 0x7fe3b53f8850>"
            ]
          },
          "metadata": {},
          "execution_count": 25
        },
        {
          "output_type": "display_data",
          "data": {
            "image/png": "[encoded data removed]",
            "text/plain": [
              "<Figure size 864x504 with 1 Axes>"
            ]
          },
          "metadata": {
            "needs_background": "light"
          }
        }
      ]
    },
    {
      "cell_type": "markdown",
      "metadata": {
        "id": "lNbq341oho5k"
      },
      "source": [
        "***Realizando alterações dos valores***"
      ]
    },
    {
      "cell_type": "code",
      "metadata": {
        "id": "W5pIFbKAyl3C"
      },
      "source": [
        "etnias_antigas = ['Asian', 'Black', 'White']\n",
        "etnias_novas = ['Asiático','Negro','Branco']"
      ],
      "execution_count": null,
      "outputs": []
    },
    {
      "cell_type": "code",
      "metadata": {
        "id": "bQugDSUaynqb"
      },
      "source": [
        "df2['etnia'] = df2['etnia'].replace(etnias_antigas, etnias_novas)"
      ],
      "execution_count": null,
      "outputs": []
    },
    {
      "cell_type": "markdown",
      "metadata": {
        "id": "VNcBy6UKfe8j"
      },
      "source": [
        "#Vericando e modificando a coluna 'genero'"
      ]
    },
    {
      "cell_type": "markdown",
      "metadata": {
        "id": "WwdqiksThPV_"
      },
      "source": [
        "***Verificando valores da coluna***"
      ]
    },
    {
      "cell_type": "code",
      "metadata": {
        "id": "mYAqVugY3SKC",
        "colab": {
          "base_uri": "https://localhost:8080/"
        },
        "outputId": "381c6075-70a9-4726-f508-70890e1a71d6"
      },
      "source": [
        "df2['genero'].unique()"
      ],
      "execution_count": null,
      "outputs": [
        {
          "output_type": "execute_result",
          "data": {
            "text/plain": [
              "array(['Male', 'Female'], dtype=object)"
            ]
          },
          "metadata": {},
          "execution_count": 30
        }
      ]
    },
    {
      "cell_type": "code",
      "metadata": {
        "id": "33TFDRRdClZs",
        "colab": {
          "base_uri": "https://localhost:8080/",
          "height": 428
        },
        "outputId": "5955b7bf-3838-4a73-f1a0-f5556677cd70"
      },
      "source": [
        "df2.groupby([\"genero\"]).genero.count().plot.pie(figsize=(12,7))"
      ],
      "execution_count": null,
      "outputs": [
        {
          "output_type": "execute_result",
          "data": {
            "text/plain": [
              "<matplotlib.axes._subplots.AxesSubplot at 0x7fe3c880c950>"
            ]
          },
          "metadata": {},
          "execution_count": 31
        },
        {
          "output_type": "display_data",
          "data": {
            "image/png": "[encoded data removed]",
            "text/plain": [
              "<Figure size 864x504 with 1 Axes>"
            ]
          },
          "metadata": {}
        }
      ]
    },
    {
      "cell_type": "markdown",
      "metadata": {
        "id": "xYmaxnbThntO"
      },
      "source": [
        "***Realizando alterações dos valores***"
      ]
    },
    {
      "cell_type": "code",
      "metadata": {
        "id": "Vi5T5Hea_tfh"
      },
      "source": [
        "generos_antigos = ['Male','Female']\n",
        "generos_novos = ['Masculino','Feminino']"
      ],
      "execution_count": null,
      "outputs": []
    },
    {
      "cell_type": "code",
      "metadata": {
        "id": "ikOYsIg06ZX6"
      },
      "source": [
        "df2['genero'] = df2['genero'].replace(generos_antigos, generos_novos)"
      ],
      "execution_count": null,
      "outputs": []
    },
    {
      "cell_type": "markdown",
      "metadata": {
        "id": "YljcT4TL2o_x"
      },
      "source": [
        "#Vericando e modificando a coluna 'oculos'"
      ]
    },
    {
      "cell_type": "markdown",
      "metadata": {
        "id": "7M-w6ZhIhU01"
      },
      "source": [
        "***Verificando valores da coluna***"
      ]
    },
    {
      "cell_type": "code",
      "metadata": {
        "id": "Xv8JwrpHJ2zc"
      },
      "source": [
        "df2.groupby([\"oculos\"]).genero.count().plot.bar(figsize=(12,7))"
      ],
      "execution_count": null,
      "outputs": []
    },
    {
      "cell_type": "code",
      "metadata": {
        "id": "8yyvnbh22o_x",
        "colab": {
          "base_uri": "https://localhost:8080/"
        },
        "outputId": "bc8d61ed-6231-4aaf-fa53-8a373a850e5e"
      },
      "source": [
        "df2['oculos'].unique()"
      ],
      "execution_count": null,
      "outputs": [
        {
          "output_type": "execute_result",
          "data": {
            "text/plain": [
              "array(['Normal', 'None', 'Dark'], dtype=object)"
            ]
          },
          "metadata": {},
          "execution_count": 34
        }
      ]
    },
    {
      "cell_type": "markdown",
      "metadata": {
        "id": "EiZfIHJuhmYJ"
      },
      "source": [
        "***Realizando alterações dos valores***"
      ]
    },
    {
      "cell_type": "code",
      "metadata": {
        "id": "ZuuyxZU-2o_x"
      },
      "source": [
        "oculos_antigos = ['Normal', 'None', 'Dark']\n",
        "oculos_novos = ['Oculos_comum', 'Nenhum', 'Oculos_escuros']"
      ],
      "execution_count": null,
      "outputs": []
    },
    {
      "cell_type": "code",
      "metadata": {
        "id": "IUSigOaw2o_x"
      },
      "source": [
        "df2['oculos'] = df2['oculos'].replace(oculos_antigos, oculos_novos)"
      ],
      "execution_count": null,
      "outputs": []
    },
    {
      "cell_type": "markdown",
      "metadata": {
        "id": "qfRzQAo03EOZ"
      },
      "source": [
        "#Vericando e modificando a coluna 'nacionalidade'"
      ]
    },
    {
      "cell_type": "markdown",
      "metadata": {
        "id": "f9DBRI36ha9K"
      },
      "source": [
        "***Verificando valores da coluna***"
      ]
    },
    {
      "cell_type": "code",
      "metadata": {
        "colab": {
          "base_uri": "https://localhost:8080/",
          "height": 428
        },
        "id": "KvE6xFxiHDLq",
        "outputId": "52edbef2-2126-4c0b-fdfa-5f92957a14ea"
      },
      "source": [
        "df2.groupby([\"nacionalidade\"]).nacionalidade.count().plot.pie(figsize=(12,7))"
      ],
      "execution_count": null,
      "outputs": [
        {
          "output_type": "execute_result",
          "data": {
            "text/plain": [
              "<matplotlib.axes._subplots.AxesSubplot at 0x7fe3b4e03410>"
            ]
          },
          "metadata": {},
          "execution_count": 38
        },
        {
          "output_type": "display_data",
          "data": {
            "image/png": "[encoded data removed]",
            "text/plain": [
              "<Figure size 864x504 with 1 Axes>"
            ]
          },
          "metadata": {}
        }
      ]
    },
    {
      "cell_type": "code",
      "metadata": {
        "id": "iW1Ty8yV3EOa",
        "colab": {
          "base_uri": "https://localhost:8080/"
        },
        "outputId": "e1c3ea3e-8ec1-4cbc-c4e7-0fa4d6772687"
      },
      "source": [
        "df2['nacionalidade'].unique()"
      ],
      "execution_count": null,
      "outputs": [
        {
          "output_type": "execute_result",
          "data": {
            "text/plain": [
              "array(['east_asian', 'hispanic', 'celtic_english', 'european', 'muslim',\n",
              "       'south_asian', 'nordic', 'african', 'jewish', 'greek'],\n",
              "      dtype=object)"
            ]
          },
          "metadata": {},
          "execution_count": 37
        }
      ]
    },
    {
      "cell_type": "markdown",
      "metadata": {
        "id": "G6GXDs3AhelA"
      },
      "source": [
        "***Realizando alterações dos valores***"
      ]
    },
    {
      "cell_type": "code",
      "metadata": {
        "id": "nEIkAUk23EOa"
      },
      "source": [
        "nacionalidades_antigas = ['east_asian', 'hispanic', 'celtic_english', 'european', 'muslim',\n",
        "       'south_asian', 'nordic', 'african', 'jewish', 'greek']\n",
        "nacionalidades_novas = ['asiatico_leste', 'hispanico', 'ingles', 'europeu', 'muculmano',\n",
        "       'asiatico_sul', 'nordico', 'africano', 'judeu', 'grego']"
      ],
      "execution_count": null,
      "outputs": []
    },
    {
      "cell_type": "code",
      "metadata": {
        "id": "phAvWrpl3EOa"
      },
      "source": [
        "df2['nacionalidade'] = df2['nacionalidade'].replace(nacionalidades_antigas, nacionalidades_novas)"
      ],
      "execution_count": null,
      "outputs": []
    },
    {
      "cell_type": "markdown",
      "metadata": {
        "id": "pZq-klBrz5mS"
      },
      "source": [
        "#Verificando a coluna 'idade'"
      ]
    },
    {
      "cell_type": "markdown",
      "metadata": {
        "id": "I0TEgzJ1Ut2y"
      },
      "source": [
        "***Consultando as idades***"
      ]
    },
    {
      "cell_type": "code",
      "metadata": {
        "id": "YW-l-tIdFlqi",
        "colab": {
          "base_uri": "https://localhost:8080/",
          "height": 459
        },
        "outputId": "0581da4c-55bb-4ddf-d96a-e5a609456ec7"
      },
      "source": [
        "df2.groupby([\"idade\"]).idade.count().plot.line(figsize=(12,7))"
      ],
      "execution_count": null,
      "outputs": [
        {
          "output_type": "execute_result",
          "data": {
            "text/plain": [
              "<matplotlib.axes._subplots.AxesSubplot at 0x7fe3b4d7b3d0>"
            ]
          },
          "metadata": {},
          "execution_count": 42
        },
        {
          "output_type": "display_data",
          "data": {
            "image/png": "[encoded data removed]",
            "text/plain": [
              "<Figure size 864x504 with 1 Axes>"
            ]
          },
          "metadata": {
            "needs_background": "light"
          }
        }
      ]
    },
    {
      "cell_type": "code",
      "metadata": {
        "id": "2D0GMkxE4FAJ",
        "colab": {
          "base_uri": "https://localhost:8080/"
        },
        "outputId": "7dcbdadb-0ffa-44b7-ec60-845b8a28c19f"
      },
      "source": [
        "df2.idade.unique()"
      ],
      "execution_count": null,
      "outputs": [
        {
          "output_type": "execute_result",
          "data": {
            "text/plain": [
              "array([37, 39, 59, 31, 42, 51, 33, 50, 35, 47, 38, 61, 26, 44, 28, 60, 41,\n",
              "       19, 46, 25, 30, 58, 48, 40, 52, 34, 56, 49, 36, 45, 27, 55, 43, 63,\n",
              "       53, 57, 54, 20, 32, 22, 29, 65, 66, 23, 67, 24, 73, 71, 68, 13, 16,\n",
              "       21, 62, 17, 18,  6, 70, 14, 69, 64, 12, 72, 78, 15,  7,  9, 74, 10,\n",
              "       11,  4, 76,  8, 75, 80,  1, 77,  3])"
            ]
          },
          "metadata": {},
          "execution_count": 43
        }
      ]
    },
    {
      "cell_type": "markdown",
      "metadata": {
        "id": "My8s3lmSViVU"
      },
      "source": [
        "***Filtrando idades menores que 16***"
      ]
    },
    {
      "cell_type": "code",
      "metadata": {
        "id": "9bD89zCr0bDY"
      },
      "source": [
        "indexIdades = df2[ df2['idade'] < 16 ].index"
      ],
      "execution_count": null,
      "outputs": []
    },
    {
      "cell_type": "markdown",
      "metadata": {
        "id": "VW6mSjcNVosk"
      },
      "source": [
        "***Removendo as idades filtradas***"
      ]
    },
    {
      "cell_type": "code",
      "metadata": {
        "id": "3aIqUG1x2Rr_"
      },
      "source": [
        "df2.drop(indexIdades , inplace=True)"
      ],
      "execution_count": null,
      "outputs": []
    },
    {
      "cell_type": "code",
      "metadata": {
        "id": "dTCZbocb2Z9y",
        "colab": {
          "base_uri": "https://localhost:8080/"
        },
        "outputId": "2b7eff41-6a2d-41a6-b2ca-41432cd21494"
      },
      "source": [
        "df2.idade.unique()"
      ],
      "execution_count": null,
      "outputs": [
        {
          "output_type": "execute_result",
          "data": {
            "text/plain": [
              "array([37, 39, 59, 31, 42, 51, 33, 50, 35, 47, 38, 61, 26, 44, 28, 60, 41,\n",
              "       19, 46, 25, 30, 58, 48, 40, 52, 34, 56, 49, 36, 45, 27, 55, 43, 63,\n",
              "       53, 57, 54, 20, 32, 22, 29, 65, 66, 23, 67, 24, 73, 71, 68, 16, 21,\n",
              "       62, 17, 18, 70, 69, 64, 72, 78, 74, 76, 75, 80, 77])"
            ]
          },
          "metadata": {},
          "execution_count": 46
        }
      ]
    },
    {
      "cell_type": "markdown",
      "metadata": {
        "id": "6wYxpHNDRFr1"
      },
      "source": [
        "#Verificando inconsistências na coluna 'Cargo'"
      ]
    },
    {
      "cell_type": "markdown",
      "metadata": {
        "id": "1GnsI_YdAoDp"
      },
      "source": [
        "***Criando uma lista com os 'tempo_cargo_atual' menor que 0***"
      ]
    },
    {
      "cell_type": "code",
      "metadata": {
        "id": "F3Ikrmv_RRkE"
      },
      "source": [
        "indexCargos = df2[ df2['dias_cargo_anterior'] < 0 ].index"
      ],
      "execution_count": null,
      "outputs": []
    },
    {
      "cell_type": "markdown",
      "metadata": {
        "id": "CQ5x_eJBBAaz"
      },
      "source": [
        "***Removendo valores negativos da coluna***"
      ]
    },
    {
      "cell_type": "code",
      "metadata": {
        "id": "pOr3ZDJvXJT_"
      },
      "source": [
        "df2.drop(indexCargos , inplace=True)"
      ],
      "execution_count": null,
      "outputs": []
    },
    {
      "cell_type": "markdown",
      "metadata": {
        "id": "gtjpgRQ3ggfA"
      },
      "source": [
        "#Verificando os tipos de dados do DataFrame"
      ]
    },
    {
      "cell_type": "code",
      "metadata": {
        "id": "f1k0D6vEDg-S",
        "colab": {
          "base_uri": "https://localhost:8080/"
        },
        "outputId": "1e747190-0e0a-4a6f-db09-b417fbe8339f"
      },
      "source": [
        "df2.dtypes"
      ],
      "execution_count": null,
      "outputs": [
        {
          "output_type": "execute_result",
          "data": {
            "text/plain": [
              "tempo_cargo_anterior    float64\n",
              "id_usuario                int64\n",
              "promocoes                 int64\n",
              "dias_cargo_anterior       int64\n",
              "idade                     int64\n",
              "desfoque                float64\n",
              "raiva                   float64\n",
              "desgosto                float64\n",
              "medo                    float64\n",
              "felicidade              float64\n",
              "neutro                  float64\n",
              "triste                  float64\n",
              "surpresa                float64\n",
              "etnia                    object\n",
              "genero                   object\n",
              "oculos                   object\n",
              "sorriso                 float64\n",
              "nacionalidade            object\n",
              "seguidores                int64\n",
              "qualidade_imagem        float64\n",
              "dtype: object"
            ]
          },
          "metadata": {},
          "execution_count": 49
        }
      ]
    },
    {
      "cell_type": "markdown",
      "metadata": {
        "id": "OrDGiX-WWjn2"
      },
      "source": [
        "#Removendo inconsistências nas colunas 'Float'"
      ]
    },
    {
      "cell_type": "code",
      "metadata": {
        "id": "4LrdhjmsSB9x"
      },
      "source": [
        "raiva100 = df2[df2[\"raiva\"]> 100].index"
      ],
      "execution_count": null,
      "outputs": []
    },
    {
      "cell_type": "code",
      "metadata": {
        "id": "yL27m8QTVh-i"
      },
      "source": [
        "df2.drop(raiva100, inplace=True)"
      ],
      "execution_count": null,
      "outputs": []
    },
    {
      "cell_type": "code",
      "metadata": {
        "id": "jVZpvUkZ3F1m"
      },
      "source": [
        "medo100 = df2[df2[\"medo\"]> 100].index"
      ],
      "execution_count": null,
      "outputs": []
    },
    {
      "cell_type": "code",
      "metadata": {
        "id": "iW_pcMoIgkpH"
      },
      "source": [
        "df2.drop(medo100, inplace=True)"
      ],
      "execution_count": null,
      "outputs": []
    },
    {
      "cell_type": "code",
      "metadata": {
        "id": "f_GV5SzY3DpM"
      },
      "source": [
        "desgosto100 = df2[df2[\"desgosto\"]> 100].index"
      ],
      "execution_count": null,
      "outputs": []
    },
    {
      "cell_type": "code",
      "metadata": {
        "id": "h6fl22JbgjOX"
      },
      "source": [
        "df2.drop(desgosto100, inplace=True)"
      ],
      "execution_count": null,
      "outputs": []
    },
    {
      "cell_type": "code",
      "metadata": {
        "id": "9afAslkig45R",
        "colab": {
          "base_uri": "https://localhost:8080/"
        },
        "outputId": "38214992-c4e3-4302-8fc3-f7a6790d50d7"
      },
      "source": [
        "df2.head(5)"
      ],
      "execution_count": null,
      "outputs": [
        {
          "output_type": "execute_result",
          "data": {
            "text/html": [
              "<div>\n",
              "<style scoped>\n",
              "    .dataframe tbody tr th:only-of-type {\n",
              "        vertical-align: middle;\n",
              "    }\n",
              "\n",
              "    .dataframe tbody tr th {\n",
              "        vertical-align: top;\n",
              "    }\n",
              "\n",
              "    .dataframe thead th {\n",
              "        text-align: right;\n",
              "    }\n",
              "</style>\n",
              "<table border=\"1\" class=\"dataframe\">\n",
              "  <thead>\n",
              "    <tr style=\"text-align: right;\">\n",
              "      <th></th>\n",
              "      <th>tempo_cargo_anterior</th>\n",
              "      <th>id_usuario</th>\n",
              "      <th>promocoes</th>\n",
              "      <th>dias_cargo_anterior</th>\n",
              "      <th>idade</th>\n",
              "      <th>desfoque</th>\n",
              "      <th>raiva</th>\n",
              "      <th>desgosto</th>\n",
              "      <th>medo</th>\n",
              "      <th>felicidade</th>\n",
              "      <th>neutro</th>\n",
              "      <th>triste</th>\n",
              "      <th>surpresa</th>\n",
              "      <th>etnia</th>\n",
              "      <th>genero</th>\n",
              "      <th>oculos</th>\n",
              "      <th>sorriso</th>\n",
              "      <th>nacionalidade</th>\n",
              "      <th>seguidores</th>\n",
              "      <th>qualidade_imagem</th>\n",
              "    </tr>\n",
              "  </thead>\n",
              "  <tbody>\n",
              "    <tr>\n",
              "      <th>0</th>\n",
              "      <td>2.0</td>\n",
              "      <td>3008</td>\n",
              "      <td>1</td>\n",
              "      <td>457</td>\n",
              "      <td>37</td>\n",
              "      <td>0.421</td>\n",
              "      <td>76.6</td>\n",
              "      <td>0.7</td>\n",
              "      <td>0.7</td>\n",
              "      <td>99.035</td>\n",
              "      <td>0.086</td>\n",
              "      <td>0.007</td>\n",
              "      <td>0.091</td>\n",
              "      <td>Asiático</td>\n",
              "      <td>Masculino</td>\n",
              "      <td>Oculos_comum</td>\n",
              "      <td>77.536</td>\n",
              "      <td>asiatico_leste</td>\n",
              "      <td>420</td>\n",
              "      <td>67.662</td>\n",
              "    </tr>\n",
              "    <tr>\n",
              "      <th>13</th>\n",
              "      <td>1.0</td>\n",
              "      <td>3010</td>\n",
              "      <td>1</td>\n",
              "      <td>1827</td>\n",
              "      <td>37</td>\n",
              "      <td>64.262</td>\n",
              "      <td>8.2</td>\n",
              "      <td>8.2</td>\n",
              "      <td>8.2</td>\n",
              "      <td>9.585</td>\n",
              "      <td>63.067</td>\n",
              "      <td>0.103</td>\n",
              "      <td>26.998</td>\n",
              "      <td>Branco</td>\n",
              "      <td>Masculino</td>\n",
              "      <td>Oculos_comum</td>\n",
              "      <td>63.774</td>\n",
              "      <td>hispanico</td>\n",
              "      <td>319</td>\n",
              "      <td>0.006</td>\n",
              "    </tr>\n",
              "    <tr>\n",
              "      <th>21</th>\n",
              "      <td>1.0</td>\n",
              "      <td>3012</td>\n",
              "      <td>1</td>\n",
              "      <td>243</td>\n",
              "      <td>31</td>\n",
              "      <td>2.125</td>\n",
              "      <td>0.7</td>\n",
              "      <td>17.5</td>\n",
              "      <td>5.7</td>\n",
              "      <td>73.232</td>\n",
              "      <td>14.742</td>\n",
              "      <td>0.007</td>\n",
              "      <td>11.779</td>\n",
              "      <td>Branco</td>\n",
              "      <td>Masculino</td>\n",
              "      <td>Oculos_comum</td>\n",
              "      <td>6.671</td>\n",
              "      <td>ingles</td>\n",
              "      <td>332</td>\n",
              "      <td>55.399</td>\n",
              "    </tr>\n",
              "    <tr>\n",
              "      <th>23</th>\n",
              "      <td>1.0</td>\n",
              "      <td>3013</td>\n",
              "      <td>1</td>\n",
              "      <td>3925</td>\n",
              "      <td>42</td>\n",
              "      <td>0.354</td>\n",
              "      <td>0.0</td>\n",
              "      <td>0.0</td>\n",
              "      <td>0.0</td>\n",
              "      <td>100.000</td>\n",
              "      <td>0.000</td>\n",
              "      <td>0.000</td>\n",
              "      <td>0.000</td>\n",
              "      <td>Branco</td>\n",
              "      <td>Feminino</td>\n",
              "      <td>Nenhum</td>\n",
              "      <td>97.428</td>\n",
              "      <td>hispanico</td>\n",
              "      <td>784</td>\n",
              "      <td>94.145</td>\n",
              "    </tr>\n",
              "    <tr>\n",
              "      <th>27</th>\n",
              "      <td>1.0</td>\n",
              "      <td>3014</td>\n",
              "      <td>1</td>\n",
              "      <td>699</td>\n",
              "      <td>51</td>\n",
              "      <td>0.317</td>\n",
              "      <td>1.5</td>\n",
              "      <td>34.7</td>\n",
              "      <td>29.4</td>\n",
              "      <td>98.661</td>\n",
              "      <td>0.086</td>\n",
              "      <td>0.015</td>\n",
              "      <td>0.582</td>\n",
              "      <td>Branco</td>\n",
              "      <td>Feminino</td>\n",
              "      <td>Nenhum</td>\n",
              "      <td>98.941</td>\n",
              "      <td>ingles</td>\n",
              "      <td>1607</td>\n",
              "      <td>59.917</td>\n",
              "    </tr>\n",
              "  </tbody>\n",
              "</table>\n",
              "</div>"
            ],
            "text/plain": [
              "    tempo_cargo_anterior  id_usuario  ...  seguidores  qualidade_imagem\n",
              "0                    2.0        3008  ...         420            67.662\n",
              "13                   1.0        3010  ...         319             0.006\n",
              "21                   1.0        3012  ...         332            55.399\n",
              "23                   1.0        3013  ...         784            94.145\n",
              "27                   1.0        3014  ...        1607            59.917\n",
              "\n",
              "[5 rows x 20 columns]"
            ]
          },
          "metadata": {},
          "execution_count": 56
        }
      ]
    },
    {
      "cell_type": "markdown",
      "metadata": {
        "id": "ZTv8RhcoZt-4"
      },
      "source": [
        "#Resetando Index\n"
      ]
    },
    {
      "cell_type": "code",
      "metadata": {
        "id": "rVEFrUqRZyh6"
      },
      "source": [
        "df2 = df2.reset_index(drop=True)"
      ],
      "execution_count": null,
      "outputs": []
    },
    {
      "cell_type": "code",
      "metadata": {
        "id": "aFz-ICVWasPB",
        "colab": {
          "base_uri": "https://localhost:8080/",
          "height": 224
        },
        "outputId": "13796e97-429e-4524-8045-d4bce8d52178"
      },
      "source": [
        "df2.tail()"
      ],
      "execution_count": null,
      "outputs": [
        {
          "output_type": "execute_result",
          "data": {
            "text/html": [
              "<div>\n",
              "<style scoped>\n",
              "    .dataframe tbody tr th:only-of-type {\n",
              "        vertical-align: middle;\n",
              "    }\n",
              "\n",
              "    .dataframe tbody tr th {\n",
              "        vertical-align: top;\n",
              "    }\n",
              "\n",
              "    .dataframe thead th {\n",
              "        text-align: right;\n",
              "    }\n",
              "</style>\n",
              "<table border=\"1\" class=\"dataframe\">\n",
              "  <thead>\n",
              "    <tr style=\"text-align: right;\">\n",
              "      <th></th>\n",
              "      <th>tempo_cargo_anterior</th>\n",
              "      <th>id_usuario</th>\n",
              "      <th>promocoes</th>\n",
              "      <th>dias_cargo_anterior</th>\n",
              "      <th>idade</th>\n",
              "      <th>desfoque</th>\n",
              "      <th>raiva</th>\n",
              "      <th>desgosto</th>\n",
              "      <th>medo</th>\n",
              "      <th>felicidade</th>\n",
              "      <th>neutro</th>\n",
              "      <th>triste</th>\n",
              "      <th>surpresa</th>\n",
              "      <th>etnia</th>\n",
              "      <th>genero</th>\n",
              "      <th>oculos</th>\n",
              "      <th>sorriso</th>\n",
              "      <th>nacionalidade</th>\n",
              "      <th>seguidores</th>\n",
              "      <th>qualidade_imagem</th>\n",
              "    </tr>\n",
              "  </thead>\n",
              "  <tbody>\n",
              "    <tr>\n",
              "      <th>11836</th>\n",
              "      <td>1.0</td>\n",
              "      <td>15253</td>\n",
              "      <td>1</td>\n",
              "      <td>62</td>\n",
              "      <td>39</td>\n",
              "      <td>0.814</td>\n",
              "      <td>0.0</td>\n",
              "      <td>0.7</td>\n",
              "      <td>0.1</td>\n",
              "      <td>99.985</td>\n",
              "      <td>0.002</td>\n",
              "      <td>0.003</td>\n",
              "      <td>0.000</td>\n",
              "      <td>Branco</td>\n",
              "      <td>Masculino</td>\n",
              "      <td>Oculos_comum</td>\n",
              "      <td>98.059</td>\n",
              "      <td>asiatico_sul</td>\n",
              "      <td>1204</td>\n",
              "      <td>88.130</td>\n",
              "    </tr>\n",
              "    <tr>\n",
              "      <th>11837</th>\n",
              "      <td>1.0</td>\n",
              "      <td>15254</td>\n",
              "      <td>1</td>\n",
              "      <td>1916</td>\n",
              "      <td>44</td>\n",
              "      <td>0.360</td>\n",
              "      <td>0.1</td>\n",
              "      <td>0.1</td>\n",
              "      <td>40.3</td>\n",
              "      <td>99.381</td>\n",
              "      <td>0.001</td>\n",
              "      <td>0.200</td>\n",
              "      <td>0.012</td>\n",
              "      <td>Branco</td>\n",
              "      <td>Masculino</td>\n",
              "      <td>Nenhum</td>\n",
              "      <td>82.463</td>\n",
              "      <td>nordico</td>\n",
              "      <td>910</td>\n",
              "      <td>91.300</td>\n",
              "    </tr>\n",
              "    <tr>\n",
              "      <th>11838</th>\n",
              "      <td>1.0</td>\n",
              "      <td>15255</td>\n",
              "      <td>1</td>\n",
              "      <td>90</td>\n",
              "      <td>44</td>\n",
              "      <td>19.594</td>\n",
              "      <td>0.0</td>\n",
              "      <td>0.0</td>\n",
              "      <td>0.0</td>\n",
              "      <td>100.000</td>\n",
              "      <td>0.000</td>\n",
              "      <td>0.000</td>\n",
              "      <td>0.000</td>\n",
              "      <td>Branco</td>\n",
              "      <td>Masculino</td>\n",
              "      <td>Oculos_comum</td>\n",
              "      <td>98.991</td>\n",
              "      <td>asiatico_sul</td>\n",
              "      <td>559</td>\n",
              "      <td>77.526</td>\n",
              "    </tr>\n",
              "    <tr>\n",
              "      <th>11839</th>\n",
              "      <td>2.0</td>\n",
              "      <td>15256</td>\n",
              "      <td>1</td>\n",
              "      <td>3408</td>\n",
              "      <td>38</td>\n",
              "      <td>0.132</td>\n",
              "      <td>0.0</td>\n",
              "      <td>0.1</td>\n",
              "      <td>0.2</td>\n",
              "      <td>99.992</td>\n",
              "      <td>0.005</td>\n",
              "      <td>0.000</td>\n",
              "      <td>0.000</td>\n",
              "      <td>Branco</td>\n",
              "      <td>Masculino</td>\n",
              "      <td>Oculos_comum</td>\n",
              "      <td>96.044</td>\n",
              "      <td>ingles</td>\n",
              "      <td>725</td>\n",
              "      <td>94.078</td>\n",
              "    </tr>\n",
              "    <tr>\n",
              "      <th>11840</th>\n",
              "      <td>1.0</td>\n",
              "      <td>15257</td>\n",
              "      <td>1</td>\n",
              "      <td>120</td>\n",
              "      <td>60</td>\n",
              "      <td>1.403</td>\n",
              "      <td>0.0</td>\n",
              "      <td>0.1</td>\n",
              "      <td>0.0</td>\n",
              "      <td>99.999</td>\n",
              "      <td>0.000</td>\n",
              "      <td>0.000</td>\n",
              "      <td>0.000</td>\n",
              "      <td>Branco</td>\n",
              "      <td>Masculino</td>\n",
              "      <td>Nenhum</td>\n",
              "      <td>95.029</td>\n",
              "      <td>hispanico</td>\n",
              "      <td>279</td>\n",
              "      <td>81.883</td>\n",
              "    </tr>\n",
              "  </tbody>\n",
              "</table>\n",
              "</div>"
            ],
            "text/plain": [
              "       tempo_cargo_anterior  id_usuario  ...  seguidores  qualidade_imagem\n",
              "11836                   1.0       15253  ...        1204            88.130\n",
              "11837                   1.0       15254  ...         910            91.300\n",
              "11838                   1.0       15255  ...         559            77.526\n",
              "11839                   2.0       15256  ...         725            94.078\n",
              "11840                   1.0       15257  ...         279            81.883\n",
              "\n",
              "[5 rows x 20 columns]"
            ]
          },
          "metadata": {},
          "execution_count": 58
        }
      ]
    },
    {
      "cell_type": "markdown",
      "metadata": {
        "id": "3zp0vrcu3S2d"
      },
      "source": [
        "#Validando Schema"
      ]
    },
    {
      "cell_type": "code",
      "metadata": {
        "id": "GI1B-WbN0i-B"
      },
      "source": [
        "schema = pa.DataFrameSchema(\n",
        "    columns = {\n",
        "        \"tempo_cargo_anterior\":pa.Column(pa.Float),\n",
        "        \"id_usuario\":pa.Column(pa.Int),\n",
        "        \"promocoes\":pa.Column(pa.Int),\n",
        "        \"dias_cargo_anterior\":pa.Column(pa.Int),\n",
        "        \"idade\":pa.Column(pa.Int),\n",
        "        \"desfoque\":pa.Column(pa.Float),\n",
        "        \"raiva\":pa.Column(pa.Float),\n",
        "        \"desgosto\":pa.Column(pa.Float),\n",
        "        \"medo\":pa.Column(pa.Float),\n",
        "        \"felicidade\":pa.Column(pa.Float),\n",
        "        \"neutro\":pa.Column(pa.Float),\n",
        "        \"triste\":pa.Column(pa.Float),\n",
        "        \"surpresa\":pa.Column(pa.Float),\n",
        "        \"etnia\":pa.Column(pa.String),\n",
        "        \"genero\":pa.Column(pa.String),\n",
        "        \"oculos\":pa.Column(pa.String),\n",
        "        \"sorriso\":pa.Column(pa.Float),\n",
        "        \"nacionalidade\":pa.Column(pa.String),\n",
        "        \"seguidores\":pa.Column(pa.Int),\n",
        "        \"qualidade_imagem\":pa.Column(pa.Float),\n",
        "    }\n",
        ")\n"
      ],
      "execution_count": null,
      "outputs": []
    },
    {
      "cell_type": "code",
      "metadata": {
        "colab": {
          "base_uri": "https://localhost:8080/",
          "height": 439
        },
        "id": "hb9HlAQ-2OJ0",
        "outputId": "ac09bdef-9818-4c86-8a5c-9f3496f5226f"
      },
      "source": [
        "schema.validate(df2)"
      ],
      "execution_count": null,
      "outputs": [
        {
          "output_type": "execute_result",
          "data": {
            "text/html": [
              "<div>\n",
              "<style scoped>\n",
              "    .dataframe tbody tr th:only-of-type {\n",
              "        vertical-align: middle;\n",
              "    }\n",
              "\n",
              "    .dataframe tbody tr th {\n",
              "        vertical-align: top;\n",
              "    }\n",
              "\n",
              "    .dataframe thead th {\n",
              "        text-align: right;\n",
              "    }\n",
              "</style>\n",
              "<table border=\"1\" class=\"dataframe\">\n",
              "  <thead>\n",
              "    <tr style=\"text-align: right;\">\n",
              "      <th></th>\n",
              "      <th>tempo_cargo_anterior</th>\n",
              "      <th>id_usuario</th>\n",
              "      <th>promocoes</th>\n",
              "      <th>dias_cargo_anterior</th>\n",
              "      <th>idade</th>\n",
              "      <th>desfoque</th>\n",
              "      <th>raiva</th>\n",
              "      <th>desgosto</th>\n",
              "      <th>medo</th>\n",
              "      <th>felicidade</th>\n",
              "      <th>neutro</th>\n",
              "      <th>triste</th>\n",
              "      <th>surpresa</th>\n",
              "      <th>etnia</th>\n",
              "      <th>genero</th>\n",
              "      <th>oculos</th>\n",
              "      <th>sorriso</th>\n",
              "      <th>nacionalidade</th>\n",
              "      <th>seguidores</th>\n",
              "      <th>qualidade_imagem</th>\n",
              "    </tr>\n",
              "  </thead>\n",
              "  <tbody>\n",
              "    <tr>\n",
              "      <th>0</th>\n",
              "      <td>2.0</td>\n",
              "      <td>3008</td>\n",
              "      <td>1</td>\n",
              "      <td>457</td>\n",
              "      <td>37</td>\n",
              "      <td>0.421</td>\n",
              "      <td>76.6</td>\n",
              "      <td>0.7</td>\n",
              "      <td>0.7</td>\n",
              "      <td>99.035</td>\n",
              "      <td>0.086</td>\n",
              "      <td>0.007</td>\n",
              "      <td>0.091</td>\n",
              "      <td>Asiático</td>\n",
              "      <td>Masculino</td>\n",
              "      <td>Oculos_comum</td>\n",
              "      <td>77.536</td>\n",
              "      <td>asiatico_leste</td>\n",
              "      <td>420</td>\n",
              "      <td>67.662</td>\n",
              "    </tr>\n",
              "    <tr>\n",
              "      <th>1</th>\n",
              "      <td>1.0</td>\n",
              "      <td>3010</td>\n",
              "      <td>1</td>\n",
              "      <td>1827</td>\n",
              "      <td>37</td>\n",
              "      <td>64.262</td>\n",
              "      <td>8.2</td>\n",
              "      <td>8.2</td>\n",
              "      <td>8.2</td>\n",
              "      <td>9.585</td>\n",
              "      <td>63.067</td>\n",
              "      <td>0.103</td>\n",
              "      <td>26.998</td>\n",
              "      <td>Branco</td>\n",
              "      <td>Masculino</td>\n",
              "      <td>Oculos_comum</td>\n",
              "      <td>63.774</td>\n",
              "      <td>hispanico</td>\n",
              "      <td>319</td>\n",
              "      <td>0.006</td>\n",
              "    </tr>\n",
              "    <tr>\n",
              "      <th>2</th>\n",
              "      <td>1.0</td>\n",
              "      <td>3012</td>\n",
              "      <td>1</td>\n",
              "      <td>243</td>\n",
              "      <td>31</td>\n",
              "      <td>2.125</td>\n",
              "      <td>0.7</td>\n",
              "      <td>17.5</td>\n",
              "      <td>5.7</td>\n",
              "      <td>73.232</td>\n",
              "      <td>14.742</td>\n",
              "      <td>0.007</td>\n",
              "      <td>11.779</td>\n",
              "      <td>Branco</td>\n",
              "      <td>Masculino</td>\n",
              "      <td>Oculos_comum</td>\n",
              "      <td>6.671</td>\n",
              "      <td>ingles</td>\n",
              "      <td>332</td>\n",
              "      <td>55.399</td>\n",
              "    </tr>\n",
              "    <tr>\n",
              "      <th>3</th>\n",
              "      <td>1.0</td>\n",
              "      <td>3013</td>\n",
              "      <td>1</td>\n",
              "      <td>3925</td>\n",
              "      <td>42</td>\n",
              "      <td>0.354</td>\n",
              "      <td>0.0</td>\n",
              "      <td>0.0</td>\n",
              "      <td>0.0</td>\n",
              "      <td>100.000</td>\n",
              "      <td>0.000</td>\n",
              "      <td>0.000</td>\n",
              "      <td>0.000</td>\n",
              "      <td>Branco</td>\n",
              "      <td>Feminino</td>\n",
              "      <td>Nenhum</td>\n",
              "      <td>97.428</td>\n",
              "      <td>hispanico</td>\n",
              "      <td>784</td>\n",
              "      <td>94.145</td>\n",
              "    </tr>\n",
              "    <tr>\n",
              "      <th>4</th>\n",
              "      <td>1.0</td>\n",
              "      <td>3014</td>\n",
              "      <td>1</td>\n",
              "      <td>699</td>\n",
              "      <td>51</td>\n",
              "      <td>0.317</td>\n",
              "      <td>1.5</td>\n",
              "      <td>34.7</td>\n",
              "      <td>29.4</td>\n",
              "      <td>98.661</td>\n",
              "      <td>0.086</td>\n",
              "      <td>0.015</td>\n",
              "      <td>0.582</td>\n",
              "      <td>Branco</td>\n",
              "      <td>Feminino</td>\n",
              "      <td>Nenhum</td>\n",
              "      <td>98.941</td>\n",
              "      <td>ingles</td>\n",
              "      <td>1607</td>\n",
              "      <td>59.917</td>\n",
              "    </tr>\n",
              "    <tr>\n",
              "      <th>...</th>\n",
              "      <td>...</td>\n",
              "      <td>...</td>\n",
              "      <td>...</td>\n",
              "      <td>...</td>\n",
              "      <td>...</td>\n",
              "      <td>...</td>\n",
              "      <td>...</td>\n",
              "      <td>...</td>\n",
              "      <td>...</td>\n",
              "      <td>...</td>\n",
              "      <td>...</td>\n",
              "      <td>...</td>\n",
              "      <td>...</td>\n",
              "      <td>...</td>\n",
              "      <td>...</td>\n",
              "      <td>...</td>\n",
              "      <td>...</td>\n",
              "      <td>...</td>\n",
              "      <td>...</td>\n",
              "      <td>...</td>\n",
              "    </tr>\n",
              "    <tr>\n",
              "      <th>11836</th>\n",
              "      <td>1.0</td>\n",
              "      <td>15253</td>\n",
              "      <td>1</td>\n",
              "      <td>62</td>\n",
              "      <td>39</td>\n",
              "      <td>0.814</td>\n",
              "      <td>0.0</td>\n",
              "      <td>0.7</td>\n",
              "      <td>0.1</td>\n",
              "      <td>99.985</td>\n",
              "      <td>0.002</td>\n",
              "      <td>0.003</td>\n",
              "      <td>0.000</td>\n",
              "      <td>Branco</td>\n",
              "      <td>Masculino</td>\n",
              "      <td>Oculos_comum</td>\n",
              "      <td>98.059</td>\n",
              "      <td>asiatico_sul</td>\n",
              "      <td>1204</td>\n",
              "      <td>88.130</td>\n",
              "    </tr>\n",
              "    <tr>\n",
              "      <th>11837</th>\n",
              "      <td>1.0</td>\n",
              "      <td>15254</td>\n",
              "      <td>1</td>\n",
              "      <td>1916</td>\n",
              "      <td>44</td>\n",
              "      <td>0.360</td>\n",
              "      <td>0.1</td>\n",
              "      <td>0.1</td>\n",
              "      <td>40.3</td>\n",
              "      <td>99.381</td>\n",
              "      <td>0.001</td>\n",
              "      <td>0.200</td>\n",
              "      <td>0.012</td>\n",
              "      <td>Branco</td>\n",
              "      <td>Masculino</td>\n",
              "      <td>Nenhum</td>\n",
              "      <td>82.463</td>\n",
              "      <td>nordico</td>\n",
              "      <td>910</td>\n",
              "      <td>91.300</td>\n",
              "    </tr>\n",
              "    <tr>\n",
              "      <th>11838</th>\n",
              "      <td>1.0</td>\n",
              "      <td>15255</td>\n",
              "      <td>1</td>\n",
              "      <td>90</td>\n",
              "      <td>44</td>\n",
              "      <td>19.594</td>\n",
              "      <td>0.0</td>\n",
              "      <td>0.0</td>\n",
              "      <td>0.0</td>\n",
              "      <td>100.000</td>\n",
              "      <td>0.000</td>\n",
              "      <td>0.000</td>\n",
              "      <td>0.000</td>\n",
              "      <td>Branco</td>\n",
              "      <td>Masculino</td>\n",
              "      <td>Oculos_comum</td>\n",
              "      <td>98.991</td>\n",
              "      <td>asiatico_sul</td>\n",
              "      <td>559</td>\n",
              "      <td>77.526</td>\n",
              "    </tr>\n",
              "    <tr>\n",
              "      <th>11839</th>\n",
              "      <td>2.0</td>\n",
              "      <td>15256</td>\n",
              "      <td>1</td>\n",
              "      <td>3408</td>\n",
              "      <td>38</td>\n",
              "      <td>0.132</td>\n",
              "      <td>0.0</td>\n",
              "      <td>0.1</td>\n",
              "      <td>0.2</td>\n",
              "      <td>99.992</td>\n",
              "      <td>0.005</td>\n",
              "      <td>0.000</td>\n",
              "      <td>0.000</td>\n",
              "      <td>Branco</td>\n",
              "      <td>Masculino</td>\n",
              "      <td>Oculos_comum</td>\n",
              "      <td>96.044</td>\n",
              "      <td>ingles</td>\n",
              "      <td>725</td>\n",
              "      <td>94.078</td>\n",
              "    </tr>\n",
              "    <tr>\n",
              "      <th>11840</th>\n",
              "      <td>1.0</td>\n",
              "      <td>15257</td>\n",
              "      <td>1</td>\n",
              "      <td>120</td>\n",
              "      <td>60</td>\n",
              "      <td>1.403</td>\n",
              "      <td>0.0</td>\n",
              "      <td>0.1</td>\n",
              "      <td>0.0</td>\n",
              "      <td>99.999</td>\n",
              "      <td>0.000</td>\n",
              "      <td>0.000</td>\n",
              "      <td>0.000</td>\n",
              "      <td>Branco</td>\n",
              "      <td>Masculino</td>\n",
              "      <td>Nenhum</td>\n",
              "      <td>95.029</td>\n",
              "      <td>hispanico</td>\n",
              "      <td>279</td>\n",
              "      <td>81.883</td>\n",
              "    </tr>\n",
              "  </tbody>\n",
              "</table>\n",
              "<p>11841 rows × 20 columns</p>\n",
              "</div>"
            ],
            "text/plain": [
              "       tempo_cargo_anterior  id_usuario  ...  seguidores  qualidade_imagem\n",
              "0                       2.0        3008  ...         420            67.662\n",
              "1                       1.0        3010  ...         319             0.006\n",
              "2                       1.0        3012  ...         332            55.399\n",
              "3                       1.0        3013  ...         784            94.145\n",
              "4                       1.0        3014  ...        1607            59.917\n",
              "...                     ...         ...  ...         ...               ...\n",
              "11836                   1.0       15253  ...        1204            88.130\n",
              "11837                   1.0       15254  ...         910            91.300\n",
              "11838                   1.0       15255  ...         559            77.526\n",
              "11839                   2.0       15256  ...         725            94.078\n",
              "11840                   1.0       15257  ...         279            81.883\n",
              "\n",
              "[11841 rows x 20 columns]"
            ]
          },
          "metadata": {},
          "execution_count": 60
        }
      ]
    },
    {
      "cell_type": "markdown",
      "metadata": {
        "id": "l8MgV98Jg4dN"
      },
      "source": [
        "#Exportando DataFrame para o GCP"
      ]
    },
    {
      "cell_type": "code",
      "metadata": {
        "id": "zBOOAQXecZVl"
      },
      "source": [
        "from google.cloud import storage\n",
        "import os\n",
        "serviceAccount = '/content/projetofinalgrupo8-2dcd866c3f46.json'\n",
        "os.environ['GOOGLE_APPLICATION_CREDENTIALS'] = serviceAccount\n",
        "\n",
        "\n",
        "client = storage.Client()\n",
        "bucket = client.get_bucket('projetofinalgrupo8')\n",
        "    \n",
        "bucket.blob('saida/linkedin_tratado_pandas.csv').upload_from_string(df2.to_csv(index=False), 'text/csv')"
      ],
      "execution_count": null,
      "outputs": []
    }
  ]
}