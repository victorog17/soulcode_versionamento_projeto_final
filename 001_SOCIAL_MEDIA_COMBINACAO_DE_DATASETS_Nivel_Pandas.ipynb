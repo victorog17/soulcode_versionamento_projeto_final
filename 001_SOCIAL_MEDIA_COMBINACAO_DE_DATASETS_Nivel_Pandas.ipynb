{
  "nbformat": 4,
  "nbformat_minor": 0,
  "metadata": {
    "colab": {
      "name": "001_SOCIAL_MEDIA_COMBINACAO_DE_DATASETS_Nivel_Pandas",
      "provenance": [],
      "collapsed_sections": [
        "tW-Oh_4imalW",
        "hXZpHB0vmsSc",
        "Rr2_fmGNsjas",
        "gapHICLxgs21"
      ]
    },
    "kernelspec": {
      "name": "python3",
      "display_name": "Python 3"
    },
    "language_info": {
      "name": "python"
    }
  },
  "cells": [
    {
      "cell_type": "markdown",
      "metadata": {
        "id": "tW-Oh_4imalW"
      },
      "source": [
        "#Importações"
      ]
    },
    {
      "cell_type": "markdown",
      "metadata": {
        "id": "3fOWX5rOKTnA"
      },
      "source": [
        "**BIBLIOTECAS**"
      ]
    },
    {
      "cell_type": "code",
      "metadata": {
        "id": "xFY6sl5XPU14"
      },
      "source": [
        "pip install fsspec"
      ],
      "execution_count": null,
      "outputs": []
    },
    {
      "cell_type": "code",
      "metadata": {
        "id": "ikHOESzoPdH0"
      },
      "source": [
        "pip install gcsfs"
      ],
      "execution_count": null,
      "outputs": []
    },
    {
      "cell_type": "code",
      "metadata": {
        "id": "KCj1oyoVJ9ch"
      },
      "source": [
        "import pandas as pd"
      ],
      "execution_count": null,
      "outputs": []
    },
    {
      "cell_type": "markdown",
      "metadata": {
        "id": "zC6ZcV8uKXHe"
      },
      "source": [
        "**CARREGANDO DATAFRAME PAISES** \n",
        "DATASETS EXTRAÍDOS DO KAGGLE NO DIA 17/11/2021"
      ]
    },
    {
      "cell_type": "code",
      "metadata": {
        "id": "ZCqh_Y1qKFwg"
      },
      "source": [
        "dados_br_csv = pd.read_csv('gs://projetofinalgrupo8/entrada/BR_youtube_trending_data.csv')\n",
        "dados_ca_csv = pd.read_csv('gs://projetofinalgrupo8/entrada/CA_youtube_trending_data.csv')\n",
        "dados_de_csv = pd.read_csv('gs://projetofinalgrupo8/entrada/DE_youtube_trending_data.csv')\n",
        "dados_fr_csv = pd.read_csv('gs://projetofinalgrupo8/entrada/FR_youtube_trending_data.csv')\n",
        "dados_gb_csv = pd.read_csv('gs://projetofinalgrupo8/entrada/GB_youtube_trending_data.csv')\n",
        "dados_in_csv = pd.read_csv('gs://projetofinalgrupo8/entrada/IN_youtube_trending_data.csv')\n",
        "dados_jp_csv = pd.read_csv('gs://projetofinalgrupo8/entrada/JP_youtube_trending_data.csv')\n",
        "dados_kr_csv = pd.read_csv('gs://projetofinalgrupo8/entrada/KR_youtube_trending_data.csv')\n",
        "dados_mx_csv = pd.read_csv('gs://projetofinalgrupo8/entrada/MX_youtube_trending_data.csv')\n",
        "dados_us_csv = pd.read_csv('gs://projetofinalgrupo8/entrada/US_youtube_trending_data.csv')\n",
        "dados_ru_csv = pd.read_csv('gs://projetofinalgrupo8/entrada/RU_youtube_trending_data.csv')"
      ],
      "execution_count": null,
      "outputs": []
    },
    {
      "cell_type": "code",
      "metadata": {
        "id": "1-gnVrxlQdGy",
        "colab": {
          "base_uri": "https://localhost:8080/"
        },
        "outputId": "1826b9f0-abbd-4162-c17a-cb4d55e5a7e4"
      },
      "source": [
        "dados_br_csv.shape"
      ],
      "execution_count": null,
      "outputs": [
        {
          "output_type": "execute_result",
          "data": {
            "text/plain": [
              "(93793, 16)"
            ]
          },
          "metadata": {},
          "execution_count": 11
        }
      ]
    },
    {
      "cell_type": "markdown",
      "metadata": {
        "id": "hXZpHB0vmsSc"
      },
      "source": [
        "#Criação de colunas, exploração e união dos Datasets"
      ]
    },
    {
      "cell_type": "markdown",
      "metadata": {
        "id": "Q_mz6vtRLK3s"
      },
      "source": [
        "**ADICIONANDO COLUNA COM ABREVIAÇÃO DO PAÍS**"
      ]
    },
    {
      "cell_type": "code",
      "metadata": {
        "id": "GsEZ6EF-Kkd9"
      },
      "source": [
        "dados_br_csv['country'] = 'BR'\n",
        "dados_ca_csv['country'] = 'CA'\n",
        "dados_de_csv['country'] = 'DE'\n",
        "dados_fr_csv['country'] = 'FR'\n",
        "dados_gb_csv['country'] = 'GB'\n",
        "dados_in_csv['country'] = 'IN'\n",
        "dados_jp_csv['country'] = 'JP'\n",
        "dados_kr_csv['country'] = 'KR'\n",
        "dados_mx_csv['country'] = 'MX'\n",
        "dados_us_csv['country'] = 'US'\n",
        "dados_ru_csv['country'] = 'RU'"
      ],
      "execution_count": null,
      "outputs": []
    },
    {
      "cell_type": "markdown",
      "metadata": {
        "id": "AhfWmDXaOva0"
      },
      "source": [
        "**VERIFICANDO DIMENSÃO DE CADA PAÍS**"
      ]
    },
    {
      "cell_type": "code",
      "metadata": {
        "id": "NYR71XQjLR1s",
        "colab": {
          "base_uri": "https://localhost:8080/"
        },
        "outputId": "62d7e750-9cfe-4601-df08-c8442fd4d13d"
      },
      "source": [
        "print(f' BR: {dados_br_csv.shape},\\n CA: {dados_ca_csv.shape},\\n DE: {dados_de_csv.shape},\\n FR: {dados_fr_csv.shape},\\n GB: {dados_gb_csv.shape},\\n IN: {dados_in_csv.shape},\\n JP: {dados_jp_csv.shape},\\n KR: {dados_kr_csv.shape},\\n MX: {dados_mx_csv.shape},\\n US: {dados_us_csv.shape},\\n RU: {dados_ru_csv.shape}')"
      ],
      "execution_count": null,
      "outputs": [
        {
          "output_type": "stream",
          "name": "stdout",
          "text": [
            " BR: (93793, 17),\n",
            " CA: (93744, 17),\n",
            " DE: (93743, 17),\n",
            " FR: (93791, 17),\n",
            " GB: (93795, 17),\n",
            " IN: (88182, 17),\n",
            " JP: (93789, 17),\n",
            " KR: (90754, 17),\n",
            " MX: (93599, 17),\n",
            " US: (93791, 17),\n",
            " RU: (92641, 17)\n"
          ]
        }
      ]
    },
    {
      "cell_type": "markdown",
      "metadata": {
        "id": "NkJ_RdFbO7u3"
      },
      "source": [
        "**CONCATENANDO DADOS WORLD**"
      ]
    },
    {
      "cell_type": "code",
      "metadata": {
        "id": "SogJx3xSOA1e"
      },
      "source": [
        "dataframes = [dados_br_csv, dados_ca_csv, dados_de_csv, dados_fr_csv, dados_gb_csv, dados_in_csv, dados_jp_csv, \n",
        "              dados_kr_csv, dados_mx_csv, dados_us_csv, dados_ru_csv]\n",
        "dados_world_csv = pd.concat(dataframes)"
      ],
      "execution_count": null,
      "outputs": []
    },
    {
      "cell_type": "markdown",
      "metadata": {
        "id": "JXVCWku3PCCa"
      },
      "source": [
        "**VERIFICANDO DADOS WORLD**"
      ]
    },
    {
      "cell_type": "code",
      "metadata": {
        "colab": {
          "base_uri": "https://localhost:8080/"
        },
        "id": "19lIPeyjLegE",
        "outputId": "f4d90ad9-3002-4e37-934c-414abba817bd"
      },
      "source": [
        "dados_world_csv.shape"
      ],
      "execution_count": null,
      "outputs": [
        {
          "output_type": "execute_result",
          "data": {
            "text/plain": [
              "(1021622, 17)"
            ]
          },
          "metadata": {},
          "execution_count": 29
        }
      ]
    },
    {
      "cell_type": "markdown",
      "metadata": {
        "id": "kfOYIhu5SOPC"
      },
      "source": [
        "**CARREGANDO JSON COMPLEMENTAR DE PARA DADOS WORLD**"
      ]
    },
    {
      "cell_type": "code",
      "metadata": {
        "id": "8Cb8GXtJSAtz"
      },
      "source": [
        "dados_json = pd.read_json('gs://projetofinalgrupo8/entrada/BR_category_id.json')"
      ],
      "execution_count": null,
      "outputs": []
    },
    {
      "cell_type": "markdown",
      "metadata": {
        "id": "wysAtcEVScQ7"
      },
      "source": [
        "**EXPLORANDO JSON**"
      ]
    },
    {
      "cell_type": "code",
      "metadata": {
        "colab": {
          "base_uri": "https://localhost:8080/",
          "height": 81
        },
        "id": "k7FIybA8SUDq",
        "outputId": "b30e2472-7782-40b9-c7f0-e9870067413f"
      },
      "source": [
        "dados_json.sample()"
      ],
      "execution_count": null,
      "outputs": [
        {
          "output_type": "execute_result",
          "data": {
            "text/html": [
              "<div>\n",
              "<style scoped>\n",
              "    .dataframe tbody tr th:only-of-type {\n",
              "        vertical-align: middle;\n",
              "    }\n",
              "\n",
              "    .dataframe tbody tr th {\n",
              "        vertical-align: top;\n",
              "    }\n",
              "\n",
              "    .dataframe thead th {\n",
              "        text-align: right;\n",
              "    }\n",
              "</style>\n",
              "<table border=\"1\" class=\"dataframe\">\n",
              "  <thead>\n",
              "    <tr style=\"text-align: right;\">\n",
              "      <th></th>\n",
              "      <th>kind</th>\n",
              "      <th>etag</th>\n",
              "      <th>items</th>\n",
              "    </tr>\n",
              "  </thead>\n",
              "  <tbody>\n",
              "    <tr>\n",
              "      <th>14</th>\n",
              "      <td>youtube#videoCategoryListResponse</td>\n",
              "      <td>kBCr3I9kLHHU79W4Ip5196LDptI</td>\n",
              "      <td>{'kind': 'youtube#videoCategory', 'etag': 'hHU...</td>\n",
              "    </tr>\n",
              "  </tbody>\n",
              "</table>\n",
              "</div>"
            ],
            "text/plain": [
              "                                 kind  ...                                              items\n",
              "14  youtube#videoCategoryListResponse  ...  {'kind': 'youtube#videoCategory', 'etag': 'hHU...\n",
              "\n",
              "[1 rows x 3 columns]"
            ]
          },
          "metadata": {},
          "execution_count": 31
        }
      ]
    },
    {
      "cell_type": "code",
      "metadata": {
        "colab": {
          "base_uri": "https://localhost:8080/"
        },
        "id": "Ll0hElilSaVx",
        "outputId": "4a65d365-0789-48fa-faa8-e59a53b64d9d"
      },
      "source": [
        "dados_json['items'][0]"
      ],
      "execution_count": null,
      "outputs": [
        {
          "output_type": "execute_result",
          "data": {
            "text/plain": [
              "{'etag': 'IfWa37JGcqZs-jZeAyFGkbeh6bc',\n",
              " 'id': '1',\n",
              " 'kind': 'youtube#videoCategory',\n",
              " 'snippet': {'assignable': True,\n",
              "  'channelId': 'UCBR8-60-B28hp2BmDPdntcQ',\n",
              "  'title': 'Film & Animation'}}"
            ]
          },
          "metadata": {},
          "execution_count": 13
        }
      ]
    },
    {
      "cell_type": "markdown",
      "metadata": {
        "id": "d0qXiEMiSvH7"
      },
      "source": [
        "**DESCOMPRIMINDO JSON**"
      ]
    },
    {
      "cell_type": "code",
      "metadata": {
        "id": "OnKj-yfmSiRA"
      },
      "source": [
        "new_dados = []\n",
        "\n",
        "for i in range(len(dados_json['items'])):\n",
        "  #print(dados_json['items'][i])\n",
        "  new_data = {}\n",
        "  new_data['json_kind'] = dados_json['items'][i]['kind']\n",
        "  new_data['json_etag'] = dados_json['items'][i]['etag']\n",
        "  new_data['categoryId'] = dados_json['items'][i]['id']\n",
        "  new_data['json_title'] = dados_json['items'][i]['snippet']['title']\n",
        "  new_data['json_assignable'] = dados_json['items'][i]['snippet']['assignable']\n",
        "  new_data['json_channelId'] = dados_json['items'][i]['snippet']['channelId']\n",
        "  new_dados.append(new_data)"
      ],
      "execution_count": null,
      "outputs": []
    },
    {
      "cell_type": "code",
      "metadata": {
        "id": "EtJY4UcJSzrC"
      },
      "source": [
        "new_df = pd.DataFrame(new_dados)"
      ],
      "execution_count": null,
      "outputs": []
    },
    {
      "cell_type": "code",
      "metadata": {
        "id": "FJNZ9zWDS3T9",
        "colab": {
          "base_uri": "https://localhost:8080/"
        },
        "outputId": "9f261e20-bbfa-4e15-ca60-6659696c9a20"
      },
      "source": [
        "new_df.dtypes"
      ],
      "execution_count": null,
      "outputs": [
        {
          "output_type": "execute_result",
          "data": {
            "text/plain": [
              "json_kind          object\n",
              "json_etag          object\n",
              "categoryId         object\n",
              "json_title         object\n",
              "json_assignable      bool\n",
              "json_channelId     object\n",
              "dtype: object"
            ]
          },
          "metadata": {},
          "execution_count": 18
        }
      ]
    },
    {
      "cell_type": "code",
      "metadata": {
        "id": "LoQ-vfAKS_GO"
      },
      "source": [
        "new_df['categoryId'] = new_df['categoryId'].astype('int64')"
      ],
      "execution_count": null,
      "outputs": []
    },
    {
      "cell_type": "code",
      "metadata": {
        "colab": {
          "base_uri": "https://localhost:8080/"
        },
        "id": "Rze-VbMbS_9D",
        "outputId": "15f6f670-60d8-46af-e5e6-40f540802c5f"
      },
      "source": [
        "new_df.dtypes"
      ],
      "execution_count": null,
      "outputs": [
        {
          "output_type": "execute_result",
          "data": {
            "text/plain": [
              "json_kind          object\n",
              "json_etag          object\n",
              "categoryId          int64\n",
              "json_title         object\n",
              "json_assignable      bool\n",
              "json_channelId     object\n",
              "dtype: object"
            ]
          },
          "metadata": {},
          "execution_count": 37
        }
      ]
    },
    {
      "cell_type": "markdown",
      "metadata": {
        "id": "QSgy3XyTTuTo"
      },
      "source": [
        "**COMBINANDO DADOS WORLD COM JSON**"
      ]
    },
    {
      "cell_type": "code",
      "metadata": {
        "id": "XEi_PZaSTBzc"
      },
      "source": [
        "data_raw = pd.merge(dados_world_csv, new_df, on=['categoryId'], how='left')"
      ],
      "execution_count": null,
      "outputs": []
    },
    {
      "cell_type": "code",
      "metadata": {
        "colab": {
          "base_uri": "https://localhost:8080/"
        },
        "id": "nPUvtRKpTHBf",
        "outputId": "da6194ea-26e9-404d-8a2f-4e0e5f73f5c9"
      },
      "source": [
        "data_raw.shape"
      ],
      "execution_count": null,
      "outputs": [
        {
          "output_type": "execute_result",
          "data": {
            "text/plain": [
              "(1021622, 22)"
            ]
          },
          "metadata": {},
          "execution_count": 39
        }
      ]
    },
    {
      "cell_type": "code",
      "metadata": {
        "id": "kEI-5NV4TJtk",
        "colab": {
          "base_uri": "https://localhost:8080/",
          "height": 337
        },
        "outputId": "25ca0e14-1d3f-462a-bf3b-32179a56f4b0"
      },
      "source": [
        "data_raw.head(3)"
      ],
      "execution_count": null,
      "outputs": [
        {
          "output_type": "execute_result",
          "data": {
            "text/html": [
              "<div>\n",
              "<style scoped>\n",
              "    .dataframe tbody tr th:only-of-type {\n",
              "        vertical-align: middle;\n",
              "    }\n",
              "\n",
              "    .dataframe tbody tr th {\n",
              "        vertical-align: top;\n",
              "    }\n",
              "\n",
              "    .dataframe thead th {\n",
              "        text-align: right;\n",
              "    }\n",
              "</style>\n",
              "<table border=\"1\" class=\"dataframe\">\n",
              "  <thead>\n",
              "    <tr style=\"text-align: right;\">\n",
              "      <th></th>\n",
              "      <th>video_id</th>\n",
              "      <th>title</th>\n",
              "      <th>publishedAt</th>\n",
              "      <th>channelId</th>\n",
              "      <th>channelTitle</th>\n",
              "      <th>categoryId</th>\n",
              "      <th>trending_date</th>\n",
              "      <th>tags</th>\n",
              "      <th>view_count</th>\n",
              "      <th>likes</th>\n",
              "      <th>dislikes</th>\n",
              "      <th>comment_count</th>\n",
              "      <th>thumbnail_link</th>\n",
              "      <th>comments_disabled</th>\n",
              "      <th>ratings_disabled</th>\n",
              "      <th>description</th>\n",
              "      <th>country</th>\n",
              "      <th>json_kind</th>\n",
              "      <th>json_etag</th>\n",
              "      <th>json_title</th>\n",
              "      <th>json_assignable</th>\n",
              "      <th>json_channelId</th>\n",
              "    </tr>\n",
              "  </thead>\n",
              "  <tbody>\n",
              "    <tr>\n",
              "      <th>0</th>\n",
              "      <td>s9FH4rDMvds</td>\n",
              "      <td>LEVEI UM FORA? FINGI ESTAR APAIXONADO POR ELA!</td>\n",
              "      <td>2020-08-11T22:21:49Z</td>\n",
              "      <td>UCGfBwrCoi9ZJjKiUK8MmJNw</td>\n",
              "      <td>Pietro Guedes</td>\n",
              "      <td>22</td>\n",
              "      <td>2020-08-12T00:00:00Z</td>\n",
              "      <td>pietro|guedes|ingrid|ohara|pingrid|vlog|amigos...</td>\n",
              "      <td>263835</td>\n",
              "      <td>85095</td>\n",
              "      <td>487</td>\n",
              "      <td>4500</td>\n",
              "      <td>https://i.ytimg.com/vi/s9FH4rDMvds/default.jpg</td>\n",
              "      <td>False</td>\n",
              "      <td>False</td>\n",
              "      <td>Salve rapaziada, neste vídeo me declarei pra e...</td>\n",
              "      <td>BR</td>\n",
              "      <td>youtube#videoCategory</td>\n",
              "      <td>QMEBz6mxVdklVaq8JwesPEw_4nI</td>\n",
              "      <td>People &amp; Blogs</td>\n",
              "      <td>True</td>\n",
              "      <td>UCBR8-60-B28hp2BmDPdntcQ</td>\n",
              "    </tr>\n",
              "    <tr>\n",
              "      <th>1</th>\n",
              "      <td>jbGRowa5tIk</td>\n",
              "      <td>ITZY “Not Shy” M/V TEASER</td>\n",
              "      <td>2020-08-11T15:00:13Z</td>\n",
              "      <td>UCaO6TYtlC8U5ttz62hTrZgg</td>\n",
              "      <td>JYP Entertainment</td>\n",
              "      <td>10</td>\n",
              "      <td>2020-08-12T00:00:00Z</td>\n",
              "      <td>JYP Entertainment|JYP|ITZY|있지|ITZY Video|ITZY ...</td>\n",
              "      <td>6000070</td>\n",
              "      <td>714310</td>\n",
              "      <td>15176</td>\n",
              "      <td>31040</td>\n",
              "      <td>https://i.ytimg.com/vi/jbGRowa5tIk/default.jpg</td>\n",
              "      <td>False</td>\n",
              "      <td>False</td>\n",
              "      <td>ITZY Not Shy M/V[ITZY Official] https://www.yo...</td>\n",
              "      <td>BR</td>\n",
              "      <td>youtube#videoCategory</td>\n",
              "      <td>HCjFMARbBeWjpm6PDfReCOMOZGA</td>\n",
              "      <td>Music</td>\n",
              "      <td>True</td>\n",
              "      <td>UCBR8-60-B28hp2BmDPdntcQ</td>\n",
              "    </tr>\n",
              "    <tr>\n",
              "      <th>2</th>\n",
              "      <td>3EfkCrXKZNs</td>\n",
              "      <td>Oh Juliana PARÓDIA - MC Niack</td>\n",
              "      <td>2020-08-10T14:59:00Z</td>\n",
              "      <td>UCoXZmVma073v5G1cW82UKkA</td>\n",
              "      <td>As Irmãs Mota</td>\n",
              "      <td>22</td>\n",
              "      <td>2020-08-12T00:00:00Z</td>\n",
              "      <td>OH JULIANA PARÓDIA|MC Niack PARÓDIA|PARÓDIAS|A...</td>\n",
              "      <td>2296748</td>\n",
              "      <td>39761</td>\n",
              "      <td>5484</td>\n",
              "      <td>0</td>\n",
              "      <td>https://i.ytimg.com/vi/3EfkCrXKZNs/default.jpg</td>\n",
              "      <td>True</td>\n",
              "      <td>False</td>\n",
              "      <td>Se inscrevam meus amores! 📬 Quer nos mandar al...</td>\n",
              "      <td>BR</td>\n",
              "      <td>youtube#videoCategory</td>\n",
              "      <td>QMEBz6mxVdklVaq8JwesPEw_4nI</td>\n",
              "      <td>People &amp; Blogs</td>\n",
              "      <td>True</td>\n",
              "      <td>UCBR8-60-B28hp2BmDPdntcQ</td>\n",
              "    </tr>\n",
              "  </tbody>\n",
              "</table>\n",
              "</div>"
            ],
            "text/plain": [
              "      video_id  ...            json_channelId\n",
              "0  s9FH4rDMvds  ...  UCBR8-60-B28hp2BmDPdntcQ\n",
              "1  jbGRowa5tIk  ...  UCBR8-60-B28hp2BmDPdntcQ\n",
              "2  3EfkCrXKZNs  ...  UCBR8-60-B28hp2BmDPdntcQ\n",
              "\n",
              "[3 rows x 22 columns]"
            ]
          },
          "metadata": {},
          "execution_count": 40
        }
      ]
    },
    {
      "cell_type": "code",
      "metadata": {
        "colab": {
          "base_uri": "https://localhost:8080/"
        },
        "id": "JCZDi03BQV6N",
        "outputId": "3172b2e8-1b38-4f35-9de6-07c4d0633772"
      },
      "source": [
        "data_raw.dtypes"
      ],
      "execution_count": null,
      "outputs": [
        {
          "output_type": "execute_result",
          "data": {
            "text/plain": [
              "video_id             object\n",
              "title                object\n",
              "publishedAt          object\n",
              "channelId            object\n",
              "channelTitle         object\n",
              "categoryId            int64\n",
              "trending_date        object\n",
              "tags                 object\n",
              "view_count            int64\n",
              "likes                 int64\n",
              "dislikes              int64\n",
              "comment_count         int64\n",
              "thumbnail_link       object\n",
              "comments_disabled      bool\n",
              "ratings_disabled       bool\n",
              "description          object\n",
              "country              object\n",
              "json_kind            object\n",
              "json_etag            object\n",
              "json_title           object\n",
              "json_assignable      object\n",
              "json_channelId       object\n",
              "dtype: object"
            ]
          },
          "metadata": {},
          "execution_count": 41
        }
      ]
    },
    {
      "cell_type": "markdown",
      "metadata": {
        "id": "Rr2_fmGNsjas"
      },
      "source": [
        "#Removendo colunas\n",
        "Optamos por remover essas colunas por serem relevantes para o nosso projeto"
      ]
    },
    {
      "cell_type": "code",
      "metadata": {
        "id": "I2qxwbK2gq5Y"
      },
      "source": [
        "data_raw2 = data_raw.drop(['categoryId', 'tags', 'thumbnail_link', 'description', 'json_kind', 'json_etag', 'json_assignable', 'json_channelId'], axis=1)"
      ],
      "execution_count": null,
      "outputs": []
    },
    {
      "cell_type": "code",
      "metadata": {
        "colab": {
          "base_uri": "https://localhost:8080/"
        },
        "id": "yiNH8pWUuSen",
        "outputId": "f2234f8a-2e66-40db-d9b1-4c6a1fc900a4"
      },
      "source": [
        "data_raw2.shape"
      ],
      "execution_count": null,
      "outputs": [
        {
          "output_type": "execute_result",
          "data": {
            "text/plain": [
              "(1021622, 14)"
            ]
          },
          "metadata": {},
          "execution_count": 43
        }
      ]
    },
    {
      "cell_type": "markdown",
      "metadata": {
        "id": "gapHICLxgs21"
      },
      "source": [
        "#Exportando para o GCP"
      ]
    },
    {
      "cell_type": "code",
      "metadata": {
        "id": "JfRZ2Gs7TB63"
      },
      "source": [
        "from google.cloud import storage\n",
        "import os\n",
        "serviceAccount = '/content/projetofinalgrupo8-2dcd866c3f46.json'\n",
        "os.environ['GOOGLE_APPLICATION_CREDENTIALS'] = serviceAccount\n",
        "\n",
        "\n",
        "client = storage.Client()\n",
        "bucket = client.get_bucket('projetofinalgrupo8')\n",
        "    \n",
        "bucket.blob('saida/youtube_data_base.csv').upload_from_string(data_raw2.to_csv(index=False), 'text/csv')"
      ],
      "execution_count": null,
      "outputs": []
    }
  ]
}