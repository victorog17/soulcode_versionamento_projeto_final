{
  "nbformat": 4,
  "nbformat_minor": 0,
  "metadata": {
    "colab": {
      "name": "001_SOCIAL MEDIA COMBINACAO DE DATASETS - Nivel Pandas",
      "provenance": [],
      "collapsed_sections": [],
      "include_colab_link": true
    },
    "kernelspec": {
      "name": "python3",
      "display_name": "Python 3"
    },
    "language_info": {
      "name": "python"
    }
  },
  "cells": [
    {
      "cell_type": "markdown",
      "metadata": {
        "id": "view-in-github",
        "colab_type": "text"
      },
      "source": [
        "<a href=\"https://colab.research.google.com/github/victorog17/soulcode_versionamento_projeto_final/blob/2021-11-22/001_SOCIAL_MEDIA_COMBINACAO_DE_DATASETS_Nivel_Pandas.ipynb\" target=\"_parent\"><img src=\"https://colab.research.google.com/assets/colab-badge.svg\" alt=\"Open In Colab\"/></a>"
      ]
    },
    {
      "cell_type": "markdown",
      "metadata": {
        "id": "3fOWX5rOKTnA"
      },
      "source": [
        "**BIBLIOTECAS**"
      ]
    },
    {
      "cell_type": "code",
      "metadata": {
        "id": "KCj1oyoVJ9ch"
      },
      "source": [
        "import pandas as pd"
      ],
      "execution_count": null,
      "outputs": []
    },
    {
      "cell_type": "markdown",
      "metadata": {
        "id": "zC6ZcV8uKXHe"
      },
      "source": [
        "#**CARREGANDO DATAFRAME PAISES** \n",
        "DATASETS EXTRAÍDOS DO KAGGLE NO DIA 17/11/2021"
      ]
    },
    {
      "cell_type": "code",
      "metadata": {
        "id": "ZCqh_Y1qKFwg"
      },
      "source": [
        "dados_br_csv = pd.read_csv('https://storage.googleapis.com/projetofinalgrupo8/entrada/BR_youtube_trending_data.csv')\n",
        "dados_ca_csv = pd.read_csv('https://storage.googleapis.com/projetofinalgrupo8/entrada/CA_youtube_trending_data.csv')\n",
        "dados_de_csv = pd.read_csv('https://storage.googleapis.com/projetofinalgrupo8/entrada/DE_youtube_trending_data.csv')\n",
        "dados_fr_csv = pd.read_csv('https://storage.googleapis.com/projetofinalgrupo8/entrada/FR_youtube_trending_data.csv')\n",
        "dados_gb_csv = pd.read_csv('https://storage.googleapis.com/projetofinalgrupo8/entrada/GB_youtube_trending_data.csv')\n",
        "dados_in_csv = pd.read_csv('https://storage.googleapis.com/projetofinalgrupo8/entrada/IN_youtube_trending_data.csv')\n",
        "dados_jp_csv = pd.read_csv('https://storage.googleapis.com/projetofinalgrupo8/entrada/JP_youtube_trending_data.csv')\n",
        "dados_kr_csv = pd.read_csv('https://storage.googleapis.com/projetofinalgrupo8/entrada/KR_youtube_trending_data.csv')\n",
        "dados_mx_csv = pd.read_csv('https://storage.googleapis.com/projetofinalgrupo8/entrada/MX_youtube_trending_data.csv')\n",
        "dados_us_csv = pd.read_csv('https://storage.googleapis.com/projetofinalgrupo8/entrada/US_youtube_trending_data.csv')\n",
        "dados_ru_csv = pd.read_csv('https://storage.googleapis.com/projetofinalgrupo8/entrada/RU_youtube_trending_data.csv')"
      ],
      "execution_count": null,
      "outputs": []
    },
    {
      "cell_type": "code",
      "metadata": {
        "id": "1-gnVrxlQdGy",
        "colab": {
          "base_uri": "https://localhost:8080/"
        },
        "outputId": "dbd1b76b-07bb-4c15-fbda-d5361da934ea"
      },
      "source": [
        "dados_br_csv.shape"
      ],
      "execution_count": null,
      "outputs": [
        {
          "output_type": "execute_result",
          "data": {
            "text/plain": [
              "(93793, 16)"
            ]
          },
          "metadata": {},
          "execution_count": 3
        }
      ]
    },
    {
      "cell_type": "markdown",
      "metadata": {
        "id": "Q_mz6vtRLK3s"
      },
      "source": [
        "**ADICIONANDO COLUNA COM ABREVIAÇÃO DO PAÍS**"
      ]
    },
    {
      "cell_type": "code",
      "metadata": {
        "id": "GsEZ6EF-Kkd9"
      },
      "source": [
        "dados_br_csv['country'] = 'BR'\n",
        "dados_ca_csv['country'] = 'CA'\n",
        "dados_de_csv['country'] = 'DE'\n",
        "dados_fr_csv['country'] = 'FR'\n",
        "dados_gb_csv['country'] = 'GB'\n",
        "dados_in_csv['country'] = 'IN'\n",
        "dados_jp_csv['country'] = 'JP'\n",
        "dados_kr_csv['country'] = 'KR'\n",
        "dados_mx_csv['country'] = 'MX'\n",
        "dados_us_csv['country'] = 'US'\n",
        "dados_ru_csv['country'] = 'RU'"
      ],
      "execution_count": null,
      "outputs": []
    },
    {
      "cell_type": "markdown",
      "metadata": {
        "id": "AhfWmDXaOva0"
      },
      "source": [
        "**VERIFICANDO DIMENSÃO DE CADA PAÍS**"
      ]
    },
    {
      "cell_type": "code",
      "metadata": {
        "id": "NYR71XQjLR1s",
        "colab": {
          "base_uri": "https://localhost:8080/"
        },
        "outputId": "586dcbf0-6460-42dc-b413-4d91cf0aefdb"
      },
      "source": [
        "print(f' BR: {dados_br_csv.shape},\\n CA: {dados_ca_csv.shape},\\n DE: {dados_de_csv.shape},\\n FR: {dados_fr_csv.shape},\\n GB: {dados_gb_csv.shape},\\n IN: {dados_in_csv.shape},\\n JP: {dados_jp_csv.shape},\\n KR: {dados_kr_csv.shape},\\n MX: {dados_mx_csv.shape},\\n US: {dados_us_csv.shape},\\n RU: {dados_ru_csv.shape}')"
      ],
      "execution_count": null,
      "outputs": [
        {
          "output_type": "stream",
          "name": "stdout",
          "text": [
            " BR: (93793, 17),\n",
            " CA: (93744, 17),\n",
            " DE: (93743, 17),\n",
            " FR: (93791, 17),\n",
            " GB: (93795, 17),\n",
            " IN: (88182, 17),\n",
            " JP: (93789, 17),\n",
            " KR: (90754, 17),\n",
            " MX: (93599, 17),\n",
            " US: (93791, 17),\n",
            " RU: (92641, 17)\n"
          ]
        }
      ]
    },
    {
      "cell_type": "markdown",
      "metadata": {
        "id": "NkJ_RdFbO7u3"
      },
      "source": [
        "**CONCATENANDO DADOS WORLD**"
      ]
    },
    {
      "cell_type": "code",
      "metadata": {
        "id": "SogJx3xSOA1e"
      },
      "source": [
        "dataframes = [dados_br_csv, dados_ca_csv, dados_de_csv, dados_fr_csv, dados_gb_csv, dados_in_csv, dados_jp_csv, dados_kr_csv, dados_mx_csv, dados_us_csv, dados_ru_csv]\n",
        "dados_world_csv = pd.concat(dataframes)"
      ],
      "execution_count": null,
      "outputs": []
    },
    {
      "cell_type": "markdown",
      "metadata": {
        "id": "JXVCWku3PCCa"
      },
      "source": [
        "**VERIFICANDO DADOS WORLD**"
      ]
    },
    {
      "cell_type": "code",
      "metadata": {
        "colab": {
          "base_uri": "https://localhost:8080/"
        },
        "id": "19lIPeyjLegE",
        "outputId": "dcc21475-6f1f-493b-ef2a-a75a2072b583"
      },
      "source": [
        "dados_world_csv.shape"
      ],
      "execution_count": null,
      "outputs": [
        {
          "output_type": "execute_result",
          "data": {
            "text/plain": [
              "(1021622, 17)"
            ]
          },
          "metadata": {},
          "execution_count": 7
        }
      ]
    },
    {
      "cell_type": "markdown",
      "metadata": {
        "id": "kfOYIhu5SOPC"
      },
      "source": [
        "**CARREGANDO JSON COMPLEMENTAR DE PARA DADOS WORLD**"
      ]
    },
    {
      "cell_type": "code",
      "metadata": {
        "id": "8Cb8GXtJSAtz"
      },
      "source": [
        "dados_json = pd.read_json('https://storage.googleapis.com/projetofinalgrupo8/entrada/BR_category_id.json')"
      ],
      "execution_count": null,
      "outputs": []
    },
    {
      "cell_type": "markdown",
      "metadata": {
        "id": "wysAtcEVScQ7"
      },
      "source": [
        "**EXPLORANDO JSON**"
      ]
    },
    {
      "cell_type": "code",
      "metadata": {
        "colab": {
          "base_uri": "https://localhost:8080/",
          "height": 80
        },
        "id": "k7FIybA8SUDq",
        "outputId": "9a90e7ef-cd54-4e0d-cfda-858b2323fde1"
      },
      "source": [
        "dados_json.sample()"
      ],
      "execution_count": null,
      "outputs": [
        {
          "output_type": "execute_result",
          "data": {
            "text/html": [
              "<div>\n",
              "<style scoped>\n",
              "    .dataframe tbody tr th:only-of-type {\n",
              "        vertical-align: middle;\n",
              "    }\n",
              "\n",
              "    .dataframe tbody tr th {\n",
              "        vertical-align: top;\n",
              "    }\n",
              "\n",
              "    .dataframe thead th {\n",
              "        text-align: right;\n",
              "    }\n",
              "</style>\n",
              "<table border=\"1\" class=\"dataframe\">\n",
              "  <thead>\n",
              "    <tr style=\"text-align: right;\">\n",
              "      <th></th>\n",
              "      <th>kind</th>\n",
              "      <th>etag</th>\n",
              "      <th>items</th>\n",
              "    </tr>\n",
              "  </thead>\n",
              "  <tbody>\n",
              "    <tr>\n",
              "      <th>26</th>\n",
              "      <td>youtube#videoCategoryListResponse</td>\n",
              "      <td>kBCr3I9kLHHU79W4Ip5196LDptI</td>\n",
              "      <td>{'kind': 'youtube#videoCategory', 'etag': '3F8...</td>\n",
              "    </tr>\n",
              "  </tbody>\n",
              "</table>\n",
              "</div>"
            ],
            "text/plain": [
              "                                 kind  ...                                              items\n",
              "26  youtube#videoCategoryListResponse  ...  {'kind': 'youtube#videoCategory', 'etag': '3F8...\n",
              "\n",
              "[1 rows x 3 columns]"
            ]
          },
          "metadata": {},
          "execution_count": 9
        }
      ]
    },
    {
      "cell_type": "code",
      "metadata": {
        "colab": {
          "base_uri": "https://localhost:8080/"
        },
        "id": "Ll0hElilSaVx",
        "outputId": "1cc62572-7aaf-4b3e-f714-98bda471f5a9"
      },
      "source": [
        "dados_json['items'][0]"
      ],
      "execution_count": null,
      "outputs": [
        {
          "output_type": "execute_result",
          "data": {
            "text/plain": [
              "{'etag': 'IfWa37JGcqZs-jZeAyFGkbeh6bc',\n",
              " 'id': '1',\n",
              " 'kind': 'youtube#videoCategory',\n",
              " 'snippet': {'assignable': True,\n",
              "  'channelId': 'UCBR8-60-B28hp2BmDPdntcQ',\n",
              "  'title': 'Film & Animation'}}"
            ]
          },
          "metadata": {},
          "execution_count": 10
        }
      ]
    },
    {
      "cell_type": "markdown",
      "metadata": {
        "id": "d0qXiEMiSvH7"
      },
      "source": [
        "**DESCOMPRIMINDO JSON**"
      ]
    },
    {
      "cell_type": "code",
      "metadata": {
        "id": "OnKj-yfmSiRA"
      },
      "source": [
        "new_dados = []\n",
        "\n",
        "for i in range(len(dados_json['items'])):\n",
        "  #print(dados_json['items'][i])\n",
        "  new_data = {}\n",
        "  new_data['json_kind'] = dados_json['items'][i]['kind']\n",
        "  new_data['json_etag'] = dados_json['items'][i]['etag']\n",
        "  new_data['categoryId'] = dados_json['items'][i]['id']\n",
        "  new_data['json_title'] = dados_json['items'][i]['snippet']['title']\n",
        "  new_data['json_assignable'] = dados_json['items'][i]['snippet']['assignable']\n",
        "  new_data['json_channelId'] = dados_json['items'][i]['snippet']['channelId']\n",
        "  new_dados.append(new_data)"
      ],
      "execution_count": null,
      "outputs": []
    },
    {
      "cell_type": "code",
      "metadata": {
        "id": "EtJY4UcJSzrC"
      },
      "source": [
        "new_df = pd.DataFrame(new_dados)"
      ],
      "execution_count": null,
      "outputs": []
    },
    {
      "cell_type": "code",
      "metadata": {
        "id": "FJNZ9zWDS3T9",
        "colab": {
          "base_uri": "https://localhost:8080/"
        },
        "outputId": "86dede07-3c8f-49c8-ecbd-4c9f8d62e382"
      },
      "source": [
        "new_df.dtypes"
      ],
      "execution_count": null,
      "outputs": [
        {
          "output_type": "execute_result",
          "data": {
            "text/plain": [
              "json_kind          object\n",
              "json_etag          object\n",
              "categoryId         object\n",
              "json_title         object\n",
              "json_assignable      bool\n",
              "json_channelId     object\n",
              "dtype: object"
            ]
          },
          "metadata": {},
          "execution_count": 13
        }
      ]
    },
    {
      "cell_type": "code",
      "metadata": {
        "id": "LoQ-vfAKS_GO"
      },
      "source": [
        "new_df['categoryId'] = new_df['categoryId'].astype('int64')"
      ],
      "execution_count": null,
      "outputs": []
    },
    {
      "cell_type": "code",
      "metadata": {
        "colab": {
          "base_uri": "https://localhost:8080/"
        },
        "id": "Rze-VbMbS_9D",
        "outputId": "e1c6f80d-92f5-402b-997d-974a529d62c4"
      },
      "source": [
        "new_df.dtypes"
      ],
      "execution_count": null,
      "outputs": [
        {
          "output_type": "execute_result",
          "data": {
            "text/plain": [
              "json_kind          object\n",
              "json_etag          object\n",
              "categoryId          int64\n",
              "json_title         object\n",
              "json_assignable      bool\n",
              "json_channelId     object\n",
              "dtype: object"
            ]
          },
          "metadata": {},
          "execution_count": 15
        }
      ]
    },
    {
      "cell_type": "markdown",
      "metadata": {
        "id": "QSgy3XyTTuTo"
      },
      "source": [
        "**COMBINANDO DADOS WORLD COM JSON**"
      ]
    },
    {
      "cell_type": "code",
      "metadata": {
        "id": "XEi_PZaSTBzc"
      },
      "source": [
        "data_raw = pd.merge(dados_world_csv, new_df, on=['categoryId'], how='left')"
      ],
      "execution_count": null,
      "outputs": []
    },
    {
      "cell_type": "code",
      "metadata": {
        "colab": {
          "base_uri": "https://localhost:8080/"
        },
        "id": "nPUvtRKpTHBf",
        "outputId": "2569be72-0d1f-4a0c-bad4-4afb2c8dbe2f"
      },
      "source": [
        "data_raw.shape"
      ],
      "execution_count": null,
      "outputs": [
        {
          "output_type": "execute_result",
          "data": {
            "text/plain": [
              "(1021622, 22)"
            ]
          },
          "metadata": {},
          "execution_count": 17
        }
      ]
    },
    {
      "cell_type": "code",
      "metadata": {
        "id": "kEI-5NV4TJtk",
        "colab": {
          "base_uri": "https://localhost:8080/"
        },
        "outputId": "36e049d5-fbb2-4594-8b04-d86af8647c6b"
      },
      "source": [
        "data_raw.head(3)"
      ],
      "execution_count": null,
      "outputs": [
        {
          "output_type": "execute_result",
          "data": {
            "text/html": [
              "<div>\n",
              "<style scoped>\n",
              "    .dataframe tbody tr th:only-of-type {\n",
              "        vertical-align: middle;\n",
              "    }\n",
              "\n",
              "    .dataframe tbody tr th {\n",
              "        vertical-align: top;\n",
              "    }\n",
              "\n",
              "    .dataframe thead th {\n",
              "        text-align: right;\n",
              "    }\n",
              "</style>\n",
              "<table border=\"1\" class=\"dataframe\">\n",
              "  <thead>\n",
              "    <tr style=\"text-align: right;\">\n",
              "      <th></th>\n",
              "      <th>video_id</th>\n",
              "      <th>title</th>\n",
              "      <th>publishedAt</th>\n",
              "      <th>channelId</th>\n",
              "      <th>channelTitle</th>\n",
              "      <th>categoryId</th>\n",
              "      <th>trending_date</th>\n",
              "      <th>tags</th>\n",
              "      <th>view_count</th>\n",
              "      <th>likes</th>\n",
              "      <th>dislikes</th>\n",
              "      <th>comment_count</th>\n",
              "      <th>thumbnail_link</th>\n",
              "      <th>comments_disabled</th>\n",
              "      <th>ratings_disabled</th>\n",
              "      <th>description</th>\n",
              "      <th>country</th>\n",
              "      <th>json_kind</th>\n",
              "      <th>json_etag</th>\n",
              "      <th>json_title</th>\n",
              "      <th>json_assignable</th>\n",
              "      <th>json_channelId</th>\n",
              "    </tr>\n",
              "  </thead>\n",
              "  <tbody>\n",
              "    <tr>\n",
              "      <th>0</th>\n",
              "      <td>s9FH4rDMvds</td>\n",
              "      <td>LEVEI UM FORA? FINGI ESTAR APAIXONADO POR ELA!</td>\n",
              "      <td>2020-08-11T22:21:49Z</td>\n",
              "      <td>UCGfBwrCoi9ZJjKiUK8MmJNw</td>\n",
              "      <td>Pietro Guedes</td>\n",
              "      <td>22</td>\n",
              "      <td>2020-08-12T00:00:00Z</td>\n",
              "      <td>pietro|guedes|ingrid|ohara|pingrid|vlog|amigos...</td>\n",
              "      <td>263835</td>\n",
              "      <td>85095</td>\n",
              "      <td>487</td>\n",
              "      <td>4500</td>\n",
              "      <td>https://i.ytimg.com/vi/s9FH4rDMvds/default.jpg</td>\n",
              "      <td>False</td>\n",
              "      <td>False</td>\n",
              "      <td>Salve rapaziada, neste vídeo me declarei pra e...</td>\n",
              "      <td>BR</td>\n",
              "      <td>youtube#videoCategory</td>\n",
              "      <td>QMEBz6mxVdklVaq8JwesPEw_4nI</td>\n",
              "      <td>People &amp; Blogs</td>\n",
              "      <td>True</td>\n",
              "      <td>UCBR8-60-B28hp2BmDPdntcQ</td>\n",
              "    </tr>\n",
              "    <tr>\n",
              "      <th>1</th>\n",
              "      <td>jbGRowa5tIk</td>\n",
              "      <td>ITZY “Not Shy” M/V TEASER</td>\n",
              "      <td>2020-08-11T15:00:13Z</td>\n",
              "      <td>UCaO6TYtlC8U5ttz62hTrZgg</td>\n",
              "      <td>JYP Entertainment</td>\n",
              "      <td>10</td>\n",
              "      <td>2020-08-12T00:00:00Z</td>\n",
              "      <td>JYP Entertainment|JYP|ITZY|있지|ITZY Video|ITZY ...</td>\n",
              "      <td>6000070</td>\n",
              "      <td>714310</td>\n",
              "      <td>15176</td>\n",
              "      <td>31040</td>\n",
              "      <td>https://i.ytimg.com/vi/jbGRowa5tIk/default.jpg</td>\n",
              "      <td>False</td>\n",
              "      <td>False</td>\n",
              "      <td>ITZY Not Shy M/V[ITZY Official] https://www.yo...</td>\n",
              "      <td>BR</td>\n",
              "      <td>youtube#videoCategory</td>\n",
              "      <td>HCjFMARbBeWjpm6PDfReCOMOZGA</td>\n",
              "      <td>Music</td>\n",
              "      <td>True</td>\n",
              "      <td>UCBR8-60-B28hp2BmDPdntcQ</td>\n",
              "    </tr>\n",
              "    <tr>\n",
              "      <th>2</th>\n",
              "      <td>3EfkCrXKZNs</td>\n",
              "      <td>Oh Juliana PARÓDIA - MC Niack</td>\n",
              "      <td>2020-08-10T14:59:00Z</td>\n",
              "      <td>UCoXZmVma073v5G1cW82UKkA</td>\n",
              "      <td>As Irmãs Mota</td>\n",
              "      <td>22</td>\n",
              "      <td>2020-08-12T00:00:00Z</td>\n",
              "      <td>OH JULIANA PARÓDIA|MC Niack PARÓDIA|PARÓDIAS|A...</td>\n",
              "      <td>2296748</td>\n",
              "      <td>39761</td>\n",
              "      <td>5484</td>\n",
              "      <td>0</td>\n",
              "      <td>https://i.ytimg.com/vi/3EfkCrXKZNs/default.jpg</td>\n",
              "      <td>True</td>\n",
              "      <td>False</td>\n",
              "      <td>Se inscrevam meus amores! 📬 Quer nos mandar al...</td>\n",
              "      <td>BR</td>\n",
              "      <td>youtube#videoCategory</td>\n",
              "      <td>QMEBz6mxVdklVaq8JwesPEw_4nI</td>\n",
              "      <td>People &amp; Blogs</td>\n",
              "      <td>True</td>\n",
              "      <td>UCBR8-60-B28hp2BmDPdntcQ</td>\n",
              "    </tr>\n",
              "  </tbody>\n",
              "</table>\n",
              "</div>"
            ],
            "text/plain": [
              "      video_id  ...            json_channelId\n",
              "0  s9FH4rDMvds  ...  UCBR8-60-B28hp2BmDPdntcQ\n",
              "1  jbGRowa5tIk  ...  UCBR8-60-B28hp2BmDPdntcQ\n",
              "2  3EfkCrXKZNs  ...  UCBR8-60-B28hp2BmDPdntcQ\n",
              "\n",
              "[3 rows x 22 columns]"
            ]
          },
          "metadata": {},
          "execution_count": 18
        }
      ]
    },
    {
      "cell_type": "code",
      "metadata": {
        "colab": {
          "base_uri": "https://localhost:8080/"
        },
        "id": "JCZDi03BQV6N",
        "outputId": "e7c37d01-f15c-45af-ce8f-76973e3bd09c"
      },
      "source": [
        "data_raw.dtypes"
      ],
      "execution_count": null,
      "outputs": [
        {
          "output_type": "execute_result",
          "data": {
            "text/plain": [
              "video_id             object\n",
              "title                object\n",
              "publishedAt          object\n",
              "channelId            object\n",
              "channelTitle         object\n",
              "categoryId            int64\n",
              "trending_date        object\n",
              "tags                 object\n",
              "view_count            int64\n",
              "likes                 int64\n",
              "dislikes              int64\n",
              "comment_count         int64\n",
              "thumbnail_link       object\n",
              "comments_disabled      bool\n",
              "ratings_disabled       bool\n",
              "description          object\n",
              "country              object\n",
              "json_kind            object\n",
              "json_etag            object\n",
              "json_title           object\n",
              "json_assignable      object\n",
              "json_channelId       object\n",
              "dtype: object"
            ]
          },
          "metadata": {},
          "execution_count": 19
        }
      ]
    },
    {
      "cell_type": "markdown",
      "metadata": {
        "id": "Rr2_fmGNsjas"
      },
      "source": [
        "#REMOVENDO COLUNAS\n",
        "OPTAMOS POR REMOVER ESSAS COLUNAS POR ACREDITAR QUE NÃO CONSEGUIRÍAMOS EXTRAIR INFORMAÇÕES RELEVANTES PARA NOSSO PROJETO."
      ]
    },
    {
      "cell_type": "code",
      "metadata": {
        "id": "I2qxwbK2gq5Y"
      },
      "source": [
        "data_raw2 = data_raw.drop(['categoryId', 'tags', 'thumbnail_link', 'description', 'json_kind', 'json_etag', 'json_assignable', 'json_channelId'], axis=1)"
      ],
      "execution_count": null,
      "outputs": []
    },
    {
      "cell_type": "code",
      "metadata": {
        "colab": {
          "base_uri": "https://localhost:8080/"
        },
        "id": "yiNH8pWUuSen",
        "outputId": "f8d66b19-e39c-4775-bc00-7b3cf2a66f3c"
      },
      "source": [
        "data_raw2.shape"
      ],
      "execution_count": null,
      "outputs": [
        {
          "output_type": "execute_result",
          "data": {
            "text/plain": [
              "(1021622, 14)"
            ]
          },
          "metadata": {},
          "execution_count": 21
        }
      ]
    },
    {
      "cell_type": "markdown",
      "metadata": {
        "id": "gapHICLxgs21"
      },
      "source": [
        "#EXPORTANDO PARA O GCP"
      ]
    },
    {
      "cell_type": "code",
      "metadata": {
        "colab": {
          "base_uri": "https://localhost:8080/"
        },
        "id": "WuGgCUFi2UH9",
        "outputId": "d17f6c92-7dc3-434a-e060-dc4700f63d2c"
      },
      "source": [
        "from google.colab import auth\n",
        "auth.authenticate_user()\n",
        "\n",
        "# https://cloud.google.com/resource-manager/docs/creating-managing-projects\n",
        "project_id = 'projetofinalgrupo8'\n",
        "!gcloud config set project {project_id}"
      ],
      "execution_count": null,
      "outputs": [
        {
          "output_type": "stream",
          "name": "stdout",
          "text": [
            "Updated property [core/project].\n"
          ]
        }
      ]
    },
    {
      "cell_type": "code",
      "metadata": {
        "id": "fR9yJZIB3CPV"
      },
      "source": [
        "!gsutil cp /tmp/data_drop_world.csv gs://{bucket_name}/"
      ],
      "execution_count": null,
      "outputs": []
    },
    {
      "cell_type": "code",
      "metadata": {
        "id": "JfRZ2Gs7TB63",
        "colab": {
          "base_uri": "https://localhost:8080/",
          "height": 374
        },
        "outputId": "9284672a-3795-404e-d036-075d4e19eaf4"
      },
      "source": [
        "from google.cloud import storage\n",
        "import os\n",
        "serviceAccount = '/content/projetofinalgrupo8-2dcd866c3f46.json'\n",
        "os.environ['GOOGLE_APPLICATION_CREDENTIALS'] = serviceAccount\n",
        "\n",
        "\n",
        "client = storage.Client()\n",
        "bucket = client.get_bucket('projetofinalgrupo8')\n",
        "    \n",
        "bucket.blob('saida/data_drop_world.csv').upload_from_string(data_raw2.to_csv(index=False), 'text/csv')"
      ],
      "execution_count": null,
      "outputs": [
        {
          "output_type": "error",
          "ename": "DefaultCredentialsError",
          "evalue": "ignored",
          "traceback": [
            "\u001b[0;31m---------------------------------------------------------------------------\u001b[0m",
            "\u001b[0;31mDefaultCredentialsError\u001b[0m                   Traceback (most recent call last)",
            "\u001b[0;32m<ipython-input-5-9d204dc11381>\u001b[0m in \u001b[0;36m<module>\u001b[0;34m()\u001b[0m\n\u001b[1;32m      5\u001b[0m \u001b[0;34m\u001b[0m\u001b[0m\n\u001b[1;32m      6\u001b[0m \u001b[0;34m\u001b[0m\u001b[0m\n\u001b[0;32m----> 7\u001b[0;31m \u001b[0mclient\u001b[0m \u001b[0;34m=\u001b[0m \u001b[0mstorage\u001b[0m\u001b[0;34m.\u001b[0m\u001b[0mClient\u001b[0m\u001b[0;34m(\u001b[0m\u001b[0;34m)\u001b[0m\u001b[0;34m\u001b[0m\u001b[0;34m\u001b[0m\u001b[0m\n\u001b[0m\u001b[1;32m      8\u001b[0m \u001b[0mbucket\u001b[0m \u001b[0;34m=\u001b[0m \u001b[0mclient\u001b[0m\u001b[0;34m.\u001b[0m\u001b[0mget_bucket\u001b[0m\u001b[0;34m(\u001b[0m\u001b[0;34m'projetofinalgrupo8'\u001b[0m\u001b[0;34m)\u001b[0m\u001b[0;34m\u001b[0m\u001b[0;34m\u001b[0m\u001b[0m\n\u001b[1;32m      9\u001b[0m \u001b[0;34m\u001b[0m\u001b[0m\n",
            "\u001b[0;32m/usr/local/lib/python3.7/dist-packages/google/cloud/storage/client.py\u001b[0m in \u001b[0;36m__init__\u001b[0;34m(self, project, credentials, _http, client_info)\u001b[0m\n\u001b[1;32m     81\u001b[0m             \u001b[0mproject\u001b[0m \u001b[0;34m=\u001b[0m \u001b[0;32mNone\u001b[0m\u001b[0;34m\u001b[0m\u001b[0;34m\u001b[0m\u001b[0m\n\u001b[1;32m     82\u001b[0m         super(Client, self).__init__(\n\u001b[0;32m---> 83\u001b[0;31m             \u001b[0mproject\u001b[0m\u001b[0;34m=\u001b[0m\u001b[0mproject\u001b[0m\u001b[0;34m,\u001b[0m \u001b[0mcredentials\u001b[0m\u001b[0;34m=\u001b[0m\u001b[0mcredentials\u001b[0m\u001b[0;34m,\u001b[0m \u001b[0m_http\u001b[0m\u001b[0;34m=\u001b[0m\u001b[0m_http\u001b[0m\u001b[0;34m\u001b[0m\u001b[0;34m\u001b[0m\u001b[0m\n\u001b[0m\u001b[1;32m     84\u001b[0m         )\n\u001b[1;32m     85\u001b[0m         \u001b[0;32mif\u001b[0m \u001b[0mno_project\u001b[0m\u001b[0;34m:\u001b[0m\u001b[0;34m\u001b[0m\u001b[0;34m\u001b[0m\u001b[0m\n",
            "\u001b[0;32m/usr/local/lib/python3.7/dist-packages/google/cloud/client.py\u001b[0m in \u001b[0;36m__init__\u001b[0;34m(self, project, credentials, _http)\u001b[0m\n\u001b[1;32m    224\u001b[0m \u001b[0;34m\u001b[0m\u001b[0m\n\u001b[1;32m    225\u001b[0m     \u001b[0;32mdef\u001b[0m \u001b[0m__init__\u001b[0m\u001b[0;34m(\u001b[0m\u001b[0mself\u001b[0m\u001b[0;34m,\u001b[0m \u001b[0mproject\u001b[0m\u001b[0;34m=\u001b[0m\u001b[0;32mNone\u001b[0m\u001b[0;34m,\u001b[0m \u001b[0mcredentials\u001b[0m\u001b[0;34m=\u001b[0m\u001b[0;32mNone\u001b[0m\u001b[0;34m,\u001b[0m \u001b[0m_http\u001b[0m\u001b[0;34m=\u001b[0m\u001b[0;32mNone\u001b[0m\u001b[0;34m)\u001b[0m\u001b[0;34m:\u001b[0m\u001b[0;34m\u001b[0m\u001b[0;34m\u001b[0m\u001b[0m\n\u001b[0;32m--> 226\u001b[0;31m         \u001b[0m_ClientProjectMixin\u001b[0m\u001b[0;34m.\u001b[0m\u001b[0m__init__\u001b[0m\u001b[0;34m(\u001b[0m\u001b[0mself\u001b[0m\u001b[0;34m,\u001b[0m \u001b[0mproject\u001b[0m\u001b[0;34m=\u001b[0m\u001b[0mproject\u001b[0m\u001b[0;34m)\u001b[0m\u001b[0;34m\u001b[0m\u001b[0;34m\u001b[0m\u001b[0m\n\u001b[0m\u001b[1;32m    227\u001b[0m         \u001b[0mClient\u001b[0m\u001b[0;34m.\u001b[0m\u001b[0m__init__\u001b[0m\u001b[0;34m(\u001b[0m\u001b[0mself\u001b[0m\u001b[0;34m,\u001b[0m \u001b[0mcredentials\u001b[0m\u001b[0;34m=\u001b[0m\u001b[0mcredentials\u001b[0m\u001b[0;34m,\u001b[0m \u001b[0m_http\u001b[0m\u001b[0;34m=\u001b[0m\u001b[0m_http\u001b[0m\u001b[0;34m)\u001b[0m\u001b[0;34m\u001b[0m\u001b[0;34m\u001b[0m\u001b[0m\n",
            "\u001b[0;32m/usr/local/lib/python3.7/dist-packages/google/cloud/client.py\u001b[0m in \u001b[0;36m__init__\u001b[0;34m(self, project)\u001b[0m\n\u001b[1;32m    176\u001b[0m \u001b[0;34m\u001b[0m\u001b[0m\n\u001b[1;32m    177\u001b[0m     \u001b[0;32mdef\u001b[0m \u001b[0m__init__\u001b[0m\u001b[0;34m(\u001b[0m\u001b[0mself\u001b[0m\u001b[0;34m,\u001b[0m \u001b[0mproject\u001b[0m\u001b[0;34m=\u001b[0m\u001b[0;32mNone\u001b[0m\u001b[0;34m)\u001b[0m\u001b[0;34m:\u001b[0m\u001b[0;34m\u001b[0m\u001b[0;34m\u001b[0m\u001b[0m\n\u001b[0;32m--> 178\u001b[0;31m         \u001b[0mproject\u001b[0m \u001b[0;34m=\u001b[0m \u001b[0mself\u001b[0m\u001b[0;34m.\u001b[0m\u001b[0m_determine_default\u001b[0m\u001b[0;34m(\u001b[0m\u001b[0mproject\u001b[0m\u001b[0;34m)\u001b[0m\u001b[0;34m\u001b[0m\u001b[0;34m\u001b[0m\u001b[0m\n\u001b[0m\u001b[1;32m    179\u001b[0m         \u001b[0;32mif\u001b[0m \u001b[0mproject\u001b[0m \u001b[0;32mis\u001b[0m \u001b[0;32mNone\u001b[0m\u001b[0;34m:\u001b[0m\u001b[0;34m\u001b[0m\u001b[0;34m\u001b[0m\u001b[0m\n\u001b[1;32m    180\u001b[0m             raise EnvironmentError(\n",
            "\u001b[0;32m/usr/local/lib/python3.7/dist-packages/google/cloud/client.py\u001b[0m in \u001b[0;36m_determine_default\u001b[0;34m(project)\u001b[0m\n\u001b[1;32m    191\u001b[0m     \u001b[0;32mdef\u001b[0m \u001b[0m_determine_default\u001b[0m\u001b[0;34m(\u001b[0m\u001b[0mproject\u001b[0m\u001b[0;34m)\u001b[0m\u001b[0;34m:\u001b[0m\u001b[0;34m\u001b[0m\u001b[0;34m\u001b[0m\u001b[0m\n\u001b[1;32m    192\u001b[0m         \u001b[0;34m\"\"\"Helper:  use default project detection.\"\"\"\u001b[0m\u001b[0;34m\u001b[0m\u001b[0;34m\u001b[0m\u001b[0m\n\u001b[0;32m--> 193\u001b[0;31m         \u001b[0;32mreturn\u001b[0m \u001b[0m_determine_default_project\u001b[0m\u001b[0;34m(\u001b[0m\u001b[0mproject\u001b[0m\u001b[0;34m)\u001b[0m\u001b[0;34m\u001b[0m\u001b[0;34m\u001b[0m\u001b[0m\n\u001b[0m\u001b[1;32m    194\u001b[0m \u001b[0;34m\u001b[0m\u001b[0m\n\u001b[1;32m    195\u001b[0m \u001b[0;34m\u001b[0m\u001b[0m\n",
            "\u001b[0;32m/usr/local/lib/python3.7/dist-packages/google/cloud/_helpers.py\u001b[0m in \u001b[0;36m_determine_default_project\u001b[0;34m(project)\u001b[0m\n\u001b[1;32m    184\u001b[0m     \"\"\"\n\u001b[1;32m    185\u001b[0m     \u001b[0;32mif\u001b[0m \u001b[0mproject\u001b[0m \u001b[0;32mis\u001b[0m \u001b[0;32mNone\u001b[0m\u001b[0;34m:\u001b[0m\u001b[0;34m\u001b[0m\u001b[0;34m\u001b[0m\u001b[0m\n\u001b[0;32m--> 186\u001b[0;31m         \u001b[0m_\u001b[0m\u001b[0;34m,\u001b[0m \u001b[0mproject\u001b[0m \u001b[0;34m=\u001b[0m \u001b[0mgoogle\u001b[0m\u001b[0;34m.\u001b[0m\u001b[0mauth\u001b[0m\u001b[0;34m.\u001b[0m\u001b[0mdefault\u001b[0m\u001b[0;34m(\u001b[0m\u001b[0;34m)\u001b[0m\u001b[0;34m\u001b[0m\u001b[0;34m\u001b[0m\u001b[0m\n\u001b[0m\u001b[1;32m    187\u001b[0m     \u001b[0;32mreturn\u001b[0m \u001b[0mproject\u001b[0m\u001b[0;34m\u001b[0m\u001b[0;34m\u001b[0m\u001b[0m\n\u001b[1;32m    188\u001b[0m \u001b[0;34m\u001b[0m\u001b[0m\n",
            "\u001b[0;32m/usr/local/lib/python3.7/dist-packages/google/auth/_default.py\u001b[0m in \u001b[0;36mdefault\u001b[0;34m(scopes, request, quota_project_id, default_scopes)\u001b[0m\n\u001b[1;32m    457\u001b[0m \u001b[0;34m\u001b[0m\u001b[0m\n\u001b[1;32m    458\u001b[0m     \u001b[0;32mfor\u001b[0m \u001b[0mchecker\u001b[0m \u001b[0;32min\u001b[0m \u001b[0mcheckers\u001b[0m\u001b[0;34m:\u001b[0m\u001b[0;34m\u001b[0m\u001b[0;34m\u001b[0m\u001b[0m\n\u001b[0;32m--> 459\u001b[0;31m         \u001b[0mcredentials\u001b[0m\u001b[0;34m,\u001b[0m \u001b[0mproject_id\u001b[0m \u001b[0;34m=\u001b[0m \u001b[0mchecker\u001b[0m\u001b[0;34m(\u001b[0m\u001b[0;34m)\u001b[0m\u001b[0;34m\u001b[0m\u001b[0;34m\u001b[0m\u001b[0m\n\u001b[0m\u001b[1;32m    460\u001b[0m         \u001b[0;32mif\u001b[0m \u001b[0mcredentials\u001b[0m \u001b[0;32mis\u001b[0m \u001b[0;32mnot\u001b[0m \u001b[0;32mNone\u001b[0m\u001b[0;34m:\u001b[0m\u001b[0;34m\u001b[0m\u001b[0;34m\u001b[0m\u001b[0m\n\u001b[1;32m    461\u001b[0m             credentials = with_scopes_if_required(\n",
            "\u001b[0;32m/usr/local/lib/python3.7/dist-packages/google/auth/_default.py\u001b[0m in \u001b[0;36m_get_explicit_environ_credentials\u001b[0;34m()\u001b[0m\n\u001b[1;32m    220\u001b[0m     \u001b[0;32mif\u001b[0m \u001b[0mexplicit_file\u001b[0m \u001b[0;32mis\u001b[0m \u001b[0;32mnot\u001b[0m \u001b[0;32mNone\u001b[0m\u001b[0;34m:\u001b[0m\u001b[0;34m\u001b[0m\u001b[0;34m\u001b[0m\u001b[0m\n\u001b[1;32m    221\u001b[0m         credentials, project_id = load_credentials_from_file(\n\u001b[0;32m--> 222\u001b[0;31m             \u001b[0mos\u001b[0m\u001b[0;34m.\u001b[0m\u001b[0menviron\u001b[0m\u001b[0;34m[\u001b[0m\u001b[0menvironment_vars\u001b[0m\u001b[0;34m.\u001b[0m\u001b[0mCREDENTIALS\u001b[0m\u001b[0;34m]\u001b[0m\u001b[0;34m\u001b[0m\u001b[0;34m\u001b[0m\u001b[0m\n\u001b[0m\u001b[1;32m    223\u001b[0m         )\n\u001b[1;32m    224\u001b[0m \u001b[0;34m\u001b[0m\u001b[0m\n",
            "\u001b[0;32m/usr/local/lib/python3.7/dist-packages/google/auth/_default.py\u001b[0m in \u001b[0;36mload_credentials_from_file\u001b[0;34m(filename, scopes, default_scopes, quota_project_id, request)\u001b[0m\n\u001b[1;32m    106\u001b[0m     \u001b[0;32mif\u001b[0m \u001b[0;32mnot\u001b[0m \u001b[0mos\u001b[0m\u001b[0;34m.\u001b[0m\u001b[0mpath\u001b[0m\u001b[0;34m.\u001b[0m\u001b[0mexists\u001b[0m\u001b[0;34m(\u001b[0m\u001b[0mfilename\u001b[0m\u001b[0;34m)\u001b[0m\u001b[0;34m:\u001b[0m\u001b[0;34m\u001b[0m\u001b[0;34m\u001b[0m\u001b[0m\n\u001b[1;32m    107\u001b[0m         raise exceptions.DefaultCredentialsError(\n\u001b[0;32m--> 108\u001b[0;31m             \u001b[0;34m\"File {} was not found.\"\u001b[0m\u001b[0;34m.\u001b[0m\u001b[0mformat\u001b[0m\u001b[0;34m(\u001b[0m\u001b[0mfilename\u001b[0m\u001b[0;34m)\u001b[0m\u001b[0;34m\u001b[0m\u001b[0;34m\u001b[0m\u001b[0m\n\u001b[0m\u001b[1;32m    109\u001b[0m         )\n\u001b[1;32m    110\u001b[0m \u001b[0;34m\u001b[0m\u001b[0m\n",
            "\u001b[0;31mDefaultCredentialsError\u001b[0m: File gs://chave-grupo8/chave/projetofinalgrupo8-2dcd866c3f46.json was not found."
          ]
        }
      ]
    }
  ]
}