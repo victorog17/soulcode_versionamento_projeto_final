{
  "nbformat": 4,
  "nbformat_minor": 0,
  "metadata": {
    "colab": {
      "name": "003_LINKEDIN_SOCIAL_MEDIA_CONSULTAS_Nivel_SparkSQL.ipynb",
      "provenance": [],
      "collapsed_sections": []
    },
    "kernelspec": {
      "name": "python3",
      "display_name": "Python 3"
    },
    "language_info": {
      "name": "python"
    }
  },
  "cells": [
    {
      "cell_type": "markdown",
      "metadata": {
        "id": "6vqBZY1Yi06r"
      },
      "source": [
        "#Instalação Bibliotecas"
      ]
    },
    {
      "cell_type": "code",
      "metadata": {
        "id": "s5yJtNy5z9cv"
      },
      "source": [
        "pip install pyspark"
      ],
      "execution_count": null,
      "outputs": []
    },
    {
      "cell_type": "code",
      "metadata": {
        "id": "NkXN1Q0p0TFN"
      },
      "source": [
        "pip install fsspec"
      ],
      "execution_count": null,
      "outputs": []
    },
    {
      "cell_type": "code",
      "metadata": {
        "id": "c5rv7RM00VY1"
      },
      "source": [
        "pip install gcsfs"
      ],
      "execution_count": null,
      "outputs": []
    },
    {
      "cell_type": "markdown",
      "metadata": {
        "id": "_lefTOzei6FI"
      },
      "source": [
        "#Bibliotecas"
      ]
    },
    {
      "cell_type": "code",
      "metadata": {
        "id": "WgMkIs940XpI"
      },
      "source": [
        "#Importando funcções padrão. Função Window também importada porque será usado mais na frente\n",
        "import os\n",
        "from google.cloud import storage\n",
        "\n",
        "from pyspark.sql import SparkSession, Window\n",
        "spark = SparkSession.builder.appName('GCSFilesRead').getOrCreate()\n",
        "\n",
        "import pyspark.sql.functions as F\n",
        "from pyspark.sql.functions import to_timestamp, to_date\n",
        "\n",
        "from pyspark.sql.types import *\n",
        "import pandas as pd"
      ],
      "execution_count": null,
      "outputs": []
    },
    {
      "cell_type": "code",
      "metadata": {
        "id": "N-UsNBvq05kK"
      },
      "source": [
        "dfspark = pd.read_csv('gs://projetofinalgrupo8/saida/linkedin_tratado_pyspark.csv', sep=',',encoding='UTF-8')\n",
        "df = spark.createDataFrame(dfspark).createOrReplaceTempView(\"leitura_linkedin\")"
      ],
      "execution_count": null,
      "outputs": []
    },
    {
      "cell_type": "markdown",
      "metadata": {
        "id": "gEk2eeWqi9ya"
      },
      "source": [
        "#Consultas"
      ]
    },
    {
      "cell_type": "markdown",
      "metadata": {
        "id": "fUa42ScJiut2"
      },
      "source": [
        "**00.Consulta geral tabela**"
      ]
    },
    {
      "cell_type": "code",
      "metadata": {
        "colab": {
          "base_uri": "https://localhost:8080/"
        },
        "id": "w-H_SNtO2NCW",
        "outputId": "efa31668-cc32-4d3e-c5f2-e90159bebecd"
      },
      "source": [
        "spark.sql(\"SELECT * FROM leitura_linkedin LIMIT 10\").show()"
      ],
      "execution_count": null,
      "outputs": [
        {
          "output_type": "stream",
          "name": "stdout",
          "text": [
            "+--------------------+----------+---------+-------------------+-----+--------+-----+--------+----+----------+------+------+--------+--------+---------+------------+-------+--------------+----------+----------------+----------------------+\n",
            "|tempo_cargo_anterior|id_usuario|promocoes|dias_cargo_anterior|idade|desfoque|raiva|desgosto|medo|felicidade|neutro|triste|surpresa|   etnia|   genero|      oculos|sorriso| nacionalidade|seguidores|qualidade_imagem|tempo_cargo_anterior\\t|\n",
            "+--------------------+----------+---------+-------------------+-----+--------+-----+--------+----+----------+------+------+--------+--------+---------+------------+-------+--------------+----------+----------------+----------------------+\n",
            "|                 2.0|      3008|        1|                457|   37|    0.42| 76.6|     0.7| 0.7|     99.04|  0.09|  0.01|    0.09|Asiático|Masculino|Oculos_comum|  77.54|asiatico_leste|       420|           67.66|                   2.0|\n",
            "|                 1.0|      3010|        1|               1827|   37|   64.26|  8.2|     8.2| 8.2|      9.59| 63.07|   0.1|    27.0|  Branco|Masculino|Oculos_comum|  63.77|     hispanico|       319|            0.01|                   1.0|\n",
            "|                 1.0|      3012|        1|                243|   31|    2.13|  0.7|    17.5| 5.7|     73.23| 14.74|  0.01|   11.78|  Branco|Masculino|Oculos_comum|   6.67|        ingles|       332|            55.4|                   1.0|\n",
            "|                 1.0|      3013|        1|               3925|   42|    0.35|  0.0|     0.0| 0.0|     100.0|   0.0|   0.0|     0.0|  Branco| Feminino|      Nenhum|  97.43|     hispanico|       784|           94.15|                   1.0|\n",
            "|                 1.0|      3014|        1|                699|   51|    0.32|  1.5|    34.7|29.4|     98.66|  0.09|  0.02|    0.58|  Branco| Feminino|      Nenhum|  98.94|        ingles|      1607|           59.92|                   1.0|\n",
            "|                 1.0|      3015|        1|                 61|   42|    0.37|  0.0|     0.0| 0.0|     100.0|   0.0|   0.0|     0.0|  Branco|Masculino|      Nenhum|  94.81|       europeu|      2222|           75.54|                   1.0|\n",
            "|                 1.0|      3016|        1|                395|   33|    0.36|  0.0|     0.0| 0.0|     96.42|  3.44|   0.0|    0.14|Asiático|Masculino|Oculos_comum|  10.48|asiatico_leste|      1259|            94.1|                   1.0|\n",
            "|                 2.0|      3017|        1|               1096|   50|    2.31|  0.0|     0.0| 0.0|     100.0|   0.0|   0.0|     0.0|  Branco|Masculino|      Nenhum|   95.8|        ingles|       331|            88.0|                   2.0|\n",
            "|                 1.0|      3018|        1|                913|   35|    0.37|  0.9|    65.0| 0.4|     56.51| 42.82|  0.01|     0.0|Asiático|Masculino|Oculos_comum|   35.2|asiatico_leste|      1634|           84.12|                   1.0|\n",
            "|                 4.0|      3020|        1|                820|   39|    0.36|  0.7|     0.7|23.1|     92.46|  7.29|  0.01|    0.01|  Branco|Masculino|      Nenhum|  31.03|asiatico_leste|       213|           92.84|                   4.0|\n",
            "+--------------------+----------+---------+-------------------+-----+--------+-----+--------+----+----------+------+------+--------+--------+---------+------------+-------+--------------+----------+----------------+----------------------+\n",
            "\n"
          ]
        }
      ]
    },
    {
      "cell_type": "markdown",
      "metadata": {
        "id": "MfAF1__Uinee"
      },
      "source": [
        "**01.Pessoas com mais de 50 anos que usam óculos escuros**\n",
        "\n",
        "---\n",
        "\n"
      ]
    },
    {
      "cell_type": "code",
      "metadata": {
        "colab": {
          "base_uri": "https://localhost:8080/"
        },
        "id": "IdwyUlKS2WsJ",
        "outputId": "8ec56565-432c-4eed-f67b-840958d6e8d3"
      },
      "source": [
        "spark.sql(\"SELECT * FROM leitura_linkedin WHERE oculos = 'Oculos_escuros' AND idade > 50 ORDER BY idade DESC LIMIT 10\").show()"
      ],
      "execution_count": null,
      "outputs": [
        {
          "output_type": "stream",
          "name": "stdout",
          "text": [
            "+--------------------+----------+---------+-------------------+-----+--------+-----+--------+----+----------+------+------+--------+------+---------+--------------+-------+-------------+----------+----------------+----------------------+\n",
            "|tempo_cargo_anterior|id_usuario|promocoes|dias_cargo_anterior|idade|desfoque|raiva|desgosto|medo|felicidade|neutro|triste|surpresa| etnia|   genero|        oculos|sorriso|nacionalidade|seguidores|qualidade_imagem|tempo_cargo_anterior\\t|\n",
            "+--------------------+----------+---------+-------------------+-----+--------+-----+--------+----+----------+------+------+--------+------+---------+--------------+-------+-------------+----------+----------------+----------------------+\n",
            "|                 1.0|      2546|        1|               1795|   74|    0.22| 12.7|     1.8| 2.8|     96.59|  0.07|  3.15|    0.02|Branco|Masculino|Oculos_escuros|  62.73|       ingles|       522|           94.29|                   1.0|\n",
            "|                 1.0|     12557|        1|               3622|   71|    0.27|  0.0|     0.1| 0.0|      0.17| 99.82|   0.0|    0.01| Negro|Masculino|Oculos_escuros|  12.58| asiatico_sul|      1184|           56.95|                   1.0|\n",
            "|                 1.0|      4143|        1|                 61|   69|    0.22|  3.5|    10.0| 3.5|     97.99|   0.4|  1.08|    0.36|Branco|Masculino|Oculos_escuros|  29.83| asiatico_sul|       831|           87.97|                   1.0|\n",
            "|                 1.0|      1054|        1|                 92|   68|    0.75|  0.4|     0.1| 2.2|       0.0|  97.1|   2.8|    0.07|Branco|Masculino|Oculos_escuros|  14.53|    muculmano|       844|           46.46|                   1.0|\n",
            "|                 1.0|      7701|        1|                365|   67|   19.82|  0.3|     0.3| 0.3|      0.49| 95.86|  1.02|    2.62|Branco|Masculino|Oculos_escuros|  11.37| asiatico_sul|       604|           53.34|                   1.0|\n",
            "|                 1.0|     10984|        1|                212|   67|   74.03|  0.0|     0.0| 1.0|      0.02| 99.97|   0.0|     0.0|Branco|Masculino|Oculos_escuros|  15.31| asiatico_sul|      2284|            0.01|                   1.0|\n",
            "|                 1.0|     11107|        1|               1673|   66|   87.99|  0.4|    15.2| 0.4|     87.37| 12.46|   0.0|     0.0|Branco|Masculino|Oculos_escuros|  70.34|       ingles|       313|            0.01|                   1.0|\n",
            "|                 1.0|     12391|        1|               3774|   65|   32.98| 17.2|    68.4| 5.6|      0.06|  0.51| 14.31|   84.21|Branco|Masculino|Oculos_escuros|   52.2|       ingles|       638|            0.01|                   1.0|\n",
            "|                 1.0|      7985|        1|               1065|   64|    0.98| 56.7|     2.6| 2.6|     67.07| 31.96|  0.03|    0.32|Branco|Masculino|Oculos_escuros|  85.42| asiatico_sul|      1038|           93.39|                   1.0|\n",
            "|                 1.0|        42|        1|               1310|   64|   19.06| 68.5|     1.7| 1.7|      4.49| 94.59|  0.14|    0.07| Negro|Masculino|Oculos_escuros|  47.63|       ingles|       233|            0.01|                   1.0|\n",
            "+--------------------+----------+---------+-------------------+-----+--------+-----+--------+----+----------+------+------+--------+------+---------+--------------+-------+-------------+----------+----------------+----------------------+\n",
            "\n"
          ]
        }
      ]
    },
    {
      "cell_type": "markdown",
      "metadata": {
        "id": "81kmBdh3iSg0"
      },
      "source": [
        "**02.Consulta pessoas negras entre 16 e 20 anos com suas respectivas nacionalidades e número de seguidores**"
      ]
    },
    {
      "cell_type": "code",
      "metadata": {
        "colab": {
          "base_uri": "https://localhost:8080/"
        },
        "id": "MxguT3_lWAXv",
        "outputId": "93a3415b-3495-419e-c573-3c696409ebd2"
      },
      "source": [
        "spark.sql(\"SELECT idade, genero, nacionalidade, seguidores, qualidade_imagem \\\n",
        "           FROM leitura_linkedin \\\n",
        "           WHERE (idade >= 16 AND idade <= 20 AND etnia = 'Negro') \\\n",
        "           ORDER BY seguidores DESC\").show()"
      ],
      "execution_count": null,
      "outputs": [
        {
          "output_type": "stream",
          "name": "stdout",
          "text": [
            "+-----+---------+--------------+----------+----------------+\n",
            "|idade|   genero| nacionalidade|seguidores|qualidade_imagem|\n",
            "+-----+---------+--------------+----------+----------------+\n",
            "|   18| Feminino|  asiatico_sul|      1952|           93.31|\n",
            "|   19|Masculino|asiatico_leste|      1740|           93.37|\n",
            "|   18|Masculino|  asiatico_sul|      1594|           93.12|\n",
            "|   20| Feminino|      africano|      1460|           82.49|\n",
            "|   18|Masculino|  asiatico_sul|      1293|           88.53|\n",
            "|   20|Masculino|  asiatico_sul|       916|           77.78|\n",
            "|   16|Masculino|  asiatico_sul|       867|            87.7|\n",
            "|   20|Masculino|        ingles|       830|           92.35|\n",
            "|   20|Masculino|       europeu|       772|           87.31|\n",
            "|   19|Masculino|  asiatico_sul|       743|            0.46|\n",
            "|   20|Masculino|     muculmano|       679|           90.02|\n",
            "|   19|Masculino|  asiatico_sul|       652|           51.78|\n",
            "|   20|Masculino|  asiatico_sul|       600|            6.56|\n",
            "|   17|Masculino|asiatico_leste|       314|           85.72|\n",
            "|   20|Masculino|  asiatico_sul|       244|           82.47|\n",
            "|   20|Masculino|        ingles|         0|           30.06|\n",
            "+-----+---------+--------------+----------+----------------+\n",
            "\n"
          ]
        }
      ]
    },
    {
      "cell_type": "markdown",
      "metadata": {
        "id": "ZVktrg7MiMQS"
      },
      "source": [
        "**03.Consulta pessoas que usam ou não óculos por nacionalidade**"
      ]
    },
    {
      "cell_type": "code",
      "metadata": {
        "colab": {
          "base_uri": "https://localhost:8080/"
        },
        "id": "90OoaBmAVWq6",
        "outputId": "5465b45e-1661-4afc-d8cd-fc219859a1be"
      },
      "source": [
        "spark.sql(\"SELECT nacionalidade, COUNT(nacionalidade) AS qty_nacionalidade, SUM(case when oculos = 'Oculos_comum' then 1 else 0 end) AS usa_oculos, \\\n",
        "                  SUM(case when oculos = 'Oculos_escuros' then 1 else 0 end) AS usa_oculos_escuros, \\\n",
        "                  SUM(case when oculos = 'Nenhum' then 1 else 0 end) AS sem_oculos \\\n",
        "           FROM leitura_linkedin \\\n",
        "           GROUP BY nacionalidade \\\n",
        "           ORDER BY qty_nacionalidade DESC\").show()"
      ],
      "execution_count": null,
      "outputs": [
        {
          "output_type": "stream",
          "name": "stdout",
          "text": [
            "+--------------+-----------------+----------+------------------+----------+\n",
            "| nacionalidade|qty_nacionalidade|usa_oculos|usa_oculos_escuros|sem_oculos|\n",
            "+--------------+-----------------+----------+------------------+----------+\n",
            "|        ingles|             4491|       755|                78|      3658|\n",
            "|  asiatico_sul|             1947|       487|                88|      1372|\n",
            "|       europeu|             1893|       324|                39|      1530|\n",
            "|asiatico_leste|             1220|       432|                17|       771|\n",
            "|     hispanico|             1177|       186|                27|       964|\n",
            "|     muculmano|              675|       149|                23|       503|\n",
            "|       nordico|              246|        59|                 4|       183|\n",
            "|      africano|               85|        11|                 1|        73|\n",
            "|         grego|               62|         8|                 0|        54|\n",
            "|         judeu|               45|         6|                 2|        37|\n",
            "+--------------+-----------------+----------+------------------+----------+\n",
            "\n"
          ]
        }
      ]
    },
    {
      "cell_type": "markdown",
      "metadata": {
        "id": "4AllMbPjiEDf"
      },
      "source": [
        "**04.Consulta média de seguidores e quantidade de mulheres influenciadoras no \n",
        "LinkedIn por nacionalidade**"
      ]
    },
    {
      "cell_type": "code",
      "metadata": {
        "colab": {
          "base_uri": "https://localhost:8080/"
        },
        "id": "aJj8l0FsU26c",
        "outputId": "84929247-8769-4192-f9ec-c60486a4e4a2"
      },
      "source": [
        "spark.sql(\"SELECT nacionalidade, COUNT(nacionalidade) AS qty_mulheres, ROUND(MEAN(seguidores), 2) AS media_seguidores \\\n",
        "           FROM leitura_linkedin \\\n",
        "           WHERE genero = 'Feminino' \\\n",
        "           GROUP BY nacionalidade \\\n",
        "           ORDER BY media_seguidores DESC\").show()"
      ],
      "execution_count": null,
      "outputs": [
        {
          "output_type": "stream",
          "name": "stdout",
          "text": [
            "+--------------+------------+----------------+\n",
            "| nacionalidade|qty_mulheres|media_seguidores|\n",
            "+--------------+------------+----------------+\n",
            "|     muculmano|         106|         1025.08|\n",
            "|       europeu|         470|         1017.66|\n",
            "|      africano|          15|           999.0|\n",
            "|  asiatico_sul|         328|          980.11|\n",
            "|         grego|          16|          943.31|\n",
            "|        ingles|        1237|          939.12|\n",
            "|     hispanico|         367|           821.1|\n",
            "|         judeu|           6|           786.5|\n",
            "|asiatico_leste|         392|           698.7|\n",
            "|       nordico|          56|          695.02|\n",
            "+--------------+------------+----------------+\n",
            "\n"
          ]
        }
      ]
    },
    {
      "cell_type": "markdown",
      "metadata": {
        "id": "0POikBtZegYV"
      },
      "source": [
        "**05.Consulta quantidade de homens e mulheres por etnia**"
      ]
    },
    {
      "cell_type": "code",
      "metadata": {
        "colab": {
          "base_uri": "https://localhost:8080/"
        },
        "id": "T3bTQnFpSAFj",
        "outputId": "e5bcfe36-8c95-4229-d866-0551dfabdebf"
      },
      "source": [
        "spark.sql(\"SELECT DISTINCT etnia, COUNT(etnia) AS qty_etnia, SUM(case when genero = 'Masculino' then 1 else 0 end) AS qty_homens, \\\n",
        "                                  SUM(case when genero = 'Feminino' then 1 else 0 end) AS qty_mulheres  \\\n",
        "           FROM leitura_linkedin \\\n",
        "           GROUP BY etnia\").show()"
      ],
      "execution_count": null,
      "outputs": [
        {
          "output_type": "stream",
          "name": "stdout",
          "text": [
            "+--------+---------+----------+------------+\n",
            "|   etnia|qty_etnia|qty_homens|qty_mulheres|\n",
            "+--------+---------+----------+------------+\n",
            "|   Negro|      942|       821|         121|\n",
            "|Asiático|     1963|      1346|         617|\n",
            "|  Branco|     8936|      6681|        2255|\n",
            "+--------+---------+----------+------------+\n",
            "\n"
          ]
        }
      ]
    },
    {
      "cell_type": "markdown",
      "metadata": {
        "id": "-bt_0oijfzIh"
      },
      "source": [
        "**06.Consulta número de homens e mulheres por etnia, nacionalidade e sexo**\n",
        "\n",
        "\n"
      ]
    },
    {
      "cell_type": "code",
      "metadata": {
        "colab": {
          "base_uri": "https://localhost:8080/"
        },
        "id": "qMGdP345PS1Z",
        "outputId": "a26645ff-4a3a-4d54-e5c4-d845d4578a99"
      },
      "source": [
        "spark.sql(\"SELECT DISTINCT etnia, nacionalidade, SUM(case when genero = 'Masculino' then 1 else 0 end) AS qty_homens, \\\n",
        "                                  SUM(case when genero = 'Feminino' then 1 else 0 end) AS qty_mulheres  \\\n",
        "           FROM leitura_linkedin \\\n",
        "           GROUP BY etnia, nacionalidade \\\n",
        "           ORDER BY nacionalidade, etnia\").show(50)"
      ],
      "execution_count": null,
      "outputs": [
        {
          "output_type": "stream",
          "name": "stdout",
          "text": [
            "+--------+--------------+----------+------------+\n",
            "|   etnia| nacionalidade|qty_homens|qty_mulheres|\n",
            "+--------+--------------+----------+------------+\n",
            "|Asiático|      africano|         6|           4|\n",
            "|  Branco|      africano|        39|           6|\n",
            "|   Negro|      africano|        25|           5|\n",
            "|Asiático|asiatico_leste|       687|         321|\n",
            "|  Branco|asiatico_leste|       111|          62|\n",
            "|   Negro|asiatico_leste|        30|           9|\n",
            "|Asiático|  asiatico_sul|       129|          27|\n",
            "|  Branco|  asiatico_sul|      1061|         259|\n",
            "|   Negro|  asiatico_sul|       429|          42|\n",
            "|Asiático|       europeu|        93|          45|\n",
            "|  Branco|       europeu|      1279|         413|\n",
            "|   Negro|       europeu|        51|          12|\n",
            "|Asiático|         grego|         0|           2|\n",
            "|  Branco|         grego|        45|          14|\n",
            "|   Negro|         grego|         1|           0|\n",
            "|Asiático|     hispanico|       126|          72|\n",
            "|  Branco|     hispanico|       644|         284|\n",
            "|   Negro|     hispanico|        40|          11|\n",
            "|Asiático|        ingles|       241|         127|\n",
            "|  Branco|        ingles|      2841|        1072|\n",
            "|   Negro|        ingles|       172|          38|\n",
            "|Asiático|         judeu|         1|           2|\n",
            "|  Branco|         judeu|        38|           4|\n",
            "|Asiático|     muculmano|        56|          11|\n",
            "|  Branco|     muculmano|       447|          91|\n",
            "|   Negro|     muculmano|        66|           4|\n",
            "|Asiático|       nordico|         7|           6|\n",
            "|  Branco|       nordico|       176|          50|\n",
            "|   Negro|       nordico|         7|           0|\n",
            "+--------+--------------+----------+------------+\n",
            "\n"
          ]
        }
      ]
    },
    {
      "cell_type": "markdown",
      "metadata": {
        "id": "sHlatTGofan_"
      },
      "source": [
        "**07.Consulta quantidade de homens e mulheres entre 36 e 40 anos de acordo com a etnia**\n"
      ]
    },
    {
      "cell_type": "code",
      "metadata": {
        "colab": {
          "base_uri": "https://localhost:8080/"
        },
        "id": "CWoo5SeiOGKi",
        "outputId": "a9b95b32-e528-49e0-a9db-d602ea7ff8a5"
      },
      "source": [
        "spark.sql(\"SELECT DISTINCT idade, etnia, SUM(case when genero = 'Masculino' then 1 else 0 end) AS qty_homens, \\\n",
        "                                  SUM(case when genero = 'Feminino' then 1 else 0 end) AS qty_mulheres  \\\n",
        "           FROM leitura_linkedin \\\n",
        "           WHERE idade >= 36 AND idade <= 40 \\\n",
        "           GROUP BY idade, etnia \\\n",
        "           ORDER BY etnia, idade\").show(50)"
      ],
      "execution_count": null,
      "outputs": [
        {
          "output_type": "stream",
          "name": "stdout",
          "text": [
            "+-----+--------+----------+------------+\n",
            "|idade|   etnia|qty_homens|qty_mulheres|\n",
            "+-----+--------+----------+------------+\n",
            "|   36|Asiático|        59|          15|\n",
            "|   37|Asiático|        45|          30|\n",
            "|   38|Asiático|        50|          11|\n",
            "|   39|Asiático|        44|          17|\n",
            "|   40|Asiático|        64|          17|\n",
            "|   36|  Branco|       166|          51|\n",
            "|   37|  Branco|       188|          63|\n",
            "|   38|  Branco|       185|          62|\n",
            "|   39|  Branco|       200|          64|\n",
            "|   40|  Branco|       247|          68|\n",
            "|   36|   Negro|        36|           2|\n",
            "|   37|   Negro|        32|           9|\n",
            "|   38|   Negro|        31|           6|\n",
            "|   39|   Negro|        21|           4|\n",
            "|   40|   Negro|        42|           0|\n",
            "+-----+--------+----------+------------+\n",
            "\n"
          ]
        }
      ]
    },
    {
      "cell_type": "markdown",
      "metadata": {
        "id": "Kd6MGKGVf_IB"
      },
      "source": [
        "**08.Consulta idades (mais velho, média e mais novo) por etnia e quantos usam ou não usam óculos**\n",
        "\n"
      ]
    },
    {
      "cell_type": "code",
      "metadata": {
        "colab": {
          "base_uri": "https://localhost:8080/"
        },
        "id": "FwQZ93p5JDCD",
        "outputId": "d244c997-4021-4716-de70-d96919a6af4e"
      },
      "source": [
        "spark.sql(\"SELECT DISTINCT etnia, MAX(idade) AS mais_velho, ROUND(MEAN(idade), 2) AS media_idade, MIN(idade) AS mais_novo, \\\n",
        "                           SUM(case when oculos = 'Oculos_comum' then 1 else 0 end) AS usa_oculos, \\\n",
        "                           SUM(case when oculos = 'Oculos_escuros' then 1 else 0 end) AS usa_oculos_escuros, \\\n",
        "                           SUM(case when oculos = 'Nenhum' then 1 else 0 end) AS sem_oculos \\\n",
        "           FROM leitura_linkedin \\\n",
        "           GROUP BY etnia \\\n",
        "           ORDER BY etnia\").show(50)"
      ],
      "execution_count": null,
      "outputs": [
        {
          "output_type": "stream",
          "name": "stdout",
          "text": [
            "+--------+----------+-----------+---------+----------+------------------+----------+\n",
            "|   etnia|mais_velho|media_idade|mais_novo|usa_oculos|usa_oculos_escuros|sem_oculos|\n",
            "+--------+----------+-----------+---------+----------+------------------+----------+\n",
            "|Asiático|        75|      36.37|       16|       624|                68|      1271|\n",
            "|  Branco|        80|      44.84|       16|      1556|               179|      7201|\n",
            "|   Negro|        76|      40.09|       16|       237|                32|       673|\n",
            "+--------+----------+-----------+---------+----------+------------------+----------+\n",
            "\n"
          ]
        }
      ]
    },
    {
      "cell_type": "code",
      "metadata": {
        "id": "0HAsq4m-BkAn"
      },
      "source": [
        ""
      ],
      "execution_count": null,
      "outputs": []
    }
  ]
}