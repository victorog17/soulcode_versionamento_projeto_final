{
  "nbformat": 4,
  "nbformat_minor": 0,
  "metadata": {
    "colab": {
      "name": "002_SOCIAL_MEDIA_TRATAMENTO_DE DADOS_Nivel_Pandas",
      "provenance": [],
      "collapsed_sections": []
    },
    "kernelspec": {
      "name": "python3",
      "display_name": "Python 3"
    },
    "language_info": {
      "name": "python"
    }
  },
  "cells": [
    {
      "cell_type": "markdown",
      "metadata": {
        "id": "nihEUxaSs65o"
      },
      "source": [
        "#**Importações**"
      ]
    },
    {
      "cell_type": "markdown",
      "metadata": {
        "id": "JxXE0WxRelF6"
      },
      "source": [
        "**Bibliotecas**\n"
      ]
    },
    {
      "cell_type": "code",
      "metadata": {
        "id": "v70SccafR4Bx"
      },
      "source": [
        "pip install pandera"
      ],
      "execution_count": null,
      "outputs": []
    },
    {
      "cell_type": "code",
      "metadata": {
        "id": "aNyFDuM-GYrr"
      },
      "source": [
        "from google.cloud import storage\n",
        "import pandera as pa\n",
        "import pandas as pd\n",
        "import numpy as np\n",
        "import os"
      ],
      "execution_count": null,
      "outputs": []
    },
    {
      "cell_type": "markdown",
      "metadata": {
        "id": "f228CLuCeuZs"
      },
      "source": [
        "**Importando DataFrame**"
      ]
    },
    {
      "cell_type": "code",
      "metadata": {
        "id": "fZhbzBTWGtVq"
      },
      "source": [
        "df = pd.read_csv(r'https://storage.googleapis.com/projetofinalgrupo8/saida/youtube_data_base.csv')"
      ],
      "execution_count": null,
      "outputs": []
    },
    {
      "cell_type": "code",
      "metadata": {
        "id": "n9UHmF1RHM06",
        "colab": {
          "base_uri": "https://localhost:8080/",
          "height": 236
        },
        "outputId": "e7aa89fb-266b-4962-c5c4-58a58ece1f86"
      },
      "source": [
        "df.head(2)"
      ],
      "execution_count": null,
      "outputs": [
        {
          "output_type": "execute_result",
          "data": {
            "text/html": [
              "<div>\n",
              "<style scoped>\n",
              "    .dataframe tbody tr th:only-of-type {\n",
              "        vertical-align: middle;\n",
              "    }\n",
              "\n",
              "    .dataframe tbody tr th {\n",
              "        vertical-align: top;\n",
              "    }\n",
              "\n",
              "    .dataframe thead th {\n",
              "        text-align: right;\n",
              "    }\n",
              "</style>\n",
              "<table border=\"1\" class=\"dataframe\">\n",
              "  <thead>\n",
              "    <tr style=\"text-align: right;\">\n",
              "      <th></th>\n",
              "      <th>video_id</th>\n",
              "      <th>title</th>\n",
              "      <th>publishedAt</th>\n",
              "      <th>channelId</th>\n",
              "      <th>channelTitle</th>\n",
              "      <th>trending_date</th>\n",
              "      <th>view_count</th>\n",
              "      <th>likes</th>\n",
              "      <th>dislikes</th>\n",
              "      <th>comment_count</th>\n",
              "      <th>comments_disabled</th>\n",
              "      <th>ratings_disabled</th>\n",
              "      <th>country</th>\n",
              "      <th>json_title</th>\n",
              "    </tr>\n",
              "  </thead>\n",
              "  <tbody>\n",
              "    <tr>\n",
              "      <th>0</th>\n",
              "      <td>s9FH4rDMvds</td>\n",
              "      <td>LEVEI UM FORA? FINGI ESTAR APAIXONADO POR ELA!</td>\n",
              "      <td>2020-08-11T22:21:49Z</td>\n",
              "      <td>UCGfBwrCoi9ZJjKiUK8MmJNw</td>\n",
              "      <td>Pietro Guedes</td>\n",
              "      <td>2020-08-12T00:00:00Z</td>\n",
              "      <td>263835</td>\n",
              "      <td>85095</td>\n",
              "      <td>487</td>\n",
              "      <td>4500</td>\n",
              "      <td>False</td>\n",
              "      <td>False</td>\n",
              "      <td>BR</td>\n",
              "      <td>People &amp; Blogs</td>\n",
              "    </tr>\n",
              "    <tr>\n",
              "      <th>1</th>\n",
              "      <td>jbGRowa5tIk</td>\n",
              "      <td>ITZY “Not Shy” M/V TEASER</td>\n",
              "      <td>2020-08-11T15:00:13Z</td>\n",
              "      <td>UCaO6TYtlC8U5ttz62hTrZgg</td>\n",
              "      <td>JYP Entertainment</td>\n",
              "      <td>2020-08-12T00:00:00Z</td>\n",
              "      <td>6000070</td>\n",
              "      <td>714310</td>\n",
              "      <td>15176</td>\n",
              "      <td>31040</td>\n",
              "      <td>False</td>\n",
              "      <td>False</td>\n",
              "      <td>BR</td>\n",
              "      <td>Music</td>\n",
              "    </tr>\n",
              "  </tbody>\n",
              "</table>\n",
              "</div>"
            ],
            "text/plain": [
              "      video_id  ...      json_title\n",
              "0  s9FH4rDMvds  ...  People & Blogs\n",
              "1  jbGRowa5tIk  ...           Music\n",
              "\n",
              "[2 rows x 14 columns]"
            ]
          },
          "metadata": {},
          "execution_count": 3
        }
      ]
    },
    {
      "cell_type": "markdown",
      "metadata": {
        "id": "OqfZloFFtCMh"
      },
      "source": [
        "#**Exploração dos dados**"
      ]
    },
    {
      "cell_type": "markdown",
      "metadata": {
        "id": "-E_ejgyhe17v"
      },
      "source": [
        "**Verificando dimensão do DataFrame**"
      ]
    },
    {
      "cell_type": "code",
      "metadata": {
        "id": "d_2uz1YwDX-8",
        "colab": {
          "base_uri": "https://localhost:8080/"
        },
        "outputId": "db2c43e7-5c7d-48ec-b94d-d2a24f100084"
      },
      "source": [
        "df.shape"
      ],
      "execution_count": null,
      "outputs": [
        {
          "output_type": "execute_result",
          "data": {
            "text/plain": [
              "(1021622, 14)"
            ]
          },
          "metadata": {},
          "execution_count": 6
        }
      ]
    },
    {
      "cell_type": "markdown",
      "metadata": {
        "id": "33d922BAtP_E"
      },
      "source": [
        "**Tipos dos dados**"
      ]
    },
    {
      "cell_type": "code",
      "metadata": {
        "colab": {
          "base_uri": "https://localhost:8080/"
        },
        "id": "Ca21axkptNWt",
        "outputId": "b77b20c4-9376-40c2-81e6-a6bf9da29776"
      },
      "source": [
        "df.dtypes"
      ],
      "execution_count": null,
      "outputs": [
        {
          "output_type": "execute_result",
          "data": {
            "text/plain": [
              "video_id             object\n",
              "title                object\n",
              "publishedAt          object\n",
              "channelId            object\n",
              "channelTitle         object\n",
              "trending_date        object\n",
              "view_count            int64\n",
              "likes                 int64\n",
              "dislikes              int64\n",
              "comment_count         int64\n",
              "comments_disabled      bool\n",
              "ratings_disabled       bool\n",
              "country              object\n",
              "json_title           object\n",
              "dtype: object"
            ]
          },
          "metadata": {},
          "execution_count": 7
        }
      ]
    },
    {
      "cell_type": "markdown",
      "metadata": {
        "id": "qnx12jiYfD8x"
      },
      "source": [
        "#Backup"
      ]
    },
    {
      "cell_type": "code",
      "metadata": {
        "id": "NUcs4L6D0xvq"
      },
      "source": [
        "df2 = df.copy()"
      ],
      "execution_count": null,
      "outputs": []
    },
    {
      "cell_type": "markdown",
      "metadata": {
        "id": "d21tdzebfHS0"
      },
      "source": [
        "#Renomeando colunas e dados Categoricos"
      ]
    },
    {
      "cell_type": "markdown",
      "metadata": {
        "id": "0ftdXDVMe7mF"
      },
      "source": [
        "**Criando listas para renomear colunas**"
      ]
    },
    {
      "cell_type": "code",
      "metadata": {
        "id": "L094aw9LiQj6"
      },
      "source": [
        "col_old = ['video_id', 'title', 'publishedAt', 'channelId', 'channelTitle',\n",
        "       'trending_date', 'view_count', 'likes', 'dislikes', 'comment_count',\n",
        "       'comments_disabled', 'ratings_disabled', 'country', 'json_title']\n",
        "\n",
        "col_new = ['id_video', 'titulo_video', 'publicado_em', 'id_canal', 'nome_canal',\n",
        "           'data_destaque', 'cont_visualizacao', 'curtidas', 'nao_curtidas', 'cont_comentarios',\n",
        "           'comentarios_desabilitados', 'curtidas_desabilitadas', 'pais', 'categoria']"
      ],
      "execution_count": null,
      "outputs": []
    },
    {
      "cell_type": "code",
      "metadata": {
        "id": "hMCyn1pHgeAs"
      },
      "source": [
        "df2.columns = col_new"
      ],
      "execution_count": null,
      "outputs": []
    },
    {
      "cell_type": "code",
      "metadata": {
        "id": "wGscn5Sn27Vo",
        "colab": {
          "base_uri": "https://localhost:8080/",
          "height": 236
        },
        "outputId": "8e3f4330-844c-4172-fffc-584d2ca45ec9"
      },
      "source": [
        "df2.head(2)"
      ],
      "execution_count": null,
      "outputs": [
        {
          "output_type": "execute_result",
          "data": {
            "text/html": [
              "<div>\n",
              "<style scoped>\n",
              "    .dataframe tbody tr th:only-of-type {\n",
              "        vertical-align: middle;\n",
              "    }\n",
              "\n",
              "    .dataframe tbody tr th {\n",
              "        vertical-align: top;\n",
              "    }\n",
              "\n",
              "    .dataframe thead th {\n",
              "        text-align: right;\n",
              "    }\n",
              "</style>\n",
              "<table border=\"1\" class=\"dataframe\">\n",
              "  <thead>\n",
              "    <tr style=\"text-align: right;\">\n",
              "      <th></th>\n",
              "      <th>id_video</th>\n",
              "      <th>titulo_video</th>\n",
              "      <th>publicado_em</th>\n",
              "      <th>id_canal</th>\n",
              "      <th>nome_canal</th>\n",
              "      <th>data_destaque</th>\n",
              "      <th>cont_visualizacao</th>\n",
              "      <th>curtidas</th>\n",
              "      <th>nao_curtidas</th>\n",
              "      <th>cont_comentarios</th>\n",
              "      <th>comentarios_desabilitados</th>\n",
              "      <th>curtidas_desabilitadas</th>\n",
              "      <th>pais</th>\n",
              "      <th>categoria</th>\n",
              "    </tr>\n",
              "  </thead>\n",
              "  <tbody>\n",
              "    <tr>\n",
              "      <th>0</th>\n",
              "      <td>s9FH4rDMvds</td>\n",
              "      <td>LEVEI UM FORA? FINGI ESTAR APAIXONADO POR ELA!</td>\n",
              "      <td>2020-08-11T22:21:49Z</td>\n",
              "      <td>UCGfBwrCoi9ZJjKiUK8MmJNw</td>\n",
              "      <td>Pietro Guedes</td>\n",
              "      <td>2020-08-12T00:00:00Z</td>\n",
              "      <td>263835</td>\n",
              "      <td>85095</td>\n",
              "      <td>487</td>\n",
              "      <td>4500</td>\n",
              "      <td>False</td>\n",
              "      <td>False</td>\n",
              "      <td>BR</td>\n",
              "      <td>People &amp; Blogs</td>\n",
              "    </tr>\n",
              "    <tr>\n",
              "      <th>1</th>\n",
              "      <td>jbGRowa5tIk</td>\n",
              "      <td>ITZY “Not Shy” M/V TEASER</td>\n",
              "      <td>2020-08-11T15:00:13Z</td>\n",
              "      <td>UCaO6TYtlC8U5ttz62hTrZgg</td>\n",
              "      <td>JYP Entertainment</td>\n",
              "      <td>2020-08-12T00:00:00Z</td>\n",
              "      <td>6000070</td>\n",
              "      <td>714310</td>\n",
              "      <td>15176</td>\n",
              "      <td>31040</td>\n",
              "      <td>False</td>\n",
              "      <td>False</td>\n",
              "      <td>BR</td>\n",
              "      <td>Music</td>\n",
              "    </tr>\n",
              "  </tbody>\n",
              "</table>\n",
              "</div>"
            ],
            "text/plain": [
              "      id_video  ...       categoria\n",
              "0  s9FH4rDMvds  ...  People & Blogs\n",
              "1  jbGRowa5tIk  ...           Music\n",
              "\n",
              "[2 rows x 14 columns]"
            ]
          },
          "metadata": {},
          "execution_count": 14
        }
      ]
    },
    {
      "cell_type": "markdown",
      "metadata": {
        "id": "VNcBy6UKfe8j"
      },
      "source": [
        "**Vericando tipos de categorias**"
      ]
    },
    {
      "cell_type": "code",
      "metadata": {
        "colab": {
          "base_uri": "https://localhost:8080/"
        },
        "id": "mYAqVugY3SKC",
        "outputId": "66c9da4a-2185-45a8-ec8f-5e104413e0bf"
      },
      "source": [
        "df2['categoria'].unique()"
      ],
      "execution_count": null,
      "outputs": [
        {
          "output_type": "execute_result",
          "data": {
            "text/plain": [
              "array(['People & Blogs', 'Music', 'Gaming', 'Comedy', 'Sports',\n",
              "       'Entertainment', 'Education', 'Autos & Vehicles', 'Howto & Style',\n",
              "       'News & Politics', 'Science & Technology', 'Film & Animation',\n",
              "       'Travel & Events', 'Pets & Animals', nan], dtype=object)"
            ]
          },
          "metadata": {},
          "execution_count": 15
        }
      ]
    },
    {
      "cell_type": "markdown",
      "metadata": {
        "id": "RXTE01OygC5W"
      },
      "source": [
        "**Criando listas para renomear as categorias**"
      ]
    },
    {
      "cell_type": "code",
      "metadata": {
        "id": "nRfQ1Mmy334W"
      },
      "source": [
        "categoria_antiga = ['People & Blogs', 'Music', 'Gaming', 'Comedy', 'Sports',\n",
        "       'Entertainment', 'Education', 'Autos & Vehicles', 'Howto & Style',\n",
        "       'News & Politics', 'Science & Technology', 'Film & Animation',\n",
        "       'Travel & Events', 'Pets & Animals']\n",
        "\n",
        "categoria_nova = ['pessoas_e_blogs', 'musica', 'jogos', 'comedia', 'esportes',\n",
        "                  'entretenimento', 'educacao', 'automoveis', 'como_faz_e_estilos',\n",
        "                  'noticias_e_politicas', 'ciencias_e_tecnologia', 'filme_e_animacao',\n",
        "                  'viagens_e_eventos', 'animais']"
      ],
      "execution_count": null,
      "outputs": []
    },
    {
      "cell_type": "markdown",
      "metadata": {
        "id": "ciAVRO4sgHOs"
      },
      "source": [
        "**Renomeando categorias**"
      ]
    },
    {
      "cell_type": "code",
      "metadata": {
        "id": "ikOYsIg06ZX6"
      },
      "source": [
        "df2['categoria'] = df2['categoria'].replace(categoria_antiga, categoria_nova)"
      ],
      "execution_count": null,
      "outputs": []
    },
    {
      "cell_type": "markdown",
      "metadata": {
        "id": "70PezcdWgnI5"
      },
      "source": [
        "#Formatando datetime"
      ]
    },
    {
      "cell_type": "markdown",
      "metadata": {
        "id": "gtjpgRQ3ggfA"
      },
      "source": [
        "**Verificando os tipos de dados do DataFrame**"
      ]
    },
    {
      "cell_type": "code",
      "metadata": {
        "colab": {
          "base_uri": "https://localhost:8080/"
        },
        "id": "f1k0D6vEDg-S",
        "outputId": "fc19f193-32fa-48d2-cb22-a75c3136b337"
      },
      "source": [
        "df2.dtypes"
      ],
      "execution_count": null,
      "outputs": [
        {
          "output_type": "execute_result",
          "data": {
            "text/plain": [
              "id_video                     object\n",
              "titulo_video                 object\n",
              "publicado_em                 object\n",
              "id_canal                     object\n",
              "nome_canal                   object\n",
              "data_destaque                object\n",
              "cont_visualizacao             int64\n",
              "curtidas                      int64\n",
              "nao_curtidas                  int64\n",
              "cont_comentarios              int64\n",
              "comentarios_desabilitados      bool\n",
              "curtidas_desabilitadas         bool\n",
              "pais                         object\n",
              "categoria                    object\n",
              "dtype: object"
            ]
          },
          "metadata": {},
          "execution_count": 18
        }
      ]
    },
    {
      "cell_type": "code",
      "metadata": {
        "id": "Po1QGXlxFi8o"
      },
      "source": [
        "df2['publicado_em'] = pd.to_datetime(df2['publicado_em']).dt.strftime(\"%Y-%m-%d %H:%M:%S\")\n",
        "df2['publicado_em'] = pd.to_datetime(df2['publicado_em'])"
      ],
      "execution_count": null,
      "outputs": []
    },
    {
      "cell_type": "code",
      "metadata": {
        "id": "SPN9FfmVl_2i"
      },
      "source": [
        "df2['data_destaque'] = pd.to_datetime(df2['data_destaque']).dt.strftime(\"%Y-%m-%d\")\n",
        "df2['data_destaque'] = pd.to_datetime(df2['data_destaque'])"
      ],
      "execution_count": null,
      "outputs": []
    },
    {
      "cell_type": "code",
      "metadata": {
        "colab": {
          "base_uri": "https://localhost:8080/"
        },
        "id": "Waao6EITSwei",
        "outputId": "063b4d4a-bf11-4e34-8685-90d83833f83d"
      },
      "source": [
        "df2.dtypes"
      ],
      "execution_count": null,
      "outputs": [
        {
          "output_type": "execute_result",
          "data": {
            "text/plain": [
              "id_video                             object\n",
              "titulo_video                         object\n",
              "publicado_em                 datetime64[ns]\n",
              "id_canal                             object\n",
              "nome_canal                           object\n",
              "data_destaque                datetime64[ns]\n",
              "cont_visualizacao                     int64\n",
              "curtidas                              int64\n",
              "nao_curtidas                          int64\n",
              "cont_comentarios                      int64\n",
              "comentarios_desabilitados              bool\n",
              "curtidas_desabilitadas                 bool\n",
              "pais                                 object\n",
              "categoria                            object\n",
              "dtype: object"
            ]
          },
          "metadata": {},
          "execution_count": 21
        }
      ]
    },
    {
      "cell_type": "code",
      "metadata": {
        "id": "sBOZTlQqMPGN",
        "colab": {
          "base_uri": "https://localhost:8080/",
          "height": 170
        },
        "outputId": "c6e7f65e-041c-4747-8aa2-db2ccb6aac4c"
      },
      "source": [
        "df2.sample()"
      ],
      "execution_count": null,
      "outputs": [
        {
          "output_type": "execute_result",
          "data": {
            "text/html": [
              "<div>\n",
              "<style scoped>\n",
              "    .dataframe tbody tr th:only-of-type {\n",
              "        vertical-align: middle;\n",
              "    }\n",
              "\n",
              "    .dataframe tbody tr th {\n",
              "        vertical-align: top;\n",
              "    }\n",
              "\n",
              "    .dataframe thead th {\n",
              "        text-align: right;\n",
              "    }\n",
              "</style>\n",
              "<table border=\"1\" class=\"dataframe\">\n",
              "  <thead>\n",
              "    <tr style=\"text-align: right;\">\n",
              "      <th></th>\n",
              "      <th>id_video</th>\n",
              "      <th>titulo_video</th>\n",
              "      <th>publicado_em</th>\n",
              "      <th>id_canal</th>\n",
              "      <th>nome_canal</th>\n",
              "      <th>data_destaque</th>\n",
              "      <th>cont_visualizacao</th>\n",
              "      <th>curtidas</th>\n",
              "      <th>nao_curtidas</th>\n",
              "      <th>cont_comentarios</th>\n",
              "      <th>comentarios_desabilitados</th>\n",
              "      <th>curtidas_desabilitadas</th>\n",
              "      <th>pais</th>\n",
              "      <th>categoria</th>\n",
              "    </tr>\n",
              "  </thead>\n",
              "  <tbody>\n",
              "    <tr>\n",
              "      <th>200903</th>\n",
              "      <td>jWyGWqxAras</td>\n",
              "      <td>Linke Hausbesetzer-Szene (2/2): Die Räumung vo...</td>\n",
              "      <td>2020-10-13 10:00:10</td>\n",
              "      <td>UC1w6pNGiiLdZgyNpXUnA4Zw</td>\n",
              "      <td>DER SPIEGEL</td>\n",
              "      <td>2020-10-17</td>\n",
              "      <td>544677</td>\n",
              "      <td>9292</td>\n",
              "      <td>513</td>\n",
              "      <td>1504</td>\n",
              "      <td>False</td>\n",
              "      <td>False</td>\n",
              "      <td>DE</td>\n",
              "      <td>noticias_e_politicas</td>\n",
              "    </tr>\n",
              "  </tbody>\n",
              "</table>\n",
              "</div>"
            ],
            "text/plain": [
              "           id_video  ...             categoria\n",
              "200903  jWyGWqxAras  ...  noticias_e_politicas\n",
              "\n",
              "[1 rows x 14 columns]"
            ]
          },
          "metadata": {},
          "execution_count": 22
        }
      ]
    },
    {
      "cell_type": "markdown",
      "metadata": {
        "id": "8FuDdKd-uil3"
      },
      "source": [
        "#Tratando dados nulos"
      ]
    },
    {
      "cell_type": "markdown",
      "metadata": {
        "id": "hmoks6hvgNHy"
      },
      "source": [
        "**Verificando números de dados nulos**"
      ]
    },
    {
      "cell_type": "code",
      "metadata": {
        "colab": {
          "base_uri": "https://localhost:8080/"
        },
        "id": "wi8BF-mP6rz4",
        "outputId": "74a7357c-dc82-44a2-e846-d460b300b4c5"
      },
      "source": [
        "df2.isna().sum()"
      ],
      "execution_count": null,
      "outputs": [
        {
          "output_type": "execute_result",
          "data": {
            "text/plain": [
              "id_video                        0\n",
              "titulo_video                    0\n",
              "publicado_em                    0\n",
              "id_canal                        0\n",
              "nome_canal                      1\n",
              "data_destaque                   0\n",
              "cont_visualizacao               0\n",
              "curtidas                        0\n",
              "nao_curtidas                    0\n",
              "cont_comentarios                0\n",
              "comentarios_desabilitados       0\n",
              "curtidas_desabilitadas          0\n",
              "pais                            0\n",
              "categoria                    2951\n",
              "dtype: int64"
            ]
          },
          "metadata": {},
          "execution_count": 23
        }
      ]
    },
    {
      "cell_type": "markdown",
      "metadata": {
        "id": "kV1KjkilAn4t"
      },
      "source": [
        "**Tratando os valores nulos da coluna \"Categoria\"**"
      ]
    },
    {
      "cell_type": "code",
      "metadata": {
        "id": "Vi5T5Hea_tfh"
      },
      "source": [
        "categoria_antiga = ['People & Blogs', 'Music', 'Gaming', 'Comedy', 'Sports',\n",
        "       'Entertainment', 'Education', 'Autos & Vehicles', 'Howto & Style',\n",
        "       'News & Politics', 'Science & Technology', 'Film & Animation',\n",
        "       'Travel & Events', 'Pets & Animals', np.nan]\n",
        "\n",
        "categoria_nova = ['pessoas_e_blogs', 'musica', 'jogos', 'comedia', 'esportes',\n",
        "                  'entretenimento', 'educacao', 'automoveis', 'como_faz_e_estilos',\n",
        "                  'noticias_e_politicas', 'ciencias_e_tecnologia', 'filme_e_animacao',\n",
        "                  'viagens_e_eventos', 'animais', 'outros']"
      ],
      "execution_count": null,
      "outputs": []
    },
    {
      "cell_type": "code",
      "metadata": {
        "id": "SlkLcq7t_goG"
      },
      "source": [
        "df2['categoria'] = df2['categoria'].replace(categoria_antiga, categoria_nova)"
      ],
      "execution_count": null,
      "outputs": []
    },
    {
      "cell_type": "code",
      "metadata": {
        "colab": {
          "base_uri": "https://localhost:8080/"
        },
        "id": "hzim6sfs_gXX",
        "outputId": "45175a9a-faf4-40c2-fd54-cc79a2bd8e73"
      },
      "source": [
        "df2.isna().sum()"
      ],
      "execution_count": null,
      "outputs": [
        {
          "output_type": "execute_result",
          "data": {
            "text/plain": [
              "id_video                     0\n",
              "titulo_video                 0\n",
              "publicado_em                 0\n",
              "id_canal                     0\n",
              "nome_canal                   1\n",
              "data_destaque                0\n",
              "cont_visualizacao            0\n",
              "curtidas                     0\n",
              "nao_curtidas                 0\n",
              "cont_comentarios             0\n",
              "comentarios_desabilitados    0\n",
              "curtidas_desabilitadas       0\n",
              "pais                         0\n",
              "categoria                    0\n",
              "dtype: int64"
            ]
          },
          "metadata": {},
          "execution_count": 26
        }
      ]
    },
    {
      "cell_type": "markdown",
      "metadata": {
        "id": "7thHwy0L-OZw"
      },
      "source": [
        "**Verificando nomes de canais com valor nulo**"
      ]
    },
    {
      "cell_type": "code",
      "metadata": {
        "colab": {
          "base_uri": "https://localhost:8080/",
          "height": 170
        },
        "id": "f0nLpVhi7QpQ",
        "outputId": "630c1a36-070b-4171-c6ff-9b1978535d21"
      },
      "source": [
        "df2[df2['nome_canal'].isnull()]"
      ],
      "execution_count": null,
      "outputs": [
        {
          "output_type": "execute_result",
          "data": {
            "text/html": [
              "<div>\n",
              "<style scoped>\n",
              "    .dataframe tbody tr th:only-of-type {\n",
              "        vertical-align: middle;\n",
              "    }\n",
              "\n",
              "    .dataframe tbody tr th {\n",
              "        vertical-align: top;\n",
              "    }\n",
              "\n",
              "    .dataframe thead th {\n",
              "        text-align: right;\n",
              "    }\n",
              "</style>\n",
              "<table border=\"1\" class=\"dataframe\">\n",
              "  <thead>\n",
              "    <tr style=\"text-align: right;\">\n",
              "      <th></th>\n",
              "      <th>id_video</th>\n",
              "      <th>titulo_video</th>\n",
              "      <th>publicado_em</th>\n",
              "      <th>id_canal</th>\n",
              "      <th>nome_canal</th>\n",
              "      <th>data_destaque</th>\n",
              "      <th>cont_visualizacao</th>\n",
              "      <th>curtidas</th>\n",
              "      <th>nao_curtidas</th>\n",
              "      <th>cont_comentarios</th>\n",
              "      <th>comentarios_desabilitados</th>\n",
              "      <th>curtidas_desabilitadas</th>\n",
              "      <th>pais</th>\n",
              "      <th>categoria</th>\n",
              "    </tr>\n",
              "  </thead>\n",
              "  <tbody>\n",
              "    <tr>\n",
              "      <th>499155</th>\n",
              "      <td>9b9MovPPewk</td>\n",
              "      <td>Kala Official Teaser | Tovino Thomas | Rohith ...</td>\n",
              "      <td>2021-01-21 12:30:29</td>\n",
              "      <td>UCDQt0y-FCJLRdwhNLutPFZA</td>\n",
              "      <td>NaN</td>\n",
              "      <td>2021-01-23</td>\n",
              "      <td>1008638</td>\n",
              "      <td>72772</td>\n",
              "      <td>1451</td>\n",
              "      <td>3023</td>\n",
              "      <td>False</td>\n",
              "      <td>False</td>\n",
              "      <td>IN</td>\n",
              "      <td>pessoas_e_blogs</td>\n",
              "    </tr>\n",
              "  </tbody>\n",
              "</table>\n",
              "</div>"
            ],
            "text/plain": [
              "           id_video  ...        categoria\n",
              "499155  9b9MovPPewk  ...  pessoas_e_blogs\n",
              "\n",
              "[1 rows x 14 columns]"
            ]
          },
          "metadata": {},
          "execution_count": 27
        }
      ]
    },
    {
      "cell_type": "markdown",
      "metadata": {
        "id": "QbfD6-5WA1Ns"
      },
      "source": [
        "**Removendo linha com nome de canal nulo**"
      ]
    },
    {
      "cell_type": "code",
      "metadata": {
        "id": "mEoYAz5y8YGs"
      },
      "source": [
        "df2.drop(499155, inplace = True)"
      ],
      "execution_count": null,
      "outputs": []
    },
    {
      "cell_type": "code",
      "metadata": {
        "colab": {
          "base_uri": "https://localhost:8080/"
        },
        "id": "YVqFTA1h-c6A",
        "outputId": "2acf8ee7-f70d-482e-882b-ce5ad0ddf486"
      },
      "source": [
        "df2.isna().sum()"
      ],
      "execution_count": null,
      "outputs": [
        {
          "output_type": "execute_result",
          "data": {
            "text/plain": [
              "id_video                     0\n",
              "titulo_video                 0\n",
              "publicado_em                 0\n",
              "id_canal                     0\n",
              "nome_canal                   0\n",
              "data_destaque                0\n",
              "cont_visualizacao            0\n",
              "curtidas                     0\n",
              "nao_curtidas                 0\n",
              "cont_comentarios             0\n",
              "comentarios_desabilitados    0\n",
              "curtidas_desabilitadas       0\n",
              "pais                         0\n",
              "categoria                    0\n",
              "dtype: int64"
            ]
          },
          "metadata": {},
          "execution_count": 29
        }
      ]
    },
    {
      "cell_type": "markdown",
      "metadata": {
        "id": "z8h2ZcQsTxMc"
      },
      "source": [
        "#**Validação dos dados**"
      ]
    },
    {
      "cell_type": "code",
      "metadata": {
        "colab": {
          "base_uri": "https://localhost:8080/"
        },
        "id": "ZBm0anYlTw1V",
        "outputId": "b5188e2d-64e8-4615-ba53-f0eff4ac3092"
      },
      "source": [
        "df2.dtypes"
      ],
      "execution_count": null,
      "outputs": [
        {
          "output_type": "execute_result",
          "data": {
            "text/plain": [
              "id_video                             object\n",
              "titulo_video                         object\n",
              "publicado_em                 datetime64[ns]\n",
              "id_canal                             object\n",
              "nome_canal                           object\n",
              "data_destaque                datetime64[ns]\n",
              "cont_visualizacao                     int64\n",
              "curtidas                              int64\n",
              "nao_curtidas                          int64\n",
              "cont_comentarios                      int64\n",
              "comentarios_desabilitados              bool\n",
              "curtidas_desabilitadas                 bool\n",
              "pais                                 object\n",
              "categoria                            object\n",
              "dtype: object"
            ]
          },
          "metadata": {},
          "execution_count": 31
        }
      ]
    },
    {
      "cell_type": "code",
      "metadata": {
        "id": "zZ_LZI9ATwpI"
      },
      "source": [
        "schema = pa.DataFrameSchema(\n",
        "    columns = {\n",
        "        \"id_video\":pa.Column(pa.String),\n",
        "        \"titulo_video\":pa.Column(pa.String),\n",
        "        \"publicado_em\":pa.Column(pa.DateTime),\n",
        "        \"id_canal\":pa.Column(pa.String),\n",
        "        \"nome_canal\":pa.Column(pa.String),\n",
        "        \"data_destaque\":pa.Column(pa.DateTime),\n",
        "        \"cont_visualizacao\":pa.Column(pa.Int),\n",
        "        \"curtidas\":pa.Column(pa.Int),\n",
        "        \"nao_curtidas\":pa.Column(pa.Int),\n",
        "        \"cont_comentarios\":pa.Column(pa.Int),\n",
        "        \"comentarios_desabilitados\":pa.Column(pa.Bool),\n",
        "        \"curtidas_desabilitadas\":pa.Column(pa.Bool),\n",
        "        \"pais\":pa.Column(pa.String),\n",
        "        \"categoria\":pa.Column(pa.String)\n",
        "    }\n",
        ")"
      ],
      "execution_count": null,
      "outputs": []
    },
    {
      "cell_type": "code",
      "metadata": {
        "id": "0u3niClzX7Sp"
      },
      "source": [
        "schema.validate(df2)"
      ],
      "execution_count": null,
      "outputs": []
    },
    {
      "cell_type": "markdown",
      "metadata": {
        "id": "MdL-vUkugt37"
      },
      "source": [
        "#**Informações gerais sobre os tipo de dados e quantidades de não nulos**"
      ]
    },
    {
      "cell_type": "code",
      "metadata": {
        "colab": {
          "base_uri": "https://localhost:8080/"
        },
        "id": "nKvLl0IxcSvF",
        "outputId": "fb1c5164-499b-4c43-f24a-d298f91938bb"
      },
      "source": [
        "df2.info()"
      ],
      "execution_count": null,
      "outputs": [
        {
          "output_type": "stream",
          "name": "stdout",
          "text": [
            "<class 'pandas.core.frame.DataFrame'>\n",
            "Int64Index: 1021621 entries, 0 to 1021621\n",
            "Data columns (total 14 columns):\n",
            " #   Column                     Non-Null Count    Dtype         \n",
            "---  ------                     --------------    -----         \n",
            " 0   id_video                   1021621 non-null  object        \n",
            " 1   titulo_video               1021621 non-null  object        \n",
            " 2   publicado_em               1021621 non-null  datetime64[ns]\n",
            " 3   id_canal                   1021621 non-null  object        \n",
            " 4   nome_canal                 1021621 non-null  object        \n",
            " 5   data_destaque              1021621 non-null  datetime64[ns]\n",
            " 6   cont_visualizacao          1021621 non-null  int64         \n",
            " 7   curtidas                   1021621 non-null  int64         \n",
            " 8   nao_curtidas               1021621 non-null  int64         \n",
            " 9   cont_comentarios           1021621 non-null  int64         \n",
            " 10  comentarios_desabilitados  1021621 non-null  bool          \n",
            " 11  curtidas_desabilitadas     1021621 non-null  bool          \n",
            " 12  pais                       1021621 non-null  object        \n",
            " 13  categoria                  1021621 non-null  object        \n",
            "dtypes: bool(2), datetime64[ns](2), int64(4), object(6)\n",
            "memory usage: 103.3+ MB\n"
          ]
        }
      ]
    },
    {
      "cell_type": "markdown",
      "metadata": {
        "id": "l8MgV98Jg4dN"
      },
      "source": [
        "#Exportando DataFrame para o GCP"
      ]
    },
    {
      "cell_type": "code",
      "metadata": {
        "id": "zBOOAQXecZVl"
      },
      "source": [
        "from google.cloud import storage\n",
        "import os\n",
        "serviceAccount = '/content/projetofinalgrupo8-2dcd866c3f46.json'\n",
        "os.environ['GOOGLE_APPLICATION_CREDENTIALS'] = serviceAccount\n",
        "\n",
        "\n",
        "client = storage.Client()\n",
        "bucket = client.get_bucket('projetofinalgrupo8')\n",
        "    \n",
        "bucket.blob('saida/youtube_tratado_pandas.csv').upload_from_string(df2.to_csv(index=False), 'text/csv')"
      ],
      "execution_count": null,
      "outputs": []
    }
  ]
}