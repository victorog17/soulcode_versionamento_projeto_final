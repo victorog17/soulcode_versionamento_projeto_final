{
  "nbformat": 4,
  "nbformat_minor": 0,
  "metadata": {
    "colab": {
      "name": "002_SOCIAL_MEDIA_TRATAMENTO_DE DADOS_Nivel_Pandas",
      "provenance": [],
      "collapsed_sections": [
        "OqfZloFFtCMh",
        "qnx12jiYfD8x",
        "8FuDdKd-uil3",
        "z8h2ZcQsTxMc",
        "MdL-vUkugt37",
        "l8MgV98Jg4dN"
      ]
    },
    "kernelspec": {
      "display_name": "Python 3",
      "name": "python3"
    },
    "language_info": {
      "name": "python"
    }
  },
  "cells": [
    {
      "cell_type": "markdown",
      "metadata": {
        "id": "nihEUxaSs65o"
      },
      "source": [
        "#Importações"
      ]
    },
    {
      "cell_type": "markdown",
      "metadata": {
        "id": "JxXE0WxRelF6"
      },
      "source": [
        "**Bibliotecas**\n"
      ]
    },
    {
      "cell_type": "code",
      "metadata": {
        "colab": {
          "background_save": true
        },
        "id": "v70SccafR4Bx",
        "outputId": "0dd439ee-ed20-4c41-a0e4-49d898e6ae9c"
      },
      "source": [
        "pip install pandera"
      ],
      "execution_count": null,
      "outputs": [
        {
          "name": "stdout",
          "output_type": "stream",
          "text": [
            "Collecting pandera\n",
            "  Downloading pandera-0.8.0-py3-none-any.whl (186 kB)\n",
            "\u001b[K     |████████████████████████████████| 186 kB 5.4 MB/s \n",
            "\u001b[?25hRequirement already satisfied: pandas>=1.0 in /usr/local/lib/python3.7/dist-packages (from pandera) (1.1.5)\n",
            "Requirement already satisfied: wrapt in /usr/local/lib/python3.7/dist-packages (from pandera) (1.13.3)\n",
            "Requirement already satisfied: packaging>=20.0 in /usr/local/lib/python3.7/dist-packages (from pandera) (21.3)\n",
            "Requirement already satisfied: pyarrow in /usr/local/lib/python3.7/dist-packages (from pandera) (3.0.0)\n",
            "Requirement already satisfied: numpy>=1.9.0 in /usr/local/lib/python3.7/dist-packages (from pandera) (1.19.5)\n",
            "Collecting pandas-stubs\n",
            "  Downloading pandas_stubs-1.2.0.39-py3-none-any.whl (161 kB)\n",
            "\u001b[K     |████████████████████████████████| 161 kB 48.4 MB/s \n",
            "\u001b[?25hCollecting typing-inspect>=0.6.0\n",
            "  Downloading typing_inspect-0.7.1-py3-none-any.whl (8.4 kB)\n",
            "Requirement already satisfied: typing-extensions>=3.7.4.3 in /usr/local/lib/python3.7/dist-packages (from pandera) (3.10.0.2)\n",
            "Requirement already satisfied: pyparsing!=3.0.5,>=2.0.2 in /usr/local/lib/python3.7/dist-packages (from packaging>=20.0->pandera) (3.0.6)\n",
            "Requirement already satisfied: python-dateutil>=2.7.3 in /usr/local/lib/python3.7/dist-packages (from pandas>=1.0->pandera) (2.8.2)\n",
            "Requirement already satisfied: pytz>=2017.2 in /usr/local/lib/python3.7/dist-packages (from pandas>=1.0->pandera) (2018.9)\n",
            "Requirement already satisfied: six>=1.5 in /usr/local/lib/python3.7/dist-packages (from python-dateutil>=2.7.3->pandas>=1.0->pandera) (1.15.0)\n",
            "Collecting mypy-extensions>=0.3.0\n",
            "  Downloading mypy_extensions-0.4.3-py2.py3-none-any.whl (4.5 kB)\n",
            "Installing collected packages: mypy-extensions, typing-inspect, pandas-stubs, pandera\n",
            "Successfully installed mypy-extensions-0.4.3 pandas-stubs-1.2.0.39 pandera-0.8.0 typing-inspect-0.7.1\n"
          ]
        },
        {
          "data": {
            "application/vnd.colab-display-data+json": {
              "pip_warning": {
                "packages": [
                  "pandas"
                ]
              }
            }
          },
          "metadata": {},
          "output_type": "display_data"
        }
      ]
    },
    {
      "cell_type": "code",
      "metadata": {
        "colab": {
          "background_save": true
        },
        "id": "NEQarH-_WAOz",
        "outputId": "2394ee04-acdf-4d7e-80bb-9de41ca8e39d"
      },
      "source": [
        "pip install fsspec"
      ],
      "execution_count": null,
      "outputs": [
        {
          "name": "stdout",
          "output_type": "stream",
          "text": [
            "Collecting fsspec\n",
            "  Downloading fsspec-2021.11.1-py3-none-any.whl (132 kB)\n",
            "\u001b[?25l\r\u001b[K     |██▌                             | 10 kB 22.5 MB/s eta 0:00:01\r\u001b[K     |█████                           | 20 kB 27.2 MB/s eta 0:00:01\r\u001b[K     |███████▍                        | 30 kB 12.2 MB/s eta 0:00:01\r\u001b[K     |█████████▉                      | 40 kB 9.6 MB/s eta 0:00:01\r\u001b[K     |████████████▎                   | 51 kB 5.5 MB/s eta 0:00:01\r\u001b[K     |██████████████▉                 | 61 kB 6.1 MB/s eta 0:00:01\r\u001b[K     |█████████████████▎              | 71 kB 5.8 MB/s eta 0:00:01\r\u001b[K     |███████████████████▊            | 81 kB 6.5 MB/s eta 0:00:01\r\u001b[K     |██████████████████████▏         | 92 kB 5.0 MB/s eta 0:00:01\r\u001b[K     |████████████████████████▋       | 102 kB 5.3 MB/s eta 0:00:01\r\u001b[K     |███████████████████████████     | 112 kB 5.3 MB/s eta 0:00:01\r\u001b[K     |█████████████████████████████▋  | 122 kB 5.3 MB/s eta 0:00:01\r\u001b[K     |████████████████████████████████| 132 kB 5.3 MB/s \n",
            "\u001b[?25hInstalling collected packages: fsspec\n",
            "Successfully installed fsspec-2021.11.1\n"
          ]
        }
      ]
    },
    {
      "cell_type": "code",
      "metadata": {
        "colab": {
          "background_save": true
        },
        "id": "L7BoVi5MWEBe",
        "outputId": "ad862a95-763b-4ada-909b-caa4a3ce2a30"
      },
      "source": [
        "pip install gcsfs"
      ],
      "execution_count": null,
      "outputs": [
        {
          "name": "stdout",
          "output_type": "stream",
          "text": [
            "Collecting gcsfs\n",
            "  Downloading gcsfs-2021.11.1-py2.py3-none-any.whl (24 kB)\n",
            "Requirement already satisfied: fsspec==2021.11.1 in /usr/local/lib/python3.7/dist-packages (from gcsfs) (2021.11.1)\n",
            "Requirement already satisfied: decorator>4.1.2 in /usr/local/lib/python3.7/dist-packages (from gcsfs) (4.4.2)\n",
            "Requirement already satisfied: requests in /usr/local/lib/python3.7/dist-packages (from gcsfs) (2.23.0)\n",
            "Requirement already satisfied: google-auth-oauthlib in /usr/local/lib/python3.7/dist-packages (from gcsfs) (0.4.6)\n",
            "Requirement already satisfied: google-auth>=1.2 in /usr/local/lib/python3.7/dist-packages (from gcsfs) (1.35.0)\n",
            "Requirement already satisfied: google-cloud-storage in /usr/local/lib/python3.7/dist-packages (from gcsfs) (1.18.1)\n",
            "Collecting aiohttp<4\n",
            "  Downloading aiohttp-3.8.1-cp37-cp37m-manylinux_2_5_x86_64.manylinux1_x86_64.manylinux_2_12_x86_64.manylinux2010_x86_64.whl (1.1 MB)\n",
            "\u001b[K     |████████████████████████████████| 1.1 MB 8.1 MB/s \n",
            "\u001b[?25hRequirement already satisfied: attrs>=17.3.0 in /usr/local/lib/python3.7/dist-packages (from aiohttp<4->gcsfs) (21.2.0)\n",
            "Collecting frozenlist>=1.1.1\n",
            "  Downloading frozenlist-1.2.0-cp37-cp37m-manylinux_2_5_x86_64.manylinux1_x86_64.manylinux_2_12_x86_64.manylinux2010_x86_64.whl (192 kB)\n",
            "\u001b[K     |████████████████████████████████| 192 kB 51.5 MB/s \n",
            "\u001b[?25hRequirement already satisfied: charset-normalizer<3.0,>=2.0 in /usr/local/lib/python3.7/dist-packages (from aiohttp<4->gcsfs) (2.0.8)\n",
            "Requirement already satisfied: typing-extensions>=3.7.4 in /usr/local/lib/python3.7/dist-packages (from aiohttp<4->gcsfs) (3.10.0.2)\n",
            "Collecting yarl<2.0,>=1.0\n",
            "  Downloading yarl-1.7.2-cp37-cp37m-manylinux_2_5_x86_64.manylinux1_x86_64.manylinux_2_12_x86_64.manylinux2010_x86_64.whl (271 kB)\n",
            "\u001b[K     |████████████████████████████████| 271 kB 49.7 MB/s \n",
            "\u001b[?25hCollecting async-timeout<5.0,>=4.0.0a3\n",
            "  Downloading async_timeout-4.0.1-py3-none-any.whl (5.7 kB)\n",
            "Collecting aiosignal>=1.1.2\n",
            "  Downloading aiosignal-1.2.0-py3-none-any.whl (8.2 kB)\n",
            "Collecting multidict<7.0,>=4.5\n",
            "  Downloading multidict-5.2.0-cp37-cp37m-manylinux_2_5_x86_64.manylinux1_x86_64.manylinux_2_12_x86_64.manylinux2010_x86_64.whl (160 kB)\n",
            "\u001b[K     |████████████████████████████████| 160 kB 55.0 MB/s \n",
            "\u001b[?25hCollecting asynctest==0.13.0\n",
            "  Downloading asynctest-0.13.0-py3-none-any.whl (26 kB)\n",
            "Requirement already satisfied: six>=1.9.0 in /usr/local/lib/python3.7/dist-packages (from google-auth>=1.2->gcsfs) (1.15.0)\n",
            "Requirement already satisfied: pyasn1-modules>=0.2.1 in /usr/local/lib/python3.7/dist-packages (from google-auth>=1.2->gcsfs) (0.2.8)\n",
            "Requirement already satisfied: rsa<5,>=3.1.4 in /usr/local/lib/python3.7/dist-packages (from google-auth>=1.2->gcsfs) (4.8)\n",
            "Requirement already satisfied: setuptools>=40.3.0 in /usr/local/lib/python3.7/dist-packages (from google-auth>=1.2->gcsfs) (57.4.0)\n",
            "Requirement already satisfied: cachetools<5.0,>=2.0.0 in /usr/local/lib/python3.7/dist-packages (from google-auth>=1.2->gcsfs) (4.2.4)\n",
            "Requirement already satisfied: pyasn1<0.5.0,>=0.4.6 in /usr/local/lib/python3.7/dist-packages (from pyasn1-modules>=0.2.1->google-auth>=1.2->gcsfs) (0.4.8)\n",
            "Requirement already satisfied: idna>=2.0 in /usr/local/lib/python3.7/dist-packages (from yarl<2.0,>=1.0->aiohttp<4->gcsfs) (2.10)\n",
            "Requirement already satisfied: requests-oauthlib>=0.7.0 in /usr/local/lib/python3.7/dist-packages (from google-auth-oauthlib->gcsfs) (1.3.0)\n",
            "Requirement already satisfied: oauthlib>=3.0.0 in /usr/local/lib/python3.7/dist-packages (from requests-oauthlib>=0.7.0->google-auth-oauthlib->gcsfs) (3.1.1)\n",
            "Requirement already satisfied: urllib3!=1.25.0,!=1.25.1,<1.26,>=1.21.1 in /usr/local/lib/python3.7/dist-packages (from requests->gcsfs) (1.24.3)\n",
            "Requirement already satisfied: chardet<4,>=3.0.2 in /usr/local/lib/python3.7/dist-packages (from requests->gcsfs) (3.0.4)\n",
            "Requirement already satisfied: certifi>=2017.4.17 in /usr/local/lib/python3.7/dist-packages (from requests->gcsfs) (2021.10.8)\n",
            "Requirement already satisfied: google-resumable-media<0.5.0dev,>=0.3.1 in /usr/local/lib/python3.7/dist-packages (from google-cloud-storage->gcsfs) (0.4.1)\n",
            "Requirement already satisfied: google-cloud-core<2.0dev,>=1.0.0 in /usr/local/lib/python3.7/dist-packages (from google-cloud-storage->gcsfs) (1.0.3)\n",
            "Requirement already satisfied: google-api-core<2.0.0dev,>=1.14.0 in /usr/local/lib/python3.7/dist-packages (from google-cloud-core<2.0dev,>=1.0.0->google-cloud-storage->gcsfs) (1.26.3)\n",
            "Requirement already satisfied: protobuf>=3.12.0 in /usr/local/lib/python3.7/dist-packages (from google-api-core<2.0.0dev,>=1.14.0->google-cloud-core<2.0dev,>=1.0.0->google-cloud-storage->gcsfs) (3.17.3)\n",
            "Requirement already satisfied: googleapis-common-protos<2.0dev,>=1.6.0 in /usr/local/lib/python3.7/dist-packages (from google-api-core<2.0.0dev,>=1.14.0->google-cloud-core<2.0dev,>=1.0.0->google-cloud-storage->gcsfs) (1.53.0)\n",
            "Requirement already satisfied: pytz in /usr/local/lib/python3.7/dist-packages (from google-api-core<2.0.0dev,>=1.14.0->google-cloud-core<2.0dev,>=1.0.0->google-cloud-storage->gcsfs) (2018.9)\n",
            "Requirement already satisfied: packaging>=14.3 in /usr/local/lib/python3.7/dist-packages (from google-api-core<2.0.0dev,>=1.14.0->google-cloud-core<2.0dev,>=1.0.0->google-cloud-storage->gcsfs) (21.3)\n",
            "Requirement already satisfied: pyparsing!=3.0.5,>=2.0.2 in /usr/local/lib/python3.7/dist-packages (from packaging>=14.3->google-api-core<2.0.0dev,>=1.14.0->google-cloud-core<2.0dev,>=1.0.0->google-cloud-storage->gcsfs) (3.0.6)\n",
            "Installing collected packages: multidict, frozenlist, yarl, asynctest, async-timeout, aiosignal, aiohttp, gcsfs\n",
            "Successfully installed aiohttp-3.8.1 aiosignal-1.2.0 async-timeout-4.0.1 asynctest-0.13.0 frozenlist-1.2.0 gcsfs-2021.11.1 multidict-5.2.0 yarl-1.7.2\n"
          ]
        }
      ]
    },
    {
      "cell_type": "code",
      "metadata": {
        "colab": {
          "background_save": true
        },
        "id": "aNyFDuM-GYrr"
      },
      "source": [
        "from matplotlib import pyplot as plt\n",
        "from google.cloud import storage\n",
        "import pandera as pa\n",
        "import pandas as pd\n",
        "import numpy as np\n",
        "import os"
      ],
      "execution_count": null,
      "outputs": []
    },
    {
      "cell_type": "markdown",
      "metadata": {
        "id": "f228CLuCeuZs"
      },
      "source": [
        "**Importando DataFrame**"
      ]
    },
    {
      "cell_type": "code",
      "metadata": {
        "colab": {
          "background_save": true
        },
        "id": "fZhbzBTWGtVq"
      },
      "source": [
        "df = pd.read_csv(r'gs://projetofinalgrupo8/saida/youtube_data_base.csv')"
      ],
      "execution_count": null,
      "outputs": []
    },
    {
      "cell_type": "code",
      "metadata": {
        "colab": {
          "background_save": true
        },
        "id": "n9UHmF1RHM06",
        "outputId": "b3501e22-a230-44fb-b660-46871da10ee1"
      },
      "source": [
        "df.head(2)"
      ],
      "execution_count": null,
      "outputs": [
        {
          "data": {
            "text/html": [
              "<div>\n",
              "<style scoped>\n",
              "    .dataframe tbody tr th:only-of-type {\n",
              "        vertical-align: middle;\n",
              "    }\n",
              "\n",
              "    .dataframe tbody tr th {\n",
              "        vertical-align: top;\n",
              "    }\n",
              "\n",
              "    .dataframe thead th {\n",
              "        text-align: right;\n",
              "    }\n",
              "</style>\n",
              "<table border=\"1\" class=\"dataframe\">\n",
              "  <thead>\n",
              "    <tr style=\"text-align: right;\">\n",
              "      <th></th>\n",
              "      <th>video_id</th>\n",
              "      <th>title</th>\n",
              "      <th>publishedAt</th>\n",
              "      <th>channelId</th>\n",
              "      <th>channelTitle</th>\n",
              "      <th>trending_date</th>\n",
              "      <th>view_count</th>\n",
              "      <th>likes</th>\n",
              "      <th>dislikes</th>\n",
              "      <th>comment_count</th>\n",
              "      <th>comments_disabled</th>\n",
              "      <th>ratings_disabled</th>\n",
              "      <th>country</th>\n",
              "      <th>json_title</th>\n",
              "    </tr>\n",
              "  </thead>\n",
              "  <tbody>\n",
              "    <tr>\n",
              "      <th>0</th>\n",
              "      <td>s9FH4rDMvds</td>\n",
              "      <td>LEVEI UM FORA? FINGI ESTAR APAIXONADO POR ELA!</td>\n",
              "      <td>2020-08-11T22:21:49Z</td>\n",
              "      <td>UCGfBwrCoi9ZJjKiUK8MmJNw</td>\n",
              "      <td>Pietro Guedes</td>\n",
              "      <td>2020-08-12T00:00:00Z</td>\n",
              "      <td>263835</td>\n",
              "      <td>85095</td>\n",
              "      <td>487</td>\n",
              "      <td>4500</td>\n",
              "      <td>False</td>\n",
              "      <td>False</td>\n",
              "      <td>BR</td>\n",
              "      <td>People &amp; Blogs</td>\n",
              "    </tr>\n",
              "    <tr>\n",
              "      <th>1</th>\n",
              "      <td>jbGRowa5tIk</td>\n",
              "      <td>ITZY “Not Shy” M/V TEASER</td>\n",
              "      <td>2020-08-11T15:00:13Z</td>\n",
              "      <td>UCaO6TYtlC8U5ttz62hTrZgg</td>\n",
              "      <td>JYP Entertainment</td>\n",
              "      <td>2020-08-12T00:00:00Z</td>\n",
              "      <td>6000070</td>\n",
              "      <td>714310</td>\n",
              "      <td>15176</td>\n",
              "      <td>31040</td>\n",
              "      <td>False</td>\n",
              "      <td>False</td>\n",
              "      <td>BR</td>\n",
              "      <td>Music</td>\n",
              "    </tr>\n",
              "  </tbody>\n",
              "</table>\n",
              "</div>"
            ],
            "text/plain": [
              "      video_id  ...      json_title\n",
              "0  s9FH4rDMvds  ...  People & Blogs\n",
              "1  jbGRowa5tIk  ...           Music\n",
              "\n",
              "[2 rows x 14 columns]"
            ]
          },
          "execution_count": null,
          "metadata": {},
          "output_type": "execute_result"
        }
      ]
    },
    {
      "cell_type": "markdown",
      "metadata": {
        "id": "OqfZloFFtCMh"
      },
      "source": [
        "#Exploração dos dados"
      ]
    },
    {
      "cell_type": "markdown",
      "metadata": {
        "id": "-E_ejgyhe17v"
      },
      "source": [
        "**Verificando dimensão do DataFrame**"
      ]
    },
    {
      "cell_type": "code",
      "metadata": {
        "colab": {
          "background_save": true
        },
        "id": "d_2uz1YwDX-8",
        "outputId": "47f14e92-7f65-49e4-a99c-a1f0f71247ef"
      },
      "source": [
        "df.shape"
      ],
      "execution_count": null,
      "outputs": [
        {
          "data": {
            "text/plain": [
              "(1021622, 14)"
            ]
          },
          "execution_count": null,
          "metadata": {},
          "output_type": "execute_result"
        }
      ]
    },
    {
      "cell_type": "markdown",
      "metadata": {
        "id": "33d922BAtP_E"
      },
      "source": [
        "**Tipos dos dados**"
      ]
    },
    {
      "cell_type": "code",
      "metadata": {
        "colab": {
          "background_save": true
        },
        "id": "Ca21axkptNWt",
        "outputId": "6c93bca5-647c-4c01-c486-c46cd240fc97"
      },
      "source": [
        "df.dtypes"
      ],
      "execution_count": null,
      "outputs": [
        {
          "data": {
            "text/plain": [
              "video_id             object\n",
              "title                object\n",
              "publishedAt          object\n",
              "channelId            object\n",
              "channelTitle         object\n",
              "trending_date        object\n",
              "view_count            int64\n",
              "likes                 int64\n",
              "dislikes              int64\n",
              "comment_count         int64\n",
              "comments_disabled      bool\n",
              "ratings_disabled       bool\n",
              "country              object\n",
              "json_title           object\n",
              "dtype: object"
            ]
          },
          "execution_count": null,
          "metadata": {},
          "output_type": "execute_result"
        }
      ]
    },
    {
      "cell_type": "markdown",
      "metadata": {
        "id": "qnx12jiYfD8x"
      },
      "source": [
        "#Backup"
      ]
    },
    {
      "cell_type": "code",
      "metadata": {
        "colab": {
          "background_save": true
        },
        "id": "NUcs4L6D0xvq"
      },
      "source": [
        "df2 = df.copy()"
      ],
      "execution_count": null,
      "outputs": []
    },
    {
      "cell_type": "markdown",
      "metadata": {
        "id": "d21tdzebfHS0"
      },
      "source": [
        "#Renomeando colunas e dados Categoricos"
      ]
    },
    {
      "cell_type": "markdown",
      "metadata": {
        "id": "0ftdXDVMe7mF"
      },
      "source": [
        "**Criando listas para renomear colunas**"
      ]
    },
    {
      "cell_type": "code",
      "metadata": {
        "colab": {
          "background_save": true
        },
        "id": "L094aw9LiQj6"
      },
      "source": [
        "col_old = ['video_id', 'title', 'publishedAt', 'channelId', 'channelTitle',\n",
        "       'trending_date', 'view_count', 'likes', 'dislikes', 'comment_count',\n",
        "       'comments_disabled', 'ratings_disabled', 'country', 'json_title']\n",
        "\n",
        "col_new = ['id_video', 'titulo_video', 'publicado_em', 'id_canal', 'nome_canal',\n",
        "           'data_destaque', 'cont_visualizacao', 'curtidas', 'nao_curtidas', 'cont_comentarios',\n",
        "           'comentarios_desabilitados', 'curtidas_desabilitadas', 'pais', 'categoria']"
      ],
      "execution_count": null,
      "outputs": []
    },
    {
      "cell_type": "code",
      "metadata": {
        "colab": {
          "background_save": true
        },
        "id": "hMCyn1pHgeAs"
      },
      "source": [
        "df2.columns = col_new"
      ],
      "execution_count": null,
      "outputs": []
    },
    {
      "cell_type": "code",
      "metadata": {
        "colab": {
          "background_save": true
        },
        "id": "wGscn5Sn27Vo",
        "outputId": "b904e5c3-4b5a-4bc6-80c1-d09c549b5fc1"
      },
      "source": [
        "df2.head(2)"
      ],
      "execution_count": null,
      "outputs": [
        {
          "data": {
            "text/html": [
              "<div>\n",
              "<style scoped>\n",
              "    .dataframe tbody tr th:only-of-type {\n",
              "        vertical-align: middle;\n",
              "    }\n",
              "\n",
              "    .dataframe tbody tr th {\n",
              "        vertical-align: top;\n",
              "    }\n",
              "\n",
              "    .dataframe thead th {\n",
              "        text-align: right;\n",
              "    }\n",
              "</style>\n",
              "<table border=\"1\" class=\"dataframe\">\n",
              "  <thead>\n",
              "    <tr style=\"text-align: right;\">\n",
              "      <th></th>\n",
              "      <th>id_video</th>\n",
              "      <th>titulo_video</th>\n",
              "      <th>publicado_em</th>\n",
              "      <th>id_canal</th>\n",
              "      <th>nome_canal</th>\n",
              "      <th>data_destaque</th>\n",
              "      <th>cont_visualizacao</th>\n",
              "      <th>curtidas</th>\n",
              "      <th>nao_curtidas</th>\n",
              "      <th>cont_comentarios</th>\n",
              "      <th>comentarios_desabilitados</th>\n",
              "      <th>curtidas_desabilitadas</th>\n",
              "      <th>pais</th>\n",
              "      <th>categoria</th>\n",
              "    </tr>\n",
              "  </thead>\n",
              "  <tbody>\n",
              "    <tr>\n",
              "      <th>0</th>\n",
              "      <td>s9FH4rDMvds</td>\n",
              "      <td>LEVEI UM FORA? FINGI ESTAR APAIXONADO POR ELA!</td>\n",
              "      <td>2020-08-11T22:21:49Z</td>\n",
              "      <td>UCGfBwrCoi9ZJjKiUK8MmJNw</td>\n",
              "      <td>Pietro Guedes</td>\n",
              "      <td>2020-08-12T00:00:00Z</td>\n",
              "      <td>263835</td>\n",
              "      <td>85095</td>\n",
              "      <td>487</td>\n",
              "      <td>4500</td>\n",
              "      <td>False</td>\n",
              "      <td>False</td>\n",
              "      <td>BR</td>\n",
              "      <td>People &amp; Blogs</td>\n",
              "    </tr>\n",
              "    <tr>\n",
              "      <th>1</th>\n",
              "      <td>jbGRowa5tIk</td>\n",
              "      <td>ITZY “Not Shy” M/V TEASER</td>\n",
              "      <td>2020-08-11T15:00:13Z</td>\n",
              "      <td>UCaO6TYtlC8U5ttz62hTrZgg</td>\n",
              "      <td>JYP Entertainment</td>\n",
              "      <td>2020-08-12T00:00:00Z</td>\n",
              "      <td>6000070</td>\n",
              "      <td>714310</td>\n",
              "      <td>15176</td>\n",
              "      <td>31040</td>\n",
              "      <td>False</td>\n",
              "      <td>False</td>\n",
              "      <td>BR</td>\n",
              "      <td>Music</td>\n",
              "    </tr>\n",
              "  </tbody>\n",
              "</table>\n",
              "</div>"
            ],
            "text/plain": [
              "      id_video  ...       categoria\n",
              "0  s9FH4rDMvds  ...  People & Blogs\n",
              "1  jbGRowa5tIk  ...           Music\n",
              "\n",
              "[2 rows x 14 columns]"
            ]
          },
          "execution_count": null,
          "metadata": {},
          "output_type": "execute_result"
        }
      ]
    },
    {
      "cell_type": "markdown",
      "metadata": {
        "id": "VNcBy6UKfe8j"
      },
      "source": [
        "**Vericando tipos de categorias**"
      ]
    },
    {
      "cell_type": "code",
      "metadata": {
        "colab": {
          "background_save": true
        },
        "id": "8TvgGVyfLXPh",
        "outputId": "52423dac-0551-453e-9508-bc08b27117ca"
      },
      "source": [
        "df2.groupby([\"categoria\"]).categoria.count().plot.pie(figsize=(12,7))"
      ],
      "execution_count": null,
      "outputs": [
        {
          "data": {
            "text/plain": [
              "<matplotlib.axes._subplots.AxesSubplot at 0x7f22a13e9f10>"
            ]
          },
          "execution_count": null,
          "metadata": {},
          "output_type": "execute_result"
        },
        {
          "data": {
            "image/png": "[encoded data removed]",
            "text/plain": [
              "<Figure size 864x504 with 1 Axes>"
            ]
          },
          "metadata": {},
          "output_type": "display_data"
        }
      ]
    },
    {
      "cell_type": "code",
      "metadata": {
        "colab": {
          "background_save": true
        },
        "id": "mYAqVugY3SKC",
        "outputId": "62dc6b47-daf2-4da8-f39b-1de2ab1eb80a"
      },
      "source": [
        "df2['categoria'].unique()"
      ],
      "execution_count": null,
      "outputs": [
        {
          "data": {
            "text/plain": [
              "array(['People & Blogs', 'Music', 'Gaming', 'Comedy', 'Sports',\n",
              "       'Entertainment', 'Education', 'Autos & Vehicles', 'Howto & Style',\n",
              "       'News & Politics', 'Science & Technology', 'Film & Animation',\n",
              "       'Travel & Events', 'Pets & Animals', nan], dtype=object)"
            ]
          },
          "execution_count": null,
          "metadata": {},
          "output_type": "execute_result"
        }
      ]
    },
    {
      "cell_type": "markdown",
      "metadata": {
        "id": "RXTE01OygC5W"
      },
      "source": [
        "**Criando listas para renomear as categorias**"
      ]
    },
    {
      "cell_type": "code",
      "metadata": {
        "colab": {
          "background_save": true
        },
        "id": "nRfQ1Mmy334W"
      },
      "source": [
        "categoria_antiga = ['People & Blogs', 'Music', 'Gaming', 'Comedy', 'Sports',\n",
        "       'Entertainment', 'Education', 'Autos & Vehicles', 'Howto & Style',\n",
        "       'News & Politics', 'Science & Technology', 'Film & Animation',\n",
        "       'Travel & Events', 'Pets & Animals']\n",
        "\n",
        "categoria_nova = ['pessoas_e_blogs', 'musica', 'jogos', 'comedia', 'esportes',\n",
        "                  'entretenimento', 'educacao', 'automoveis', 'como_faz_e_estilos',\n",
        "                  'noticias_e_politicas', 'ciencias_e_tecnologia', 'filme_e_animacao',\n",
        "                  'viagens_e_eventos', 'animais']"
      ],
      "execution_count": null,
      "outputs": []
    },
    {
      "cell_type": "markdown",
      "metadata": {
        "id": "ciAVRO4sgHOs"
      },
      "source": [
        "**Renomeando categorias**"
      ]
    },
    {
      "cell_type": "code",
      "metadata": {
        "colab": {
          "background_save": true
        },
        "id": "ikOYsIg06ZX6"
      },
      "source": [
        "df2['categoria'] = df2['categoria'].replace(categoria_antiga, categoria_nova)"
      ],
      "execution_count": null,
      "outputs": []
    },
    {
      "cell_type": "code",
      "metadata": {
        "colab": {
          "background_save": true
        },
        "id": "Xr7J0QmQOjVR",
        "outputId": "75c2005c-97c3-45a1-c672-05d362258221"
      },
      "source": [
        "df2.groupby([\"pais\"]).pais.count().plot.pie(figsize=(12,7))"
      ],
      "execution_count": null,
      "outputs": [
        {
          "data": {
            "text/plain": [
              "<matplotlib.axes._subplots.AxesSubplot at 0x7f22a0ea2510>"
            ]
          },
          "execution_count": null,
          "metadata": {},
          "output_type": "execute_result"
        },
        {
          "data": {
            "image/png": "[encoded data removed]",
            "text/plain": [
              "<Figure size 864x504 with 1 Axes>"
            ]
          },
          "metadata": {},
          "output_type": "display_data"
        }
      ]
    },
    {
      "cell_type": "markdown",
      "metadata": {
        "id": "70PezcdWgnI5"
      },
      "source": [
        "#Formatando datetime"
      ]
    },
    {
      "cell_type": "markdown",
      "metadata": {
        "id": "gtjpgRQ3ggfA"
      },
      "source": [
        "**Verificando os tipos de dados do DataFrame**"
      ]
    },
    {
      "cell_type": "code",
      "metadata": {
        "colab": {
          "background_save": true
        },
        "id": "f1k0D6vEDg-S",
        "outputId": "3809af44-8ea5-4e37-dd13-fb7fbfde3ce4"
      },
      "source": [
        "df2.dtypes"
      ],
      "execution_count": null,
      "outputs": [
        {
          "data": {
            "text/plain": [
              "id_video                     object\n",
              "titulo_video                 object\n",
              "publicado_em                 object\n",
              "id_canal                     object\n",
              "nome_canal                   object\n",
              "data_destaque                object\n",
              "cont_visualizacao             int64\n",
              "curtidas                      int64\n",
              "nao_curtidas                  int64\n",
              "cont_comentarios              int64\n",
              "comentarios_desabilitados      bool\n",
              "curtidas_desabilitadas         bool\n",
              "pais                         object\n",
              "categoria                    object\n",
              "dtype: object"
            ]
          },
          "execution_count": null,
          "metadata": {},
          "output_type": "execute_result"
        }
      ]
    },
    {
      "cell_type": "code",
      "metadata": {
        "colab": {
          "background_save": true
        },
        "id": "Po1QGXlxFi8o"
      },
      "source": [
        "df2['publicado_em'] = pd.to_datetime(df2['publicado_em']).dt.strftime(\"%Y-%m-%d %H:%M:%S\")\n",
        "df2['publicado_em'] = pd.to_datetime(df2['publicado_em'])"
      ],
      "execution_count": null,
      "outputs": []
    },
    {
      "cell_type": "code",
      "metadata": {
        "id": "SPN9FfmVl_2i"
      },
      "source": [
        "df2['data_destaque'] = pd.to_datetime(df2['data_destaque']).dt.strftime(\"%Y-%m-%d\")\n",
        "df2['data_destaque'] = pd.to_datetime(df2['data_destaque'])"
      ],
      "execution_count": null,
      "outputs": []
    },
    {
      "cell_type": "code",
      "metadata": {
        "id": "Waao6EITSwei"
      },
      "source": [
        "df2.dtypes"
      ],
      "execution_count": null,
      "outputs": []
    },
    {
      "cell_type": "code",
      "metadata": {
        "id": "sBOZTlQqMPGN"
      },
      "source": [
        "df2.sample()"
      ],
      "execution_count": null,
      "outputs": []
    },
    {
      "cell_type": "code",
      "metadata": {
        "id": "Q1ShE2ljO4AN"
      },
      "source": [
        "df2.groupby([\"data_destaque\"]).data_destaque.count().plot.line(figsize=(12,7))"
      ],
      "execution_count": null,
      "outputs": []
    },
    {
      "cell_type": "markdown",
      "metadata": {
        "id": "8FuDdKd-uil3"
      },
      "source": [
        "#Tratando dados nulos"
      ]
    },
    {
      "cell_type": "markdown",
      "metadata": {
        "id": "hmoks6hvgNHy"
      },
      "source": [
        "**Verificando números de dados nulos**"
      ]
    },
    {
      "cell_type": "code",
      "metadata": {
        "id": "wi8BF-mP6rz4"
      },
      "source": [
        "df2.isna().sum()"
      ],
      "execution_count": null,
      "outputs": []
    },
    {
      "cell_type": "markdown",
      "metadata": {
        "id": "kV1KjkilAn4t"
      },
      "source": [
        "**Tratando os valores nulos da coluna \"Categoria\"**"
      ]
    },
    {
      "cell_type": "code",
      "metadata": {
        "id": "Vi5T5Hea_tfh"
      },
      "source": [
        "categoria_antiga = ['People & Blogs', 'Music', 'Gaming', 'Comedy', 'Sports',\n",
        "       'Entertainment', 'Education', 'Autos & Vehicles', 'Howto & Style',\n",
        "       'News & Politics', 'Science & Technology', 'Film & Animation',\n",
        "       'Travel & Events', 'Pets & Animals', np.nan]\n",
        "\n",
        "categoria_nova = ['pessoas_e_blogs', 'musica', 'jogos', 'comedia', 'esportes',\n",
        "                  'entretenimento', 'educacao', 'automoveis', 'como_faz_e_estilos',\n",
        "                  'noticias_e_politicas', 'ciencias_e_tecnologia', 'filme_e_animacao',\n",
        "                  'viagens_e_eventos', 'animais', 'outros']"
      ],
      "execution_count": null,
      "outputs": []
    },
    {
      "cell_type": "code",
      "metadata": {
        "id": "SlkLcq7t_goG"
      },
      "source": [
        "df2['categoria'] = df2['categoria'].replace(categoria_antiga, categoria_nova)"
      ],
      "execution_count": null,
      "outputs": []
    },
    {
      "cell_type": "code",
      "metadata": {
        "id": "hzim6sfs_gXX"
      },
      "source": [
        "df2.isna().sum()"
      ],
      "execution_count": null,
      "outputs": []
    },
    {
      "cell_type": "markdown",
      "metadata": {
        "id": "7thHwy0L-OZw"
      },
      "source": [
        "**Verificando nomes de canais com valor nulo**"
      ]
    },
    {
      "cell_type": "code",
      "metadata": {
        "id": "f0nLpVhi7QpQ"
      },
      "source": [
        "df2[df2['nome_canal'].isnull()]"
      ],
      "execution_count": null,
      "outputs": []
    },
    {
      "cell_type": "markdown",
      "metadata": {
        "id": "QbfD6-5WA1Ns"
      },
      "source": [
        "**Removendo linha com nome de canal nulo**"
      ]
    },
    {
      "cell_type": "code",
      "metadata": {
        "id": "mEoYAz5y8YGs"
      },
      "source": [
        "df2.drop(499155, inplace = True)"
      ],
      "execution_count": null,
      "outputs": []
    },
    {
      "cell_type": "code",
      "metadata": {
        "id": "YVqFTA1h-c6A"
      },
      "source": [
        "df2.isna().sum()"
      ],
      "execution_count": null,
      "outputs": []
    },
    {
      "cell_type": "markdown",
      "metadata": {
        "id": "z8h2ZcQsTxMc"
      },
      "source": [
        "#Validação dos dados"
      ]
    },
    {
      "cell_type": "code",
      "metadata": {
        "id": "ZBm0anYlTw1V"
      },
      "source": [
        "df2.dtypes"
      ],
      "execution_count": null,
      "outputs": []
    },
    {
      "cell_type": "code",
      "metadata": {
        "id": "zZ_LZI9ATwpI"
      },
      "source": [
        "schema = pa.DataFrameSchema(\n",
        "    columns = {\n",
        "        \"id_video\":pa.Column(pa.String),\n",
        "        \"titulo_video\":pa.Column(pa.String),\n",
        "        \"publicado_em\":pa.Column(pa.DateTime),\n",
        "        \"id_canal\":pa.Column(pa.String),\n",
        "        \"nome_canal\":pa.Column(pa.String),\n",
        "        \"data_destaque\":pa.Column(pa.DateTime),\n",
        "        \"cont_visualizacao\":pa.Column(pa.Int),\n",
        "        \"curtidas\":pa.Column(pa.Int),\n",
        "        \"nao_curtidas\":pa.Column(pa.Int),\n",
        "        \"cont_comentarios\":pa.Column(pa.Int),\n",
        "        \"comentarios_desabilitados\":pa.Column(pa.Bool),\n",
        "        \"curtidas_desabilitadas\":pa.Column(pa.Bool),\n",
        "        \"pais\":pa.Column(pa.String),\n",
        "        \"categoria\":pa.Column(pa.String)\n",
        "    }\n",
        ")"
      ],
      "execution_count": null,
      "outputs": []
    },
    {
      "cell_type": "code",
      "metadata": {
        "id": "0u3niClzX7Sp"
      },
      "source": [
        "schema.validate(df2)"
      ],
      "execution_count": null,
      "outputs": []
    },
    {
      "cell_type": "markdown",
      "metadata": {
        "id": "MdL-vUkugt37"
      },
      "source": [
        "#Informações gerais sobre os tipo de dados e quantidades de não nulos"
      ]
    },
    {
      "cell_type": "code",
      "metadata": {
        "id": "nKvLl0IxcSvF"
      },
      "source": [
        "df2.info()"
      ],
      "execution_count": null,
      "outputs": []
    },
    {
      "cell_type": "markdown",
      "metadata": {
        "id": "l8MgV98Jg4dN"
      },
      "source": [
        "#Exportando DataFrame para o GCP"
      ]
    },
    {
      "cell_type": "code",
      "metadata": {
        "id": "zBOOAQXecZVl"
      },
      "source": [
        "from google.cloud import storage\n",
        "import os\n",
        "serviceAccount = '/content/projetofinalgrupo8-2dcd866c3f46.json'\n",
        "os.environ['GOOGLE_APPLICATION_CREDENTIALS'] = serviceAccount\n",
        "\n",
        "\n",
        "client = storage.Client()\n",
        "bucket = client.get_bucket('projetofinalgrupo8')\n",
        "    \n",
        "bucket.blob('saida/youtube_tratado_pandas.csv').upload_from_string(df2.to_csv(index=False), 'text/csv')"
      ],
      "execution_count": null,
      "outputs": []
    }
  ]
}