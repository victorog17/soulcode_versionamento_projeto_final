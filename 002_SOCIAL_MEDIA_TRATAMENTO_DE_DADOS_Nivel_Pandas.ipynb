{
  "nbformat": 4,
  "nbformat_minor": 0,
  "metadata": {
    "colab": {
      "name": "002_SOCIAL MEDIA TRATAMENTO DE DADOS- Nivel Pandas",
      "provenance": [],
      "collapsed_sections": []
    },
    "kernelspec": {
      "name": "python3",
      "display_name": "Python 3"
    },
    "language_info": {
      "name": "python"
    }
  },
  "cells": [
    {
      "cell_type": "markdown",
      "metadata": {
        "id": "JxXE0WxRelF6"
      },
      "source": [
        "#Bibliotecas \n"
      ]
    },
    {
      "cell_type": "code",
      "metadata": {
        "id": "aNyFDuM-GYrr"
      },
      "source": [
        "import pandas as pd\n",
        "from google.cloud import storage\n",
        "import os"
      ],
      "execution_count": null,
      "outputs": []
    },
    {
      "cell_type": "markdown",
      "metadata": {
        "id": "f228CLuCeuZs"
      },
      "source": [
        "#Importando DataFrame"
      ]
    },
    {
      "cell_type": "code",
      "metadata": {
        "id": "fZhbzBTWGtVq"
      },
      "source": [
        "df = pd.read_csv(r'https://storage.googleapis.com/projetofinalgrupo8/saida/data_drop_world.csv')\n",
        "#df_sales_raw = pd.read_csv('data/train.csv', low_memory=False)"
      ],
      "execution_count": null,
      "outputs": []
    },
    {
      "cell_type": "code",
      "metadata": {
        "id": "n9UHmF1RHM06",
        "colab": {
          "base_uri": "https://localhost:8080/",
          "height": 486
        },
        "outputId": "3d70d0fa-2a5a-4d8c-8b3a-675ff14aac01"
      },
      "source": [
        "df.head()"
      ],
      "execution_count": null,
      "outputs": [
        {
          "output_type": "execute_result",
          "data": {
            "text/html": [
              "<div>\n",
              "<style scoped>\n",
              "    .dataframe tbody tr th:only-of-type {\n",
              "        vertical-align: middle;\n",
              "    }\n",
              "\n",
              "    .dataframe tbody tr th {\n",
              "        vertical-align: top;\n",
              "    }\n",
              "\n",
              "    .dataframe thead th {\n",
              "        text-align: right;\n",
              "    }\n",
              "</style>\n",
              "<table border=\"1\" class=\"dataframe\">\n",
              "  <thead>\n",
              "    <tr style=\"text-align: right;\">\n",
              "      <th></th>\n",
              "      <th>video_id</th>\n",
              "      <th>title</th>\n",
              "      <th>publishedAt</th>\n",
              "      <th>channelId</th>\n",
              "      <th>channelTitle</th>\n",
              "      <th>trending_date</th>\n",
              "      <th>view_count</th>\n",
              "      <th>likes</th>\n",
              "      <th>dislikes</th>\n",
              "      <th>comment_count</th>\n",
              "      <th>comments_disabled</th>\n",
              "      <th>ratings_disabled</th>\n",
              "      <th>country</th>\n",
              "      <th>json_title</th>\n",
              "    </tr>\n",
              "  </thead>\n",
              "  <tbody>\n",
              "    <tr>\n",
              "      <th>0</th>\n",
              "      <td>s9FH4rDMvds</td>\n",
              "      <td>LEVEI UM FORA? FINGI ESTAR APAIXONADO POR ELA!</td>\n",
              "      <td>2020-08-11T22:21:49Z</td>\n",
              "      <td>UCGfBwrCoi9ZJjKiUK8MmJNw</td>\n",
              "      <td>Pietro Guedes</td>\n",
              "      <td>2020-08-12T00:00:00Z</td>\n",
              "      <td>263835</td>\n",
              "      <td>85095</td>\n",
              "      <td>487</td>\n",
              "      <td>4500</td>\n",
              "      <td>False</td>\n",
              "      <td>False</td>\n",
              "      <td>BR</td>\n",
              "      <td>People &amp; Blogs</td>\n",
              "    </tr>\n",
              "    <tr>\n",
              "      <th>1</th>\n",
              "      <td>jbGRowa5tIk</td>\n",
              "      <td>ITZY “Not Shy” M/V TEASER</td>\n",
              "      <td>2020-08-11T15:00:13Z</td>\n",
              "      <td>UCaO6TYtlC8U5ttz62hTrZgg</td>\n",
              "      <td>JYP Entertainment</td>\n",
              "      <td>2020-08-12T00:00:00Z</td>\n",
              "      <td>6000070</td>\n",
              "      <td>714310</td>\n",
              "      <td>15176</td>\n",
              "      <td>31040</td>\n",
              "      <td>False</td>\n",
              "      <td>False</td>\n",
              "      <td>BR</td>\n",
              "      <td>Music</td>\n",
              "    </tr>\n",
              "    <tr>\n",
              "      <th>2</th>\n",
              "      <td>3EfkCrXKZNs</td>\n",
              "      <td>Oh Juliana PARÓDIA - MC Niack</td>\n",
              "      <td>2020-08-10T14:59:00Z</td>\n",
              "      <td>UCoXZmVma073v5G1cW82UKkA</td>\n",
              "      <td>As Irmãs Mota</td>\n",
              "      <td>2020-08-12T00:00:00Z</td>\n",
              "      <td>2296748</td>\n",
              "      <td>39761</td>\n",
              "      <td>5484</td>\n",
              "      <td>0</td>\n",
              "      <td>True</td>\n",
              "      <td>False</td>\n",
              "      <td>BR</td>\n",
              "      <td>People &amp; Blogs</td>\n",
              "    </tr>\n",
              "    <tr>\n",
              "      <th>3</th>\n",
              "      <td>gBjox7vn3-g</td>\n",
              "      <td>Contos de Runeterra: Targon | A Estrada Tortuosa</td>\n",
              "      <td>2020-08-11T15:00:09Z</td>\n",
              "      <td>UC6Xqz2pm50gDCORYztqhDpg</td>\n",
              "      <td>League of Legends BR</td>\n",
              "      <td>2020-08-12T00:00:00Z</td>\n",
              "      <td>300510</td>\n",
              "      <td>46222</td>\n",
              "      <td>242</td>\n",
              "      <td>2748</td>\n",
              "      <td>False</td>\n",
              "      <td>False</td>\n",
              "      <td>BR</td>\n",
              "      <td>Gaming</td>\n",
              "    </tr>\n",
              "    <tr>\n",
              "      <th>4</th>\n",
              "      <td>npoUGx7UW7o</td>\n",
              "      <td>Entrevista com Thammy Miranda | The Noite (10/...</td>\n",
              "      <td>2020-08-11T20:04:02Z</td>\n",
              "      <td>UCEWOoncsrmirqnFqxer9lmA</td>\n",
              "      <td>The Noite com Danilo Gentili</td>\n",
              "      <td>2020-08-12T00:00:00Z</td>\n",
              "      <td>327235</td>\n",
              "      <td>22059</td>\n",
              "      <td>3972</td>\n",
              "      <td>2751</td>\n",
              "      <td>False</td>\n",
              "      <td>False</td>\n",
              "      <td>BR</td>\n",
              "      <td>Comedy</td>\n",
              "    </tr>\n",
              "  </tbody>\n",
              "</table>\n",
              "</div>"
            ],
            "text/plain": [
              "      video_id  ...      json_title\n",
              "0  s9FH4rDMvds  ...  People & Blogs\n",
              "1  jbGRowa5tIk  ...           Music\n",
              "2  3EfkCrXKZNs  ...  People & Blogs\n",
              "3  gBjox7vn3-g  ...          Gaming\n",
              "4  npoUGx7UW7o  ...          Comedy\n",
              "\n",
              "[5 rows x 14 columns]"
            ]
          },
          "metadata": {},
          "execution_count": 3
        }
      ]
    },
    {
      "cell_type": "markdown",
      "metadata": {
        "id": "-E_ejgyhe17v"
      },
      "source": [
        "#Verificando dimensão do DataFrame"
      ]
    },
    {
      "cell_type": "code",
      "metadata": {
        "id": "d_2uz1YwDX-8",
        "colab": {
          "base_uri": "https://localhost:8080/"
        },
        "outputId": "bf64b5d7-e529-481d-b97e-ca882fcb7554"
      },
      "source": [
        "df.shape"
      ],
      "execution_count": null,
      "outputs": [
        {
          "output_type": "execute_result",
          "data": {
            "text/plain": [
              "(1021622, 14)"
            ]
          },
          "metadata": {},
          "execution_count": 4
        }
      ]
    },
    {
      "cell_type": "markdown",
      "metadata": {
        "id": "0ftdXDVMe7mF"
      },
      "source": [
        "#Criando listas para renomear colunas"
      ]
    },
    {
      "cell_type": "code",
      "metadata": {
        "id": "L094aw9LiQj6"
      },
      "source": [
        "col_old = ['video_id', 'title', 'publishedAt', 'channelId', 'channelTitle',\n",
        "       'trending_date', 'view_count', 'likes', 'dislikes', 'comment_count',\n",
        "       'comments_disabled', 'ratings_disabled', 'country', 'json_title']\n",
        "\n",
        "col_new = ['id_video', 'titulo_video', 'publicado_em', 'id_canal', 'nome_canal',\n",
        "           'data_destaque', 'cont_visualizacao', 'curtidas', 'nao_curtidas', 'cont_comentarios',\n",
        "           'comentarios_desabilitados', 'curtidas_desabilitadas', 'pais', 'categoria']"
      ],
      "execution_count": null,
      "outputs": []
    },
    {
      "cell_type": "markdown",
      "metadata": {
        "id": "qnx12jiYfD8x"
      },
      "source": [
        "#Backup"
      ]
    },
    {
      "cell_type": "code",
      "metadata": {
        "id": "NUcs4L6D0xvq"
      },
      "source": [
        "df2 = df.copy()"
      ],
      "execution_count": null,
      "outputs": []
    },
    {
      "cell_type": "markdown",
      "metadata": {
        "id": "d21tdzebfHS0"
      },
      "source": [
        "#Renomeando colunas"
      ]
    },
    {
      "cell_type": "code",
      "metadata": {
        "id": "hMCyn1pHgeAs"
      },
      "source": [
        "df2.columns = col_new"
      ],
      "execution_count": null,
      "outputs": []
    },
    {
      "cell_type": "code",
      "metadata": {
        "id": "wGscn5Sn27Vo",
        "colab": {
          "base_uri": "https://localhost:8080/",
          "height": 486
        },
        "outputId": "dccd2cb0-ab3e-459e-a4a8-aaacbd39be45"
      },
      "source": [
        "df2.head()"
      ],
      "execution_count": null,
      "outputs": [
        {
          "output_type": "execute_result",
          "data": {
            "text/html": [
              "<div>\n",
              "<style scoped>\n",
              "    .dataframe tbody tr th:only-of-type {\n",
              "        vertical-align: middle;\n",
              "    }\n",
              "\n",
              "    .dataframe tbody tr th {\n",
              "        vertical-align: top;\n",
              "    }\n",
              "\n",
              "    .dataframe thead th {\n",
              "        text-align: right;\n",
              "    }\n",
              "</style>\n",
              "<table border=\"1\" class=\"dataframe\">\n",
              "  <thead>\n",
              "    <tr style=\"text-align: right;\">\n",
              "      <th></th>\n",
              "      <th>id_video</th>\n",
              "      <th>titulo_video</th>\n",
              "      <th>publicado_em</th>\n",
              "      <th>id_canal</th>\n",
              "      <th>nome_canal</th>\n",
              "      <th>data_destaque</th>\n",
              "      <th>cont_visualizacao</th>\n",
              "      <th>curtidas</th>\n",
              "      <th>nao_curtidas</th>\n",
              "      <th>cont_comentarios</th>\n",
              "      <th>comentarios_desabilitados</th>\n",
              "      <th>curtidas_desabilitadas</th>\n",
              "      <th>pais</th>\n",
              "      <th>categoria</th>\n",
              "    </tr>\n",
              "  </thead>\n",
              "  <tbody>\n",
              "    <tr>\n",
              "      <th>0</th>\n",
              "      <td>s9FH4rDMvds</td>\n",
              "      <td>LEVEI UM FORA? FINGI ESTAR APAIXONADO POR ELA!</td>\n",
              "      <td>2020-08-11T22:21:49Z</td>\n",
              "      <td>UCGfBwrCoi9ZJjKiUK8MmJNw</td>\n",
              "      <td>Pietro Guedes</td>\n",
              "      <td>2020-08-12T00:00:00Z</td>\n",
              "      <td>263835</td>\n",
              "      <td>85095</td>\n",
              "      <td>487</td>\n",
              "      <td>4500</td>\n",
              "      <td>False</td>\n",
              "      <td>False</td>\n",
              "      <td>BR</td>\n",
              "      <td>People &amp; Blogs</td>\n",
              "    </tr>\n",
              "    <tr>\n",
              "      <th>1</th>\n",
              "      <td>jbGRowa5tIk</td>\n",
              "      <td>ITZY “Not Shy” M/V TEASER</td>\n",
              "      <td>2020-08-11T15:00:13Z</td>\n",
              "      <td>UCaO6TYtlC8U5ttz62hTrZgg</td>\n",
              "      <td>JYP Entertainment</td>\n",
              "      <td>2020-08-12T00:00:00Z</td>\n",
              "      <td>6000070</td>\n",
              "      <td>714310</td>\n",
              "      <td>15176</td>\n",
              "      <td>31040</td>\n",
              "      <td>False</td>\n",
              "      <td>False</td>\n",
              "      <td>BR</td>\n",
              "      <td>Music</td>\n",
              "    </tr>\n",
              "    <tr>\n",
              "      <th>2</th>\n",
              "      <td>3EfkCrXKZNs</td>\n",
              "      <td>Oh Juliana PARÓDIA - MC Niack</td>\n",
              "      <td>2020-08-10T14:59:00Z</td>\n",
              "      <td>UCoXZmVma073v5G1cW82UKkA</td>\n",
              "      <td>As Irmãs Mota</td>\n",
              "      <td>2020-08-12T00:00:00Z</td>\n",
              "      <td>2296748</td>\n",
              "      <td>39761</td>\n",
              "      <td>5484</td>\n",
              "      <td>0</td>\n",
              "      <td>True</td>\n",
              "      <td>False</td>\n",
              "      <td>BR</td>\n",
              "      <td>People &amp; Blogs</td>\n",
              "    </tr>\n",
              "    <tr>\n",
              "      <th>3</th>\n",
              "      <td>gBjox7vn3-g</td>\n",
              "      <td>Contos de Runeterra: Targon | A Estrada Tortuosa</td>\n",
              "      <td>2020-08-11T15:00:09Z</td>\n",
              "      <td>UC6Xqz2pm50gDCORYztqhDpg</td>\n",
              "      <td>League of Legends BR</td>\n",
              "      <td>2020-08-12T00:00:00Z</td>\n",
              "      <td>300510</td>\n",
              "      <td>46222</td>\n",
              "      <td>242</td>\n",
              "      <td>2748</td>\n",
              "      <td>False</td>\n",
              "      <td>False</td>\n",
              "      <td>BR</td>\n",
              "      <td>Gaming</td>\n",
              "    </tr>\n",
              "    <tr>\n",
              "      <th>4</th>\n",
              "      <td>npoUGx7UW7o</td>\n",
              "      <td>Entrevista com Thammy Miranda | The Noite (10/...</td>\n",
              "      <td>2020-08-11T20:04:02Z</td>\n",
              "      <td>UCEWOoncsrmirqnFqxer9lmA</td>\n",
              "      <td>The Noite com Danilo Gentili</td>\n",
              "      <td>2020-08-12T00:00:00Z</td>\n",
              "      <td>327235</td>\n",
              "      <td>22059</td>\n",
              "      <td>3972</td>\n",
              "      <td>2751</td>\n",
              "      <td>False</td>\n",
              "      <td>False</td>\n",
              "      <td>BR</td>\n",
              "      <td>Comedy</td>\n",
              "    </tr>\n",
              "  </tbody>\n",
              "</table>\n",
              "</div>"
            ],
            "text/plain": [
              "      id_video  ...       categoria\n",
              "0  s9FH4rDMvds  ...  People & Blogs\n",
              "1  jbGRowa5tIk  ...           Music\n",
              "2  3EfkCrXKZNs  ...  People & Blogs\n",
              "3  gBjox7vn3-g  ...          Gaming\n",
              "4  npoUGx7UW7o  ...          Comedy\n",
              "\n",
              "[5 rows x 14 columns]"
            ]
          },
          "metadata": {},
          "execution_count": 8
        }
      ]
    },
    {
      "cell_type": "markdown",
      "metadata": {
        "id": "VNcBy6UKfe8j"
      },
      "source": [
        "#Vericando tipos de categorias"
      ]
    },
    {
      "cell_type": "code",
      "metadata": {
        "colab": {
          "base_uri": "https://localhost:8080/"
        },
        "id": "mYAqVugY3SKC",
        "outputId": "9f2a4894-31fe-48f3-e462-561c386b263f"
      },
      "source": [
        "df2['categoria'].unique()"
      ],
      "execution_count": null,
      "outputs": [
        {
          "output_type": "execute_result",
          "data": {
            "text/plain": [
              "array(['People & Blogs', 'Music', 'Gaming', 'Comedy', 'Sports',\n",
              "       'Entertainment', 'Education', 'Autos & Vehicles', 'Howto & Style',\n",
              "       'News & Politics', 'Science & Technology', 'Film & Animation',\n",
              "       'Travel & Events', 'Pets & Animals', nan], dtype=object)"
            ]
          },
          "metadata": {},
          "execution_count": 9
        }
      ]
    },
    {
      "cell_type": "markdown",
      "metadata": {
        "id": "RXTE01OygC5W"
      },
      "source": [
        "#Criando listas para renomear as categorias"
      ]
    },
    {
      "cell_type": "code",
      "metadata": {
        "id": "nRfQ1Mmy334W"
      },
      "source": [
        "categoria_antiga = ['People & Blogs', 'Music', 'Gaming', 'Comedy', 'Sports',\n",
        "       'Entertainment', 'Education', 'Autos & Vehicles', 'Howto & Style',\n",
        "       'News & Politics', 'Science & Technology', 'Film & Animation',\n",
        "       'Travel & Events', 'Pets & Animals']\n",
        "\n",
        "categoria_nova = ['pessoas_e_blogs', 'musica', 'jogos', 'comedia', 'esportes',\n",
        "                  'entretenimento', 'educacao', 'automoveis', 'como_faz_e_estilos',\n",
        "                  'noticias_e_politicas', 'ciencias_e_tecnologia', 'filme_e_animacao',\n",
        "                  'viagens_e_eventos', 'animais']"
      ],
      "execution_count": null,
      "outputs": []
    },
    {
      "cell_type": "markdown",
      "metadata": {
        "id": "ciAVRO4sgHOs"
      },
      "source": [
        "#Renomeando categorias"
      ]
    },
    {
      "cell_type": "code",
      "metadata": {
        "id": "ikOYsIg06ZX6"
      },
      "source": [
        "df2['categoria'] = df2['categoria'].replace(categoria_antiga, categoria_nova)"
      ],
      "execution_count": null,
      "outputs": []
    },
    {
      "cell_type": "markdown",
      "metadata": {
        "id": "hmoks6hvgNHy"
      },
      "source": [
        "#Verificando números de dados nulos"
      ]
    },
    {
      "cell_type": "code",
      "metadata": {
        "colab": {
          "base_uri": "https://localhost:8080/"
        },
        "id": "wi8BF-mP6rz4",
        "outputId": "0235e81a-7005-47ea-e71f-1bf23d783bd2"
      },
      "source": [
        "df2.isna().sum()"
      ],
      "execution_count": null,
      "outputs": [
        {
          "output_type": "execute_result",
          "data": {
            "text/plain": [
              "id_video                        0\n",
              "titulo_video                    0\n",
              "publicado_em                    0\n",
              "id_canal                        0\n",
              "nome_canal                      1\n",
              "data_destaque                   0\n",
              "cont_visualizacao               0\n",
              "curtidas                        0\n",
              "nao_curtidas                    0\n",
              "cont_comentarios                0\n",
              "comentarios_desabilitados       0\n",
              "curtidas_desabilitadas          0\n",
              "pais                            0\n",
              "categoria                    2951\n",
              "dtype: int64"
            ]
          },
          "metadata": {},
          "execution_count": 12
        }
      ]
    },
    {
      "cell_type": "markdown",
      "metadata": {
        "id": "kV1KjkilAn4t"
      },
      "source": [
        "#Tratando os valores nulos da coluna \"Categoria\""
      ]
    },
    {
      "cell_type": "code",
      "metadata": {
        "id": "KIWdIe6t_fL2"
      },
      "source": [
        "import numpy as np"
      ],
      "execution_count": null,
      "outputs": []
    },
    {
      "cell_type": "code",
      "metadata": {
        "id": "Vi5T5Hea_tfh"
      },
      "source": [
        "categoria_antiga = ['People & Blogs', 'Music', 'Gaming', 'Comedy', 'Sports',\n",
        "       'Entertainment', 'Education', 'Autos & Vehicles', 'Howto & Style',\n",
        "       'News & Politics', 'Science & Technology', 'Film & Animation',\n",
        "       'Travel & Events', 'Pets & Animals', np.nan]\n",
        "\n",
        "categoria_nova = ['pessoas_e_blogs', 'musica', 'jogos', 'comedia', 'esportes',\n",
        "                  'entretenimento', 'educacao', 'automoveis', 'como_faz_e_estilos',\n",
        "                  'noticias_e_politicas', 'ciencias_e_tecnologia', 'filme_e_animacao',\n",
        "                  'viagens_e_eventos', 'animais', 'outros']"
      ],
      "execution_count": null,
      "outputs": []
    },
    {
      "cell_type": "code",
      "metadata": {
        "id": "SlkLcq7t_goG"
      },
      "source": [
        "df2['categoria'] = df2['categoria'].replace(categoria_antiga, categoria_nova)"
      ],
      "execution_count": null,
      "outputs": []
    },
    {
      "cell_type": "code",
      "metadata": {
        "colab": {
          "base_uri": "https://localhost:8080/"
        },
        "id": "hzim6sfs_gXX",
        "outputId": "75d32063-9f32-47a9-a557-9aa44affdf8c"
      },
      "source": [
        "df2.isna().sum()"
      ],
      "execution_count": null,
      "outputs": [
        {
          "output_type": "execute_result",
          "data": {
            "text/plain": [
              "id_video                     0\n",
              "titulo_video                 0\n",
              "publicado_em                 0\n",
              "id_canal                     0\n",
              "nome_canal                   1\n",
              "data_destaque                0\n",
              "cont_visualizacao            0\n",
              "curtidas                     0\n",
              "nao_curtidas                 0\n",
              "cont_comentarios             0\n",
              "comentarios_desabilitados    0\n",
              "curtidas_desabilitadas       0\n",
              "pais                         0\n",
              "categoria                    0\n",
              "dtype: int64"
            ]
          },
          "metadata": {},
          "execution_count": 16
        }
      ]
    },
    {
      "cell_type": "markdown",
      "metadata": {
        "id": "7thHwy0L-OZw"
      },
      "source": [
        "#Verificando nomes de canais com valor nulo"
      ]
    },
    {
      "cell_type": "code",
      "metadata": {
        "colab": {
          "base_uri": "https://localhost:8080/",
          "height": 170
        },
        "id": "f0nLpVhi7QpQ",
        "outputId": "ef781c1d-5275-4d2d-d33e-439f67cca77a"
      },
      "source": [
        "df2[df2['nome_canal'].isnull()]"
      ],
      "execution_count": null,
      "outputs": [
        {
          "output_type": "execute_result",
          "data": {
            "text/html": [
              "<div>\n",
              "<style scoped>\n",
              "    .dataframe tbody tr th:only-of-type {\n",
              "        vertical-align: middle;\n",
              "    }\n",
              "\n",
              "    .dataframe tbody tr th {\n",
              "        vertical-align: top;\n",
              "    }\n",
              "\n",
              "    .dataframe thead th {\n",
              "        text-align: right;\n",
              "    }\n",
              "</style>\n",
              "<table border=\"1\" class=\"dataframe\">\n",
              "  <thead>\n",
              "    <tr style=\"text-align: right;\">\n",
              "      <th></th>\n",
              "      <th>id_video</th>\n",
              "      <th>titulo_video</th>\n",
              "      <th>publicado_em</th>\n",
              "      <th>id_canal</th>\n",
              "      <th>nome_canal</th>\n",
              "      <th>data_destaque</th>\n",
              "      <th>cont_visualizacao</th>\n",
              "      <th>curtidas</th>\n",
              "      <th>nao_curtidas</th>\n",
              "      <th>cont_comentarios</th>\n",
              "      <th>comentarios_desabilitados</th>\n",
              "      <th>curtidas_desabilitadas</th>\n",
              "      <th>pais</th>\n",
              "      <th>categoria</th>\n",
              "    </tr>\n",
              "  </thead>\n",
              "  <tbody>\n",
              "    <tr>\n",
              "      <th>499155</th>\n",
              "      <td>9b9MovPPewk</td>\n",
              "      <td>Kala Official Teaser | Tovino Thomas | Rohith ...</td>\n",
              "      <td>2021-01-21T12:30:29Z</td>\n",
              "      <td>UCDQt0y-FCJLRdwhNLutPFZA</td>\n",
              "      <td>NaN</td>\n",
              "      <td>2021-01-23T00:00:00Z</td>\n",
              "      <td>1008638</td>\n",
              "      <td>72772</td>\n",
              "      <td>1451</td>\n",
              "      <td>3023</td>\n",
              "      <td>False</td>\n",
              "      <td>False</td>\n",
              "      <td>IN</td>\n",
              "      <td>pessoas_e_blogs</td>\n",
              "    </tr>\n",
              "  </tbody>\n",
              "</table>\n",
              "</div>"
            ],
            "text/plain": [
              "           id_video  ...        categoria\n",
              "499155  9b9MovPPewk  ...  pessoas_e_blogs\n",
              "\n",
              "[1 rows x 14 columns]"
            ]
          },
          "metadata": {},
          "execution_count": 17
        }
      ]
    },
    {
      "cell_type": "markdown",
      "metadata": {
        "id": "QbfD6-5WA1Ns"
      },
      "source": [
        "#Removendo linha com nome de canal nulo"
      ]
    },
    {
      "cell_type": "code",
      "metadata": {
        "id": "mEoYAz5y8YGs"
      },
      "source": [
        "df2.drop(499155, inplace = True)"
      ],
      "execution_count": null,
      "outputs": []
    },
    {
      "cell_type": "code",
      "metadata": {
        "colab": {
          "base_uri": "https://localhost:8080/"
        },
        "id": "YVqFTA1h-c6A",
        "outputId": "52efbcd9-492f-4124-a628-fe58a1498ce0"
      },
      "source": [
        "df2.isna().sum()"
      ],
      "execution_count": null,
      "outputs": [
        {
          "output_type": "execute_result",
          "data": {
            "text/plain": [
              "id_video                     0\n",
              "titulo_video                 0\n",
              "publicado_em                 0\n",
              "id_canal                     0\n",
              "nome_canal                   0\n",
              "data_destaque                0\n",
              "cont_visualizacao            0\n",
              "curtidas                     0\n",
              "nao_curtidas                 0\n",
              "cont_comentarios             0\n",
              "comentarios_desabilitados    0\n",
              "curtidas_desabilitadas       0\n",
              "pais                         0\n",
              "categoria                    0\n",
              "dtype: int64"
            ]
          },
          "metadata": {},
          "execution_count": 19
        }
      ]
    },
    {
      "cell_type": "code",
      "metadata": {
        "id": "JptGl6NR-rMV",
        "colab": {
          "base_uri": "https://localhost:8080/",
          "height": 302
        },
        "outputId": "8657563f-beca-49a6-bdf0-3bdb4753be1f"
      },
      "source": [
        "df2.head(3)"
      ],
      "execution_count": null,
      "outputs": [
        {
          "output_type": "execute_result",
          "data": {
            "text/html": [
              "<div>\n",
              "<style scoped>\n",
              "    .dataframe tbody tr th:only-of-type {\n",
              "        vertical-align: middle;\n",
              "    }\n",
              "\n",
              "    .dataframe tbody tr th {\n",
              "        vertical-align: top;\n",
              "    }\n",
              "\n",
              "    .dataframe thead th {\n",
              "        text-align: right;\n",
              "    }\n",
              "</style>\n",
              "<table border=\"1\" class=\"dataframe\">\n",
              "  <thead>\n",
              "    <tr style=\"text-align: right;\">\n",
              "      <th></th>\n",
              "      <th>id_video</th>\n",
              "      <th>titulo_video</th>\n",
              "      <th>publicado_em</th>\n",
              "      <th>id_canal</th>\n",
              "      <th>nome_canal</th>\n",
              "      <th>data_destaque</th>\n",
              "      <th>cont_visualizacao</th>\n",
              "      <th>curtidas</th>\n",
              "      <th>nao_curtidas</th>\n",
              "      <th>cont_comentarios</th>\n",
              "      <th>comentarios_desabilitados</th>\n",
              "      <th>curtidas_desabilitadas</th>\n",
              "      <th>pais</th>\n",
              "      <th>categoria</th>\n",
              "    </tr>\n",
              "  </thead>\n",
              "  <tbody>\n",
              "    <tr>\n",
              "      <th>0</th>\n",
              "      <td>s9FH4rDMvds</td>\n",
              "      <td>LEVEI UM FORA? FINGI ESTAR APAIXONADO POR ELA!</td>\n",
              "      <td>2020-08-11T22:21:49Z</td>\n",
              "      <td>UCGfBwrCoi9ZJjKiUK8MmJNw</td>\n",
              "      <td>Pietro Guedes</td>\n",
              "      <td>2020-08-12T00:00:00Z</td>\n",
              "      <td>263835</td>\n",
              "      <td>85095</td>\n",
              "      <td>487</td>\n",
              "      <td>4500</td>\n",
              "      <td>False</td>\n",
              "      <td>False</td>\n",
              "      <td>BR</td>\n",
              "      <td>pessoas_e_blogs</td>\n",
              "    </tr>\n",
              "    <tr>\n",
              "      <th>1</th>\n",
              "      <td>jbGRowa5tIk</td>\n",
              "      <td>ITZY “Not Shy” M/V TEASER</td>\n",
              "      <td>2020-08-11T15:00:13Z</td>\n",
              "      <td>UCaO6TYtlC8U5ttz62hTrZgg</td>\n",
              "      <td>JYP Entertainment</td>\n",
              "      <td>2020-08-12T00:00:00Z</td>\n",
              "      <td>6000070</td>\n",
              "      <td>714310</td>\n",
              "      <td>15176</td>\n",
              "      <td>31040</td>\n",
              "      <td>False</td>\n",
              "      <td>False</td>\n",
              "      <td>BR</td>\n",
              "      <td>musica</td>\n",
              "    </tr>\n",
              "    <tr>\n",
              "      <th>2</th>\n",
              "      <td>3EfkCrXKZNs</td>\n",
              "      <td>Oh Juliana PARÓDIA - MC Niack</td>\n",
              "      <td>2020-08-10T14:59:00Z</td>\n",
              "      <td>UCoXZmVma073v5G1cW82UKkA</td>\n",
              "      <td>As Irmãs Mota</td>\n",
              "      <td>2020-08-12T00:00:00Z</td>\n",
              "      <td>2296748</td>\n",
              "      <td>39761</td>\n",
              "      <td>5484</td>\n",
              "      <td>0</td>\n",
              "      <td>True</td>\n",
              "      <td>False</td>\n",
              "      <td>BR</td>\n",
              "      <td>pessoas_e_blogs</td>\n",
              "    </tr>\n",
              "  </tbody>\n",
              "</table>\n",
              "</div>"
            ],
            "text/plain": [
              "      id_video  ...        categoria\n",
              "0  s9FH4rDMvds  ...  pessoas_e_blogs\n",
              "1  jbGRowa5tIk  ...           musica\n",
              "2  3EfkCrXKZNs  ...  pessoas_e_blogs\n",
              "\n",
              "[3 rows x 14 columns]"
            ]
          },
          "metadata": {},
          "execution_count": 20
        }
      ]
    },
    {
      "cell_type": "markdown",
      "metadata": {
        "id": "gtjpgRQ3ggfA"
      },
      "source": [
        "#Verificando os tipos de dados do DataFrame"
      ]
    },
    {
      "cell_type": "code",
      "metadata": {
        "colab": {
          "base_uri": "https://localhost:8080/"
        },
        "id": "f1k0D6vEDg-S",
        "outputId": "2612ee75-8633-4a30-d66e-aea34d29eddc"
      },
      "source": [
        "df2.dtypes"
      ],
      "execution_count": null,
      "outputs": [
        {
          "output_type": "execute_result",
          "data": {
            "text/plain": [
              "id_video                     object\n",
              "titulo_video                 object\n",
              "publicado_em                 object\n",
              "id_canal                     object\n",
              "nome_canal                   object\n",
              "data_destaque                object\n",
              "cont_visualizacao             int64\n",
              "curtidas                      int64\n",
              "nao_curtidas                  int64\n",
              "cont_comentarios              int64\n",
              "comentarios_desabilitados      bool\n",
              "curtidas_desabilitadas         bool\n",
              "pais                         object\n",
              "categoria                    object\n",
              "dtype: object"
            ]
          },
          "metadata": {},
          "execution_count": 21
        }
      ]
    },
    {
      "cell_type": "markdown",
      "metadata": {
        "id": "70PezcdWgnI5"
      },
      "source": [
        "#Formatando datetime"
      ]
    },
    {
      "cell_type": "code",
      "metadata": {
        "id": "Po1QGXlxFi8o"
      },
      "source": [
        "df2['publicado_em'] = pd.to_datetime(df2['publicado_em']).dt.strftime(\"%Y-%m-%d %H:%M:%S\")\n",
        "df2['publicado_em'] = pd.to_datetime(df2['publicado_em'])"
      ],
      "execution_count": null,
      "outputs": []
    },
    {
      "cell_type": "code",
      "metadata": {
        "id": "SPN9FfmVl_2i"
      },
      "source": [
        "df2['data_destaque'] = pd.to_datetime(df2['data_destaque']).dt.strftime(\"%Y-%m-%d\")\n",
        "df2['data_destaque'] = pd.to_datetime(df2['data_destaque'])"
      ],
      "execution_count": null,
      "outputs": []
    },
    {
      "cell_type": "code",
      "metadata": {
        "id": "sBOZTlQqMPGN",
        "colab": {
          "base_uri": "https://localhost:8080/",
          "height": 153
        },
        "outputId": "12d9f6cc-97e5-4cd1-a274-c2a7fcb2a6b7"
      },
      "source": [
        "df2.sample()"
      ],
      "execution_count": null,
      "outputs": [
        {
          "output_type": "execute_result",
          "data": {
            "text/html": [
              "<div>\n",
              "<style scoped>\n",
              "    .dataframe tbody tr th:only-of-type {\n",
              "        vertical-align: middle;\n",
              "    }\n",
              "\n",
              "    .dataframe tbody tr th {\n",
              "        vertical-align: top;\n",
              "    }\n",
              "\n",
              "    .dataframe thead th {\n",
              "        text-align: right;\n",
              "    }\n",
              "</style>\n",
              "<table border=\"1\" class=\"dataframe\">\n",
              "  <thead>\n",
              "    <tr style=\"text-align: right;\">\n",
              "      <th></th>\n",
              "      <th>id_video</th>\n",
              "      <th>titulo_video</th>\n",
              "      <th>publicado_em</th>\n",
              "      <th>id_canal</th>\n",
              "      <th>nome_canal</th>\n",
              "      <th>data_destaque</th>\n",
              "      <th>cont_visualizacao</th>\n",
              "      <th>curtidas</th>\n",
              "      <th>nao_curtidas</th>\n",
              "      <th>cont_comentarios</th>\n",
              "      <th>comentarios_desabilitados</th>\n",
              "      <th>curtidas_desabilitadas</th>\n",
              "      <th>pais</th>\n",
              "      <th>categoria</th>\n",
              "    </tr>\n",
              "  </thead>\n",
              "  <tbody>\n",
              "    <tr>\n",
              "      <th>241849</th>\n",
              "      <td>aZBOJdM1jyU</td>\n",
              "      <td>Eins noch bis Müller: Lewa-Hattrick bei Meiste...</td>\n",
              "      <td>2021-05-09 22:00:00</td>\n",
              "      <td>UClBFnQJMlinWDCvfSXj60CA</td>\n",
              "      <td>DAZN Bundesliga</td>\n",
              "      <td>2021-05-14</td>\n",
              "      <td>1289245</td>\n",
              "      <td>42040</td>\n",
              "      <td>922</td>\n",
              "      <td>1698</td>\n",
              "      <td>False</td>\n",
              "      <td>False</td>\n",
              "      <td>DE</td>\n",
              "      <td>esportes</td>\n",
              "    </tr>\n",
              "  </tbody>\n",
              "</table>\n",
              "</div>"
            ],
            "text/plain": [
              "           id_video  ... categoria\n",
              "241849  aZBOJdM1jyU  ...  esportes\n",
              "\n",
              "[1 rows x 14 columns]"
            ]
          },
          "metadata": {},
          "execution_count": 24
        }
      ]
    },
    {
      "cell_type": "markdown",
      "metadata": {
        "id": "MdL-vUkugt37"
      },
      "source": [
        "#Informações gerais sobre os tipo de dados e quantidades de não nulos"
      ]
    },
    {
      "cell_type": "code",
      "metadata": {
        "colab": {
          "base_uri": "https://localhost:8080/"
        },
        "id": "nKvLl0IxcSvF",
        "outputId": "54ff3472-7b37-4199-b5ed-175b968bf68f"
      },
      "source": [
        "df2.info()"
      ],
      "execution_count": null,
      "outputs": [
        {
          "output_type": "stream",
          "name": "stdout",
          "text": [
            "<class 'pandas.core.frame.DataFrame'>\n",
            "Int64Index: 1021621 entries, 0 to 1021621\n",
            "Data columns (total 14 columns):\n",
            " #   Column                     Non-Null Count    Dtype         \n",
            "---  ------                     --------------    -----         \n",
            " 0   id_video                   1021621 non-null  object        \n",
            " 1   titulo_video               1021621 non-null  object        \n",
            " 2   publicado_em               1021621 non-null  datetime64[ns]\n",
            " 3   id_canal                   1021621 non-null  object        \n",
            " 4   nome_canal                 1021621 non-null  object        \n",
            " 5   data_destaque              1021621 non-null  datetime64[ns]\n",
            " 6   cont_visualizacao          1021621 non-null  int64         \n",
            " 7   curtidas                   1021621 non-null  int64         \n",
            " 8   nao_curtidas               1021621 non-null  int64         \n",
            " 9   cont_comentarios           1021621 non-null  int64         \n",
            " 10  comentarios_desabilitados  1021621 non-null  bool          \n",
            " 11  curtidas_desabilitadas     1021621 non-null  bool          \n",
            " 12  pais                       1021621 non-null  object        \n",
            " 13  categoria                  1021621 non-null  object        \n",
            "dtypes: bool(2), datetime64[ns](2), int64(4), object(6)\n",
            "memory usage: 103.3+ MB\n"
          ]
        }
      ]
    },
    {
      "cell_type": "code",
      "metadata": {
        "id": "XNGS2ahAo-pL",
        "colab": {
          "base_uri": "https://localhost:8080/",
          "height": 912
        },
        "outputId": "22c9f2a8-7ab6-4f96-d788-65d7ee7a5068"
      },
      "source": [
        "df2"
      ],
      "execution_count": null,
      "outputs": [
        {
          "output_type": "execute_result",
          "data": {
            "text/html": [
              "<div>\n",
              "<style scoped>\n",
              "    .dataframe tbody tr th:only-of-type {\n",
              "        vertical-align: middle;\n",
              "    }\n",
              "\n",
              "    .dataframe tbody tr th {\n",
              "        vertical-align: top;\n",
              "    }\n",
              "\n",
              "    .dataframe thead th {\n",
              "        text-align: right;\n",
              "    }\n",
              "</style>\n",
              "<table border=\"1\" class=\"dataframe\">\n",
              "  <thead>\n",
              "    <tr style=\"text-align: right;\">\n",
              "      <th></th>\n",
              "      <th>id_video</th>\n",
              "      <th>titulo_video</th>\n",
              "      <th>publicado_em</th>\n",
              "      <th>id_canal</th>\n",
              "      <th>nome_canal</th>\n",
              "      <th>data_destaque</th>\n",
              "      <th>cont_visualizacao</th>\n",
              "      <th>curtidas</th>\n",
              "      <th>nao_curtidas</th>\n",
              "      <th>cont_comentarios</th>\n",
              "      <th>comentarios_desabilitados</th>\n",
              "      <th>curtidas_desabilitadas</th>\n",
              "      <th>pais</th>\n",
              "      <th>categoria</th>\n",
              "    </tr>\n",
              "  </thead>\n",
              "  <tbody>\n",
              "    <tr>\n",
              "      <th>0</th>\n",
              "      <td>s9FH4rDMvds</td>\n",
              "      <td>LEVEI UM FORA? FINGI ESTAR APAIXONADO POR ELA!</td>\n",
              "      <td>2020-08-11 22:21:49</td>\n",
              "      <td>UCGfBwrCoi9ZJjKiUK8MmJNw</td>\n",
              "      <td>Pietro Guedes</td>\n",
              "      <td>2020-08-12</td>\n",
              "      <td>263835</td>\n",
              "      <td>85095</td>\n",
              "      <td>487</td>\n",
              "      <td>4500</td>\n",
              "      <td>False</td>\n",
              "      <td>False</td>\n",
              "      <td>BR</td>\n",
              "      <td>pessoas_e_blogs</td>\n",
              "    </tr>\n",
              "    <tr>\n",
              "      <th>1</th>\n",
              "      <td>jbGRowa5tIk</td>\n",
              "      <td>ITZY “Not Shy” M/V TEASER</td>\n",
              "      <td>2020-08-11 15:00:13</td>\n",
              "      <td>UCaO6TYtlC8U5ttz62hTrZgg</td>\n",
              "      <td>JYP Entertainment</td>\n",
              "      <td>2020-08-12</td>\n",
              "      <td>6000070</td>\n",
              "      <td>714310</td>\n",
              "      <td>15176</td>\n",
              "      <td>31040</td>\n",
              "      <td>False</td>\n",
              "      <td>False</td>\n",
              "      <td>BR</td>\n",
              "      <td>musica</td>\n",
              "    </tr>\n",
              "    <tr>\n",
              "      <th>2</th>\n",
              "      <td>3EfkCrXKZNs</td>\n",
              "      <td>Oh Juliana PARÓDIA - MC Niack</td>\n",
              "      <td>2020-08-10 14:59:00</td>\n",
              "      <td>UCoXZmVma073v5G1cW82UKkA</td>\n",
              "      <td>As Irmãs Mota</td>\n",
              "      <td>2020-08-12</td>\n",
              "      <td>2296748</td>\n",
              "      <td>39761</td>\n",
              "      <td>5484</td>\n",
              "      <td>0</td>\n",
              "      <td>True</td>\n",
              "      <td>False</td>\n",
              "      <td>BR</td>\n",
              "      <td>pessoas_e_blogs</td>\n",
              "    </tr>\n",
              "    <tr>\n",
              "      <th>3</th>\n",
              "      <td>gBjox7vn3-g</td>\n",
              "      <td>Contos de Runeterra: Targon | A Estrada Tortuosa</td>\n",
              "      <td>2020-08-11 15:00:09</td>\n",
              "      <td>UC6Xqz2pm50gDCORYztqhDpg</td>\n",
              "      <td>League of Legends BR</td>\n",
              "      <td>2020-08-12</td>\n",
              "      <td>300510</td>\n",
              "      <td>46222</td>\n",
              "      <td>242</td>\n",
              "      <td>2748</td>\n",
              "      <td>False</td>\n",
              "      <td>False</td>\n",
              "      <td>BR</td>\n",
              "      <td>jogos</td>\n",
              "    </tr>\n",
              "    <tr>\n",
              "      <th>4</th>\n",
              "      <td>npoUGx7UW7o</td>\n",
              "      <td>Entrevista com Thammy Miranda | The Noite (10/...</td>\n",
              "      <td>2020-08-11 20:04:02</td>\n",
              "      <td>UCEWOoncsrmirqnFqxer9lmA</td>\n",
              "      <td>The Noite com Danilo Gentili</td>\n",
              "      <td>2020-08-12</td>\n",
              "      <td>327235</td>\n",
              "      <td>22059</td>\n",
              "      <td>3972</td>\n",
              "      <td>2751</td>\n",
              "      <td>False</td>\n",
              "      <td>False</td>\n",
              "      <td>BR</td>\n",
              "      <td>comedia</td>\n",
              "    </tr>\n",
              "    <tr>\n",
              "      <th>...</th>\n",
              "      <td>...</td>\n",
              "      <td>...</td>\n",
              "      <td>...</td>\n",
              "      <td>...</td>\n",
              "      <td>...</td>\n",
              "      <td>...</td>\n",
              "      <td>...</td>\n",
              "      <td>...</td>\n",
              "      <td>...</td>\n",
              "      <td>...</td>\n",
              "      <td>...</td>\n",
              "      <td>...</td>\n",
              "      <td>...</td>\n",
              "      <td>...</td>\n",
              "    </tr>\n",
              "    <tr>\n",
              "      <th>1021617</th>\n",
              "      <td>I-Bz1uGMcdw</td>\n",
              "      <td>Ресторан СЕВЕРНОЙ кухни / 3 (ТРИ!) награды Миш...</td>\n",
              "      <td>2021-11-16 09:59:59</td>\n",
              "      <td>UCxF6ylvxiQV5m-7Rawr3W7g</td>\n",
              "      <td>Макс Брандт</td>\n",
              "      <td>2021-11-17</td>\n",
              "      <td>271230</td>\n",
              "      <td>33841</td>\n",
              "      <td>506</td>\n",
              "      <td>828</td>\n",
              "      <td>False</td>\n",
              "      <td>False</td>\n",
              "      <td>RU</td>\n",
              "      <td>entretenimento</td>\n",
              "    </tr>\n",
              "    <tr>\n",
              "      <th>1021618</th>\n",
              "      <td>DoyhJP_e7JQ</td>\n",
              "      <td>Brawl Stars: Brawl Talk - It's NOT Club Wars! 😱</td>\n",
              "      <td>2021-11-13 16:00:10</td>\n",
              "      <td>UCooVYzDxdwTtGYAkcPmOgOw</td>\n",
              "      <td>Brawl Stars</td>\n",
              "      <td>2021-11-17</td>\n",
              "      <td>9810853</td>\n",
              "      <td>560362</td>\n",
              "      <td>10232</td>\n",
              "      <td>32452</td>\n",
              "      <td>False</td>\n",
              "      <td>False</td>\n",
              "      <td>RU</td>\n",
              "      <td>jogos</td>\n",
              "    </tr>\n",
              "    <tr>\n",
              "      <th>1021619</th>\n",
              "      <td>1xH8kzEzMuM</td>\n",
              "      <td>Հայլուր 20:30 Թշնամու ներխուժում. հրավիրվել է ...</td>\n",
              "      <td>2021-11-16 17:45:42</td>\n",
              "      <td>UCvhOxd4DL1kUZLOPJV-K-aA</td>\n",
              "      <td>5 TV Channel</td>\n",
              "      <td>2021-11-17</td>\n",
              "      <td>45658</td>\n",
              "      <td>325</td>\n",
              "      <td>64</td>\n",
              "      <td>0</td>\n",
              "      <td>False</td>\n",
              "      <td>False</td>\n",
              "      <td>RU</td>\n",
              "      <td>noticias_e_politicas</td>\n",
              "    </tr>\n",
              "    <tr>\n",
              "      <th>1021620</th>\n",
              "      <td>CgVhSYkL7lM</td>\n",
              "      <td>Изобретение кубанского пенсионера заинтересова...</td>\n",
              "      <td>2021-11-16 06:15:00</td>\n",
              "      <td>UC_IEcnNeHc_bwd92Ber-lew</td>\n",
              "      <td>Россия 24</td>\n",
              "      <td>2021-11-17</td>\n",
              "      <td>390957</td>\n",
              "      <td>11339</td>\n",
              "      <td>182</td>\n",
              "      <td>1654</td>\n",
              "      <td>False</td>\n",
              "      <td>False</td>\n",
              "      <td>RU</td>\n",
              "      <td>noticias_e_politicas</td>\n",
              "    </tr>\n",
              "    <tr>\n",
              "      <th>1021621</th>\n",
              "      <td>BQGWqejRgTU</td>\n",
              "      <td>Стас Михайлов - Все цветы</td>\n",
              "      <td>2021-11-15 14:17:34</td>\n",
              "      <td>UCc_rpSa6PXPow6aVRhlnQ8g</td>\n",
              "      <td>Стас Михайлов</td>\n",
              "      <td>2021-11-17</td>\n",
              "      <td>63712</td>\n",
              "      <td>2061</td>\n",
              "      <td>47</td>\n",
              "      <td>98</td>\n",
              "      <td>False</td>\n",
              "      <td>False</td>\n",
              "      <td>RU</td>\n",
              "      <td>musica</td>\n",
              "    </tr>\n",
              "  </tbody>\n",
              "</table>\n",
              "<p>1021621 rows × 14 columns</p>\n",
              "</div>"
            ],
            "text/plain": [
              "            id_video  ...             categoria\n",
              "0        s9FH4rDMvds  ...       pessoas_e_blogs\n",
              "1        jbGRowa5tIk  ...                musica\n",
              "2        3EfkCrXKZNs  ...       pessoas_e_blogs\n",
              "3        gBjox7vn3-g  ...                 jogos\n",
              "4        npoUGx7UW7o  ...               comedia\n",
              "...              ...  ...                   ...\n",
              "1021617  I-Bz1uGMcdw  ...        entretenimento\n",
              "1021618  DoyhJP_e7JQ  ...                 jogos\n",
              "1021619  1xH8kzEzMuM  ...  noticias_e_politicas\n",
              "1021620  CgVhSYkL7lM  ...  noticias_e_politicas\n",
              "1021621  BQGWqejRgTU  ...                musica\n",
              "\n",
              "[1021621 rows x 14 columns]"
            ]
          },
          "metadata": {},
          "execution_count": 26
        }
      ]
    },
    {
      "cell_type": "markdown",
      "metadata": {
        "id": "l8MgV98Jg4dN"
      },
      "source": [
        "#Exportando DataFrame para o GCP"
      ]
    },
    {
      "cell_type": "code",
      "metadata": {
        "id": "zBOOAQXecZVl"
      },
      "source": [
        "from google.cloud import storage\n",
        "import os\n",
        "serviceAccount = '/content/projetofinalgrupo8-2dcd866c3f46.json'\n",
        "os.environ['GOOGLE_APPLICATION_CREDENTIALS'] = serviceAccount\n",
        "\n",
        "\n",
        "client = storage.Client()\n",
        "bucket = client.get_bucket('projetofinalgrupo8')\n",
        "    \n",
        "bucket.blob('saida/data_tratado_pandas.csv').upload_from_string(df2.to_csv(index=False), 'text/csv')"
      ],
      "execution_count": null,
      "outputs": []
    }
  ]
}