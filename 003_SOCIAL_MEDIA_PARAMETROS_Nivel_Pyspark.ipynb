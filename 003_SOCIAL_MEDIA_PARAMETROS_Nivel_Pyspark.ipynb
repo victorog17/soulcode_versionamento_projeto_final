{
  "nbformat": 4,
  "nbformat_minor": 0,
  "metadata": {
    "colab": {
      "name": "003_SOCIAL_MEDIA_PARAMETROS_Nivel_Pyspark",
      "provenance": [],
      "collapsed_sections": [
        "pf6-GpnMz7JO",
        "Nh_HeBzK6m2c",
        "aPheHSjZ-p_B",
        "N_sFJC-x_mx7",
        "OHdjhC5GXVZi",
        "s5Hbk07BXO5C"
      ]
    },
    "kernelspec": {
      "name": "python3",
      "display_name": "Python 3"
    },
    "language_info": {
      "name": "python"
    }
  },
  "cells": [
    {
      "cell_type": "markdown",
      "metadata": {
        "id": "pf6-GpnMz7JO"
      },
      "source": [
        "#**Importações**"
      ]
    },
    {
      "cell_type": "markdown",
      "metadata": {
        "id": "G9XerySwz-u5"
      },
      "source": [
        "**Instalações de bibliotecas não nativas**"
      ]
    },
    {
      "cell_type": "code",
      "metadata": {
        "id": "f3ecfXFeGWRc",
        "colab": {
          "base_uri": "https://localhost:8080/"
        },
        "outputId": "555c2016-3188-4beb-b66b-f8e7f6c664ad"
      },
      "source": [
        "pip install pyspark"
      ],
      "execution_count": null,
      "outputs": [
        {
          "output_type": "stream",
          "name": "stdout",
          "text": [
            "Collecting pyspark\n",
            "  Downloading pyspark-3.2.0.tar.gz (281.3 MB)\n",
            "\u001b[K     |████████████████████████████████| 281.3 MB 44 kB/s \n",
            "\u001b[?25hCollecting py4j==0.10.9.2\n",
            "  Downloading py4j-0.10.9.2-py2.py3-none-any.whl (198 kB)\n",
            "\u001b[K     |████████████████████████████████| 198 kB 66.2 MB/s \n",
            "\u001b[?25hBuilding wheels for collected packages: pyspark\n",
            "  Building wheel for pyspark (setup.py) ... \u001b[?25l\u001b[?25hdone\n",
            "  Created wheel for pyspark: filename=pyspark-3.2.0-py2.py3-none-any.whl size=281805912 sha256=2c3854defc0b0a375584a9b3d871deea376c443a59f496b66c32b8594ae7ac15\n",
            "  Stored in directory: /root/.cache/pip/wheels/0b/de/d2/9be5d59d7331c6c2a7c1b6d1a4f463ce107332b1ecd4e80718\n",
            "Successfully built pyspark\n",
            "Installing collected packages: py4j, pyspark\n",
            "Successfully installed py4j-0.10.9.2 pyspark-3.2.0\n"
          ]
        }
      ]
    },
    {
      "cell_type": "code",
      "metadata": {
        "id": "hojuA5HgdCa3",
        "colab": {
          "base_uri": "https://localhost:8080/"
        },
        "outputId": "14ba71e1-f3cb-42b9-e87e-604075cdc6a4"
      },
      "source": [
        "pip install fsspec"
      ],
      "execution_count": null,
      "outputs": [
        {
          "output_type": "stream",
          "name": "stdout",
          "text": [
            "Collecting fsspec\n",
            "  Downloading fsspec-2021.11.0-py3-none-any.whl (132 kB)\n",
            "\u001b[?25l\r\u001b[K     |██▌                             | 10 kB 31.8 MB/s eta 0:00:01\r\u001b[K     |█████                           | 20 kB 37.6 MB/s eta 0:00:01\r\u001b[K     |███████▍                        | 30 kB 27.1 MB/s eta 0:00:01\r\u001b[K     |██████████                      | 40 kB 20.6 MB/s eta 0:00:01\r\u001b[K     |████████████▍                   | 51 kB 15.3 MB/s eta 0:00:01\r\u001b[K     |██████████████▉                 | 61 kB 15.5 MB/s eta 0:00:01\r\u001b[K     |█████████████████▎              | 71 kB 13.9 MB/s eta 0:00:01\r\u001b[K     |███████████████████▉            | 81 kB 15.5 MB/s eta 0:00:01\r\u001b[K     |██████████████████████▎         | 92 kB 11.7 MB/s eta 0:00:01\r\u001b[K     |████████████████████████▊       | 102 kB 12.6 MB/s eta 0:00:01\r\u001b[K     |███████████████████████████▏    | 112 kB 12.6 MB/s eta 0:00:01\r\u001b[K     |█████████████████████████████▊  | 122 kB 12.6 MB/s eta 0:00:01\r\u001b[K     |████████████████████████████████| 132 kB 12.6 MB/s \n",
            "\u001b[?25hInstalling collected packages: fsspec\n",
            "Successfully installed fsspec-2021.11.0\n"
          ]
        }
      ]
    },
    {
      "cell_type": "code",
      "metadata": {
        "id": "9OP_vFd9eB4P",
        "colab": {
          "base_uri": "https://localhost:8080/"
        },
        "outputId": "3b145340-6e52-4037-ce4c-ec1466ef905d"
      },
      "source": [
        "pip install gcsfs"
      ],
      "execution_count": null,
      "outputs": [
        {
          "output_type": "stream",
          "name": "stdout",
          "text": [
            "Collecting gcsfs\n",
            "  Downloading gcsfs-2021.11.0-py2.py3-none-any.whl (24 kB)\n",
            "Requirement already satisfied: fsspec==2021.11.0 in /usr/local/lib/python3.7/dist-packages (from gcsfs) (2021.11.0)\n",
            "Requirement already satisfied: google-auth>=1.2 in /usr/local/lib/python3.7/dist-packages (from gcsfs) (1.35.0)\n",
            "Requirement already satisfied: requests in /usr/local/lib/python3.7/dist-packages (from gcsfs) (2.23.0)\n",
            "Requirement already satisfied: google-auth-oauthlib in /usr/local/lib/python3.7/dist-packages (from gcsfs) (0.4.6)\n",
            "Requirement already satisfied: decorator>4.1.2 in /usr/local/lib/python3.7/dist-packages (from gcsfs) (4.4.2)\n",
            "Requirement already satisfied: google-cloud-storage in /usr/local/lib/python3.7/dist-packages (from gcsfs) (1.18.1)\n",
            "Collecting aiohttp\n",
            "  Downloading aiohttp-3.8.1-cp37-cp37m-manylinux_2_5_x86_64.manylinux1_x86_64.manylinux_2_12_x86_64.manylinux2010_x86_64.whl (1.1 MB)\n",
            "\u001b[K     |████████████████████████████████| 1.1 MB 14.6 MB/s \n",
            "\u001b[?25hRequirement already satisfied: six>=1.9.0 in /usr/local/lib/python3.7/dist-packages (from google-auth>=1.2->gcsfs) (1.15.0)\n",
            "Requirement already satisfied: cachetools<5.0,>=2.0.0 in /usr/local/lib/python3.7/dist-packages (from google-auth>=1.2->gcsfs) (4.2.4)\n",
            "Requirement already satisfied: pyasn1-modules>=0.2.1 in /usr/local/lib/python3.7/dist-packages (from google-auth>=1.2->gcsfs) (0.2.8)\n",
            "Requirement already satisfied: rsa<5,>=3.1.4 in /usr/local/lib/python3.7/dist-packages (from google-auth>=1.2->gcsfs) (4.7.2)\n",
            "Requirement already satisfied: setuptools>=40.3.0 in /usr/local/lib/python3.7/dist-packages (from google-auth>=1.2->gcsfs) (57.4.0)\n",
            "Requirement already satisfied: pyasn1<0.5.0,>=0.4.6 in /usr/local/lib/python3.7/dist-packages (from pyasn1-modules>=0.2.1->google-auth>=1.2->gcsfs) (0.4.8)\n",
            "Requirement already satisfied: typing-extensions>=3.7.4 in /usr/local/lib/python3.7/dist-packages (from aiohttp->gcsfs) (3.10.0.2)\n",
            "Collecting yarl<2.0,>=1.0\n",
            "  Downloading yarl-1.7.2-cp37-cp37m-manylinux_2_5_x86_64.manylinux1_x86_64.manylinux_2_12_x86_64.manylinux2010_x86_64.whl (271 kB)\n",
            "\u001b[K     |████████████████████████████████| 271 kB 66.3 MB/s \n",
            "\u001b[?25hCollecting async-timeout<5.0,>=4.0.0a3\n",
            "  Downloading async_timeout-4.0.1-py3-none-any.whl (5.7 kB)\n",
            "Collecting asynctest==0.13.0\n",
            "  Downloading asynctest-0.13.0-py3-none-any.whl (26 kB)\n",
            "Collecting multidict<7.0,>=4.5\n",
            "  Downloading multidict-5.2.0-cp37-cp37m-manylinux_2_5_x86_64.manylinux1_x86_64.manylinux_2_12_x86_64.manylinux2010_x86_64.whl (160 kB)\n",
            "\u001b[K     |████████████████████████████████| 160 kB 50.7 MB/s \n",
            "\u001b[?25hCollecting frozenlist>=1.1.1\n",
            "  Downloading frozenlist-1.2.0-cp37-cp37m-manylinux_2_5_x86_64.manylinux1_x86_64.manylinux_2_12_x86_64.manylinux2010_x86_64.whl (192 kB)\n",
            "\u001b[K     |████████████████████████████████| 192 kB 82.4 MB/s \n",
            "\u001b[?25hRequirement already satisfied: charset-normalizer<3.0,>=2.0 in /usr/local/lib/python3.7/dist-packages (from aiohttp->gcsfs) (2.0.7)\n",
            "Requirement already satisfied: attrs>=17.3.0 in /usr/local/lib/python3.7/dist-packages (from aiohttp->gcsfs) (21.2.0)\n",
            "Collecting aiosignal>=1.1.2\n",
            "  Downloading aiosignal-1.2.0-py3-none-any.whl (8.2 kB)\n",
            "Requirement already satisfied: idna>=2.0 in /usr/local/lib/python3.7/dist-packages (from yarl<2.0,>=1.0->aiohttp->gcsfs) (2.10)\n",
            "Requirement already satisfied: requests-oauthlib>=0.7.0 in /usr/local/lib/python3.7/dist-packages (from google-auth-oauthlib->gcsfs) (1.3.0)\n",
            "Requirement already satisfied: oauthlib>=3.0.0 in /usr/local/lib/python3.7/dist-packages (from requests-oauthlib>=0.7.0->google-auth-oauthlib->gcsfs) (3.1.1)\n",
            "Requirement already satisfied: certifi>=2017.4.17 in /usr/local/lib/python3.7/dist-packages (from requests->gcsfs) (2021.10.8)\n",
            "Requirement already satisfied: urllib3!=1.25.0,!=1.25.1,<1.26,>=1.21.1 in /usr/local/lib/python3.7/dist-packages (from requests->gcsfs) (1.24.3)\n",
            "Requirement already satisfied: chardet<4,>=3.0.2 in /usr/local/lib/python3.7/dist-packages (from requests->gcsfs) (3.0.4)\n",
            "Requirement already satisfied: google-cloud-core<2.0dev,>=1.0.0 in /usr/local/lib/python3.7/dist-packages (from google-cloud-storage->gcsfs) (1.0.3)\n",
            "Requirement already satisfied: google-resumable-media<0.5.0dev,>=0.3.1 in /usr/local/lib/python3.7/dist-packages (from google-cloud-storage->gcsfs) (0.4.1)\n",
            "Requirement already satisfied: google-api-core<2.0.0dev,>=1.14.0 in /usr/local/lib/python3.7/dist-packages (from google-cloud-core<2.0dev,>=1.0.0->google-cloud-storage->gcsfs) (1.26.3)\n",
            "Requirement already satisfied: packaging>=14.3 in /usr/local/lib/python3.7/dist-packages (from google-api-core<2.0.0dev,>=1.14.0->google-cloud-core<2.0dev,>=1.0.0->google-cloud-storage->gcsfs) (21.3)\n",
            "Requirement already satisfied: pytz in /usr/local/lib/python3.7/dist-packages (from google-api-core<2.0.0dev,>=1.14.0->google-cloud-core<2.0dev,>=1.0.0->google-cloud-storage->gcsfs) (2018.9)\n",
            "Requirement already satisfied: googleapis-common-protos<2.0dev,>=1.6.0 in /usr/local/lib/python3.7/dist-packages (from google-api-core<2.0.0dev,>=1.14.0->google-cloud-core<2.0dev,>=1.0.0->google-cloud-storage->gcsfs) (1.53.0)\n",
            "Requirement already satisfied: protobuf>=3.12.0 in /usr/local/lib/python3.7/dist-packages (from google-api-core<2.0.0dev,>=1.14.0->google-cloud-core<2.0dev,>=1.0.0->google-cloud-storage->gcsfs) (3.17.3)\n",
            "Requirement already satisfied: pyparsing!=3.0.5,>=2.0.2 in /usr/local/lib/python3.7/dist-packages (from packaging>=14.3->google-api-core<2.0.0dev,>=1.14.0->google-cloud-core<2.0dev,>=1.0.0->google-cloud-storage->gcsfs) (3.0.6)\n",
            "Installing collected packages: multidict, frozenlist, yarl, asynctest, async-timeout, aiosignal, aiohttp, gcsfs\n",
            "Successfully installed aiohttp-3.8.1 aiosignal-1.2.0 async-timeout-4.0.1 asynctest-0.13.0 frozenlist-1.2.0 gcsfs-2021.11.0 multidict-5.2.0 yarl-1.7.2\n"
          ]
        }
      ]
    },
    {
      "cell_type": "markdown",
      "metadata": {
        "id": "sCjoRlqH0HNk"
      },
      "source": [
        "**BIBLIOTECAS**"
      ]
    },
    {
      "cell_type": "code",
      "metadata": {
        "id": "wEXFTjWJ6G4D"
      },
      "source": [
        "import os\n",
        "from google.cloud import storage\n",
        "\n",
        "from pyspark.sql import SparkSession, Window\n",
        "spark = SparkSession.builder.appName('GCSFilesRead').getOrCreate()\n",
        "\n",
        "import pyspark.sql.functions as F\n",
        "from pyspark.sql.functions import to_timestamp, to_date\n",
        "\n",
        "from pyspark.sql.types import *\n",
        "import pandas as pd"
      ],
      "execution_count": null,
      "outputs": []
    },
    {
      "cell_type": "markdown",
      "metadata": {
        "id": "wk7rk3Lz6Y76"
      },
      "source": [
        "**Criando esquema e importando dataframe**"
      ]
    },
    {
      "cell_type": "code",
      "metadata": {
        "id": "FJQv-TpxhsbG"
      },
      "source": [
        "customSchema = StructType([\n",
        "   StructField(\"id_video\", StringType(),True),\n",
        "   StructField(\"titulo_video\", StringType(),True),\n",
        "   StructField(\"publicado_em\", StringType(),True),\n",
        "   StructField(\"id_canal\", StringType(),True),\n",
        "   StructField(\"nome_canal\", StringType(),True),\n",
        "   StructField(\"data_destaque\", StringType(),True),\n",
        "   StructField(\"cont_visualizacao\", IntegerType(),True),\n",
        "   StructField(\"curtidas\", IntegerType(),True),\n",
        "   StructField(\"nao_curtidas\", IntegerType(),True),\n",
        "   StructField(\"cont_comentarios\", IntegerType(),True),\n",
        "   StructField(\"comentarios_desabilitados\", StringType(),True),\n",
        "   StructField(\"curtidas_desabilitadas\", StringType(),True),\n",
        "   StructField(\"pais\", StringType(),True),\n",
        "   StructField(\"categoria\", StringType(),True)\n",
        "\n",
        "])\n",
        "\n",
        "schema = customSchema"
      ],
      "execution_count": null,
      "outputs": []
    },
    {
      "cell_type": "code",
      "metadata": {
        "id": "X07R27PpYbAS"
      },
      "source": [
        "dfspark = pd.read_csv('gs://projetofinalgrupo8/saida/youtube_tratado_pandas.csv', sep=',',encoding='UTF-8', header=0)\n",
        "df= spark.createDataFrame(dfspark,schema=schema)"
      ],
      "execution_count": null,
      "outputs": []
    },
    {
      "cell_type": "code",
      "metadata": {
        "colab": {
          "base_uri": "https://localhost:8080/"
        },
        "id": "xaNKB5xPepjg",
        "outputId": "3e1aa214-620d-42d4-d237-eb44948189e6"
      },
      "source": [
        "df.show(5)"
      ],
      "execution_count": null,
      "outputs": [
        {
          "output_type": "stream",
          "name": "stdout",
          "text": [
            "+-----------+--------------------+-------------------+--------------------+--------------------+-------------------+-----------------+--------+------------+----------------+-------------------------+----------------------+----+---------------+\n",
            "|   id_video|        titulo_video|       publicado_em|            id_canal|          nome_canal|      data_destaque|cont_visualizacao|curtidas|nao_curtidas|cont_comentarios|comentarios_desabilitados|curtidas_desabilitadas|pais|      categoria|\n",
            "+-----------+--------------------+-------------------+--------------------+--------------------+-------------------+-----------------+--------+------------+----------------+-------------------------+----------------------+----+---------------+\n",
            "|s9FH4rDMvds|LEVEI UM FORA? FI...|2020-08-11 22:21:49|UCGfBwrCoi9ZJjKiU...|       Pietro Guedes|2020-08-12 00:00:00|           263835|   85095|         487|            4500|                    false|                 false|  BR|pessoas_e_blogs|\n",
            "|jbGRowa5tIk|ITZY “Not Shy” M/...|2020-08-11 15:00:13|UCaO6TYtlC8U5ttz6...|   JYP Entertainment|2020-08-12 00:00:00|          6000070|  714310|       15176|           31040|                    false|                 false|  BR|         musica|\n",
            "|3EfkCrXKZNs|Oh Juliana PARÓDI...|2020-08-10 14:59:00|UCoXZmVma073v5G1c...|       As Irmãs Mota|2020-08-12 00:00:00|          2296748|   39761|        5484|               0|                     true|                 false|  BR|pessoas_e_blogs|\n",
            "|gBjox7vn3-g|Contos de Runeter...|2020-08-11 15:00:09|UC6Xqz2pm50gDCORY...|League of Legends BR|2020-08-12 00:00:00|           300510|   46222|         242|            2748|                    false|                 false|  BR|          jogos|\n",
            "|npoUGx7UW7o|Entrevista com Th...|2020-08-11 20:04:02|UCEWOoncsrmirqnFq...|The Noite com Dan...|2020-08-12 00:00:00|           327235|   22059|        3972|            2751|                    false|                 false|  BR|        comedia|\n",
            "+-----------+--------------------+-------------------+--------------------+--------------------+-------------------+-----------------+--------+------------+----------------+-------------------------+----------------------+----+---------------+\n",
            "only showing top 5 rows\n",
            "\n"
          ]
        }
      ]
    },
    {
      "cell_type": "code",
      "metadata": {
        "colab": {
          "base_uri": "https://localhost:8080/"
        },
        "id": "48kb2y0Uk2D4",
        "outputId": "1a2e976e-902a-4b0c-9cd1-a434ecb6342a"
      },
      "source": [
        "df.printSchema()"
      ],
      "execution_count": null,
      "outputs": [
        {
          "output_type": "stream",
          "name": "stdout",
          "text": [
            "root\n",
            " |-- id_video: string (nullable = true)\n",
            " |-- titulo_video: string (nullable = true)\n",
            " |-- publicado_em: string (nullable = true)\n",
            " |-- id_canal: string (nullable = true)\n",
            " |-- nome_canal: string (nullable = true)\n",
            " |-- data_destaque: string (nullable = true)\n",
            " |-- cont_visualizacao: integer (nullable = true)\n",
            " |-- curtidas: integer (nullable = true)\n",
            " |-- nao_curtidas: integer (nullable = true)\n",
            " |-- cont_comentarios: integer (nullable = true)\n",
            " |-- comentarios_desabilitados: string (nullable = true)\n",
            " |-- curtidas_desabilitadas: string (nullable = true)\n",
            " |-- pais: string (nullable = true)\n",
            " |-- categoria: string (nullable = true)\n",
            "\n"
          ]
        }
      ]
    },
    {
      "cell_type": "markdown",
      "metadata": {
        "id": "Nh_HeBzK6m2c"
      },
      "source": [
        "#**Criação e remoção de colunas**"
      ]
    },
    {
      "cell_type": "markdown",
      "metadata": {
        "id": "8aBaXEjf-RA4"
      },
      "source": [
        "**Criação colunas publicação de data e data de destaque**"
      ]
    },
    {
      "cell_type": "code",
      "metadata": {
        "colab": {
          "base_uri": "https://localhost:8080/"
        },
        "id": "pHud1TSwn3rw",
        "outputId": "4460a1c8-80a4-4b4e-dd26-4f69aee6a22e"
      },
      "source": [
        "#CRIAR COLUNAS DE PUBLICAÇÃO DE DATA E DATA DE DESTAQUE\n",
        "df = df.withColumn(\"publicado_em_data\", F.lit(F.substring('publicado_em', 1, 10))).withColumn(\"data_destaque1\", F.lit(F.substring('data_destaque', 1, 10)))\n",
        "df.show(1)"
      ],
      "execution_count": null,
      "outputs": [
        {
          "output_type": "stream",
          "name": "stdout",
          "text": [
            "+-----------+--------------------+-------------------+--------------------+-------------+-------------------+-----------------+--------+------------+----------------+-------------------------+----------------------+----+---------------+-----------------+--------------+\n",
            "|   id_video|        titulo_video|       publicado_em|            id_canal|   nome_canal|      data_destaque|cont_visualizacao|curtidas|nao_curtidas|cont_comentarios|comentarios_desabilitados|curtidas_desabilitadas|pais|      categoria|publicado_em_data|data_destaque1|\n",
            "+-----------+--------------------+-------------------+--------------------+-------------+-------------------+-----------------+--------+------------+----------------+-------------------------+----------------------+----+---------------+-----------------+--------------+\n",
            "|s9FH4rDMvds|LEVEI UM FORA? FI...|2020-08-11 22:21:49|UCGfBwrCoi9ZJjKiU...|Pietro Guedes|2020-08-12 00:00:00|           263835|   85095|         487|            4500|                    false|                 false|  BR|pessoas_e_blogs|       2020-08-11|    2020-08-12|\n",
            "+-----------+--------------------+-------------------+--------------------+-------------+-------------------+-----------------+--------+------------+----------------+-------------------------+----------------------+----+---------------+-----------------+--------------+\n",
            "only showing top 1 row\n",
            "\n"
          ]
        }
      ]
    },
    {
      "cell_type": "markdown",
      "metadata": {
        "id": "G8nnEQ6R6u5S"
      },
      "source": [
        "**Remoção colunas publicado_em e data_destaque**"
      ]
    },
    {
      "cell_type": "code",
      "metadata": {
        "colab": {
          "base_uri": "https://localhost:8080/"
        },
        "id": "lvs1RPdfsmEQ",
        "outputId": "e9109b6d-5a6f-4781-c49b-b550daa10ece"
      },
      "source": [
        "#DROPAR COLUNA PUBLICADO_EM\n",
        "df = df.drop('publicado_em')\n",
        "df.show(1)"
      ],
      "execution_count": null,
      "outputs": [
        {
          "output_type": "stream",
          "name": "stdout",
          "text": [
            "+-----------+--------------------+--------------------+-------------+-------------------+-----------------+--------+------------+----------------+-------------------------+----------------------+----+---------------+-----------------+--------------+\n",
            "|   id_video|        titulo_video|            id_canal|   nome_canal|      data_destaque|cont_visualizacao|curtidas|nao_curtidas|cont_comentarios|comentarios_desabilitados|curtidas_desabilitadas|pais|      categoria|publicado_em_data|data_destaque1|\n",
            "+-----------+--------------------+--------------------+-------------+-------------------+-----------------+--------+------------+----------------+-------------------------+----------------------+----+---------------+-----------------+--------------+\n",
            "|s9FH4rDMvds|LEVEI UM FORA? FI...|UCGfBwrCoi9ZJjKiU...|Pietro Guedes|2020-08-12 00:00:00|           263835|   85095|         487|            4500|                    false|                 false|  BR|pessoas_e_blogs|       2020-08-11|    2020-08-12|\n",
            "+-----------+--------------------+--------------------+-------------+-------------------+-----------------+--------+------------+----------------+-------------------------+----------------------+----+---------------+-----------------+--------------+\n",
            "only showing top 1 row\n",
            "\n"
          ]
        }
      ]
    },
    {
      "cell_type": "code",
      "metadata": {
        "colab": {
          "base_uri": "https://localhost:8080/"
        },
        "id": "aJjg0W8Z_kyC",
        "outputId": "318a285a-769a-46c3-a159-7c588976d059"
      },
      "source": [
        "#DROPAR COLUNA DE DESTAQUE\n",
        "df = df.drop('data_destaque')\n",
        "df.show(1)"
      ],
      "execution_count": null,
      "outputs": [
        {
          "output_type": "stream",
          "name": "stdout",
          "text": [
            "+-----------+--------------------+--------------------+-------------+-----------------+--------+------------+----------------+-------------------------+----------------------+----+---------------+-----------------+--------------+\n",
            "|   id_video|        titulo_video|            id_canal|   nome_canal|cont_visualizacao|curtidas|nao_curtidas|cont_comentarios|comentarios_desabilitados|curtidas_desabilitadas|pais|      categoria|publicado_em_data|data_destaque1|\n",
            "+-----------+--------------------+--------------------+-------------+-----------------+--------+------------+----------------+-------------------------+----------------------+----+---------------+-----------------+--------------+\n",
            "|s9FH4rDMvds|LEVEI UM FORA? FI...|UCGfBwrCoi9ZJjKiU...|Pietro Guedes|           263835|   85095|         487|            4500|                    false|                 false|  BR|pessoas_e_blogs|       2020-08-11|    2020-08-12|\n",
            "+-----------+--------------------+--------------------+-------------+-----------------+--------+------------+----------------+-------------------------+----------------------+----+---------------+-----------------+--------------+\n",
            "only showing top 1 row\n",
            "\n"
          ]
        }
      ]
    },
    {
      "cell_type": "markdown",
      "metadata": {
        "id": "a1EdPRww8ItC"
      },
      "source": [
        "**Renomeando coluna data destaque**"
      ]
    },
    {
      "cell_type": "code",
      "metadata": {
        "colab": {
          "base_uri": "https://localhost:8080/"
        },
        "id": "naTVuoJF_vN6",
        "outputId": "a05e580b-fece-49be-8cd1-ed55ed755e6a"
      },
      "source": [
        "df = df.withColumnRenamed(\"data_destaque1\", \"data_destaque\")\n",
        "df.show(1)"
      ],
      "execution_count": null,
      "outputs": [
        {
          "output_type": "stream",
          "name": "stdout",
          "text": [
            "+-----------+--------------------+--------------------+-------------+-----------------+--------+------------+----------------+-------------------------+----------------------+----+---------------+-----------------+-------------+\n",
            "|   id_video|        titulo_video|            id_canal|   nome_canal|cont_visualizacao|curtidas|nao_curtidas|cont_comentarios|comentarios_desabilitados|curtidas_desabilitadas|pais|      categoria|publicado_em_data|data_destaque|\n",
            "+-----------+--------------------+--------------------+-------------+-----------------+--------+------------+----------------+-------------------------+----------------------+----+---------------+-----------------+-------------+\n",
            "|s9FH4rDMvds|LEVEI UM FORA? FI...|UCGfBwrCoi9ZJjKiU...|Pietro Guedes|           263835|   85095|         487|            4500|                    false|                 false|  BR|pessoas_e_blogs|       2020-08-11|   2020-08-12|\n",
            "+-----------+--------------------+--------------------+-------------+-----------------+--------+------------+----------------+-------------------------+----------------------+----+---------------+-----------------+-------------+\n",
            "only showing top 1 row\n",
            "\n"
          ]
        }
      ]
    },
    {
      "cell_type": "markdown",
      "metadata": {
        "id": "aPheHSjZ-p_B"
      },
      "source": [
        "#**Criação de Insights**"
      ]
    },
    {
      "cell_type": "markdown",
      "metadata": {
        "id": "PlQcEy398yUV"
      },
      "source": [
        "**Relação curtida por visualização em porcentagem**\n",
        "\n"
      ]
    },
    {
      "cell_type": "code",
      "metadata": {
        "colab": {
          "base_uri": "https://localhost:8080/"
        },
        "id": "fYVHX8xFCdtS",
        "outputId": "b48add5b-4e63-4266-c3a6-db1766780f6d"
      },
      "source": [
        "df = (df.withColumn(\"like_por_visualizacao_100\", F.round((F.col(\"curtidas\")/ F.col(\"cont_visualizacao\")*100),2))) \n",
        "df.show(1)"
      ],
      "execution_count": null,
      "outputs": [
        {
          "output_type": "stream",
          "name": "stdout",
          "text": [
            "+-----------+--------------------+--------------------+-------------+-----------------+--------+------------+----------------+-------------------------+----------------------+----+---------------+-----------------+-------------+-------------------------+\n",
            "|   id_video|        titulo_video|            id_canal|   nome_canal|cont_visualizacao|curtidas|nao_curtidas|cont_comentarios|comentarios_desabilitados|curtidas_desabilitadas|pais|      categoria|publicado_em_data|data_destaque|like_por_visualizacao_100|\n",
            "+-----------+--------------------+--------------------+-------------+-----------------+--------+------------+----------------+-------------------------+----------------------+----+---------------+-----------------+-------------+-------------------------+\n",
            "|s9FH4rDMvds|LEVEI UM FORA? FI...|UCGfBwrCoi9ZJjKiU...|Pietro Guedes|           263835|   85095|         487|            4500|                    false|                 false|  BR|pessoas_e_blogs|       2020-08-11|   2020-08-12|                    32.25|\n",
            "+-----------+--------------------+--------------------+-------------+-----------------+--------+------------+----------------+-------------------------+----------------------+----+---------------+-----------------+-------------+-------------------------+\n",
            "only showing top 1 row\n",
            "\n"
          ]
        }
      ]
    },
    {
      "cell_type": "markdown",
      "metadata": {
        "id": "Eh_FLX6L80Uy"
      },
      "source": [
        "**Relação descurtida por visualização em porcentagem**\n"
      ]
    },
    {
      "cell_type": "code",
      "metadata": {
        "colab": {
          "base_uri": "https://localhost:8080/"
        },
        "id": "lkpM2BfgJ66b",
        "outputId": "0e1dbfbb-365d-49f9-de90-ac1e90c4a7bf"
      },
      "source": [
        "df = (df.withColumn(\"deslike_por_visualizacao_100\", F.round((F.col(\"nao_curtidas\")/ F.col(\"cont_visualizacao\")*100),2))) \n",
        "\n",
        "df.show(1)"
      ],
      "execution_count": null,
      "outputs": [
        {
          "output_type": "stream",
          "name": "stdout",
          "text": [
            "+-----------+--------------------+--------------------+-------------+-----------------+--------+------------+----------------+-------------------------+----------------------+----+---------------+-----------------+-------------+-------------------------+----------------------------+\n",
            "|   id_video|        titulo_video|            id_canal|   nome_canal|cont_visualizacao|curtidas|nao_curtidas|cont_comentarios|comentarios_desabilitados|curtidas_desabilitadas|pais|      categoria|publicado_em_data|data_destaque|like_por_visualizacao_100|deslike_por_visualizacao_100|\n",
            "+-----------+--------------------+--------------------+-------------+-----------------+--------+------------+----------------+-------------------------+----------------------+----+---------------+-----------------+-------------+-------------------------+----------------------------+\n",
            "|s9FH4rDMvds|LEVEI UM FORA? FI...|UCGfBwrCoi9ZJjKiU...|Pietro Guedes|           263835|   85095|         487|            4500|                    false|                 false|  BR|pessoas_e_blogs|       2020-08-11|   2020-08-12|                    32.25|                        0.18|\n",
            "+-----------+--------------------+--------------------+-------------+-----------------+--------+------------+----------------+-------------------------+----------------------+----+---------------+-----------------+-------------+-------------------------+----------------------------+\n",
            "only showing top 1 row\n",
            "\n"
          ]
        }
      ]
    },
    {
      "cell_type": "markdown",
      "metadata": {
        "id": "97rKokFi82Wy"
      },
      "source": [
        "**Relação de comentários por visualização em porcentagem**\n"
      ]
    },
    {
      "cell_type": "code",
      "metadata": {
        "colab": {
          "base_uri": "https://localhost:8080/"
        },
        "id": "Pg0ZIoHuLZVM",
        "outputId": "e49f5a39-a872-43d1-ee64-312220a7698b"
      },
      "source": [
        "df = (df.withColumn(\"coment_por_visualizacao_100\", F.round((F.col(\"cont_comentarios\")/ F.col(\"cont_visualizacao\")*100),2))) \n",
        "df.show(1)"
      ],
      "execution_count": null,
      "outputs": [
        {
          "output_type": "stream",
          "name": "stdout",
          "text": [
            "+-----------+--------------------+--------------------+-------------+-----------------+--------+------------+----------------+-------------------------+----------------------+----+---------------+-----------------+-------------+-------------------------+----------------------------+---------------------------+\n",
            "|   id_video|        titulo_video|            id_canal|   nome_canal|cont_visualizacao|curtidas|nao_curtidas|cont_comentarios|comentarios_desabilitados|curtidas_desabilitadas|pais|      categoria|publicado_em_data|data_destaque|like_por_visualizacao_100|deslike_por_visualizacao_100|coment_por_visualizacao_100|\n",
            "+-----------+--------------------+--------------------+-------------+-----------------+--------+------------+----------------+-------------------------+----------------------+----+---------------+-----------------+-------------+-------------------------+----------------------------+---------------------------+\n",
            "|s9FH4rDMvds|LEVEI UM FORA? FI...|UCGfBwrCoi9ZJjKiU...|Pietro Guedes|           263835|   85095|         487|            4500|                    false|                 false|  BR|pessoas_e_blogs|       2020-08-11|   2020-08-12|                    32.25|                        0.18|                       1.71|\n",
            "+-----------+--------------------+--------------------+-------------+-----------------+--------+------------+----------------+-------------------------+----------------------+----+---------------+-----------------+-------------+-------------------------+----------------------------+---------------------------+\n",
            "only showing top 1 row\n",
            "\n"
          ]
        }
      ]
    },
    {
      "cell_type": "markdown",
      "metadata": {
        "id": "N_sFJC-x_mx7"
      },
      "source": [
        "#**Transformando os tipos das colunas para data**\n",
        "\n"
      ]
    },
    {
      "cell_type": "code",
      "metadata": {
        "colab": {
          "base_uri": "https://localhost:8080/"
        },
        "id": "gvar0sSFfvrs",
        "outputId": "3342946b-0cc3-455f-e045-68c6b52eaf89"
      },
      "source": [
        "df = df.withColumn(\"publicado_em_data\", F.col(\"publicado_em_data\").cast(\"date\"))\n",
        "df = df.withColumn(\"data_destaque\", F.col(\"data_destaque\").cast(\"date\"))\n",
        "\n",
        "df.select(F.col(\"publicado_em_data\"), F.col(\"data_destaque\")).show(5)\n",
        "df.printSchema()"
      ],
      "execution_count": null,
      "outputs": [
        {
          "output_type": "stream",
          "name": "stdout",
          "text": [
            "+-----------------+-------------+\n",
            "|publicado_em_data|data_destaque|\n",
            "+-----------------+-------------+\n",
            "|       2020-08-11|   2020-08-12|\n",
            "|       2020-08-11|   2020-08-12|\n",
            "|       2020-08-10|   2020-08-12|\n",
            "|       2020-08-11|   2020-08-12|\n",
            "|       2020-08-11|   2020-08-12|\n",
            "+-----------------+-------------+\n",
            "only showing top 5 rows\n",
            "\n",
            "root\n",
            " |-- id_video: string (nullable = true)\n",
            " |-- titulo_video: string (nullable = true)\n",
            " |-- id_canal: string (nullable = true)\n",
            " |-- nome_canal: string (nullable = true)\n",
            " |-- cont_visualizacao: integer (nullable = true)\n",
            " |-- curtidas: integer (nullable = true)\n",
            " |-- nao_curtidas: integer (nullable = true)\n",
            " |-- cont_comentarios: integer (nullable = true)\n",
            " |-- comentarios_desabilitados: string (nullable = true)\n",
            " |-- curtidas_desabilitadas: string (nullable = true)\n",
            " |-- pais: string (nullable = true)\n",
            " |-- categoria: string (nullable = true)\n",
            " |-- publicado_em_data: date (nullable = true)\n",
            " |-- data_destaque: date (nullable = true)\n",
            " |-- like_por_visualizacao_100: double (nullable = true)\n",
            " |-- deslike_por_visualizacao_100: double (nullable = true)\n",
            " |-- coment_por_visualizacao_100: double (nullable = true)\n",
            "\n"
          ]
        }
      ]
    },
    {
      "cell_type": "markdown",
      "metadata": {
        "id": "OHdjhC5GXVZi"
      },
      "source": [
        "#**Rank de videos dentro de um canal**\n"
      ]
    },
    {
      "cell_type": "code",
      "metadata": {
        "colab": {
          "base_uri": "https://localhost:8080/"
        },
        "id": "Eb1LNDgMo4w_",
        "outputId": "8c148e24-5f58-4d05-fbe4-f8877e6aa9fb"
      },
      "source": [
        "#RANK DOS VÍDEOS COM MAIS CURTIDA/VISUALIZAÇÃO EM UM CANAL\n",
        "w0 = Window.partitionBy(F.col(\"nome_canal\")).orderBy(\"like_por_visualizacao_100\")\n",
        "\n",
        "(df.withColumn(\"RANK\",F.rank().over(w0))\n",
        "  .withColumn(\"curtida_por_visualizacao\",F.max(F.col(\"like_por_visualizacao_100\")).over(w0))\n",
        "  .select(\"RANK\",\"curtida_por_visualizacao\",'titulo_video','nome_canal',\"pais\",\"publicado_em_data\").show(15)\n",
        ")"
      ],
      "execution_count": null,
      "outputs": [
        {
          "output_type": "stream",
          "name": "stdout",
          "text": [
            "+----+------------------------+--------------------+--------------------+----+-----------------+\n",
            "|RANK|curtida_por_visualizacao|        titulo_video|          nome_canal|pais|publicado_em_data|\n",
            "+----+------------------------+--------------------+--------------------+----+-----------------+\n",
            "|   1|                   10.17|#Shorts ¿Es esta ...| PONGAMOSLO A PRU...|  MX|       2021-10-07|\n",
            "|   2|                   10.18|#Shorts ¿Es esta ...| PONGAMOSLO A PRU...|  MX|       2021-10-07|\n",
            "|   3|                    10.2|#Shorts ¿Es esta ...| PONGAMOSLO A PRU...|  MX|       2021-10-07|\n",
            "|   4|                   10.21|#Shorts ¿El mejor...| PONGAMOSLO A PRU...|  MX|       2021-11-09|\n",
            "|   5|                   10.22|#Shorts ¿El mejor...| PONGAMOSLO A PRU...|  MX|       2021-11-09|\n",
            "|   6|                   10.24|#Shorts ¿El mejor...| PONGAMOSLO A PRU...|  MX|       2021-11-09|\n",
            "|   7|                   10.25|#Shorts ¿Es esta ...| PONGAMOSLO A PRU...|  MX|       2021-10-07|\n",
            "|   8|                   10.29|#Shorts ¿El mejor...| PONGAMOSLO A PRU...|  MX|       2021-11-09|\n",
            "|   9|                   10.31|#Shorts ¿Es esta ...| PONGAMOSLO A PRU...|  MX|       2021-10-07|\n",
            "|  10|                   10.43|#Shorts ¿El mejor...| PONGAMOSLO A PRU...|  MX|       2021-11-09|\n",
            "|  11|                   10.48|#Shorts ¿Es esta ...| PONGAMOSLO A PRU...|  MX|       2021-10-07|\n",
            "|  12|                   10.62|#Shorts ¿El mejor...| PONGAMOSLO A PRU...|  MX|       2021-11-09|\n",
            "|  13|                   10.71|#Shorts ¿El mejor...| PONGAMOSLO A PRU...|  MX|       2021-11-09|\n",
            "|  14|                   10.94|#Shorts ¿Es esta ...| PONGAMOSLO A PRU...|  MX|       2021-10-07|\n",
            "|  15|                   11.16|#Shorts Tecnica p...| PONGAMOSLO A PRU...|  MX|       2021-08-01|\n",
            "+----+------------------------+--------------------+--------------------+----+-----------------+\n",
            "only showing top 15 rows\n",
            "\n"
          ]
        }
      ]
    },
    {
      "cell_type": "code",
      "metadata": {
        "colab": {
          "base_uri": "https://localhost:8080/"
        },
        "id": "LdXPLo4URNNE",
        "outputId": "f302bf96-576d-4789-decd-023c70a10c3a"
      },
      "source": [
        "#RANK DOS VÍDEOS COM MAIS DESCURTIDA/VISUALIZAÇÃO EM UM CANAL\n",
        "w0 = Window.partitionBy(F.col(\"nome_canal\")).orderBy(\"deslike_por_visualizacao_100\")\n",
        "\n",
        "(df.withColumn(\"RANK\",F.row_number().over(w0))\n",
        "  .withColumn(\"descurtida_por_visualizacao\",F.max(F.col(\"deslike_por_visualizacao_100\")).over(w0))\n",
        "  .select(\"RANK\",\"descurtida_por_visualizacao\",'titulo_video','nome_canal',\"pais\",\"publicado_em_data\").show(15)\n",
        ")"
      ],
      "execution_count": null,
      "outputs": [
        {
          "output_type": "stream",
          "name": "stdout",
          "text": [
            "+----+---------------------------+--------------------+--------------------+----+-----------------+\n",
            "|RANK|descurtida_por_visualizacao|        titulo_video|          nome_canal|pais|publicado_em_data|\n",
            "+----+---------------------------+--------------------+--------------------+----+-----------------+\n",
            "|   1|                       0.11|#Shorts, puse a p...| PONGAMOSLO A PRU...|  MX|       2021-08-09|\n",
            "|   2|                       0.11|#Shorts, puse a p...| PONGAMOSLO A PRU...|  MX|       2021-08-09|\n",
            "|   3|                       0.11|#Shorts Puse a pr...| PONGAMOSLO A PRU...|  MX|       2021-08-12|\n",
            "|   4|                       0.11|#Shorts, puse a p...| PONGAMOSLO A PRU...|  MX|       2021-08-09|\n",
            "|   5|                       0.11|#Shorts Puse a pr...| PONGAMOSLO A PRU...|  MX|       2021-08-12|\n",
            "|   6|                       0.11|#Shorts, puse a p...| PONGAMOSLO A PRU...|  MX|       2021-08-09|\n",
            "|   7|                       0.11|#Shorts Puse a pr...| PONGAMOSLO A PRU...|  MX|       2021-08-12|\n",
            "|   8|                       0.11|#Shorts, puse a p...| PONGAMOSLO A PRU...|  MX|       2021-08-09|\n",
            "|   9|                       0.11|#Shorts Puse a pr...| PONGAMOSLO A PRU...|  MX|       2021-08-12|\n",
            "|  10|                       0.11|#Shorts, puse a p...| PONGAMOSLO A PRU...|  MX|       2021-08-09|\n",
            "|  11|                       0.11|#Shorts Puse a pr...| PONGAMOSLO A PRU...|  MX|       2021-08-12|\n",
            "|  12|                       0.11|#Shorts, puse a p...| PONGAMOSLO A PRU...|  MX|       2021-08-09|\n",
            "|  13|                       0.11|#Shorts Puse a pr...| PONGAMOSLO A PRU...|  MX|       2021-08-12|\n",
            "|  14|                       0.11|#Shorts, puse a p...| PONGAMOSLO A PRU...|  MX|       2021-08-09|\n",
            "|  15|                       0.11|#Shorts Puse a pr...| PONGAMOSLO A PRU...|  MX|       2021-08-12|\n",
            "+----+---------------------------+--------------------+--------------------+----+-----------------+\n",
            "only showing top 15 rows\n",
            "\n"
          ]
        }
      ]
    },
    {
      "cell_type": "markdown",
      "metadata": {
        "id": "s5Hbk07BXO5C"
      },
      "source": [
        "#**Destaques top 10**"
      ]
    },
    {
      "cell_type": "markdown",
      "metadata": {
        "id": "EW2FJGD1EnX0"
      },
      "source": [
        "**Videos com mais visualizações**"
      ]
    },
    {
      "cell_type": "code",
      "metadata": {
        "colab": {
          "base_uri": "https://localhost:8080/"
        },
        "id": "ww5W0uLjNpBs",
        "outputId": "9352b5e8-32e7-4662-a9c0-050c11659383"
      },
      "source": [
        "(df.groupBy(F.col(\"titulo_video\")).agg(\n",
        "    F.max(\"cont_visualizacao\").alias(\"total_visualizacao\"),\n",
        "    F.max(\"publicado_em_data\").alias(\"publicado_em_data\"),\n",
        "    F.max(\"data_destaque\").alias(\"data_destaque\")).orderBy('total_visualizacao', ascending=False).show(10)\n",
        ")"
      ],
      "execution_count": null,
      "outputs": [
        {
          "output_type": "stream",
          "name": "stdout",
          "text": [
            "+-------------------------+------------------+-----------------+-------------+\n",
            "|             titulo_video|total_visualizacao|publicado_em_data|data_destaque|\n",
            "+-------------------------+------------------+-----------------+-------------+\n",
            "|BTS (방탄소년단) 'Butt...|         296314174|       2021-05-21|   2021-06-04|\n",
            "|BTS (방탄소년단) 'Dyna...|         262319276|       2020-08-21|   2020-08-31|\n",
            "|     Turn into orbeez ...|         206202284|       2021-07-03|   2021-08-08|\n",
            "|     Filhaal2 Mohabbat...|         202091414|       2021-07-06|   2021-07-16|\n",
            "|BTS (방탄소년단) 'Perm...|         194795844|       2021-07-09|   2021-07-24|\n",
            "|     JETSKI WAX PRANK!...|         194625542|       2021-07-04|   2021-07-15|\n",
            "|      LISA - 'LALISA' M/V|         192376395|       2021-09-10|   2021-09-22|\n",
            "|     BLACKPINK - 'Ice ...|         184778248|       2020-08-28|   2020-09-05|\n",
            "|     INSANE strawberry...|         164362471|       2021-05-08|   2021-05-19|\n",
            "|BTS (방탄소년단) 'Life...|         161912058|       2020-11-20|   2020-12-01|\n",
            "+-------------------------+------------------+-----------------+-------------+\n",
            "only showing top 10 rows\n",
            "\n"
          ]
        }
      ]
    },
    {
      "cell_type": "markdown",
      "metadata": {
        "id": "1f5NQrlp25Ry"
      },
      "source": [
        "**Canais com maior soma de visualização**"
      ]
    },
    {
      "cell_type": "code",
      "metadata": {
        "colab": {
          "base_uri": "https://localhost:8080/"
        },
        "id": "FeI-7CSZ6u7d",
        "outputId": "83c07f6c-3d1a-4fd9-cd3c-95514c5eca75"
      },
      "source": [
        "(df.groupBy(F.col(\"nome_canal\")).agg(\n",
        "    F.sum(\"cont_visualizacao\").alias(\"soma_visualizacao\"),\n",
        "    F.round(F.avg(\"cont_visualizacao\"),2).alias(\"media_visualizacao\"),\n",
        "    F.sum(\"curtidas\").alias(\"soma_curtidas\"),\n",
        "    F.round(F.avg(\"curtidas\"),2).alias(\"media_curtidas\"),\n",
        "    F.sum(\"nao_curtidas\").alias(\"soma_naocurtidas\"),\n",
        "    F.max(\"publicado_em_data\").alias(\"publicado_em_data\"),\n",
        "    F.max(\"data_destaque\").alias(\"data_destaque\"),\n",
        "    F.round(F.avg(\"nao_curtidas\"),2).alias(\"media_naocurtidas\")).orderBy('soma_visualizacao', ascending=False).show(10)\n",
        ")"
      ],
      "execution_count": null,
      "outputs": [
        {
          "output_type": "stream",
          "name": "stdout",
          "text": [
            "+-----------------+-----------------+------------------+-------------+--------------+----------------+-----------------+-------------+-----------------+\n",
            "|       nome_canal|soma_visualizacao|media_visualizacao|soma_curtidas|media_curtidas|soma_naocurtidas|publicado_em_data|data_destaque|media_naocurtidas|\n",
            "+-----------------+-----------------+------------------+-------------+--------------+----------------+-----------------+-------------+-----------------+\n",
            "|        BLACKPINK|      58230237271|      2.82396883E7|   5596684546|    2714202.01|       117843253|       2021-10-28|   2021-11-01|         57149.98|\n",
            "|      HYBE LABELS|      47383301434|     3.197253808E7|   4954981634|     3343442.4|        30903181|       2021-10-27|   2021-11-04|         20852.35|\n",
            "|           SMTOWN|      46008908926|     2.024149095E7|   2845074443|    1251682.55|        40529445|       2021-10-25|   2021-11-06|         17830.82|\n",
            "|JYP Entertainment|      38480556253|     1.798156834E7|   2296325821|    1073049.45|        36878750|       2021-11-12|   2021-11-17|         17233.06|\n",
            "|   Big Hit Labels|      37893503610|     3.558075456E7|   3892442538|    3654875.62|        79900146|       2021-03-25|   2021-03-30|         75023.61|\n",
            "|        BANGTANTV|      34712821173|     1.372590794E7|   5500913381|     2175133.8|        31245017|       2021-11-14|   2021-11-17|         12354.69|\n",
            "|          MrBeast|      31370195618|      2.45847928E7|   2179495546|    1708068.61|        22562155|       2021-10-29|   2021-11-05|         17681.94|\n",
            "|         T-Series|      14571958656|     2.396703726E7|    464864916|     764580.45|        22596720|       2021-11-10|   2021-11-16|         37165.66|\n",
            "| BillieEilishVEVO|      13294295105|     1.243619748E7|   1128743521|     1055887.3|        24037626|       2021-10-21|   2021-10-28|         22486.09|\n",
            "|  Fortnite Fun TV|      12162966626|     6.435432077E7|    407459849|    2155872.22|        12782233|       2021-07-11|   2021-07-13|         67630.86|\n",
            "+-----------------+-----------------+------------------+-------------+--------------+----------------+-----------------+-------------+-----------------+\n",
            "only showing top 10 rows\n",
            "\n"
          ]
        }
      ]
    },
    {
      "cell_type": "markdown",
      "metadata": {
        "id": "_40QOYxBBaga"
      },
      "source": [
        "**Videos com mais de 50% de curtidas em relação as visualizações**"
      ]
    },
    {
      "cell_type": "code",
      "metadata": {
        "colab": {
          "base_uri": "https://localhost:8080/"
        },
        "id": "f8pfQmpT-IBZ",
        "outputId": "ca078ced-40b8-4097-87ab-907c69412d9e"
      },
      "source": [
        "df.where((F.col(\"pais\") == 'BR')).filter(\"like_por_visualizacao_100 > 50\").show(20)"
      ],
      "execution_count": null,
      "outputs": [
        {
          "output_type": "stream",
          "name": "stdout",
          "text": [
            "+-----------+--------------------+--------------------+----------+-----------------+--------+------------+----------------+-------------------------+----------------------+----+---------+-----------------+-------------+-------------------------+----------------------------+---------------------------+\n",
            "|   id_video|        titulo_video|            id_canal|nome_canal|cont_visualizacao|curtidas|nao_curtidas|cont_comentarios|comentarios_desabilitados|curtidas_desabilitadas|pais|categoria|publicado_em_data|data_destaque|like_por_visualizacao_100|deslike_por_visualizacao_100|coment_por_visualizacao_100|\n",
            "+-----------+--------------------+--------------------+----------+-----------------+--------+------------+----------------+-------------------------+----------------------+----+---------+-----------------+-------------+-------------------------+----------------------------+---------------------------+\n",
            "|CuyTC8FLICY|Anitta - Girl Fro...|UCqjjyPUghDSSKFBA...|    Anitta|           544091|  325644|        3577|           75510|                    false|                 false|  BR|   musica|       2021-04-30|   2021-04-30|                    59.85|                        0.66|                      13.88|\n",
            "+-----------+--------------------+--------------------+----------+-----------------+--------+------------+----------------+-------------------------+----------------------+----+---------+-----------------+-------------+-------------------------+----------------------------+---------------------------+\n",
            "\n"
          ]
        }
      ]
    },
    {
      "cell_type": "markdown",
      "metadata": {
        "id": "9eSLGv3jJ_co"
      },
      "source": [
        "#SALVANDO NO BUCKET"
      ]
    },
    {
      "cell_type": "markdown",
      "metadata": {
        "id": "TAhndr6oKiOr"
      },
      "source": [
        "**Salvando na raiz do notebook, pois não foi possivel salvar o dataframe do pyspark na GCP**"
      ]
    },
    {
      "cell_type": "code",
      "metadata": {
        "id": "DGDbWA4CKd3L"
      },
      "source": [
        "df.write.format(\"com.databricks.spark.csv\").option(\"header\", \"true\")\\\n",
        "                                           .option(\"inferschema\", \"true\")\\\n",
        "                                           .option(\"delimiter\", \",\")\\\n",
        "                                           .save(\"/content/data_tratado_pyspark\")"
      ],
      "execution_count": null,
      "outputs": []
    },
    {
      "cell_type": "markdown",
      "metadata": {
        "id": "31iyIvpYK-kl"
      },
      "source": [
        "**Devido ao tamanho do arquivo ele se reparte em dois no salvamento, assim é necessário carrega-lo novamente para poder salvar através do pandas na GCP**"
      ]
    },
    {
      "cell_type": "code",
      "metadata": {
        "id": "_066R4_PK3MR",
        "colab": {
          "base_uri": "https://localhost:8080/",
          "height": 153
        },
        "outputId": "f44d4d62-6df5-4811-c0ac-e29d094493e2"
      },
      "source": [
        "#COPIAR OS ENDEREÇOS DOS ARQUIVOS NA PASTA \"data_tratado_pyspark\"\n",
        "df_pandas1 = pd.read_csv('/content/data_tratado_pyspark/part-00000-ca6ec06c-1839-48be-9def-887040fde7fb-c000.csv')\n",
        "df_pandas2 = pd.read_csv('/content/data_tratado_pyspark/part-00001-ca6ec06c-1839-48be-9def-887040fde7fb-c000.csv')\n",
        "df_pandas2.head(1)"
      ],
      "execution_count": null,
      "outputs": [
        {
          "output_type": "execute_result",
          "data": {
            "text/html": [
              "<div>\n",
              "<style scoped>\n",
              "    .dataframe tbody tr th:only-of-type {\n",
              "        vertical-align: middle;\n",
              "    }\n",
              "\n",
              "    .dataframe tbody tr th {\n",
              "        vertical-align: top;\n",
              "    }\n",
              "\n",
              "    .dataframe thead th {\n",
              "        text-align: right;\n",
              "    }\n",
              "</style>\n",
              "<table border=\"1\" class=\"dataframe\">\n",
              "  <thead>\n",
              "    <tr style=\"text-align: right;\">\n",
              "      <th></th>\n",
              "      <th>id_video</th>\n",
              "      <th>titulo_video</th>\n",
              "      <th>id_canal</th>\n",
              "      <th>nome_canal</th>\n",
              "      <th>cont_visualizacao</th>\n",
              "      <th>curtidas</th>\n",
              "      <th>nao_curtidas</th>\n",
              "      <th>cont_comentarios</th>\n",
              "      <th>comentarios_desabilitados</th>\n",
              "      <th>curtidas_desabilitadas</th>\n",
              "      <th>pais</th>\n",
              "      <th>categoria</th>\n",
              "      <th>publicado_em_data</th>\n",
              "      <th>data_destaque</th>\n",
              "      <th>like_por_visualizacao_100</th>\n",
              "      <th>deslike_por_visualizacao_100</th>\n",
              "      <th>coment_por_visualizacao_100</th>\n",
              "    </tr>\n",
              "  </thead>\n",
              "  <tbody>\n",
              "    <tr>\n",
              "      <th>0</th>\n",
              "      <td>qDNssUZPZmw</td>\n",
              "      <td>Teri Aadat - Behind The Scenes ft. Siddharth N...</td>\n",
              "      <td>UCoFxUkg6cLuhlY3Ll8SHTDQ</td>\n",
              "      <td>Anushka Sen</td>\n",
              "      <td>254908</td>\n",
              "      <td>23129</td>\n",
              "      <td>629</td>\n",
              "      <td>1443</td>\n",
              "      <td>False</td>\n",
              "      <td>False</td>\n",
              "      <td>IN</td>\n",
              "      <td>entretenimento</td>\n",
              "      <td>2021-03-26</td>\n",
              "      <td>2021-03-28</td>\n",
              "      <td>9.07</td>\n",
              "      <td>0.25</td>\n",
              "      <td>0.57</td>\n",
              "    </tr>\n",
              "  </tbody>\n",
              "</table>\n",
              "</div>"
            ],
            "text/plain": [
              "      id_video  ... coment_por_visualizacao_100\n",
              "0  qDNssUZPZmw  ...                        0.57\n",
              "\n",
              "[1 rows x 17 columns]"
            ]
          },
          "metadata": {},
          "execution_count": 25
        }
      ]
    },
    {
      "cell_type": "markdown",
      "metadata": {
        "id": "gA3UgINTLJsd"
      },
      "source": [
        "**Verificação do tamanho dos datasets que foram repartidos**"
      ]
    },
    {
      "cell_type": "code",
      "metadata": {
        "id": "LE5qFckHLFwn",
        "colab": {
          "base_uri": "https://localhost:8080/"
        },
        "outputId": "f03d4f74-67bc-4b51-8cbc-a97fa89c46d7"
      },
      "source": [
        "print(df_pandas1.shape)\n",
        "print(df_pandas2.shape)"
      ],
      "execution_count": null,
      "outputs": [
        {
          "output_type": "stream",
          "name": "stdout",
          "text": [
            "(510976, 17)\n",
            "(510645, 17)\n"
          ]
        }
      ]
    },
    {
      "cell_type": "markdown",
      "metadata": {
        "id": "mZbnT3jYLTjP"
      },
      "source": [
        "**Concatenação e verificação do tamanho**"
      ]
    },
    {
      "cell_type": "code",
      "metadata": {
        "id": "mGWMAvr_LRgE",
        "colab": {
          "base_uri": "https://localhost:8080/"
        },
        "outputId": "f062d465-c28e-4f66-b4b0-6fd759a78c03"
      },
      "source": [
        "df_pandas_def = pd.concat([df_pandas1, df_pandas2])\n",
        "df_pandas_def.shape"
      ],
      "execution_count": null,
      "outputs": [
        {
          "output_type": "execute_result",
          "data": {
            "text/plain": [
              "(1021621, 17)"
            ]
          },
          "metadata": {},
          "execution_count": 27
        }
      ]
    },
    {
      "cell_type": "markdown",
      "metadata": {
        "id": "vzo07V9BLdMm"
      },
      "source": [
        "**Salvando no Bucket Final**"
      ]
    },
    {
      "cell_type": "code",
      "metadata": {
        "id": "3OgVlMfuLacL"
      },
      "source": [
        "serviceAccount = '/content/projetofinalgrupo8-2dcd866c3f46.json'\n",
        "os.environ['GOOGLE_APPLICATION_CREDENTIALS'] = serviceAccount\n",
        "\n",
        "client = storage.Client()\n",
        "bucket = client.get_bucket('projetofinalgrupo8')\n",
        "bucket.blob('saida/youtube_tratado_pyspark.csv').upload_from_string(df_pandas_def.to_csv(index=False), 'text/csv')"
      ],
      "execution_count": null,
      "outputs": []
    }
  ]
}