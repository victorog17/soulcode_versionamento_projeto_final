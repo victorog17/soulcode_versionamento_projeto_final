{
  "nbformat": 4,
  "nbformat_minor": 0,
  "metadata": {
    "colab": {
      "name": "003_SOCIAL MEDIA PARAMETROS - Nivel Pyspark",
      "provenance": [],
      "collapsed_sections": []
    },
    "kernelspec": {
      "name": "python3",
      "display_name": "Python 3"
    },
    "language_info": {
      "name": "python"
    }
  },
  "cells": [
    {
      "cell_type": "code",
      "metadata": {
        "id": "-fQo6WrmsRTz"
      },
      "source": [
        "#crtl f9 inicializar tudo"
      ],
      "execution_count": null,
      "outputs": []
    },
    {
      "cell_type": "code",
      "metadata": {
        "colab": {
          "base_uri": "https://localhost:8080/"
        },
        "id": "f3ecfXFeGWRc",
        "outputId": "4af60cd0-f547-4736-c7f8-234ce1c15dac"
      },
      "source": [
        "pip install pyspark\n"
      ],
      "execution_count": null,
      "outputs": [
        {
          "output_type": "stream",
          "name": "stdout",
          "text": [
            "Requirement already satisfied: pyspark in /usr/local/lib/python3.7/dist-packages (3.2.0)\n",
            "Requirement already satisfied: py4j==0.10.9.2 in /usr/local/lib/python3.7/dist-packages (from pyspark) (0.10.9.2)\n"
          ]
        }
      ]
    },
    {
      "cell_type": "code",
      "metadata": {
        "colab": {
          "base_uri": "https://localhost:8080/"
        },
        "id": "hojuA5HgdCa3",
        "outputId": "7b98d063-9006-423d-f53a-84ea0edeab18"
      },
      "source": [
        "pip install fsspec"
      ],
      "execution_count": null,
      "outputs": [
        {
          "output_type": "stream",
          "name": "stdout",
          "text": [
            "Requirement already satisfied: fsspec in /usr/local/lib/python3.7/dist-packages (2021.11.0)\n"
          ]
        }
      ]
    },
    {
      "cell_type": "code",
      "metadata": {
        "colab": {
          "base_uri": "https://localhost:8080/"
        },
        "id": "9OP_vFd9eB4P",
        "outputId": "576bbe6a-ef49-47ae-f201-0cbb13fd86d8"
      },
      "source": [
        "pip install gcsfs"
      ],
      "execution_count": null,
      "outputs": [
        {
          "output_type": "stream",
          "name": "stdout",
          "text": [
            "Requirement already satisfied: gcsfs in /usr/local/lib/python3.7/dist-packages (0.8.0)\n",
            "Requirement already satisfied: requests in /usr/local/lib/python3.7/dist-packages (from gcsfs) (2.23.0)\n",
            "Requirement already satisfied: decorator in /usr/local/lib/python3.7/dist-packages (from gcsfs) (4.4.2)\n",
            "Requirement already satisfied: ujson in /usr/local/lib/python3.7/dist-packages (from gcsfs) (4.3.0)\n",
            "Requirement already satisfied: google-auth>=1.2 in /usr/local/lib/python3.7/dist-packages (from gcsfs) (1.35.0)\n",
            "Requirement already satisfied: google-auth-oauthlib in /usr/local/lib/python3.7/dist-packages (from gcsfs) (0.4.6)\n",
            "Requirement already satisfied: aiohttp in /usr/local/lib/python3.7/dist-packages (from gcsfs) (3.8.1)\n",
            "Requirement already satisfied: fsspec>=0.8.0 in /usr/local/lib/python3.7/dist-packages (from gcsfs) (2021.11.0)\n",
            "Requirement already satisfied: setuptools>=40.3.0 in /usr/local/lib/python3.7/dist-packages (from google-auth>=1.2->gcsfs) (57.4.0)\n",
            "Requirement already satisfied: pyasn1-modules>=0.2.1 in /usr/local/lib/python3.7/dist-packages (from google-auth>=1.2->gcsfs) (0.2.8)\n",
            "Requirement already satisfied: cachetools<5.0,>=2.0.0 in /usr/local/lib/python3.7/dist-packages (from google-auth>=1.2->gcsfs) (4.2.4)\n",
            "Requirement already satisfied: six>=1.9.0 in /usr/local/lib/python3.7/dist-packages (from google-auth>=1.2->gcsfs) (1.15.0)\n",
            "Requirement already satisfied: rsa<5,>=3.1.4 in /usr/local/lib/python3.7/dist-packages (from google-auth>=1.2->gcsfs) (4.7.2)\n",
            "Requirement already satisfied: pyasn1<0.5.0,>=0.4.6 in /usr/local/lib/python3.7/dist-packages (from pyasn1-modules>=0.2.1->google-auth>=1.2->gcsfs) (0.4.8)\n",
            "Requirement already satisfied: async-timeout<5.0,>=4.0.0a3 in /usr/local/lib/python3.7/dist-packages (from aiohttp->gcsfs) (4.0.1)\n",
            "Requirement already satisfied: typing-extensions>=3.7.4 in /usr/local/lib/python3.7/dist-packages (from aiohttp->gcsfs) (3.10.0.2)\n",
            "Requirement already satisfied: aiosignal>=1.1.2 in /usr/local/lib/python3.7/dist-packages (from aiohttp->gcsfs) (1.2.0)\n",
            "Requirement already satisfied: attrs>=17.3.0 in /usr/local/lib/python3.7/dist-packages (from aiohttp->gcsfs) (21.2.0)\n",
            "Requirement already satisfied: asynctest==0.13.0 in /usr/local/lib/python3.7/dist-packages (from aiohttp->gcsfs) (0.13.0)\n",
            "Requirement already satisfied: frozenlist>=1.1.1 in /usr/local/lib/python3.7/dist-packages (from aiohttp->gcsfs) (1.2.0)\n",
            "Requirement already satisfied: multidict<7.0,>=4.5 in /usr/local/lib/python3.7/dist-packages (from aiohttp->gcsfs) (5.2.0)\n",
            "Requirement already satisfied: charset-normalizer<3.0,>=2.0 in /usr/local/lib/python3.7/dist-packages (from aiohttp->gcsfs) (2.0.7)\n",
            "Requirement already satisfied: yarl<2.0,>=1.0 in /usr/local/lib/python3.7/dist-packages (from aiohttp->gcsfs) (1.7.2)\n",
            "Requirement already satisfied: idna>=2.0 in /usr/local/lib/python3.7/dist-packages (from yarl<2.0,>=1.0->aiohttp->gcsfs) (2.10)\n",
            "Requirement already satisfied: requests-oauthlib>=0.7.0 in /usr/local/lib/python3.7/dist-packages (from google-auth-oauthlib->gcsfs) (1.3.0)\n",
            "Requirement already satisfied: oauthlib>=3.0.0 in /usr/local/lib/python3.7/dist-packages (from requests-oauthlib>=0.7.0->google-auth-oauthlib->gcsfs) (3.1.1)\n",
            "Requirement already satisfied: certifi>=2017.4.17 in /usr/local/lib/python3.7/dist-packages (from requests->gcsfs) (2021.10.8)\n",
            "Requirement already satisfied: chardet<4,>=3.0.2 in /usr/local/lib/python3.7/dist-packages (from requests->gcsfs) (3.0.4)\n",
            "Requirement already satisfied: urllib3!=1.25.0,!=1.25.1,<1.26,>=1.21.1 in /usr/local/lib/python3.7/dist-packages (from requests->gcsfs) (1.24.3)\n"
          ]
        }
      ]
    },
    {
      "cell_type": "markdown",
      "metadata": {
        "id": "XiHxwqse57At"
      },
      "source": [
        "Importando funcções padrão. Função Window também importada porque será usado mais na frente"
      ]
    },
    {
      "cell_type": "code",
      "metadata": {
        "id": "wEXFTjWJ6G4D"
      },
      "source": [
        "import os\n",
        "from google.cloud import storage\n",
        "\n",
        "from pyspark.sql import SparkSession, Window\n",
        "spark = SparkSession.builder.appName('GCSFilesRead').getOrCreate()\n",
        "\n",
        "import pyspark.sql.functions as F\n",
        "from pyspark.sql.functions import to_timestamp, to_date\n",
        "\n",
        "from pyspark.sql.types import StructType, StructField, StringType, IntegerType, DoubleType,BooleanType,DateType,TimestampType\n",
        "import pandas as pd\n"
      ],
      "execution_count": null,
      "outputs": []
    },
    {
      "cell_type": "markdown",
      "metadata": {
        "id": "wk7rk3Lz6Y76"
      },
      "source": [
        "# Crie um esquema para o dataframe"
      ]
    },
    {
      "cell_type": "code",
      "metadata": {
        "id": "FJQv-TpxhsbG"
      },
      "source": [
        "customSchema = StructType([\n",
        "   StructField(\"id_video\", StringType(),True),\n",
        "   StructField(\"titulo_video\", StringType(),True),\n",
        "   StructField(\"publicado_em\", StringType(),True),\n",
        "   StructField(\"id_canal\", StringType(),True),\n",
        "   StructField(\"nome_canal\", StringType(),True),\n",
        "   StructField(\"data_destaque\", StringType(),True),\n",
        "   StructField(\"cont_visualizacao\", IntegerType(),True),\n",
        "   StructField(\"curtidas\", IntegerType(),True),\n",
        "   StructField(\"nao_curtidas\", IntegerType(),True),\n",
        "   StructField(\"cont_comentarios\", IntegerType(),True),\n",
        "   StructField(\"comentarios_desabilitados\", StringType(),True),\n",
        "   StructField(\"curtidas_desabilitadas\", StringType(),True),\n",
        "   StructField(\"pais\", StringType(),True),\n",
        "   StructField(\"categoria\", StringType(),True)\n",
        "\n",
        "])\n",
        "\n",
        "schema = customSchema"
      ],
      "execution_count": null,
      "outputs": []
    },
    {
      "cell_type": "code",
      "metadata": {
        "id": "X07R27PpYbAS"
      },
      "source": [
        "import os\n",
        "serviceaccount = 'gs://projetofinalgrupo8/chave/projetofinalgrupo8-2dcd866c3f46.json'\n",
        "os.environ[\"GOOGLE_APPLICATION_CREDENTIALS\"] = serviceaccount\n",
        "\n",
        "dfspark = pd.read_csv('gs://projetofinalgrupo8/saida/data_tratado_pandas.csv', sep=',',encoding='UTF-8', header=0)\n",
        "df= spark.createDataFrame(dfspark,schema=schema)"
      ],
      "execution_count": null,
      "outputs": []
    },
    {
      "cell_type": "code",
      "metadata": {
        "colab": {
          "base_uri": "https://localhost:8080/"
        },
        "id": "xaNKB5xPepjg",
        "outputId": "6665124e-4f33-43a4-dcd9-9f1c13086f71"
      },
      "source": [
        "df.show(5)"
      ],
      "execution_count": null,
      "outputs": [
        {
          "output_type": "stream",
          "name": "stdout",
          "text": [
            "+-----------+--------------------+-------------------+--------------------+--------------------+-------------------+-----------------+--------+------------+----------------+-------------------------+----------------------+----+---------------+\n",
            "|   id_video|        titulo_video|       publicado_em|            id_canal|          nome_canal|      data_destaque|cont_visualizacao|curtidas|nao_curtidas|cont_comentarios|comentarios_desabilitados|curtidas_desabilitadas|pais|      categoria|\n",
            "+-----------+--------------------+-------------------+--------------------+--------------------+-------------------+-----------------+--------+------------+----------------+-------------------------+----------------------+----+---------------+\n",
            "|s9FH4rDMvds|LEVEI UM FORA? FI...|2020-08-11 22:21:49|UCGfBwrCoi9ZJjKiU...|       Pietro Guedes|2020-08-12 00:00:00|           263835|   85095|         487|            4500|                    false|                 false|  BR|pessoas_e_blogs|\n",
            "|jbGRowa5tIk|ITZY “Not Shy” M/...|2020-08-11 15:00:13|UCaO6TYtlC8U5ttz6...|   JYP Entertainment|2020-08-12 00:00:00|          6000070|  714310|       15176|           31040|                    false|                 false|  BR|         musica|\n",
            "|3EfkCrXKZNs|Oh Juliana PARÓDI...|2020-08-10 14:59:00|UCoXZmVma073v5G1c...|       As Irmãs Mota|2020-08-12 00:00:00|          2296748|   39761|        5484|               0|                     true|                 false|  BR|pessoas_e_blogs|\n",
            "|gBjox7vn3-g|Contos de Runeter...|2020-08-11 15:00:09|UC6Xqz2pm50gDCORY...|League of Legends BR|2020-08-12 00:00:00|           300510|   46222|         242|            2748|                    false|                 false|  BR|          jogos|\n",
            "|npoUGx7UW7o|Entrevista com Th...|2020-08-11 20:04:02|UCEWOoncsrmirqnFq...|The Noite com Dan...|2020-08-12 00:00:00|           327235|   22059|        3972|            2751|                    false|                 false|  BR|        comedia|\n",
            "+-----------+--------------------+-------------------+--------------------+--------------------+-------------------+-----------------+--------+------------+----------------+-------------------------+----------------------+----+---------------+\n",
            "only showing top 5 rows\n",
            "\n"
          ]
        }
      ]
    },
    {
      "cell_type": "code",
      "metadata": {
        "colab": {
          "base_uri": "https://localhost:8080/"
        },
        "id": "48kb2y0Uk2D4",
        "outputId": "6cc5e908-e54a-4491-818e-6f67b7e74179"
      },
      "source": [
        "df.printSchema()"
      ],
      "execution_count": null,
      "outputs": [
        {
          "output_type": "stream",
          "name": "stdout",
          "text": [
            "root\n",
            " |-- id_video: string (nullable = true)\n",
            " |-- titulo_video: string (nullable = true)\n",
            " |-- publicado_em: string (nullable = true)\n",
            " |-- id_canal: string (nullable = true)\n",
            " |-- nome_canal: string (nullable = true)\n",
            " |-- data_destaque: string (nullable = true)\n",
            " |-- cont_visualizacao: integer (nullable = true)\n",
            " |-- curtidas: integer (nullable = true)\n",
            " |-- nao_curtidas: integer (nullable = true)\n",
            " |-- cont_comentarios: integer (nullable = true)\n",
            " |-- comentarios_desabilitados: string (nullable = true)\n",
            " |-- curtidas_desabilitadas: string (nullable = true)\n",
            " |-- pais: string (nullable = true)\n",
            " |-- categoria: string (nullable = true)\n",
            "\n"
          ]
        }
      ]
    },
    {
      "cell_type": "markdown",
      "metadata": {
        "id": "Nh_HeBzK6m2c"
      },
      "source": [
        "#CRIAR COLUNAS DE PUBLICAÇÃO DE DATA E DESTAQUE"
      ]
    },
    {
      "cell_type": "code",
      "metadata": {
        "colab": {
          "base_uri": "https://localhost:8080/"
        },
        "id": "pHud1TSwn3rw",
        "outputId": "c9775f6c-2143-408d-9bfb-f731997f95da"
      },
      "source": [
        "#CRIAR COLUNAS DE PUBLICAÇÃO DE DATA\n",
        "df = df.withColumn(\"publicado_em_data\", F.lit(F.substring('publicado_em', 1, 10)))\n",
        "df.show(1)"
      ],
      "execution_count": null,
      "outputs": [
        {
          "output_type": "stream",
          "name": "stdout",
          "text": [
            "+-----------+--------------------+-------------------+--------------------+-------------+-------------------+-----------------+--------+------------+----------------+-------------------------+----------------------+----+---------------+-----------------+\n",
            "|   id_video|        titulo_video|       publicado_em|            id_canal|   nome_canal|      data_destaque|cont_visualizacao|curtidas|nao_curtidas|cont_comentarios|comentarios_desabilitados|curtidas_desabilitadas|pais|      categoria|publicado_em_data|\n",
            "+-----------+--------------------+-------------------+--------------------+-------------+-------------------+-----------------+--------+------------+----------------+-------------------------+----------------------+----+---------------+-----------------+\n",
            "|s9FH4rDMvds|LEVEI UM FORA? FI...|2020-08-11 22:21:49|UCGfBwrCoi9ZJjKiU...|Pietro Guedes|2020-08-12 00:00:00|           263835|   85095|         487|            4500|                    false|                 false|  BR|pessoas_e_blogs|       2020-08-11|\n",
            "+-----------+--------------------+-------------------+--------------------+-------------+-------------------+-----------------+--------+------------+----------------+-------------------------+----------------------+----+---------------+-----------------+\n",
            "only showing top 1 row\n",
            "\n"
          ]
        }
      ]
    },
    {
      "cell_type": "code",
      "metadata": {
        "colab": {
          "base_uri": "https://localhost:8080/"
        },
        "id": "BMhi-DLNsN0a",
        "outputId": "804bd63e-a781-4e48-8dac-98d8a3bd0f8e"
      },
      "source": [
        "#CRIAR COLUNA DE DATA DE DESTAQUE\n",
        "df = df.withColumn(\"data_destaque1\", F.lit(F.substring('data_destaque', 1, 10)))\n",
        "df.show(1)"
      ],
      "execution_count": null,
      "outputs": [
        {
          "output_type": "stream",
          "name": "stdout",
          "text": [
            "+-----------+--------------------+-------------------+--------------------+-------------+-------------------+-----------------+--------+------------+----------------+-------------------------+----------------------+----+---------------+-----------------+--------------+\n",
            "|   id_video|        titulo_video|       publicado_em|            id_canal|   nome_canal|      data_destaque|cont_visualizacao|curtidas|nao_curtidas|cont_comentarios|comentarios_desabilitados|curtidas_desabilitadas|pais|      categoria|publicado_em_data|data_destaque1|\n",
            "+-----------+--------------------+-------------------+--------------------+-------------+-------------------+-----------------+--------+------------+----------------+-------------------------+----------------------+----+---------------+-----------------+--------------+\n",
            "|s9FH4rDMvds|LEVEI UM FORA? FI...|2020-08-11 22:21:49|UCGfBwrCoi9ZJjKiU...|Pietro Guedes|2020-08-12 00:00:00|           263835|   85095|         487|            4500|                    false|                 false|  BR|pessoas_e_blogs|       2020-08-11|    2020-08-12|\n",
            "+-----------+--------------------+-------------------+--------------------+-------------+-------------------+-----------------+--------+------------+----------------+-------------------------+----------------------+----+---------------+-----------------+--------------+\n",
            "only showing top 1 row\n",
            "\n"
          ]
        }
      ]
    },
    {
      "cell_type": "markdown",
      "metadata": {
        "id": "G8nnEQ6R6u5S"
      },
      "source": [
        "#DROPAR COLUNA"
      ]
    },
    {
      "cell_type": "code",
      "metadata": {
        "colab": {
          "base_uri": "https://localhost:8080/"
        },
        "id": "lvs1RPdfsmEQ",
        "outputId": "c110089e-3cf8-4fb2-c516-bd1f7463f639"
      },
      "source": [
        "#DROPAR COLUNA PUBLICADO_EM\n",
        "df = df.drop('publicado_em')\n",
        "df.show(1)"
      ],
      "execution_count": null,
      "outputs": [
        {
          "output_type": "stream",
          "name": "stdout",
          "text": [
            "+-----------+--------------------+--------------------+-------------+-------------------+-----------------+--------+------------+----------------+-------------------------+----------------------+----+---------------+-----------------+--------------+\n",
            "|   id_video|        titulo_video|            id_canal|   nome_canal|      data_destaque|cont_visualizacao|curtidas|nao_curtidas|cont_comentarios|comentarios_desabilitados|curtidas_desabilitadas|pais|      categoria|publicado_em_data|data_destaque1|\n",
            "+-----------+--------------------+--------------------+-------------+-------------------+-----------------+--------+------------+----------------+-------------------------+----------------------+----+---------------+-----------------+--------------+\n",
            "|s9FH4rDMvds|LEVEI UM FORA? FI...|UCGfBwrCoi9ZJjKiU...|Pietro Guedes|2020-08-12 00:00:00|           263835|   85095|         487|            4500|                    false|                 false|  BR|pessoas_e_blogs|       2020-08-11|    2020-08-12|\n",
            "+-----------+--------------------+--------------------+-------------+-------------------+-----------------+--------+------------+----------------+-------------------------+----------------------+----+---------------+-----------------+--------------+\n",
            "only showing top 1 row\n",
            "\n"
          ]
        }
      ]
    },
    {
      "cell_type": "code",
      "metadata": {
        "colab": {
          "base_uri": "https://localhost:8080/"
        },
        "id": "aJjg0W8Z_kyC",
        "outputId": "3aef14cf-05fa-4f97-caaa-99a70a4106e8"
      },
      "source": [
        "#DROPAR COLUNA DE DESTAQUE\n",
        "df = df.drop('data_destaque')\n",
        "df.show(1)"
      ],
      "execution_count": null,
      "outputs": [
        {
          "output_type": "stream",
          "name": "stdout",
          "text": [
            "+-----------+--------------------+--------------------+-------------+-----------------+--------+------------+----------------+-------------------------+----------------------+----+---------------+-----------------+--------------+\n",
            "|   id_video|        titulo_video|            id_canal|   nome_canal|cont_visualizacao|curtidas|nao_curtidas|cont_comentarios|comentarios_desabilitados|curtidas_desabilitadas|pais|      categoria|publicado_em_data|data_destaque1|\n",
            "+-----------+--------------------+--------------------+-------------+-----------------+--------+------------+----------------+-------------------------+----------------------+----+---------------+-----------------+--------------+\n",
            "|s9FH4rDMvds|LEVEI UM FORA? FI...|UCGfBwrCoi9ZJjKiU...|Pietro Guedes|           263835|   85095|         487|            4500|                    false|                 false|  BR|pessoas_e_blogs|       2020-08-11|    2020-08-12|\n",
            "+-----------+--------------------+--------------------+-------------+-----------------+--------+------------+----------------+-------------------------+----------------------+----+---------------+-----------------+--------------+\n",
            "only showing top 1 row\n",
            "\n"
          ]
        }
      ]
    },
    {
      "cell_type": "markdown",
      "metadata": {
        "id": "a1EdPRww8ItC"
      },
      "source": [
        "#RENOMEANDO COLUNA DATA DESTAQUE"
      ]
    },
    {
      "cell_type": "code",
      "metadata": {
        "colab": {
          "base_uri": "https://localhost:8080/"
        },
        "id": "naTVuoJF_vN6",
        "outputId": "9cb8f303-d4d4-494e-f334-8619d9f2569a"
      },
      "source": [
        "df = df.withColumnRenamed(\"data_destaque1\", \"data_destaque\")\n",
        "df.show(1)"
      ],
      "execution_count": null,
      "outputs": [
        {
          "output_type": "stream",
          "name": "stdout",
          "text": [
            "+-----------+--------------------+--------------------+-------------+-----------------+--------+------------+----------------+-------------------------+----------------------+----+---------------+-----------------+-------------+\n",
            "|   id_video|        titulo_video|            id_canal|   nome_canal|cont_visualizacao|curtidas|nao_curtidas|cont_comentarios|comentarios_desabilitados|curtidas_desabilitadas|pais|      categoria|publicado_em_data|data_destaque|\n",
            "+-----------+--------------------+--------------------+-------------+-----------------+--------+------------+----------------+-------------------------+----------------------+----+---------------+-----------------+-------------+\n",
            "|s9FH4rDMvds|LEVEI UM FORA? FI...|UCGfBwrCoi9ZJjKiU...|Pietro Guedes|           263835|   85095|         487|            4500|                    false|                 false|  BR|pessoas_e_blogs|       2020-08-11|   2020-08-12|\n",
            "+-----------+--------------------+--------------------+-------------+-----------------+--------+------------+----------------+-------------------------+----------------------+----+---------------+-----------------+-------------+\n",
            "only showing top 1 row\n",
            "\n"
          ]
        }
      ]
    },
    {
      "cell_type": "markdown",
      "metadata": {
        "id": "PlQcEy398yUV"
      },
      "source": [
        "#RELAÇÃO DE CURTIDAS POR VISUALIZAÇÃO\n"
      ]
    },
    {
      "cell_type": "code",
      "metadata": {
        "colab": {
          "base_uri": "https://localhost:8080/"
        },
        "id": "fYVHX8xFCdtS",
        "outputId": "6a560f21-1f09-4646-adeb-fd869c1b258f"
      },
      "source": [
        "df = (df.withColumn(\"like_por_visualizacao_100\", F.round(F.col(\"curtidas\")*100/ F.col(\"cont_visualizacao\"),2))) \n",
        "\n",
        "df.show(1)"
      ],
      "execution_count": null,
      "outputs": [
        {
          "output_type": "stream",
          "name": "stdout",
          "text": [
            "+-----------+--------------------+--------------------+-------------+-----------------+--------+------------+----------------+-------------------------+----------------------+----+---------------+-----------------+-------------+-------------------------+\n",
            "|   id_video|        titulo_video|            id_canal|   nome_canal|cont_visualizacao|curtidas|nao_curtidas|cont_comentarios|comentarios_desabilitados|curtidas_desabilitadas|pais|      categoria|publicado_em_data|data_destaque|like_por_visualizacao_100|\n",
            "+-----------+--------------------+--------------------+-------------+-----------------+--------+------------+----------------+-------------------------+----------------------+----+---------------+-----------------+-------------+-------------------------+\n",
            "|s9FH4rDMvds|LEVEI UM FORA? FI...|UCGfBwrCoi9ZJjKiU...|Pietro Guedes|           263835|   85095|         487|            4500|                    false|                 false|  BR|pessoas_e_blogs|       2020-08-11|   2020-08-12|                    32.25|\n",
            "+-----------+--------------------+--------------------+-------------+-----------------+--------+------------+----------------+-------------------------+----------------------+----+---------------+-----------------+-------------+-------------------------+\n",
            "only showing top 1 row\n",
            "\n"
          ]
        }
      ]
    },
    {
      "cell_type": "markdown",
      "metadata": {
        "id": "Eh_FLX6L80Uy"
      },
      "source": [
        "#RELAÇÃO DE DESCURTIDAS POR VISUALIZAÇÃO\n"
      ]
    },
    {
      "cell_type": "code",
      "metadata": {
        "colab": {
          "base_uri": "https://localhost:8080/"
        },
        "id": "lkpM2BfgJ66b",
        "outputId": "f6e49e2f-1ece-4af4-9492-0af78329bb02"
      },
      "source": [
        "df = (df.withColumn(\"deslike_por_visualizacao_100\", F.round(F.col(\"nao_curtidas\")*100/ F.col(\"cont_visualizacao\"),2))) \n",
        "\n",
        "df.show(1)"
      ],
      "execution_count": null,
      "outputs": [
        {
          "output_type": "stream",
          "name": "stdout",
          "text": [
            "+-----------+--------------------+--------------------+-------------+-----------------+--------+------------+----------------+-------------------------+----------------------+----+---------------+-----------------+-------------+-------------------------+----------------------------+\n",
            "|   id_video|        titulo_video|            id_canal|   nome_canal|cont_visualizacao|curtidas|nao_curtidas|cont_comentarios|comentarios_desabilitados|curtidas_desabilitadas|pais|      categoria|publicado_em_data|data_destaque|like_por_visualizacao_100|deslike_por_visualizacao_100|\n",
            "+-----------+--------------------+--------------------+-------------+-----------------+--------+------------+----------------+-------------------------+----------------------+----+---------------+-----------------+-------------+-------------------------+----------------------------+\n",
            "|s9FH4rDMvds|LEVEI UM FORA? FI...|UCGfBwrCoi9ZJjKiU...|Pietro Guedes|           263835|   85095|         487|            4500|                    false|                 false|  BR|pessoas_e_blogs|       2020-08-11|   2020-08-12|                    32.25|                        0.18|\n",
            "+-----------+--------------------+--------------------+-------------+-----------------+--------+------------+----------------+-------------------------+----------------------+----+---------------+-----------------+-------------+-------------------------+----------------------------+\n",
            "only showing top 1 row\n",
            "\n"
          ]
        }
      ]
    },
    {
      "cell_type": "markdown",
      "metadata": {
        "id": "97rKokFi82Wy"
      },
      "source": [
        "#RELAÇÃO DE COMENTARIOS POR VISUALIZAÇÃO + SCHEMA PARA ANALISE DE TYPES\n"
      ]
    },
    {
      "cell_type": "code",
      "metadata": {
        "colab": {
          "base_uri": "https://localhost:8080/"
        },
        "id": "Pg0ZIoHuLZVM",
        "outputId": "34ba444a-c73f-4c6d-e923-9df1daa4a1b5"
      },
      "source": [
        "df = (df.withColumn(\"coment_por_visualizacao_100\", F.round(F.col(\"cont_comentarios\")*100/ F.col(\"cont_visualizacao\"),2))) \n",
        "\n",
        "df.show(1)\n",
        "df.printSchema()"
      ],
      "execution_count": null,
      "outputs": [
        {
          "output_type": "stream",
          "name": "stdout",
          "text": [
            "+-----------+--------------------+--------------------+-------------+-----------------+--------+------------+----------------+-------------------------+----------------------+----+---------------+-----------------+-------------+-------------------------+----------------------------+---------------------------+\n",
            "|   id_video|        titulo_video|            id_canal|   nome_canal|cont_visualizacao|curtidas|nao_curtidas|cont_comentarios|comentarios_desabilitados|curtidas_desabilitadas|pais|      categoria|publicado_em_data|data_destaque|like_por_visualizacao_100|deslike_por_visualizacao_100|coment_por_visualizacao_100|\n",
            "+-----------+--------------------+--------------------+-------------+-----------------+--------+------------+----------------+-------------------------+----------------------+----+---------------+-----------------+-------------+-------------------------+----------------------------+---------------------------+\n",
            "|s9FH4rDMvds|LEVEI UM FORA? FI...|UCGfBwrCoi9ZJjKiU...|Pietro Guedes|           263835|   85095|         487|            4500|                    false|                 false|  BR|pessoas_e_blogs|       2020-08-11|   2020-08-12|                    32.25|                        0.18|                       1.71|\n",
            "+-----------+--------------------+--------------------+-------------+-----------------+--------+------------+----------------+-------------------------+----------------------+----+---------------+-----------------+-------------+-------------------------+----------------------------+---------------------------+\n",
            "only showing top 1 row\n",
            "\n",
            "root\n",
            " |-- id_video: string (nullable = true)\n",
            " |-- titulo_video: string (nullable = true)\n",
            " |-- id_canal: string (nullable = true)\n",
            " |-- nome_canal: string (nullable = true)\n",
            " |-- cont_visualizacao: integer (nullable = true)\n",
            " |-- curtidas: integer (nullable = true)\n",
            " |-- nao_curtidas: integer (nullable = true)\n",
            " |-- cont_comentarios: integer (nullable = true)\n",
            " |-- comentarios_desabilitados: string (nullable = true)\n",
            " |-- curtidas_desabilitadas: string (nullable = true)\n",
            " |-- pais: string (nullable = true)\n",
            " |-- categoria: string (nullable = true)\n",
            " |-- publicado_em_data: string (nullable = true)\n",
            " |-- data_destaque: string (nullable = true)\n",
            " |-- like_por_visualizacao_100: double (nullable = true)\n",
            " |-- deslike_por_visualizacao_100: double (nullable = true)\n",
            " |-- coment_por_visualizacao_100: double (nullable = true)\n",
            "\n"
          ]
        }
      ]
    },
    {
      "cell_type": "markdown",
      "metadata": {
        "id": "bqX4zhIZ9Bkj"
      },
      "source": [
        "#RELAÇÃO DE COMENTARIOS POR VISUALIZAÇÃO\n"
      ]
    },
    {
      "cell_type": "code",
      "metadata": {
        "colab": {
          "base_uri": "https://localhost:8080/"
        },
        "id": "oMKKIY_kZSLj",
        "outputId": "f2c4b8cd-f672-4751-a024-a2543024499c"
      },
      "source": [
        "df = (df.withColumn(\"coment_por_visualizacao_100\", F.round(F.col(\"cont_comentarios\")*100/ F.col(\"cont_visualizacao\"),2))) \n",
        "\n",
        "df.show(1)"
      ],
      "execution_count": null,
      "outputs": [
        {
          "output_type": "stream",
          "name": "stdout",
          "text": [
            "+-----------+--------------------+--------------------+-------------+-----------------+--------+------------+----------------+-------------------------+----------------------+----+---------------+-----------------+-------------+-------------------------+----------------------------+---------------------------+\n",
            "|   id_video|        titulo_video|            id_canal|   nome_canal|cont_visualizacao|curtidas|nao_curtidas|cont_comentarios|comentarios_desabilitados|curtidas_desabilitadas|pais|      categoria|publicado_em_data|data_destaque|like_por_visualizacao_100|deslike_por_visualizacao_100|coment_por_visualizacao_100|\n",
            "+-----------+--------------------+--------------------+-------------+-----------------+--------+------------+----------------+-------------------------+----------------------+----+---------------+-----------------+-------------+-------------------------+----------------------------+---------------------------+\n",
            "|s9FH4rDMvds|LEVEI UM FORA? FI...|UCGfBwrCoi9ZJjKiU...|Pietro Guedes|           263835|   85095|         487|            4500|                    false|                 false|  BR|pessoas_e_blogs|       2020-08-11|   2020-08-12|                    32.25|                        0.18|                       1.71|\n",
            "+-----------+--------------------+--------------------+-------------+-----------------+--------+------------+----------------+-------------------------+----------------------+----+---------------+-----------------+-------------+-------------------------+----------------------------+---------------------------+\n",
            "only showing top 1 row\n",
            "\n"
          ]
        }
      ]
    },
    {
      "cell_type": "markdown",
      "metadata": {
        "id": "N_sFJC-x_mx7"
      },
      "source": [
        "#TRANSFORMANDO OS TIPOS DAS COLUNAS PARADA DATA\n"
      ]
    },
    {
      "cell_type": "code",
      "metadata": {
        "colab": {
          "base_uri": "https://localhost:8080/"
        },
        "id": "gvar0sSFfvrs",
        "outputId": "3e8b58cf-1ac5-4fab-eda2-5ae4f05e77ae"
      },
      "source": [
        "df = df.withColumn(\"publicado_em_data\", F.col(\"publicado_em_data\").cast(\"date\"))\n",
        "df = df.withColumn(\"data_destaque\", F.col(\"data_destaque\").cast(\"date\"))\n",
        "\n",
        "df.show(5)\n",
        "df.printSchema()"
      ],
      "execution_count": null,
      "outputs": [
        {
          "output_type": "stream",
          "name": "stdout",
          "text": [
            "+-----------+--------------------+--------------------+--------------------+-----------------+--------+------------+----------------+-------------------------+----------------------+----+---------------+-----------------+-------------+-------------------------+----------------------------+---------------------------+\n",
            "|   id_video|        titulo_video|            id_canal|          nome_canal|cont_visualizacao|curtidas|nao_curtidas|cont_comentarios|comentarios_desabilitados|curtidas_desabilitadas|pais|      categoria|publicado_em_data|data_destaque|like_por_visualizacao_100|deslike_por_visualizacao_100|coment_por_visualizacao_100|\n",
            "+-----------+--------------------+--------------------+--------------------+-----------------+--------+------------+----------------+-------------------------+----------------------+----+---------------+-----------------+-------------+-------------------------+----------------------------+---------------------------+\n",
            "|s9FH4rDMvds|LEVEI UM FORA? FI...|UCGfBwrCoi9ZJjKiU...|       Pietro Guedes|           263835|   85095|         487|            4500|                    false|                 false|  BR|pessoas_e_blogs|       2020-08-11|   2020-08-12|                    32.25|                        0.18|                       1.71|\n",
            "|jbGRowa5tIk|ITZY “Not Shy” M/...|UCaO6TYtlC8U5ttz6...|   JYP Entertainment|          6000070|  714310|       15176|           31040|                    false|                 false|  BR|         musica|       2020-08-11|   2020-08-12|                    11.91|                        0.25|                       0.52|\n",
            "|3EfkCrXKZNs|Oh Juliana PARÓDI...|UCoXZmVma073v5G1c...|       As Irmãs Mota|          2296748|   39761|        5484|               0|                     true|                 false|  BR|pessoas_e_blogs|       2020-08-10|   2020-08-12|                     1.73|                        0.24|                        0.0|\n",
            "|gBjox7vn3-g|Contos de Runeter...|UC6Xqz2pm50gDCORY...|League of Legends BR|           300510|   46222|         242|            2748|                    false|                 false|  BR|          jogos|       2020-08-11|   2020-08-12|                    15.38|                        0.08|                       0.91|\n",
            "|npoUGx7UW7o|Entrevista com Th...|UCEWOoncsrmirqnFq...|The Noite com Dan...|           327235|   22059|        3972|            2751|                    false|                 false|  BR|        comedia|       2020-08-11|   2020-08-12|                     6.74|                        1.21|                       0.84|\n",
            "+-----------+--------------------+--------------------+--------------------+-----------------+--------+------------+----------------+-------------------------+----------------------+----+---------------+-----------------+-------------+-------------------------+----------------------------+---------------------------+\n",
            "only showing top 5 rows\n",
            "\n",
            "root\n",
            " |-- id_video: string (nullable = true)\n",
            " |-- titulo_video: string (nullable = true)\n",
            " |-- id_canal: string (nullable = true)\n",
            " |-- nome_canal: string (nullable = true)\n",
            " |-- cont_visualizacao: integer (nullable = true)\n",
            " |-- curtidas: integer (nullable = true)\n",
            " |-- nao_curtidas: integer (nullable = true)\n",
            " |-- cont_comentarios: integer (nullable = true)\n",
            " |-- comentarios_desabilitados: string (nullable = true)\n",
            " |-- curtidas_desabilitadas: string (nullable = true)\n",
            " |-- pais: string (nullable = true)\n",
            " |-- categoria: string (nullable = true)\n",
            " |-- publicado_em_data: date (nullable = true)\n",
            " |-- data_destaque: date (nullable = true)\n",
            " |-- like_por_visualizacao_100: double (nullable = true)\n",
            " |-- deslike_por_visualizacao_100: double (nullable = true)\n",
            " |-- coment_por_visualizacao_100: double (nullable = true)\n",
            "\n"
          ]
        }
      ]
    },
    {
      "cell_type": "code",
      "metadata": {
        "colab": {
          "base_uri": "https://localhost:8080/"
        },
        "id": "BpRKgwfHZ9_J",
        "outputId": "fc80199d-27b4-4cde-e401-2f866949dad1"
      },
      "source": [
        "df.printSchema()"
      ],
      "execution_count": null,
      "outputs": [
        {
          "output_type": "stream",
          "name": "stdout",
          "text": [
            "root\n",
            " |-- id_video: string (nullable = true)\n",
            " |-- titulo_video: string (nullable = true)\n",
            " |-- id_canal: string (nullable = true)\n",
            " |-- nome_canal: string (nullable = true)\n",
            " |-- cont_visualizacao: integer (nullable = true)\n",
            " |-- curtidas: integer (nullable = true)\n",
            " |-- nao_curtidas: integer (nullable = true)\n",
            " |-- cont_comentarios: integer (nullable = true)\n",
            " |-- comentarios_desabilitados: string (nullable = true)\n",
            " |-- curtidas_desabilitadas: string (nullable = true)\n",
            " |-- pais: string (nullable = true)\n",
            " |-- categoria: string (nullable = true)\n",
            " |-- publicado_em_data: date (nullable = true)\n",
            " |-- data_destaque: date (nullable = true)\n",
            " |-- like_por_visualizacao_100: double (nullable = true)\n",
            " |-- deslike_por_visualizacao_100: double (nullable = true)\n",
            " |-- coment_por_visualizacao_100: double (nullable = true)\n",
            "\n"
          ]
        }
      ]
    },
    {
      "cell_type": "markdown",
      "metadata": {
        "id": "OHdjhC5GXVZi"
      },
      "source": [
        "#RANK DE VIDEOS DENTRO DE UM CANAL\n"
      ]
    },
    {
      "cell_type": "code",
      "metadata": {
        "colab": {
          "base_uri": "https://localhost:8080/"
        },
        "id": "Eb1LNDgMo4w_",
        "outputId": "0086427d-5107-420c-b3be-ba6bd0e3e690"
      },
      "source": [
        "#RANK DOS VÍDEOS COM MAIS CURTIDA/VISUALIZAÇÃO EM UM CANAL\n",
        "w0 = Window.partitionBy(F.col(\"nome_canal\")).orderBy(\"like_por_visualizacao_100\")\n",
        "\n",
        "(df.withColumn(\"RANK\",F.rank().over(w0))\n",
        "  .withColumn(\"curtida_por_visualizacao\",F.max(F.col(\"like_por_visualizacao_100\")).over(w0))\n",
        "\n",
        "  .select(\"RANK\",\"curtida_por_visualizacao\",'titulo_video','nome_canal',\"pais\",\"publicado_em_data\").show(200)\n",
        ")"
      ],
      "execution_count": null,
      "outputs": [
        {
          "output_type": "stream",
          "name": "stdout",
          "text": [
            "+----+------------------------+---------------------------------+-------------------------+----+-----------------+\n",
            "|RANK|curtida_por_visualizacao|                     titulo_video|               nome_canal|pais|publicado_em_data|\n",
            "+----+------------------------+---------------------------------+-------------------------+----+-----------------+\n",
            "|   1|                   10.17|             #Shorts ¿Es esta ...|      PONGAMOSLO A PRU...|  MX|       2021-10-07|\n",
            "|   2|                   10.18|             #Shorts ¿Es esta ...|      PONGAMOSLO A PRU...|  MX|       2021-10-07|\n",
            "|   3|                    10.2|             #Shorts ¿Es esta ...|      PONGAMOSLO A PRU...|  MX|       2021-10-07|\n",
            "|   4|                   10.21|             #Shorts ¿El mejor...|      PONGAMOSLO A PRU...|  MX|       2021-11-09|\n",
            "|   5|                   10.22|             #Shorts ¿El mejor...|      PONGAMOSLO A PRU...|  MX|       2021-11-09|\n",
            "|   6|                   10.24|             #Shorts ¿El mejor...|      PONGAMOSLO A PRU...|  MX|       2021-11-09|\n",
            "|   7|                   10.25|             #Shorts ¿Es esta ...|      PONGAMOSLO A PRU...|  MX|       2021-10-07|\n",
            "|   8|                   10.29|             #Shorts ¿El mejor...|      PONGAMOSLO A PRU...|  MX|       2021-11-09|\n",
            "|   9|                   10.31|             #Shorts ¿Es esta ...|      PONGAMOSLO A PRU...|  MX|       2021-10-07|\n",
            "|  10|                   10.43|             #Shorts ¿El mejor...|      PONGAMOSLO A PRU...|  MX|       2021-11-09|\n",
            "|  11|                   10.48|             #Shorts ¿Es esta ...|      PONGAMOSLO A PRU...|  MX|       2021-10-07|\n",
            "|  12|                   10.62|             #Shorts ¿El mejor...|      PONGAMOSLO A PRU...|  MX|       2021-11-09|\n",
            "|  13|                   10.71|             #Shorts ¿El mejor...|      PONGAMOSLO A PRU...|  MX|       2021-11-09|\n",
            "|  14|                   10.94|             #Shorts ¿Es esta ...|      PONGAMOSLO A PRU...|  MX|       2021-10-07|\n",
            "|  15|                   11.16|             #Shorts Tecnica p...|      PONGAMOSLO A PRU...|  MX|       2021-08-01|\n",
            "|  16|                   11.21|             #Shorts Tecnica p...|      PONGAMOSLO A PRU...|  MX|       2021-08-01|\n",
            "|  17|                   11.28|             #Shorts ¿Es esta ...|      PONGAMOSLO A PRU...|  MX|       2021-10-07|\n",
            "|  18|                   11.31|             #Shorts Tazon que...|      PONGAMOSLO A PRU...|  MX|       2021-10-29|\n",
            "|  19|                   11.33|             #Shorts Tecnica p...|      PONGAMOSLO A PRU...|  MX|       2021-08-01|\n",
            "|  19|                   11.33|             #Shorts Tazon que...|      PONGAMOSLO A PRU...|  MX|       2021-10-29|\n",
            "|  21|                   11.36|             #Shorts Tazon que...|      PONGAMOSLO A PRU...|  MX|       2021-10-29|\n",
            "|  22|                   11.42|             #Shorts Tecnica p...|      PONGAMOSLO A PRU...|  MX|       2021-08-01|\n",
            "|  23|                   11.43|             #Shorts Tazon que...|      PONGAMOSLO A PRU...|  MX|       2021-10-29|\n",
            "|  24|                   11.44|             #Shorts Tazon que...|      PONGAMOSLO A PRU...|  MX|       2021-10-29|\n",
            "|  25|                   11.48|             #Shorts Tazon que...|      PONGAMOSLO A PRU...|  MX|       2021-10-29|\n",
            "|  26|                   11.54|             #Shorts Puse a pr...|      PONGAMOSLO A PRU...|  MX|       2021-10-31|\n",
            "|  27|                   11.55|             #Shorts Tecnica p...|      PONGAMOSLO A PRU...|  MX|       2021-08-01|\n",
            "|  28|                   11.63|             #Shorts Puse a pr...|      PONGAMOSLO A PRU...|  MX|       2021-10-31|\n",
            "|  29|                    11.7|             #Shorts Tecnica p...|      PONGAMOSLO A PRU...|  MX|       2021-08-01|\n",
            "|  30|                   11.77|             #Shorts Tazon que...|      PONGAMOSLO A PRU...|  MX|       2021-10-29|\n",
            "|  31|                   11.78|             #Shorts Puse a pr...|      PONGAMOSLO A PRU...|  MX|       2021-10-31|\n",
            "|  32|                   11.79|             #Shorts Truco par...|      PONGAMOSLO A PRU...|  MX|       2021-10-05|\n",
            "|  33|                   11.89|             #Shorts Tecnica p...|      PONGAMOSLO A PRU...|  MX|       2021-08-01|\n",
            "|  34|                    11.9|             #Shorts Truco par...|      PONGAMOSLO A PRU...|  MX|       2021-10-05|\n",
            "|  35|                   11.94|             #Shorts PRobe  Tr...|      PONGAMOSLO A PRU...|  MX|       2021-11-13|\n",
            "|  36|                   12.01|             #Shorts Esta maqu...|      PONGAMOSLO A PRU...|  MX|       2021-11-01|\n",
            "|  37|                   12.02|             #Shorts Truco par...|      PONGAMOSLO A PRU...|  MX|       2021-10-05|\n",
            "|  38|                   12.04|             #Shorts Esta maqu...|      PONGAMOSLO A PRU...|  MX|       2021-11-01|\n",
            "|  38|                   12.04|             #Shorts PRobe  Tr...|      PONGAMOSLO A PRU...|  MX|       2021-11-13|\n",
            "|  40|                   12.07|             #Shorts Puse a pr...|      PONGAMOSLO A PRU...|  MX|       2021-10-31|\n",
            "|  40|                   12.07|             #Shorts Esta maqu...|      PONGAMOSLO A PRU...|  MX|       2021-11-01|\n",
            "|  42|                   12.12|             #Shorts Truco par...|      PONGAMOSLO A PRU...|  MX|       2021-10-05|\n",
            "|  42|                   12.12|             #Shorts Esta maqu...|      PONGAMOSLO A PRU...|  MX|       2021-11-01|\n",
            "|  44|                   12.17|             #Shorts Esta maqu...|      PONGAMOSLO A PRU...|  MX|       2021-11-01|\n",
            "|  45|                   12.18|             #Shorts Tecnica p...|      PONGAMOSLO A PRU...|  MX|       2021-08-01|\n",
            "|  46|                   12.19|             Puse a prueba el ...|      PONGAMOSLO A PRU...|  MX|       2021-09-03|\n",
            "|  46|                   12.19|             Puse a prueba el ...|      PONGAMOSLO A PRU...|  MX|       2021-09-03|\n",
            "|  48|                    12.2|             Puse a prueba el ...|      PONGAMOSLO A PRU...|  MX|       2021-09-03|\n",
            "|  48|                    12.2|             #Shorts Esta maqu...|      PONGAMOSLO A PRU...|  MX|       2021-11-01|\n",
            "|  50|                   12.21|             Puse a prueba el ...|      PONGAMOSLO A PRU...|  MX|       2021-09-03|\n",
            "|  51|                   12.22|             Puse a prueba el ...|      PONGAMOSLO A PRU...|  MX|       2021-09-03|\n",
            "|  52|                   12.23|             Puse a prueba el ...|      PONGAMOSLO A PRU...|  MX|       2021-09-03|\n",
            "|  52|                   12.23|             #Shorts Esta maqu...|      PONGAMOSLO A PRU...|  MX|       2021-11-01|\n",
            "|  54|                   12.25|             #Shorts Truco par...|      PONGAMOSLO A PRU...|  MX|       2021-10-05|\n",
            "|  55|                   12.39|             #Shorts Esta maqu...|      PONGAMOSLO A PRU...|  MX|       2021-11-01|\n",
            "|  56|                    12.4|             #Shorts Tecnica p...|      PONGAMOSLO A PRU...|  MX|       2021-08-01|\n",
            "|  57|                   12.43|             #Shorts PRobe  Tr...|      PONGAMOSLO A PRU...|  MX|       2021-11-13|\n",
            "|  58|                   12.44|             #shorts Terno que...|      PONGAMOSLO A PRU...|  MX|       2021-07-22|\n",
            "|  59|                   12.52|             #Shorts Puse a pr...|      PONGAMOSLO A PRU...|  MX|       2021-10-31|\n",
            "|  60|                   12.63|             #shorts Terno que...|      PONGAMOSLO A PRU...|  MX|       2021-07-22|\n",
            "|  61|                   12.64|             Puse a prueba el ...|      PONGAMOSLO A PRU...|  MX|       2021-09-03|\n",
            "|  62|                   12.65|             #Shorts Puse a pr...|      PONGAMOSLO A PRU...|  MX|       2021-08-12|\n",
            "|  63|                   12.73|             #Shorts Puse a pr...|      PONGAMOSLO A PRU...|  MX|       2021-08-12|\n",
            "|  64|                   12.78|             #shorts Terno que...|      PONGAMOSLO A PRU...|  MX|       2021-07-22|\n",
            "|  65|                   12.88|             #Shorts Puse a pr...|      PONGAMOSLO A PRU...|  MX|       2021-08-12|\n",
            "|  65|                   12.88|             #Shorts Probé el ...|      PONGAMOSLO A PRU...|  MX|       2021-10-25|\n",
            "|  67|                   12.89|             #Shorts Truco par...|      PONGAMOSLO A PRU...|  MX|       2021-10-05|\n",
            "|  68|                    12.9|             #Shorts, puse a p...|      PONGAMOSLO A PRU...|  MX|       2021-08-09|\n",
            "|  69|                   12.95|             #Shorts, puse a p...|      PONGAMOSLO A PRU...|  MX|       2021-08-09|\n",
            "|  70|                   12.96|             #Shorts, puse a p...|      PONGAMOSLO A PRU...|  MX|       2021-08-09|\n",
            "|  71|                    13.0|             #shorts Terno que...|      PONGAMOSLO A PRU...|  MX|       2021-07-22|\n",
            "|  71|                    13.0|             #Shorts, puse a p...|      PONGAMOSLO A PRU...|  MX|       2021-08-09|\n",
            "|  71|                    13.0|             #Shorts Probé el ...|      PONGAMOSLO A PRU...|  MX|       2021-10-25|\n",
            "|  74|                   13.02|             #Shorts Puse a pr...|      PONGAMOSLO A PRU...|  MX|       2021-08-12|\n",
            "|  75|                   13.07|             #Shorts, puse a p...|      PONGAMOSLO A PRU...|  MX|       2021-08-09|\n",
            "|  76|                   13.16|             #Shorts Puse a pr...|      PONGAMOSLO A PRU...|  MX|       2021-10-31|\n",
            "|  77|                   13.19|             #Shorts Probé el ...|      PONGAMOSLO A PRU...|  MX|       2021-10-25|\n",
            "|  78|                   13.21|             #Shorts Puse a pr...|      PONGAMOSLO A PRU...|  MX|       2021-08-12|\n",
            "|  79|                   13.25|             #Shorts, puse a p...|      PONGAMOSLO A PRU...|  MX|       2021-08-09|\n",
            "|  80|                   13.37|             #Shorts Puse a pr...|      PONGAMOSLO A PRU...|  MX|       2021-08-12|\n",
            "|  81|                   13.39|             #Shorts Experimen...|      PONGAMOSLO A PRU...|  MX|       2021-11-07|\n",
            "|  82|                    13.4|             #shorts Terno que...|      PONGAMOSLO A PRU...|  MX|       2021-07-22|\n",
            "|  83|                   13.43|             #Shorts, puse a p...|      PONGAMOSLO A PRU...|  MX|       2021-08-09|\n",
            "|  84|                   13.45|             #Shorts PRobe  Tr...|      PONGAMOSLO A PRU...|  MX|       2021-11-13|\n",
            "|  85|                   13.47|             #Shorts Experimen...|      PONGAMOSLO A PRU...|  MX|       2021-11-07|\n",
            "|  86|                   13.57|             #Shorts Experimen...|      PONGAMOSLO A PRU...|  MX|       2021-11-07|\n",
            "|  87|                   13.65|             cocinar en una bo...|      PONGAMOSLO A PRU...|  MX|       2021-11-15|\n",
            "|  88|                   13.66|             #Shorts Puse a pr...|      PONGAMOSLO A PRU...|  MX|       2021-08-12|\n",
            "|  89|                   13.68|             #Shorts Experimen...|      PONGAMOSLO A PRU...|  MX|       2021-11-07|\n",
            "|  90|                   13.76|             #Shorts Puse a pr...|      PONGAMOSLO A PRU...|  MX|       2021-08-12|\n",
            "|  91|                    13.8|             #Shorts, puse a p...|      PONGAMOSLO A PRU...|  MX|       2021-08-09|\n",
            "|  91|                    13.8|             #Shorts Experimen...|      PONGAMOSLO A PRU...|  MX|       2021-11-07|\n",
            "|  93|                   13.82|             #Shorts Probé el ...|      PONGAMOSLO A PRU...|  MX|       2021-10-25|\n",
            "|  94|                   13.87|             #shorts Terno que...|      PONGAMOSLO A PRU...|  MX|       2021-07-22|\n",
            "|  95|                   14.02|             #Shorts Puse a pr...|      PONGAMOSLO A PRU...|  MX|       2021-10-31|\n",
            "|  96|                   14.03|             #Shorts Experimen...|      PONGAMOSLO A PRU...|  MX|       2021-11-07|\n",
            "|  97|                   14.17|             #Shorts Puse a pr...|      PONGAMOSLO A PRU...|  MX|       2021-10-31|\n",
            "|  98|                   14.27|             cocinar en una bo...|      PONGAMOSLO A PRU...|  MX|       2021-11-15|\n",
            "|  99|                   14.29|             Inovador invento ...|      PONGAMOSLO A PRU...|  MX|       2021-09-22|\n",
            "| 100|                   14.37|             #Shorts Experimen...|      PONGAMOSLO A PRU...|  MX|       2021-11-07|\n",
            "| 101|                   14.41|             Inovador invento ...|      PONGAMOSLO A PRU...|  MX|       2021-09-22|\n",
            "| 102|                   14.54|             Inovador invento ...|      PONGAMOSLO A PRU...|  MX|       2021-09-22|\n",
            "| 103|                   14.57|             #Shorts Probé el ...|      PONGAMOSLO A PRU...|  MX|       2021-10-25|\n",
            "| 104|                   14.62|             Inovador invento ...|      PONGAMOSLO A PRU...|  MX|       2021-09-22|\n",
            "| 105|                   14.64|             #Shorts Experimen...|      PONGAMOSLO A PRU...|  MX|       2021-11-07|\n",
            "| 106|                   14.76|             Genial truco para...|      PONGAMOSLO A PRU...|  MX|       2021-09-22|\n",
            "| 107|                   14.79|             Inovador invento ...|      PONGAMOSLO A PRU...|  MX|       2021-09-22|\n",
            "| 108|                   15.06|             Inovador invento ...|      PONGAMOSLO A PRU...|  MX|       2021-09-22|\n",
            "| 109|                   15.24|             #Shorts Probé el ...|      PONGAMOSLO A PRU...|  MX|       2021-10-25|\n",
            "| 110|                   15.35|             #Shorts Truco par...|      PONGAMOSLO A PRU...|  MX|       2021-10-05|\n",
            "| 111|                    15.4|             #Shorts Probé el ...|      PONGAMOSLO A PRU...|  MX|       2021-10-25|\n",
            "| 112|                   15.54|             Inovador invento ...|      PONGAMOSLO A PRU...|  MX|       2021-09-22|\n",
            "| 113|                    15.8|             #Shorts Truco par...|      PONGAMOSLO A PRU...|  MX|       2021-10-05|\n",
            "|   1|                    0.32|                 Мы переживём всё|          #2Mashi - Topic|  RU|       2020-10-22|\n",
            "|   2|                    0.51|                 Мы переживём всё|          #2Mashi - Topic|  RU|       2020-10-22|\n",
            "|   1|                    4.54|             Malik Montana fea...|                  #GM2LTV|  DE|       2021-03-05|\n",
            "|   2|                    5.12|             Malik Montana fea...|                  #GM2LTV|  DE|       2021-03-05|\n",
            "|   3|                    6.04|             Malik Montana fea...|                  #GM2LTV|  DE|       2021-03-05|\n",
            "|   4|                    7.23|             Alberto - Czarny ...|                  #GM2LTV|  DE|       2020-11-23|\n",
            "|   5|                     8.0|             Malik Montana fea...|                  #GM2LTV|  DE|       2021-03-05|\n",
            "|   6|                     8.4|             Alberto - Czarny ...|                  #GM2LTV|  DE|       2020-11-23|\n",
            "|   7|                   10.24|             Alberto - Czarny ...|                  #GM2LTV|  DE|       2020-11-23|\n",
            "|   8|                   13.93|             Eight O x Malik M...|                  #GM2LTV|  DE|       2020-10-09|\n",
            "|   1|                     2.9|             ФИНАЛ ЕВРО 2020: ...|              #KYIVSTONER|  RU|       2021-07-11|\n",
            "|   2|                    4.55|             БАСТА и МИЛЯ: про...|              #KYIVSTONER|  RU|       2021-06-26|\n",
            "|   3|                    5.18|             Сережа 0001к: ЕВР...|              #KYIVSTONER|  RU|       2021-06-20|\n",
            "|   4|                     5.7|             БАСТА и МИЛЯ: про...|              #KYIVSTONER|  RU|       2021-06-26|\n",
            "|   5|                    8.05|             Сережа 0001к: ЕВР...|              #KYIVSTONER|  RU|       2021-06-20|\n",
            "|   1|                    0.53|   퍼거슨 감독이 진짜 미쳤던 시절|#Like_Football 라이크풋볼|  KR|       2021-01-02|\n",
            "|   1|                    0.53|   퍼거슨 감독이 진짜 미쳤던 시절|#Like_Football 라이크풋볼|  KR|       2021-01-02|\n",
            "|   1|                    0.53|   퍼거슨 감독이 진짜 미쳤던 시절|#Like_Football 라이크풋볼|  KR|       2021-01-02|\n",
            "|   1|                    0.53|   퍼거슨 감독이 진짜 미쳤던 시절|#Like_Football 라이크풋볼|  KR|       2021-01-02|\n",
            "|   5|                    0.55|   퍼거슨 감독이 진짜 미쳤던 시절|#Like_Football 라이크풋볼|  KR|       2021-01-02|\n",
            "|   6|                    0.56|   퍼거슨 감독이 진짜 미쳤던 시절|#Like_Football 라이크풋볼|  KR|       2021-01-02|\n",
            "|   7|                    0.61|   퍼거슨 감독이 진짜 미쳤던 시절|#Like_Football 라이크풋볼|  KR|       2021-01-02|\n",
            "|   8|                    0.64|   퍼거슨 감독이 진짜 미쳤던 시절|#Like_Football 라이크풋볼|  KR|       2021-01-02|\n",
            "|   9|                    1.02|  [축구 전술 분석] 이강인의 최...|#Like_Football 라이크풋볼|  KR|       2020-11-20|\n",
            "|  10|                    1.03|  [축구 전술 분석] 이강인의 최...|#Like_Football 라이크풋볼|  KR|       2020-11-20|\n",
            "|  10|                    1.03|  [축구 전술 분석] 이강인의 최...|#Like_Football 라이크풋볼|  KR|       2020-11-20|\n",
            "|  12|                    1.04|  [축구 전술 분석] 이강인의 최...|#Like_Football 라이크풋볼|  KR|       2020-11-20|\n",
            "|  13|                    1.05|  [축구 전술 분석] 이강인의 최...|#Like_Football 라이크풋볼|  KR|       2020-11-20|\n",
            "|  14|                    1.11|  [축구 전술 분석] 이강인의 최...|#Like_Football 라이크풋볼|  KR|       2020-11-20|\n",
            "|   1|                    2.24|             Die größten Mensc...|        #Mentale Zuflucht|  DE|       2020-08-12|\n",
            "|   2|                    2.35|             Die größten Mensc...|        #Mentale Zuflucht|  DE|       2020-08-12|\n",
            "|   2|                    2.35|             Die größten Mensc...|        #Mentale Zuflucht|  DE|       2020-08-12|\n",
            "|   4|                    2.36|             Die größten Mensc...|        #Mentale Zuflucht|  DE|       2020-08-12|\n",
            "|   1|                    3.11|             Coisas de Tirar o...|          #Refúgio Mental|  BR|       2021-04-27|\n",
            "|   2|                    3.13|             Coisas de Tirar o...|          #Refúgio Mental|  BR|       2021-04-27|\n",
            "|   3|                    3.16|             Coisas de Tirar o...|          #Refúgio Mental|  BR|       2021-04-27|\n",
            "|   4|                     3.2|             Coisas de Tirar o...|          #Refúgio Mental|  BR|       2021-04-27|\n",
            "|   5|                    3.27|             Coisas de Tirar o...|          #Refúgio Mental|  BR|       2021-04-27|\n",
            "|   6|                    3.36|             Coisas de Tirar o...|          #Refúgio Mental|  BR|       2021-04-27|\n",
            "|   7|                    3.46|             Coisas de Tirar o...|          #Refúgio Mental|  BR|       2021-04-27|\n",
            "|   8|                     3.6|             Coisas de Tirar o...|          #Refúgio Mental|  BR|       2021-04-27|\n",
            "|   9|                    4.38|             A Trágica Verdade...|          #Refúgio Mental|  BR|       2021-01-14|\n",
            "|  10|                    4.45|             A Trágica Verdade...|          #Refúgio Mental|  BR|       2021-01-14|\n",
            "|  11|                    4.53|             A Trágica Verdade...|          #Refúgio Mental|  BR|       2021-01-14|\n",
            "|  12|                    4.56|             Coisas de Tirar o...|          #Refúgio Mental|  BR|       2021-04-27|\n",
            "|  13|                    4.64|             A Trágica Verdade...|          #Refúgio Mental|  BR|       2021-01-14|\n",
            "|  14|                    4.79|             A Trágica Verdade...|          #Refúgio Mental|  BR|       2021-01-14|\n",
            "|  15|                    5.08|             A Trágica Verdade...|          #Refúgio Mental|  BR|       2021-01-14|\n",
            "|  16|                    5.41|             A Trágica Verdade...|          #Refúgio Mental|  BR|       2021-01-14|\n",
            "|  17|                    5.83|             A Trágica Verdade...|          #Refúgio Mental|  BR|       2021-01-14|\n",
            "|   1|                    1.77|             deadlift exercise...|       #RohiL Fitness Yug|  IN|       2021-03-26|\n",
            "|   2|                     1.8|             deadlift exercise...|       #RohiL Fitness Yug|  IN|       2021-03-26|\n",
            "|   3|                    1.88|             deadlift exercise...|       #RohiL Fitness Yug|  IN|       2021-03-26|\n",
            "|   4|                    2.08|             deadlift exercise...|       #RohiL Fitness Yug|  IN|       2021-03-26|\n",
            "|   1|                    0.91| 김영광 앞에 두고 팬티 쇼핑썰 ...|                #ing 샾잉|  KR|       2020-10-23|\n",
            "|   2|                    0.93| 김영광 앞에 두고 팬티 쇼핑썰 ...|                #ing 샾잉|  KR|       2020-10-23|\n",
            "|   3|                    0.98| 꼬리 숨기는 것도 종종 까먹는 ...|                #ing 샾잉|  KR|       2020-10-26|\n",
            "|   4|                    0.99| 김영광 앞에 두고 팬티 쇼핑썰 ...|                #ing 샾잉|  KR|       2020-10-23|\n",
            "|   4|                    0.99| 꼬리 숨기는 것도 종종 까먹는 ...|                #ing 샾잉|  KR|       2020-10-26|\n",
            "|   4|                    0.99| 꼬리 숨기는 것도 종종 까먹는 ...|                #ing 샾잉|  KR|       2020-10-26|\n",
            "|   4|                    0.99| 꼬리 숨기는 것도 종종 까먹는 ...|                #ing 샾잉|  KR|       2020-10-26|\n",
            "|   8|                    1.02|숨듣명 콘서트 때문에 모인 티아...|                #ing 샾잉|  KR|       2020-10-13|\n",
            "|   8|                    1.02|숨듣명 콘서트 때문에 모인 티아...|                #ing 샾잉|  KR|       2020-10-13|\n",
            "|   8|                    1.02|숨듣명 콘서트 때문에 모인 티아...|                #ing 샾잉|  KR|       2020-10-13|\n",
            "|  11|                    1.03|숨듣명 콘서트 때문에 모인 티아...|                #ing 샾잉|  KR|       2020-10-13|\n",
            "|  11|                    1.03|숨듣명 콘서트 때문에 모인 티아...|                #ing 샾잉|  KR|       2020-10-13|\n",
            "|  13|                    1.05| 김영광 앞에 두고 팬티 쇼핑썰 ...|                #ing 샾잉|  KR|       2020-10-23|\n",
            "|  14|                    1.11|숨듣명 콘서트 때문에 모인 티아...|                #ing 샾잉|  KR|       2020-10-13|\n",
            "|  15|                    1.14| 꼬리 숨기는 것도 종종 까먹는 ...|                #ing 샾잉|  KR|       2020-10-26|\n",
            "|  16|                     1.2|숨듣명 콘서트 때문에 모인 티아...|                #ing 샾잉|  KR|       2020-10-13|\n",
            "|   1|                     8.2|             $UICIDEBOY$ - If ...|              $uicideboy$|  US|       2021-08-13|\n",
            "|   2|                    9.06|             $UICIDEBOY$ - If ...|              $uicideboy$|  US|       2021-08-13|\n",
            "|   3|                   10.31|             $UICIDEBOY$ - If ...|              $uicideboy$|  US|       2021-08-13|\n",
            "|   4|                   11.64|             $UICIDEBOY$ - Deg...|              $uicideboy$|  RU|       2021-08-13|\n",
            "|   5|                   12.59|             $UICIDEBOY$ - If ...|              $uicideboy$|  RU|       2021-08-13|\n",
            "|   1|                    0.19|                       죄송합니다|     (MUTUBE)와꾸대장봉준|  KR|       2021-05-09|\n",
            "|   1|                    0.19|                       죄송합니다|     (MUTUBE)와꾸대장봉준|  KR|       2021-05-09|\n",
            "|   3|                     0.2|                       죄송합니다|     (MUTUBE)와꾸대장봉준|  KR|       2021-05-09|\n",
            "|   3|                     0.2|                       죄송합니다|     (MUTUBE)와꾸대장봉준|  KR|       2021-05-09|\n",
            "|   3|                     0.2|                       죄송합니다|     (MUTUBE)와꾸대장봉준|  KR|       2021-05-09|\n",
            "|   3|                     0.2|                       죄송합니다|     (MUTUBE)와꾸대장봉준|  KR|       2021-05-09|\n",
            "|   7|                    0.21|                       죄송합니다|     (MUTUBE)와꾸대장봉준|  KR|       2021-05-09|\n",
            "|   7|                    0.21|                       죄송합니다|     (MUTUBE)와꾸대장봉준|  KR|       2021-05-09|\n",
            "|   9|                    0.23|                       죄송합니다|     (MUTUBE)와꾸대장봉준|  KR|       2021-05-09|\n",
            "|  10|                    0.25|                       죄송합니다|     (MUTUBE)와꾸대장봉준|  KR|       2021-05-09|\n",
            "|  11|                    0.35|                       죄송합니다|     (MUTUBE)와꾸대장봉준|  KR|       2021-05-09|\n",
            "|  12|                     0.7|   야이C... 벗으려면 벗고 입을...|     (MUTUBE)와꾸대장봉준|  KR|       2020-09-08|\n",
            "+----+------------------------+---------------------------------+-------------------------+----+-----------------+\n",
            "only showing top 200 rows\n",
            "\n"
          ]
        }
      ]
    },
    {
      "cell_type": "code",
      "metadata": {
        "colab": {
          "base_uri": "https://localhost:8080/"
        },
        "id": "LdXPLo4URNNE",
        "outputId": "c451885f-ec13-4f59-ede7-56dee95babfa"
      },
      "source": [
        "#RANK DOS VÍDEOS COM MAIS DESCURTIDA/VISUALIZAÇÃO EM UM CANAL\n",
        "w0 = Window.partitionBy(F.col(\"nome_canal\")).orderBy(\"deslike_por_visualizacao_100\")\n",
        "\n",
        "(df.withColumn(\"RANK\",F.row_number().over(w0))\n",
        "  .withColumn(\"descurtida_por_visualizacao\",F.max(F.col(\"deslike_por_visualizacao_100\")).over(w0))\n",
        "\n",
        "  .select(\"RANK\",\"descurtida_por_visualizacao\",'titulo_video','nome_canal',\"pais\",\"publicado_em_data\").show(200)\n",
        ")"
      ],
      "execution_count": null,
      "outputs": [
        {
          "output_type": "stream",
          "name": "stdout",
          "text": [
            "+----+---------------------------+---------------------------------+-------------------------+----+-----------------+\n",
            "|RANK|descurtida_por_visualizacao|                     titulo_video|               nome_canal|pais|publicado_em_data|\n",
            "+----+---------------------------+---------------------------------+-------------------------+----+-----------------+\n",
            "|   1|                       0.11|             #Shorts, puse a p...|      PONGAMOSLO A PRU...|  MX|       2021-08-09|\n",
            "|   2|                       0.11|             #Shorts, puse a p...|      PONGAMOSLO A PRU...|  MX|       2021-08-09|\n",
            "|   3|                       0.11|             #Shorts Puse a pr...|      PONGAMOSLO A PRU...|  MX|       2021-08-12|\n",
            "|   4|                       0.11|             #Shorts, puse a p...|      PONGAMOSLO A PRU...|  MX|       2021-08-09|\n",
            "|   5|                       0.11|             #Shorts Puse a pr...|      PONGAMOSLO A PRU...|  MX|       2021-08-12|\n",
            "|   6|                       0.11|             #Shorts, puse a p...|      PONGAMOSLO A PRU...|  MX|       2021-08-09|\n",
            "|   7|                       0.11|             #Shorts Puse a pr...|      PONGAMOSLO A PRU...|  MX|       2021-08-12|\n",
            "|   8|                       0.11|             #Shorts, puse a p...|      PONGAMOSLO A PRU...|  MX|       2021-08-09|\n",
            "|   9|                       0.11|             #Shorts Puse a pr...|      PONGAMOSLO A PRU...|  MX|       2021-08-12|\n",
            "|  10|                       0.11|             #Shorts, puse a p...|      PONGAMOSLO A PRU...|  MX|       2021-08-09|\n",
            "|  11|                       0.11|             #Shorts Puse a pr...|      PONGAMOSLO A PRU...|  MX|       2021-08-12|\n",
            "|  12|                       0.11|             #Shorts, puse a p...|      PONGAMOSLO A PRU...|  MX|       2021-08-09|\n",
            "|  13|                       0.11|             #Shorts Puse a pr...|      PONGAMOSLO A PRU...|  MX|       2021-08-12|\n",
            "|  14|                       0.11|             #Shorts, puse a p...|      PONGAMOSLO A PRU...|  MX|       2021-08-09|\n",
            "|  15|                       0.11|             #Shorts Puse a pr...|      PONGAMOSLO A PRU...|  MX|       2021-08-12|\n",
            "|  16|                       0.11|             #Shorts Puse a pr...|      PONGAMOSLO A PRU...|  MX|       2021-08-12|\n",
            "|  17|                       0.11|             Puse a prueba el ...|      PONGAMOSLO A PRU...|  MX|       2021-09-03|\n",
            "|  18|                       0.12|             #shorts Terno que...|      PONGAMOSLO A PRU...|  MX|       2021-07-22|\n",
            "|  19|                       0.12|             #shorts Terno que...|      PONGAMOSLO A PRU...|  MX|       2021-07-22|\n",
            "|  20|                       0.12|             #shorts Terno que...|      PONGAMOSLO A PRU...|  MX|       2021-07-22|\n",
            "|  21|                       0.12|             Puse a prueba el ...|      PONGAMOSLO A PRU...|  MX|       2021-09-03|\n",
            "|  22|                       0.12|             Genial truco para...|      PONGAMOSLO A PRU...|  MX|       2021-09-22|\n",
            "|  23|                       0.12|             Inovador invento ...|      PONGAMOSLO A PRU...|  MX|       2021-09-22|\n",
            "|  24|                       0.12|             Inovador invento ...|      PONGAMOSLO A PRU...|  MX|       2021-09-22|\n",
            "|  25|                       0.12|             #Shorts Probé el ...|      PONGAMOSLO A PRU...|  MX|       2021-10-25|\n",
            "|  26|                       0.12|             #Shorts Probé el ...|      PONGAMOSLO A PRU...|  MX|       2021-10-25|\n",
            "|  27|                       0.12|             #Shorts Probé el ...|      PONGAMOSLO A PRU...|  MX|       2021-10-25|\n",
            "|  28|                       0.12|             #Shorts Probé el ...|      PONGAMOSLO A PRU...|  MX|       2021-10-25|\n",
            "|  29|                       0.13|             #shorts Terno que...|      PONGAMOSLO A PRU...|  MX|       2021-07-22|\n",
            "|  30|                       0.13|             #shorts Terno que...|      PONGAMOSLO A PRU...|  MX|       2021-07-22|\n",
            "|  31|                       0.13|             #shorts Terno que...|      PONGAMOSLO A PRU...|  MX|       2021-07-22|\n",
            "|  32|                       0.13|             #Shorts Tecnica p...|      PONGAMOSLO A PRU...|  MX|       2021-08-01|\n",
            "|  33|                       0.13|             Puse a prueba el ...|      PONGAMOSLO A PRU...|  MX|       2021-09-03|\n",
            "|  34|                       0.13|             Puse a prueba el ...|      PONGAMOSLO A PRU...|  MX|       2021-09-03|\n",
            "|  35|                       0.13|             Inovador invento ...|      PONGAMOSLO A PRU...|  MX|       2021-09-22|\n",
            "|  36|                       0.13|             Inovador invento ...|      PONGAMOSLO A PRU...|  MX|       2021-09-22|\n",
            "|  37|                       0.13|             Inovador invento ...|      PONGAMOSLO A PRU...|  MX|       2021-09-22|\n",
            "|  38|                       0.13|             Inovador invento ...|      PONGAMOSLO A PRU...|  MX|       2021-09-22|\n",
            "|  39|                       0.13|             Inovador invento ...|      PONGAMOSLO A PRU...|  MX|       2021-09-22|\n",
            "|  40|                       0.13|             #Shorts ¿Es esta ...|      PONGAMOSLO A PRU...|  MX|       2021-10-07|\n",
            "|  41|                       0.13|             #Shorts ¿Es esta ...|      PONGAMOSLO A PRU...|  MX|       2021-10-07|\n",
            "|  42|                       0.13|             #Shorts ¿Es esta ...|      PONGAMOSLO A PRU...|  MX|       2021-10-07|\n",
            "|  43|                       0.13|             #Shorts ¿Es esta ...|      PONGAMOSLO A PRU...|  MX|       2021-10-07|\n",
            "|  44|                       0.13|             #Shorts ¿Es esta ...|      PONGAMOSLO A PRU...|  MX|       2021-10-07|\n",
            "|  45|                       0.13|             #Shorts Probé el ...|      PONGAMOSLO A PRU...|  MX|       2021-10-25|\n",
            "|  46|                       0.13|             #Shorts Probé el ...|      PONGAMOSLO A PRU...|  MX|       2021-10-25|\n",
            "|  47|                       0.13|             #Shorts Probé el ...|      PONGAMOSLO A PRU...|  MX|       2021-10-25|\n",
            "|  48|                       0.14|             #Shorts Tecnica p...|      PONGAMOSLO A PRU...|  MX|       2021-08-01|\n",
            "|  49|                       0.14|             #Shorts Tecnica p...|      PONGAMOSLO A PRU...|  MX|       2021-08-01|\n",
            "|  50|                       0.14|             #Shorts Tecnica p...|      PONGAMOSLO A PRU...|  MX|       2021-08-01|\n",
            "|  51|                       0.14|             #Shorts Tecnica p...|      PONGAMOSLO A PRU...|  MX|       2021-08-01|\n",
            "|  52|                       0.14|             #Shorts Tecnica p...|      PONGAMOSLO A PRU...|  MX|       2021-08-01|\n",
            "|  53|                       0.14|             #Shorts Tecnica p...|      PONGAMOSLO A PRU...|  MX|       2021-08-01|\n",
            "|  54|                       0.14|             #Shorts Tecnica p...|      PONGAMOSLO A PRU...|  MX|       2021-08-01|\n",
            "|  55|                       0.14|             #Shorts Tecnica p...|      PONGAMOSLO A PRU...|  MX|       2021-08-01|\n",
            "|  56|                       0.14|             Puse a prueba el ...|      PONGAMOSLO A PRU...|  MX|       2021-09-03|\n",
            "|  57|                       0.14|             Puse a prueba el ...|      PONGAMOSLO A PRU...|  MX|       2021-09-03|\n",
            "|  58|                       0.14|             Puse a prueba el ...|      PONGAMOSLO A PRU...|  MX|       2021-09-03|\n",
            "|  59|                       0.14|             #Shorts ¿Es esta ...|      PONGAMOSLO A PRU...|  MX|       2021-10-07|\n",
            "|  60|                       0.14|             #Shorts ¿Es esta ...|      PONGAMOSLO A PRU...|  MX|       2021-10-07|\n",
            "|  61|                       0.14|             #Shorts Puse a pr...|      PONGAMOSLO A PRU...|  MX|       2021-10-31|\n",
            "|  62|                       0.14|             #Shorts Esta maqu...|      PONGAMOSLO A PRU...|  MX|       2021-11-01|\n",
            "|  63|                       0.14|             #Shorts Esta maqu...|      PONGAMOSLO A PRU...|  MX|       2021-11-01|\n",
            "|  64|                       0.14|             #Shorts Esta maqu...|      PONGAMOSLO A PRU...|  MX|       2021-11-01|\n",
            "|  65|                       0.14|             #Shorts Esta maqu...|      PONGAMOSLO A PRU...|  MX|       2021-11-01|\n",
            "|  66|                       0.14|             #Shorts Esta maqu...|      PONGAMOSLO A PRU...|  MX|       2021-11-01|\n",
            "|  67|                       0.14|             #Shorts Esta maqu...|      PONGAMOSLO A PRU...|  MX|       2021-11-01|\n",
            "|  68|                       0.15|             #Shorts ¿Es esta ...|      PONGAMOSLO A PRU...|  MX|       2021-10-07|\n",
            "|  69|                       0.15|             #Shorts Truco par...|      PONGAMOSLO A PRU...|  MX|       2021-10-05|\n",
            "|  70|                       0.15|             #Shorts Puse a pr...|      PONGAMOSLO A PRU...|  MX|       2021-10-31|\n",
            "|  71|                       0.15|             #Shorts Esta maqu...|      PONGAMOSLO A PRU...|  MX|       2021-11-01|\n",
            "|  72|                       0.15|             #Shorts Experimen...|      PONGAMOSLO A PRU...|  MX|       2021-11-07|\n",
            "|  73|                       0.15|             #Shorts Experimen...|      PONGAMOSLO A PRU...|  MX|       2021-11-07|\n",
            "|  74|                       0.15|             #Shorts Experimen...|      PONGAMOSLO A PRU...|  MX|       2021-11-07|\n",
            "|  75|                       0.15|             #Shorts Experimen...|      PONGAMOSLO A PRU...|  MX|       2021-11-07|\n",
            "|  76|                       0.15|             #Shorts Experimen...|      PONGAMOSLO A PRU...|  MX|       2021-11-07|\n",
            "|  77|                       0.15|             #Shorts Experimen...|      PONGAMOSLO A PRU...|  MX|       2021-11-07|\n",
            "|  78|                       0.15|             #Shorts Experimen...|      PONGAMOSLO A PRU...|  MX|       2021-11-07|\n",
            "|  79|                       0.15|             #Shorts Experimen...|      PONGAMOSLO A PRU...|  MX|       2021-11-07|\n",
            "|  80|                       0.16|             #Shorts Truco par...|      PONGAMOSLO A PRU...|  MX|       2021-10-05|\n",
            "|  81|                       0.16|             #Shorts Truco par...|      PONGAMOSLO A PRU...|  MX|       2021-10-05|\n",
            "|  82|                       0.16|             #Shorts Truco par...|      PONGAMOSLO A PRU...|  MX|       2021-10-05|\n",
            "|  83|                       0.16|             #Shorts Truco par...|      PONGAMOSLO A PRU...|  MX|       2021-10-05|\n",
            "|  84|                       0.16|             #Shorts Esta maqu...|      PONGAMOSLO A PRU...|  MX|       2021-11-01|\n",
            "|  85|                       0.16|             cocinar en una bo...|      PONGAMOSLO A PRU...|  MX|       2021-11-15|\n",
            "|  86|                       0.16|             cocinar en una bo...|      PONGAMOSLO A PRU...|  MX|       2021-11-15|\n",
            "|  87|                       0.17|             #Shorts Truco par...|      PONGAMOSLO A PRU...|  MX|       2021-10-05|\n",
            "|  88|                       0.17|             #Shorts Tazon que...|      PONGAMOSLO A PRU...|  MX|       2021-10-29|\n",
            "|  89|                       0.17|             #Shorts Tazon que...|      PONGAMOSLO A PRU...|  MX|       2021-10-29|\n",
            "|  90|                       0.17|             #Shorts Tazon que...|      PONGAMOSLO A PRU...|  MX|       2021-10-29|\n",
            "|  91|                       0.17|             #Shorts Tazon que...|      PONGAMOSLO A PRU...|  MX|       2021-10-29|\n",
            "|  92|                       0.17|             #Shorts Puse a pr...|      PONGAMOSLO A PRU...|  MX|       2021-10-31|\n",
            "|  93|                       0.17|             #Shorts Tazon que...|      PONGAMOSLO A PRU...|  MX|       2021-10-29|\n",
            "|  94|                       0.17|             #Shorts Tazon que...|      PONGAMOSLO A PRU...|  MX|       2021-10-29|\n",
            "|  95|                       0.17|             #Shorts Tazon que...|      PONGAMOSLO A PRU...|  MX|       2021-10-29|\n",
            "|  96|                       0.17|             #Shorts PRobe  Tr...|      PONGAMOSLO A PRU...|  MX|       2021-11-13|\n",
            "|  97|                       0.17|             #Shorts PRobe  Tr...|      PONGAMOSLO A PRU...|  MX|       2021-11-13|\n",
            "|  98|                       0.17|             #Shorts PRobe  Tr...|      PONGAMOSLO A PRU...|  MX|       2021-11-13|\n",
            "|  99|                       0.18|             #Shorts Truco par...|      PONGAMOSLO A PRU...|  MX|       2021-10-05|\n",
            "| 100|                       0.18|             #Shorts Truco par...|      PONGAMOSLO A PRU...|  MX|       2021-10-05|\n",
            "| 101|                       0.18|             #Shorts Puse a pr...|      PONGAMOSLO A PRU...|  MX|       2021-10-31|\n",
            "| 102|                       0.18|             #Shorts PRobe  Tr...|      PONGAMOSLO A PRU...|  MX|       2021-11-13|\n",
            "| 103|                       0.19|             #Shorts Puse a pr...|      PONGAMOSLO A PRU...|  MX|       2021-10-31|\n",
            "| 104|                       0.19|             #Shorts Puse a pr...|      PONGAMOSLO A PRU...|  MX|       2021-10-31|\n",
            "| 105|                       0.19|             #Shorts Puse a pr...|      PONGAMOSLO A PRU...|  MX|       2021-10-31|\n",
            "| 106|                       0.19|             #Shorts Puse a pr...|      PONGAMOSLO A PRU...|  MX|       2021-10-31|\n",
            "| 107|                        0.2|             #Shorts ¿El mejor...|      PONGAMOSLO A PRU...|  MX|       2021-11-09|\n",
            "| 108|                        0.2|             #Shorts ¿El mejor...|      PONGAMOSLO A PRU...|  MX|       2021-11-09|\n",
            "| 109|                       0.21|             #Shorts ¿El mejor...|      PONGAMOSLO A PRU...|  MX|       2021-11-09|\n",
            "| 110|                       0.21|             #Shorts ¿El mejor...|      PONGAMOSLO A PRU...|  MX|       2021-11-09|\n",
            "| 111|                       0.21|             #Shorts ¿El mejor...|      PONGAMOSLO A PRU...|  MX|       2021-11-09|\n",
            "| 112|                       0.21|             #Shorts ¿El mejor...|      PONGAMOSLO A PRU...|  MX|       2021-11-09|\n",
            "| 113|                       0.21|             #Shorts ¿El mejor...|      PONGAMOSLO A PRU...|  MX|       2021-11-09|\n",
            "|   1|                        0.1|                 Мы переживём всё|          #2Mashi - Topic|  RU|       2020-10-22|\n",
            "|   2|                       0.16|                 Мы переживём всё|          #2Mashi - Topic|  RU|       2020-10-22|\n",
            "|   1|                       0.22|             Alberto - Czarny ...|                  #GM2LTV|  DE|       2020-11-23|\n",
            "|   2|                       0.25|             Alberto - Czarny ...|                  #GM2LTV|  DE|       2020-11-23|\n",
            "|   3|                       0.28|             Alberto - Czarny ...|                  #GM2LTV|  DE|       2020-11-23|\n",
            "|   4|                       0.28|             Malik Montana fea...|                  #GM2LTV|  DE|       2021-03-05|\n",
            "|   5|                        0.3|             Malik Montana fea...|                  #GM2LTV|  DE|       2021-03-05|\n",
            "|   6|                       0.32|             Malik Montana fea...|                  #GM2LTV|  DE|       2021-03-05|\n",
            "|   7|                       0.36|             Eight O x Malik M...|                  #GM2LTV|  DE|       2020-10-09|\n",
            "|   8|                       0.36|             Malik Montana fea...|                  #GM2LTV|  DE|       2021-03-05|\n",
            "|   1|                       0.18|             БАСТА и МИЛЯ: про...|              #KYIVSTONER|  RU|       2021-06-26|\n",
            "|   2|                        0.2|             БАСТА и МИЛЯ: про...|              #KYIVSTONER|  RU|       2021-06-26|\n",
            "|   3|                       0.25|             ФИНАЛ ЕВРО 2020: ...|              #KYIVSTONER|  RU|       2021-07-11|\n",
            "|   4|                       0.31|             Сережа 0001к: ЕВР...|              #KYIVSTONER|  RU|       2021-06-20|\n",
            "|   5|                       0.34|             Сережа 0001к: ЕВР...|              #KYIVSTONER|  RU|       2021-06-20|\n",
            "|   1|                       0.02|   퍼거슨 감독이 진짜 미쳤던 시절|#Like_Football 라이크풋볼|  KR|       2021-01-02|\n",
            "|   2|                       0.03|  [축구 전술 분석] 이강인의 최...|#Like_Football 라이크풋볼|  KR|       2020-11-20|\n",
            "|   3|                       0.03|  [축구 전술 분석] 이강인의 최...|#Like_Football 라이크풋볼|  KR|       2020-11-20|\n",
            "|   4|                       0.03|  [축구 전술 분석] 이강인의 최...|#Like_Football 라이크풋볼|  KR|       2020-11-20|\n",
            "|   5|                       0.03|  [축구 전술 분석] 이강인의 최...|#Like_Football 라이크풋볼|  KR|       2020-11-20|\n",
            "|   6|                       0.03|  [축구 전술 분석] 이강인의 최...|#Like_Football 라이크풋볼|  KR|       2020-11-20|\n",
            "|   7|                       0.03|  [축구 전술 분석] 이강인의 최...|#Like_Football 라이크풋볼|  KR|       2020-11-20|\n",
            "|   8|                       0.03|   퍼거슨 감독이 진짜 미쳤던 시절|#Like_Football 라이크풋볼|  KR|       2021-01-02|\n",
            "|   9|                       0.03|   퍼거슨 감독이 진짜 미쳤던 시절|#Like_Football 라이크풋볼|  KR|       2021-01-02|\n",
            "|  10|                       0.03|   퍼거슨 감독이 진짜 미쳤던 시절|#Like_Football 라이크풋볼|  KR|       2021-01-02|\n",
            "|  11|                       0.03|   퍼거슨 감독이 진짜 미쳤던 시절|#Like_Football 라이크풋볼|  KR|       2021-01-02|\n",
            "|  12|                       0.03|   퍼거슨 감독이 진짜 미쳤던 시절|#Like_Football 라이크풋볼|  KR|       2021-01-02|\n",
            "|  13|                       0.03|   퍼거슨 감독이 진짜 미쳤던 시절|#Like_Football 라이크풋볼|  KR|       2021-01-02|\n",
            "|  14|                       0.03|   퍼거슨 감독이 진짜 미쳤던 시절|#Like_Football 라이크풋볼|  KR|       2021-01-02|\n",
            "|   1|                       0.05|             Die größten Mensc...|        #Mentale Zuflucht|  DE|       2020-08-12|\n",
            "|   2|                       0.06|             Die größten Mensc...|        #Mentale Zuflucht|  DE|       2020-08-12|\n",
            "|   3|                       0.06|             Die größten Mensc...|        #Mentale Zuflucht|  DE|       2020-08-12|\n",
            "|   4|                       0.06|             Die größten Mensc...|        #Mentale Zuflucht|  DE|       2020-08-12|\n",
            "|   1|                       0.05|             Coisas de Tirar o...|          #Refúgio Mental|  BR|       2021-04-27|\n",
            "|   2|                       0.05|             Coisas de Tirar o...|          #Refúgio Mental|  BR|       2021-04-27|\n",
            "|   3|                       0.05|             Coisas de Tirar o...|          #Refúgio Mental|  BR|       2021-04-27|\n",
            "|   4|                       0.05|             Coisas de Tirar o...|          #Refúgio Mental|  BR|       2021-04-27|\n",
            "|   5|                       0.05|             Coisas de Tirar o...|          #Refúgio Mental|  BR|       2021-04-27|\n",
            "|   6|                       0.05|             Coisas de Tirar o...|          #Refúgio Mental|  BR|       2021-04-27|\n",
            "|   7|                       0.05|             Coisas de Tirar o...|          #Refúgio Mental|  BR|       2021-04-27|\n",
            "|   8|                       0.05|             Coisas de Tirar o...|          #Refúgio Mental|  BR|       2021-04-27|\n",
            "|   9|                       0.05|             Coisas de Tirar o...|          #Refúgio Mental|  BR|       2021-04-27|\n",
            "|  10|                       0.09|             A Trágica Verdade...|          #Refúgio Mental|  BR|       2021-01-14|\n",
            "|  11|                       0.09|             A Trágica Verdade...|          #Refúgio Mental|  BR|       2021-01-14|\n",
            "|  12|                       0.09|             A Trágica Verdade...|          #Refúgio Mental|  BR|       2021-01-14|\n",
            "|  13|                       0.09|             A Trágica Verdade...|          #Refúgio Mental|  BR|       2021-01-14|\n",
            "|  14|                       0.09|             A Trágica Verdade...|          #Refúgio Mental|  BR|       2021-01-14|\n",
            "|  15|                       0.09|             A Trágica Verdade...|          #Refúgio Mental|  BR|       2021-01-14|\n",
            "|  16|                       0.09|             A Trágica Verdade...|          #Refúgio Mental|  BR|       2021-01-14|\n",
            "|  17|                       0.09|             A Trágica Verdade...|          #Refúgio Mental|  BR|       2021-01-14|\n",
            "|   1|                       0.15|             deadlift exercise...|       #RohiL Fitness Yug|  IN|       2021-03-26|\n",
            "|   2|                       0.19|             deadlift exercise...|       #RohiL Fitness Yug|  IN|       2021-03-26|\n",
            "|   3|                        0.2|             deadlift exercise...|       #RohiL Fitness Yug|  IN|       2021-03-26|\n",
            "|   4|                        0.2|             deadlift exercise...|       #RohiL Fitness Yug|  IN|       2021-03-26|\n",
            "|   1|                       0.02| 꼬리 숨기는 것도 종종 까먹는 ...|                #ing 샾잉|  KR|       2020-10-26|\n",
            "|   2|                       0.02| 김영광 앞에 두고 팬티 쇼핑썰 ...|                #ing 샾잉|  KR|       2020-10-23|\n",
            "|   3|                       0.02| 꼬리 숨기는 것도 종종 까먹는 ...|                #ing 샾잉|  KR|       2020-10-26|\n",
            "|   4|                       0.02| 꼬리 숨기는 것도 종종 까먹는 ...|                #ing 샾잉|  KR|       2020-10-26|\n",
            "|   5|                       0.02| 꼬리 숨기는 것도 종종 까먹는 ...|                #ing 샾잉|  KR|       2020-10-26|\n",
            "|   6|                       0.02| 꼬리 숨기는 것도 종종 까먹는 ...|                #ing 샾잉|  KR|       2020-10-26|\n",
            "|   7|                       0.03| 김영광 앞에 두고 팬티 쇼핑썰 ...|                #ing 샾잉|  KR|       2020-10-23|\n",
            "|   8|                       0.03| 김영광 앞에 두고 팬티 쇼핑썰 ...|                #ing 샾잉|  KR|       2020-10-23|\n",
            "|   9|                       0.03| 김영광 앞에 두고 팬티 쇼핑썰 ...|                #ing 샾잉|  KR|       2020-10-23|\n",
            "|  10|                       0.04|숨듣명 콘서트 때문에 모인 티아...|                #ing 샾잉|  KR|       2020-10-13|\n",
            "|  11|                       0.04|숨듣명 콘서트 때문에 모인 티아...|                #ing 샾잉|  KR|       2020-10-13|\n",
            "|  12|                       0.04|숨듣명 콘서트 때문에 모인 티아...|                #ing 샾잉|  KR|       2020-10-13|\n",
            "|  13|                       0.04|숨듣명 콘서트 때문에 모인 티아...|                #ing 샾잉|  KR|       2020-10-13|\n",
            "|  14|                       0.04|숨듣명 콘서트 때문에 모인 티아...|                #ing 샾잉|  KR|       2020-10-13|\n",
            "|  15|                       0.04|숨듣명 콘서트 때문에 모인 티아...|                #ing 샾잉|  KR|       2020-10-13|\n",
            "|  16|                       0.05|숨듣명 콘서트 때문에 모인 티아...|                #ing 샾잉|  KR|       2020-10-13|\n",
            "|   1|                       0.03|             $UICIDEBOY$ - If ...|              $uicideboy$|  US|       2021-08-13|\n",
            "|   2|                       0.03|             $UICIDEBOY$ - If ...|              $uicideboy$|  US|       2021-08-13|\n",
            "|   3|                       0.04|             $UICIDEBOY$ - If ...|              $uicideboy$|  US|       2021-08-13|\n",
            "|   4|                       0.04|             $UICIDEBOY$ - If ...|              $uicideboy$|  RU|       2021-08-13|\n",
            "|   5|                       0.06|             $UICIDEBOY$ - Deg...|              $uicideboy$|  RU|       2021-08-13|\n",
            "|   1|                       0.04|   야이C... 벗으려면 벗고 입을...|     (MUTUBE)와꾸대장봉준|  KR|       2020-09-08|\n",
            "|   2|                       0.04|   야이C... 벗으려면 벗고 입을...|     (MUTUBE)와꾸대장봉준|  KR|       2020-09-08|\n",
            "|   3|                       0.04|   야이C... 벗으려면 벗고 입을...|     (MUTUBE)와꾸대장봉준|  KR|       2020-09-08|\n",
            "|   4|                       0.06|  10년만에 처음모인 감스트, 철...|     (MUTUBE)와꾸대장봉준|  KR|       2020-08-26|\n",
            "|   5|                       0.06|  10년만에 처음모인 감스트, 철...|     (MUTUBE)와꾸대장봉준|  KR|       2020-08-26|\n",
            "|   6|                       0.06|  10년만에 처음모인 감스트, 철...|     (MUTUBE)와꾸대장봉준|  KR|       2020-08-26|\n",
            "|   7|                       0.06|  10년만에 처음모인 감스트, 철...|     (MUTUBE)와꾸대장봉준|  KR|       2020-08-26|\n",
            "|   8|                       0.06|  10년만에 처음모인 감스트, 철...|     (MUTUBE)와꾸대장봉준|  KR|       2020-08-26|\n",
            "|   9|                       0.07|                        들켰..네?|     (MUTUBE)와꾸대장봉준|  KR|       2021-01-30|\n",
            "|  10|                       0.08|                        들켰..네?|     (MUTUBE)와꾸대장봉준|  KR|       2021-01-30|\n",
            "|  11|                       0.08|                        들켰..네?|     (MUTUBE)와꾸대장봉준|  KR|       2021-01-30|\n",
            "|  12|                       0.08|                        들켰..네?|     (MUTUBE)와꾸대장봉준|  KR|       2021-01-30|\n",
            "+----+---------------------------+---------------------------------+-------------------------+----+-----------------+\n",
            "only showing top 200 rows\n",
            "\n"
          ]
        }
      ]
    },
    {
      "cell_type": "markdown",
      "metadata": {
        "id": "s5Hbk07BXO5C"
      },
      "source": [
        "#DESTAQUE TOP 10"
      ]
    },
    {
      "cell_type": "code",
      "metadata": {
        "colab": {
          "base_uri": "https://localhost:8080/"
        },
        "id": "ww5W0uLjNpBs",
        "outputId": "ee3ab832-8277-44ea-8290-05663b914376"
      },
      "source": [
        "(df.groupBy(F.col(\"titulo_video\")).agg(\n",
        "    F.max(\"cont_visualizacao\").alias(\"total_visualizacao\"),\n",
        "    F.max(\"publicado_em_data\").alias(\"publicado_em_data\"),\n",
        "    F.max(\"data_destaque\").alias(\"data_destaque\")).orderBy('data_destaque', ascending=False).show(10)\n",
        ")"
      ],
      "execution_count": null,
      "outputs": [
        {
          "output_type": "stream",
          "name": "stdout",
          "text": [
            "+--------------------+------------------+-----------------+-------------+\n",
            "|        titulo_video|total_visualizacao|publicado_em_data|data_destaque|\n",
            "+--------------------+------------------+-----------------+-------------+\n",
            "|GRÊMIO 3 X 0 BRAG...|            391856|       2021-11-16|   2021-11-17|\n",
            "|UK VS JAMAICA FOO...|             96259|       2021-11-13|   2021-11-17|\n",
            "|I GOT ENGAGED!! *...|            804866|       2021-11-14|   2021-11-17|\n",
            "|This Christmas, N...|            287355|       2021-11-13|   2021-11-17|\n",
            "|Oddly satisfying ...|            738795|       2021-11-15|   2021-11-17|\n",
            "|Anitta - Envolver...|           5087138|       2021-11-12|   2021-11-17|\n",
            "|HYPE! en attendan...|             45617|       2021-11-13|   2021-11-17|\n",
            "|Voyage - Uloge (O...|            803687|       2021-11-16|   2021-11-17|\n",
            "|HAUT PARLEUR pass...|             91737|       2021-11-13|   2021-11-17|\n",
            "|La Palma: Vulkang...|            165681|       2021-11-11|   2021-11-17|\n",
            "+--------------------+------------------+-----------------+-------------+\n",
            "only showing top 10 rows\n",
            "\n"
          ]
        }
      ]
    },
    {
      "cell_type": "markdown",
      "metadata": {
        "id": "1f5NQrlp25Ry"
      },
      "source": [
        "TOP 10 MUNDO"
      ]
    },
    {
      "cell_type": "code",
      "metadata": {
        "colab": {
          "base_uri": "https://localhost:8080/"
        },
        "id": "FeI-7CSZ6u7d",
        "outputId": "e437463b-31d5-4ef3-c5ef-d81f16286b24"
      },
      "source": [
        "(df.groupBy(F.col(\"nome_canal\")).agg(\n",
        "    F.sum(\"cont_visualizacao\").alias(\"soma_visualizacao\"),\n",
        "    F.round(F.avg(\"cont_visualizacao\"),2).alias(\"media_visualizacao\"),\n",
        "    F.sum(\"curtidas\").alias(\"soma_curtidas\"),\n",
        "    F.round(F.avg(\"curtidas\"),2).alias(\"media_curtidas\"),\n",
        "    F.sum(\"nao_curtidas\").alias(\"soma_naocurtidas\"),\n",
        "    F.max(\"publicado_em_data\").alias(\"publicado_em_data\"),\n",
        "    F.max(\"data_destaque\").alias(\"data_destaque\"),\n",
        "    F.round(F.avg(\"nao_curtidas\"),2).alias(\"media_naocurtidas\")).orderBy('soma_visualizacao', ascending=False).show(10)\n",
        ")\n",
        "\n",
        "\n",
        "\n"
      ],
      "execution_count": null,
      "outputs": [
        {
          "output_type": "stream",
          "name": "stdout",
          "text": [
            "+-----------------+-----------------+------------------+-------------+--------------+----------------+-----------------+-------------+-----------------+\n",
            "|       nome_canal|soma_visualizacao|media_visualizacao|soma_curtidas|media_curtidas|soma_naocurtidas|publicado_em_data|data_destaque|media_naocurtidas|\n",
            "+-----------------+-----------------+------------------+-------------+--------------+----------------+-----------------+-------------+-----------------+\n",
            "|        BLACKPINK|      58230237271|      2.82396883E7|   5596684546|    2714202.01|       117843253|       2021-10-28|   2021-11-01|         57149.98|\n",
            "|      HYBE LABELS|      47383301434|     3.197253808E7|   4954981634|     3343442.4|        30903181|       2021-10-27|   2021-11-04|         20852.35|\n",
            "|           SMTOWN|      46008908926|     2.024149095E7|   2845074443|    1251682.55|        40529445|       2021-10-25|   2021-11-06|         17830.82|\n",
            "|JYP Entertainment|      38480556253|     1.798156834E7|   2296325821|    1073049.45|        36878750|       2021-11-12|   2021-11-17|         17233.06|\n",
            "|   Big Hit Labels|      37893503610|     3.558075456E7|   3892442538|    3654875.62|        79900146|       2021-03-25|   2021-03-30|         75023.61|\n",
            "|        BANGTANTV|      34712821173|     1.372590794E7|   5500913381|     2175133.8|        31245017|       2021-11-14|   2021-11-17|         12354.69|\n",
            "|          MrBeast|      31370195618|      2.45847928E7|   2179495546|    1708068.61|        22562155|       2021-10-29|   2021-11-05|         17681.94|\n",
            "|         T-Series|      14571958656|     2.396703726E7|    464864916|     764580.45|        22596720|       2021-11-10|   2021-11-16|         37165.66|\n",
            "| BillieEilishVEVO|      13294295105|     1.243619748E7|   1128743521|     1055887.3|        24037626|       2021-10-21|   2021-10-28|         22486.09|\n",
            "|  Fortnite Fun TV|      12162966626|     6.435432077E7|    407459849|    2155872.22|        12782233|       2021-07-11|   2021-07-13|         67630.86|\n",
            "+-----------------+-----------------+------------------+-------------+--------------+----------------+-----------------+-------------+-----------------+\n",
            "only showing top 10 rows\n",
            "\n"
          ]
        }
      ]
    },
    {
      "cell_type": "markdown",
      "metadata": {
        "id": "_40QOYxBBaga"
      },
      "source": [
        "#PARABENS ANITTA 👌👌👌"
      ]
    },
    {
      "cell_type": "code",
      "metadata": {
        "colab": {
          "base_uri": "https://localhost:8080/"
        },
        "id": "f8pfQmpT-IBZ",
        "outputId": "f1b6de16-32f6-4b9f-cde3-d390b7da5d15"
      },
      "source": [
        "df.where((F.col(\"pais\")=='BR')).filter(\" like_por_visualizacao_100  > 50\").show(20)\n"
      ],
      "execution_count": null,
      "outputs": [
        {
          "output_type": "stream",
          "name": "stdout",
          "text": [
            "+-----------+--------------------+--------------------+----------+-----------------+--------+------------+----------------+-------------------------+----------------------+----+---------+-----------------+-------------+-------------------------+----------------------------+---------------------------+\n",
            "|   id_video|        titulo_video|            id_canal|nome_canal|cont_visualizacao|curtidas|nao_curtidas|cont_comentarios|comentarios_desabilitados|curtidas_desabilitadas|pais|categoria|publicado_em_data|data_destaque|like_por_visualizacao_100|deslike_por_visualizacao_100|coment_por_visualizacao_100|\n",
            "+-----------+--------------------+--------------------+----------+-----------------+--------+------------+----------------+-------------------------+----------------------+----+---------+-----------------+-------------+-------------------------+----------------------------+---------------------------+\n",
            "|CuyTC8FLICY|Anitta - Girl Fro...|UCqjjyPUghDSSKFBA...|    Anitta|           544091|  325644|        3577|           75510|                    false|                 false|  BR|   musica|       2021-04-30|   2021-04-30|                    59.85|                        0.66|                      13.88|\n",
            "+-----------+--------------------+--------------------+----------+-----------------+--------+------------+----------------+-------------------------+----------------------+----+---------+-----------------+-------------+-------------------------+----------------------------+---------------------------+\n",
            "\n"
          ]
        }
      ]
    },
    {
      "cell_type": "markdown",
      "metadata": {
        "id": "9eSLGv3jJ_co"
      },
      "source": [
        "#SALVANDO NO BUCKET"
      ]
    },
    {
      "cell_type": "code",
      "metadata": {
        "id": "FCVOW4YCKCDB"
      },
      "source": [
        "# printando o schema só para ver todos os tipos das colunas\n",
        "#df.printSchema()"
      ],
      "execution_count": null,
      "outputs": []
    },
    {
      "cell_type": "code",
      "metadata": {
        "id": "ewvjMAXRKB7x"
      },
      "source": [
        "# dropando a colunas de 'virou_destaque_em_dias', pois estava dando problema para salvar. Tentem salvar com ela para ver o erro!\n",
        "# coloquei em dataframe novo para poderem testar\n",
        "#df2 = df.drop('virou_destaque_em_dias')\n",
        "#df2.show(1)"
      ],
      "execution_count": null,
      "outputs": []
    },
    {
      "cell_type": "markdown",
      "metadata": {
        "id": "AnBjwyP5KQey"
      },
      "source": [
        "Dessa maneira, salvar usando o toPandas não deu certo."
      ]
    },
    {
      "cell_type": "code",
      "metadata": {
        "id": "EBUe1w4PKByw"
      },
      "source": [
        "#serviceAccount = '/content/projetofinalgrupo8-2dcd866c3f46.json'\n",
        "#os.environ['GOOGLE_APPLICATION_CREDENTIALS'] = serviceAccount\n",
        "#\n",
        "#client = storage.Client()\n",
        "#bucket = client.get_bucket('projetofinalgrupo8')\n",
        "\n",
        "#bucket.blob('saida/data_tratado_pyspark.csv').upload_from_string(df2.to_csv(index=False), 'text/csv')\n",
        "#bucket.blob('saida/data_tratado_pyspark.csv').upload_from_string(df.toPandas().to_csv(index=False), 'text/csv')"
      ],
      "execution_count": null,
      "outputs": []
    },
    {
      "cell_type": "markdown",
      "metadata": {
        "id": "TAhndr6oKiOr"
      },
      "source": [
        "Dessa forma funciona, é um salvamento nativo do databricks, na raiz da aba lateral do colab que ele salva com propriedade de repartir arquivos grandes, isso acontece com o nosso."
      ]
    },
    {
      "cell_type": "code",
      "metadata": {
        "id": "DGDbWA4CKd3L"
      },
      "source": [
        "df.write.format(\"com.databricks.spark.csv\").option(\"header\", \"true\")\\\n",
        "                                           .option(\"inferschema\", \"true\")\\\n",
        "                                           .option(\"delimiter\", \",\")\\\n",
        "                                           .save(\"/content/data_tratado_pyspark.csv\")"
      ],
      "execution_count": null,
      "outputs": []
    },
    {
      "cell_type": "markdown",
      "metadata": {
        "id": "31iyIvpYK-kl"
      },
      "source": [
        "Aqui foi carreguado os as duas partes do nosso banco de dados que foi repartido no salvamento anterior"
      ]
    },
    {
      "cell_type": "code",
      "metadata": {
        "id": "_066R4_PK3MR",
        "colab": {
          "base_uri": "https://localhost:8080/",
          "height": 153
        },
        "outputId": "ab3af3ee-f269-4e17-bbfb-2627aa57a11b"
      },
      "source": [
        "#COPIAR OS ENDEREÇOS DOS ARQUIVOS NA PASTA \"data_tratado_pyspark.csv\"\n",
        "df_pandas1 = pd.read_csv('/content/data_tratado_pyspark.csv/part-00000-445148dc-72ca-4212-9367-c6c5c5398542-c000.csv')\n",
        "df_pandas2 = pd.read_csv('/content/data_tratado_pyspark.csv/part-00001-445148dc-72ca-4212-9367-c6c5c5398542-c000.csv')\n",
        "df_pandas2.head(1)"
      ],
      "execution_count": null,
      "outputs": [
        {
          "output_type": "execute_result",
          "data": {
            "text/html": [
              "<div>\n",
              "<style scoped>\n",
              "    .dataframe tbody tr th:only-of-type {\n",
              "        vertical-align: middle;\n",
              "    }\n",
              "\n",
              "    .dataframe tbody tr th {\n",
              "        vertical-align: top;\n",
              "    }\n",
              "\n",
              "    .dataframe thead th {\n",
              "        text-align: right;\n",
              "    }\n",
              "</style>\n",
              "<table border=\"1\" class=\"dataframe\">\n",
              "  <thead>\n",
              "    <tr style=\"text-align: right;\">\n",
              "      <th></th>\n",
              "      <th>id_video</th>\n",
              "      <th>titulo_video</th>\n",
              "      <th>id_canal</th>\n",
              "      <th>nome_canal</th>\n",
              "      <th>cont_visualizacao</th>\n",
              "      <th>curtidas</th>\n",
              "      <th>nao_curtidas</th>\n",
              "      <th>cont_comentarios</th>\n",
              "      <th>comentarios_desabilitados</th>\n",
              "      <th>curtidas_desabilitadas</th>\n",
              "      <th>pais</th>\n",
              "      <th>categoria</th>\n",
              "      <th>publicado_em_data</th>\n",
              "      <th>data_destaque</th>\n",
              "      <th>like_por_visualizacao_100</th>\n",
              "      <th>deslike_por_visualizacao_100</th>\n",
              "      <th>coment_por_visualizacao_100</th>\n",
              "    </tr>\n",
              "  </thead>\n",
              "  <tbody>\n",
              "    <tr>\n",
              "      <th>0</th>\n",
              "      <td>qDNssUZPZmw</td>\n",
              "      <td>Teri Aadat - Behind The Scenes ft. Siddharth N...</td>\n",
              "      <td>UCoFxUkg6cLuhlY3Ll8SHTDQ</td>\n",
              "      <td>Anushka Sen</td>\n",
              "      <td>254908</td>\n",
              "      <td>23129</td>\n",
              "      <td>629</td>\n",
              "      <td>1443</td>\n",
              "      <td>False</td>\n",
              "      <td>False</td>\n",
              "      <td>IN</td>\n",
              "      <td>entretenimento</td>\n",
              "      <td>2021-03-26</td>\n",
              "      <td>2021-03-28</td>\n",
              "      <td>9.07</td>\n",
              "      <td>0.25</td>\n",
              "      <td>0.57</td>\n",
              "    </tr>\n",
              "  </tbody>\n",
              "</table>\n",
              "</div>"
            ],
            "text/plain": [
              "      id_video  ... coment_por_visualizacao_100\n",
              "0  qDNssUZPZmw  ...                        0.57\n",
              "\n",
              "[1 rows x 17 columns]"
            ]
          },
          "metadata": {},
          "execution_count": 81
        }
      ]
    },
    {
      "cell_type": "markdown",
      "metadata": {
        "id": "gA3UgINTLJsd"
      },
      "source": [
        "Curiosamente ambos ficaram com tamanho bem proximo --> (510976, 17)"
      ]
    },
    {
      "cell_type": "code",
      "metadata": {
        "id": "LE5qFckHLFwn",
        "colab": {
          "base_uri": "https://localhost:8080/"
        },
        "outputId": "7eae849b-2028-4d65-f8c4-a8424708d45d"
      },
      "source": [
        "print(df_pandas1.shape)\n",
        "print(df_pandas2.shape)"
      ],
      "execution_count": null,
      "outputs": [
        {
          "output_type": "stream",
          "name": "stdout",
          "text": [
            "(510976, 17)\n",
            "(510645, 17)\n"
          ]
        }
      ]
    },
    {
      "cell_type": "markdown",
      "metadata": {
        "id": "mZbnT3jYLTjP"
      },
      "source": [
        "Concatenação e verificação do tamanho, deu tudo certo"
      ]
    },
    {
      "cell_type": "code",
      "metadata": {
        "id": "mGWMAvr_LRgE",
        "colab": {
          "base_uri": "https://localhost:8080/"
        },
        "outputId": "1238f2fb-b635-46d9-d807-066df94b1f34"
      },
      "source": [
        "df_pandas_def = pd.concat([df_pandas1, df_pandas2])\n",
        "df_pandas_def.shape"
      ],
      "execution_count": null,
      "outputs": [
        {
          "output_type": "execute_result",
          "data": {
            "text/plain": [
              "(1021621, 17)"
            ]
          },
          "metadata": {},
          "execution_count": 83
        }
      ]
    },
    {
      "cell_type": "markdown",
      "metadata": {
        "id": "vzo07V9BLdMm"
      },
      "source": [
        "\n",
        "Por fim, foi possivel salvar no bucket ✌"
      ]
    },
    {
      "cell_type": "code",
      "metadata": {
        "id": "3OgVlMfuLacL"
      },
      "source": [
        "serviceAccount = '/content/projetofinalgrupo8-2dcd866c3f46.json'\n",
        "os.environ['GOOGLE_APPLICATION_CREDENTIALS'] = serviceAccount\n",
        "\n",
        "client = storage.Client()\n",
        "bucket = client.get_bucket('projetofinalgrupo8')\n",
        "bucket.blob('saida/data_tratado_pyspark.csv').upload_from_string(df_pandas_def.to_csv(index=False), 'text/csv')"
      ],
      "execution_count": null,
      "outputs": []
    }
  ]
}