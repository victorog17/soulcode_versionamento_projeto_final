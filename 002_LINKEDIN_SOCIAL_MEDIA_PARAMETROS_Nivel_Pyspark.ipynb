{
  "nbformat": 4,
  "nbformat_minor": 0,
  "metadata": {
    "colab": {
      "name": "002_LINKEDIN - SOCIAL_MEDIA_PARAMETROS - Nivel Pyspark",
      "provenance": [],
      "collapsed_sections": []
    },
    "kernelspec": {
      "name": "python3",
      "display_name": "Python 3"
    },
    "language_info": {
      "name": "python"
    }
  },
  "cells": [
    {
      "cell_type": "code",
      "metadata": {
        "id": "-fQo6WrmsRTz"
      },
      "source": [
        "#crtl f9 inicializar tudo"
      ],
      "execution_count": null,
      "outputs": []
    },
    {
      "cell_type": "markdown",
      "metadata": {
        "id": "frIjrTmu1beS"
      },
      "source": [
        "#Importações"
      ]
    },
    {
      "cell_type": "markdown",
      "metadata": {
        "id": "vFpzL1NIGxPP"
      },
      "source": [
        "***Bibliotecas e instalações***"
      ]
    },
    {
      "cell_type": "code",
      "metadata": {
        "id": "f3ecfXFeGWRc"
      },
      "source": [
        "pip install pyspark"
      ],
      "execution_count": null,
      "outputs": []
    },
    {
      "cell_type": "code",
      "metadata": {
        "id": "hojuA5HgdCa3"
      },
      "source": [
        "pip install fsspec"
      ],
      "execution_count": null,
      "outputs": []
    },
    {
      "cell_type": "code",
      "metadata": {
        "id": "9OP_vFd9eB4P"
      },
      "source": [
        "pip install gcsfs"
      ],
      "execution_count": null,
      "outputs": []
    },
    {
      "cell_type": "markdown",
      "metadata": {
        "id": "XiHxwqse57At"
      },
      "source": [
        "Importando funcções padrão. Função Window também importada porque será usado mais na frente"
      ]
    },
    {
      "cell_type": "code",
      "metadata": {
        "id": "wEXFTjWJ6G4D"
      },
      "source": [
        "import os\n",
        "from google.cloud import storage\n",
        "\n",
        "from pyspark.sql import SparkSession, Window\n",
        "spark = SparkSession.builder.appName('GCSFilesRead').getOrCreate()\n",
        "\n",
        "import pyspark.sql.functions as F\n",
        "from pyspark.sql.functions import to_timestamp, to_date\n",
        "\n",
        "from pyspark.sql.types import StructType, StructField, StringType, IntegerType, DoubleType,BooleanType,DateType,TimestampType\n",
        "import pandas as pd\n"
      ],
      "execution_count": null,
      "outputs": []
    },
    {
      "cell_type": "markdown",
      "metadata": {
        "id": "wk7rk3Lz6Y76"
      },
      "source": [
        "# Criando Esquema e Dataframe"
      ]
    },
    {
      "cell_type": "code",
      "metadata": {
        "id": "FJQv-TpxhsbG"
      },
      "source": [
        "customSchema = StructType([\n",
        "   StructField(\"tempo_cargo_anterior\", DoubleType(),True),\n",
        "   StructField(\"id_usuario\", IntegerType(),True),\n",
        "   StructField(\"promocoes\", IntegerType(),True),\n",
        "   StructField(\"dias_cargo_anterior\", IntegerType(),True),\n",
        "   StructField(\"idade\", IntegerType(),True),\n",
        "   StructField(\"desfoque\", DoubleType(),True),\n",
        "   StructField(\"raiva\", DoubleType(),True),\n",
        "   StructField(\"desgosto\", DoubleType(),True),\n",
        "   StructField(\"medo\", DoubleType(),True),\n",
        "   StructField(\"felicidade\", DoubleType(),True),\n",
        "   StructField(\"neutro\", DoubleType(),True),\n",
        "   StructField(\"triste\", DoubleType(),True),\n",
        "   StructField(\"surpresa\", DoubleType(),True),\n",
        "   StructField(\"etnia\", StringType(),True),\n",
        "   StructField(\"genero\", StringType(),True),\n",
        "   StructField(\"oculos\", StringType(),True),\n",
        "   StructField(\"sorriso\", DoubleType(),True),\n",
        "   StructField(\"nacionalidade\", StringType(),True),\n",
        "   StructField(\"seguidores\", IntegerType(),True),\n",
        "   StructField(\"qualidade_imagem\", DoubleType(),True)\n",
        "\n",
        "])\n",
        "\n",
        "schema = customSchema"
      ],
      "execution_count": null,
      "outputs": []
    },
    {
      "cell_type": "code",
      "metadata": {
        "id": "X07R27PpYbAS"
      },
      "source": [
        "\n",
        "dfspark = pd.read_csv('gs://projetofinalgrupo8/saida/linkedin_tratado_pandas.csv', sep=',', header=0)\n",
        "df= spark.createDataFrame(dfspark,schema=schema)"
      ],
      "execution_count": null,
      "outputs": []
    },
    {
      "cell_type": "code",
      "metadata": {
        "colab": {
          "base_uri": "https://localhost:8080/"
        },
        "id": "xaNKB5xPepjg",
        "outputId": "0975f126-c85b-49eb-8db3-fc4e00ae4e4a"
      },
      "source": [
        "df.show(20)"
      ],
      "execution_count": null,
      "outputs": [
        {
          "output_type": "stream",
          "name": "stdout",
          "text": [
            "+--------------------+----------+---------+-------------------+-----+--------+-----+--------+----+----------+------+------+--------+--------+---------+------------+-------+--------------+----------+----------------+\n",
            "|tempo_cargo_anterior|id_usuario|promocoes|dias_cargo_anterior|idade|desfoque|raiva|desgosto|medo|felicidade|neutro|triste|surpresa|   etnia|   genero|      oculos|sorriso| nacionalidade|seguidores|qualidade_imagem|\n",
            "+--------------------+----------+---------+-------------------+-----+--------+-----+--------+----+----------+------+------+--------+--------+---------+------------+-------+--------------+----------+----------------+\n",
            "|                 2.0|      3008|        1|                457|   37|    0.42| 76.6|     0.7| 0.7|     99.04|  0.09|  0.01|    0.09|Asiático|Masculino|Oculos_comum|  77.54|asiatico_leste|       420|           67.66|\n",
            "|                 1.0|      3010|        1|               1827|   37|   64.26|  8.2|     8.2| 8.2|      9.59| 63.07|   0.1|    27.0|  Branco|Masculino|Oculos_comum|  63.77|     hispanico|       319|            0.01|\n",
            "|                 1.0|      3012|        1|                243|   31|    2.13|  0.7|    17.5| 5.7|     73.23| 14.74|  0.01|   11.78|  Branco|Masculino|Oculos_comum|   6.67|        ingles|       332|            55.4|\n",
            "|                 1.0|      3013|        1|               3925|   42|    0.35|  0.0|     0.0| 0.0|     100.0|   0.0|   0.0|     0.0|  Branco| Feminino|      Nenhum|  97.43|     hispanico|       784|           94.15|\n",
            "|                 1.0|      3014|        1|                699|   51|    0.32|  1.5|    34.7|29.4|     98.66|  0.09|  0.02|    0.58|  Branco| Feminino|      Nenhum|  98.94|        ingles|      1607|           59.92|\n",
            "|                 1.0|      3015|        1|                 61|   42|    0.37|  0.0|     0.0| 0.0|     100.0|   0.0|   0.0|     0.0|  Branco|Masculino|      Nenhum|  94.81|       europeu|      2222|           75.54|\n",
            "|                 1.0|      3016|        1|                395|   33|    0.36|  0.0|     0.0| 0.0|     96.42|  3.44|   0.0|    0.14|Asiático|Masculino|Oculos_comum|  10.48|asiatico_leste|      1259|            94.1|\n",
            "|                 2.0|      3017|        1|               1096|   50|    2.31|  0.0|     0.0| 0.0|     100.0|   0.0|   0.0|     0.0|  Branco|Masculino|      Nenhum|   95.8|        ingles|       331|            88.0|\n",
            "|                 1.0|      3018|        1|                913|   35|    0.37|  0.9|    65.0| 0.4|     56.51| 42.82|  0.01|     0.0|Asiático|Masculino|Oculos_comum|   35.2|asiatico_leste|      1634|           84.12|\n",
            "|                 4.0|      3020|        1|                820|   39|    0.36|  0.7|     0.7|23.1|     92.46|  7.29|  0.01|    0.01|  Branco|Masculino|      Nenhum|  31.03|asiatico_leste|       213|           92.84|\n",
            "|                 1.0|      3022|        1|               1216|   61|    3.37|  0.2|     2.1|19.4|     99.78|   0.0|   0.0|     0.0|  Branco|Masculino|      Nenhum|  97.18|        ingles|       412|           79.34|\n",
            "|                 2.0|      3023|        1|               1765|   26|    0.21| 34.7|    34.7|93.3|     76.71|  5.52|  0.88|   15.26|  Branco| Feminino|Oculos_comum|   9.65|  asiatico_sul|       387|           91.35|\n",
            "|                 1.0|      3024|        1|               1341|   51|    0.11|  0.0|     0.0| 1.8|     99.98|   0.0|   0.0|     0.0|  Branco|Masculino|Oculos_comum|  96.91|        ingles|       770|           81.47|\n",
            "|                 1.0|      3025|        1|                699|   44|    0.39|  0.0|     0.1| 0.0|     100.0|   0.0|   0.0|     0.0|  Branco|Masculino|Oculos_comum|  72.06|        ingles|       444|           88.17|\n",
            "|                 1.0|      3026|        1|                303|   28|    0.97|  0.2|     1.2| 1.0|     99.98|   0.0|   0.0|     0.0|Asiático| Feminino|      Nenhum|  94.93|asiatico_leste|      1162|            88.9|\n",
            "|                 1.0|      3028|        1|                151|   41|    1.05|  0.0|     0.0| 0.1|     100.0|   0.0|   0.0|     0.0|Asiático|Masculino|      Nenhum|  84.27|        ingles|       227|           91.74|\n",
            "|                 1.0|      3029|        1|               2496|   37|   11.28|  0.3|     0.1| 0.0|     99.99|   0.0|   0.0|     0.0|Asiático| Feminino|      Nenhum|  96.04|        ingles|       591|           79.83|\n",
            "|                 2.0|      3030|        1|                546|   59|    3.45|  0.4|     0.1| 7.0|     99.92|   0.0|   0.0|     0.0|  Branco| Feminino|      Nenhum|  99.68|        ingles|      1827|           74.73|\n",
            "|                 1.0|      3031|        1|               1156|   19|    0.34|  0.0|     0.0| 0.0|     100.0|   0.0|   0.0|     0.0|Asiático|Masculino|Oculos_comum|  96.61|        ingles|       291|           87.86|\n",
            "|                 1.0|      3034|        1|                700|   59|     0.1|  0.0|     0.1| 0.0|     76.85| 23.15|   0.0|     0.0|  Branco|Masculino|      Nenhum|  48.59|        ingles|      5977|            89.0|\n",
            "+--------------------+----------+---------+-------------------+-----+--------+-----+--------+----+----------+------+------+--------+--------+---------+------------+-------+--------------+----------+----------------+\n",
            "only showing top 20 rows\n",
            "\n"
          ]
        }
      ]
    },
    {
      "cell_type": "markdown",
      "metadata": {
        "id": "Nh_HeBzK6m2c"
      },
      "source": [
        "#Arredondando os valores das colunas necessárias\n"
      ]
    },
    {
      "cell_type": "code",
      "metadata": {
        "id": "48kb2y0Uk2D4"
      },
      "source": [
        "df = (df.withColumn(\"tempo_cargo_anterior\",F.round(F.col(\"tempo_cargo_anterior\"),2))\n",
        "        .withColumn(\"desfoque\",F.round(F.col(\"desfoque\"),2))\n",
        "        .withColumn(\"raiva\",F.round(F.col(\"raiva\"),2))\n",
        "        .withColumn(\"felicidade\",F.round(F.col(\"felicidade\"),2))\n",
        "        .withColumn(\"neutro\",F.round(F.col(\"neutro\"),2))\n",
        "        .withColumn(\"triste\",F.round(F.col(\"triste\"),2))\n",
        "        .withColumn(\"surpresa\",F.round(F.col(\"surpresa\"),2))\n",
        "        .withColumn(\"sorriso\",F.round(F.col(\"sorriso\"),2))\n",
        "        .withColumn(\"qualidade_imagem\",F.round(F.col(\"qualidade_imagem\"),2))      \n",
        ")\n"
      ],
      "execution_count": null,
      "outputs": []
    },
    {
      "cell_type": "code",
      "metadata": {
        "colab": {
          "base_uri": "https://localhost:8080/"
        },
        "id": "nYwhk1pjYpIO",
        "outputId": "53659279-6821-40f3-b7fe-59ccfccf4f1a"
      },
      "source": [
        "df.show(5)"
      ],
      "execution_count": null,
      "outputs": [
        {
          "output_type": "stream",
          "name": "stdout",
          "text": [
            "+--------------------+----------+---------+-------------------+-----+--------+-----+--------+----+----------+------+------+--------+--------+---------+------------+-------+--------------+----------+----------------+\n",
            "|tempo_cargo_anterior|id_usuario|promocoes|dias_cargo_anterior|idade|desfoque|raiva|desgosto|medo|felicidade|neutro|triste|surpresa|   etnia|   genero|      oculos|sorriso| nacionalidade|seguidores|qualidade_imagem|\n",
            "+--------------------+----------+---------+-------------------+-----+--------+-----+--------+----+----------+------+------+--------+--------+---------+------------+-------+--------------+----------+----------------+\n",
            "|                 2.0|      3008|        1|                457|   37|    0.42| 76.6|     0.7| 0.7|     99.04|  0.09|  0.01|    0.09|Asiático|Masculino|Oculos_comum|  77.54|asiatico_leste|       420|           67.66|\n",
            "|                 1.0|      3010|        1|               1827|   37|   64.26|  8.2|     8.2| 8.2|      9.59| 63.07|   0.1|    27.0|  Branco|Masculino|Oculos_comum|  63.77|     hispanico|       319|            0.01|\n",
            "|                 1.0|      3012|        1|                243|   31|    2.13|  0.7|    17.5| 5.7|     73.23| 14.74|  0.01|   11.78|  Branco|Masculino|Oculos_comum|   6.67|        ingles|       332|            55.4|\n",
            "|                 1.0|      3013|        1|               3925|   42|    0.35|  0.0|     0.0| 0.0|     100.0|   0.0|   0.0|     0.0|  Branco| Feminino|      Nenhum|  97.43|     hispanico|       784|           94.15|\n",
            "|                 1.0|      3014|        1|                699|   51|    0.32|  1.5|    34.7|29.4|     98.66|  0.09|  0.02|    0.58|  Branco| Feminino|      Nenhum|  98.94|        ingles|      1607|           59.92|\n",
            "+--------------------+----------+---------+-------------------+-----+--------+-----+--------+----+----------+------+------+--------+--------+---------+------------+-------+--------------+----------+----------------+\n",
            "only showing top 5 rows\n",
            "\n"
          ]
        }
      ]
    },
    {
      "cell_type": "markdown",
      "metadata": {
        "id": "-DtU4W8FbFib"
      },
      "source": [
        "#Utilizando o comando 'GroupBy'"
      ]
    },
    {
      "cell_type": "code",
      "metadata": {
        "colab": {
          "base_uri": "https://localhost:8080/"
        },
        "id": "BMhi-DLNsN0a",
        "outputId": "100b79ec-b720-431e-e749-d209fd7abc89"
      },
      "source": [
        "df.groupBy(\"id_usuario\").avg(\"tempo_cargo_anterior\").show(10,truncate=False)"
      ],
      "execution_count": null,
      "outputs": [
        {
          "output_type": "stream",
          "name": "stdout",
          "text": [
            "+----------+-------------------------+\n",
            "|id_usuario|avg(tempo_cargo_anterior)|\n",
            "+----------+-------------------------+\n",
            "|3175      |1.0                      |\n",
            "|3749      |1.0                      |\n",
            "|3794      |1.0                      |\n",
            "|3918      |1.0                      |\n",
            "|3997      |2.0                      |\n",
            "|4101      |1.0                      |\n",
            "|4900      |1.0                      |\n",
            "|4935      |1.0                      |\n",
            "|5156      |1.0                      |\n",
            "|5300      |1.0                      |\n",
            "+----------+-------------------------+\n",
            "only showing top 10 rows\n",
            "\n"
          ]
        }
      ]
    },
    {
      "cell_type": "markdown",
      "metadata": {
        "id": "flE7hQZvuhLC"
      },
      "source": [
        "***Agrupando a coluna \"nacionalidade\" e utilizando Aggregate para fazer pesquisas***"
      ]
    },
    {
      "cell_type": "code",
      "metadata": {
        "colab": {
          "base_uri": "https://localhost:8080/"
        },
        "id": "O6xEWAf8uGjS",
        "outputId": "5322dadf-388b-4d3e-94a4-7c5db9f03771"
      },
      "source": [
        "(df.groupBy(F.col(\"nacionalidade\")).agg(\n",
        "            F.round(F.mean(\"promocoes\"), 2).alias(\"media_promocoes\"),\n",
        "            F.round(F.max(\"promocoes\"), 2).alias(\"max_promocoes\"),\n",
        "            F.round(F.mean(\"idade\"), 2).alias(\"media_idade\"),\n",
        "            F.round(F.min(\"idade\"), 2).alias(\"min_idade\"),\n",
        "            F.max(\"idade\").alias(\"max_idade\")\n",
        "            ).orderBy(\"max_promocoes\")\n",
        "            .show())"
      ],
      "execution_count": null,
      "outputs": [
        {
          "output_type": "stream",
          "name": "stdout",
          "text": [
            "+--------------+---------------+-------------+-----------+---------+---------+\n",
            "| nacionalidade|media_promocoes|max_promocoes|media_idade|min_idade|max_idade|\n",
            "+--------------+---------------+-------------+-----------+---------+---------+\n",
            "|asiatico_leste|            1.0|            1|      34.37|       16|       75|\n",
            "|        ingles|            1.0|            1|      47.14|       16|       80|\n",
            "|     muculmano|            1.0|            1|      40.71|       19|       71|\n",
            "|         judeu|            1.0|            1|      47.16|       26|       66|\n",
            "|         grego|            1.0|            1|       44.6|       22|       69|\n",
            "|       europeu|            1.0|            1|      44.73|       17|       73|\n",
            "|     hispanico|            1.0|            1|      42.51|       16|       76|\n",
            "|  asiatico_sul|            1.0|            1|      38.04|       16|       71|\n",
            "|       nordico|            1.0|            1|      47.35|       26|       70|\n",
            "|      africano|            1.0|            1|      40.68|       20|       68|\n",
            "+--------------+---------------+-------------+-----------+---------+---------+\n",
            "\n"
          ]
        }
      ]
    },
    {
      "cell_type": "markdown",
      "metadata": {
        "id": "lA3kfmgjwzDY"
      },
      "source": [
        "\n",
        "***Agrupando a coluna \"idade\" e utilizando Aggregate para fazer pesquisas***"
      ]
    },
    {
      "cell_type": "code",
      "metadata": {
        "colab": {
          "base_uri": "https://localhost:8080/"
        },
        "id": "omJ-wZ5ehck2",
        "outputId": "275d71c1-a8ae-4353-8b14-7514f18fcb3a"
      },
      "source": [
        "(df.groupBy(F.col(\"idade\")).agg(\n",
        "            F.round(F.max(\"qualidade_imagem\"), 2).alias(\"max_qualidade\"),\n",
        "            F.round(F.mean(\"qualidade_imagem\"), 2).alias(\"media_qualidade\"),\n",
        "            F.round(F.min(\"qualidade_imagem\"), 2).alias(\"min_qualidade\")\n",
        "            ).orderBy(\"media_qualidade\").show(20))"
      ],
      "execution_count": null,
      "outputs": [
        {
          "output_type": "stream",
          "name": "stdout",
          "text": [
            "+-----+-------------+---------------+-------------+\n",
            "|idade|max_qualidade|media_qualidade|min_qualidade|\n",
            "+-----+-------------+---------------+-------------+\n",
            "|   80|         0.01|           0.01|         0.01|\n",
            "|   75|         0.01|           0.01|         0.01|\n",
            "|   76|        88.55|          29.52|         0.01|\n",
            "|   66|        93.04|          58.39|         0.01|\n",
            "|   61|        94.28|          59.42|         0.01|\n",
            "|   62|        94.43|          62.88|         0.01|\n",
            "|   58|        94.48|          63.32|         0.01|\n",
            "|   71|        92.44|          63.32|         0.01|\n",
            "|   36|        94.66|          64.39|         0.01|\n",
            "|   63|        94.49|          64.45|         0.01|\n",
            "|   23|        94.49|          64.71|         0.01|\n",
            "|   19|        94.01|          64.88|         0.01|\n",
            "|   21|        94.32|          65.32|         0.01|\n",
            "|   35|        94.68|           65.5|         0.01|\n",
            "|   38|        94.79|          65.62|         0.01|\n",
            "|   64|        94.66|          65.67|         0.01|\n",
            "|   30|        94.79|          65.69|         0.01|\n",
            "|   32|        94.72|          65.73|         0.01|\n",
            "|   55|        94.48|          65.81|         0.01|\n",
            "|   27|        94.53|          65.98|         0.01|\n",
            "+-----+-------------+---------------+-------------+\n",
            "only showing top 20 rows\n",
            "\n"
          ]
        }
      ]
    },
    {
      "cell_type": "code",
      "metadata": {
        "colab": {
          "base_uri": "https://localhost:8080/"
        },
        "id": "itiscRMJiLjF",
        "outputId": "85afdc58-1080-4735-a8cc-c22de18669b3"
      },
      "source": [
        "(df.groupBy(F.col(\"idade\")).agg(\n",
        "            F.count(\"idade\").alias(\"quantidade\"),\n",
        "            F.round(F.max(\"sorriso\"), 2).alias(\"max_sorriso\"),\n",
        "            F.round(F.mean(\"sorriso\"), 2).alias(\"media_sorriso\"),\n",
        "            F.round(F.min(\"sorriso\"), 2).alias(\"min_sorriso\")\n",
        "            ).orderBy(\"idade\").show(20))"
      ],
      "execution_count": null,
      "outputs": [
        {
          "output_type": "stream",
          "name": "stdout",
          "text": [
            "+-----+----------+-----------+-------------+-----------+\n",
            "|idade|quantidade|max_sorriso|media_sorriso|min_sorriso|\n",
            "+-----+----------+-----------+-------------+-----------+\n",
            "|   16|        18|      99.37|         74.7|       3.96|\n",
            "|   17|        14|      99.58|        62.45|       3.54|\n",
            "|   18|        23|      99.23|        65.08|        1.6|\n",
            "|   19|        43|      99.48|        68.52|       2.01|\n",
            "|   20|        55|      98.96|        63.91|       1.84|\n",
            "|   21|        61|      99.19|        59.87|       1.12|\n",
            "|   22|        78|      99.46|        50.66|       0.43|\n",
            "|   23|        76|       99.0|         57.8|       1.21|\n",
            "|   24|       107|      98.94|        62.05|       0.73|\n",
            "|   25|       104|      99.67|        61.34|       0.54|\n",
            "|   26|       147|      99.51|        55.28|       0.45|\n",
            "|   27|       172|      99.62|        53.83|       0.54|\n",
            "|   28|       174|      99.75|         57.8|       0.42|\n",
            "|   29|       163|       99.4|        58.47|       0.92|\n",
            "|   30|       216|      99.73|        59.85|       0.32|\n",
            "|   31|       243|       99.5|        60.22|       0.69|\n",
            "|   32|       258|      99.61|         61.4|       0.28|\n",
            "|   33|       277|      99.54|        60.02|       0.79|\n",
            "|   34|       294|      99.83|        53.81|       0.08|\n",
            "|   35|       295|      99.64|        60.04|        0.5|\n",
            "+-----+----------+-----------+-------------+-----------+\n",
            "only showing top 20 rows\n",
            "\n"
          ]
        }
      ]
    },
    {
      "cell_type": "markdown",
      "metadata": {
        "id": "M5fHXnMAxLzs"
      },
      "source": [
        "\n",
        "Agrupando a coluna \"genero\" e utilizando Aggregate para fazer pesquisas"
      ]
    },
    {
      "cell_type": "code",
      "metadata": {
        "colab": {
          "base_uri": "https://localhost:8080/"
        },
        "id": "mQpD5cTjRwcu",
        "outputId": "7a97dc58-5b6f-4cd3-8df1-cf050d097e07"
      },
      "source": [
        "(df.groupBy(F.col(\"genero\")).agg(\n",
        "            F.round(F.mean(\"promocoes\"), 2).alias(\"media_promocoes\"),\n",
        "            F.round(F.max(\"promocoes\"), 2).alias(\"max_promocoes\"),\n",
        "            F.round(F.mean(\"idade\"), 2).alias(\"media_idade\"),\n",
        "            F.round(F.min(\"idade\"), 2).alias(\"min_idade\"),\n",
        "            F.max(\"idade\").alias(\"maior_idade\")\n",
        "            ).orderBy(\"max_promocoes\").show())"
      ],
      "execution_count": null,
      "outputs": [
        {
          "output_type": "stream",
          "name": "stdout",
          "text": [
            "+---------+---------------+-------------+-----------+---------+-----------+\n",
            "|   genero|media_promocoes|max_promocoes|media_idade|min_idade|maior_idade|\n",
            "+---------+---------------+-------------+-----------+---------+-----------+\n",
            "| Feminino|            1.0|            1|      42.55|       16|         80|\n",
            "|Masculino|            1.0|            1|      43.23|       16|         76|\n",
            "+---------+---------------+-------------+-----------+---------+-----------+\n",
            "\n"
          ]
        }
      ]
    },
    {
      "cell_type": "markdown",
      "metadata": {
        "id": "POsdgfGebPjE"
      },
      "source": [
        "#Utilizando o comando 'Window'"
      ]
    },
    {
      "cell_type": "markdown",
      "metadata": {
        "id": "Fq8ylsgNH39n"
      },
      "source": [
        "***Odernando por idade e selecionando apenas algumas colunas***"
      ]
    },
    {
      "cell_type": "code",
      "metadata": {
        "id": "P-zY5fAa5LPa",
        "colab": {
          "base_uri": "https://localhost:8080/"
        },
        "outputId": "db4a2b71-3d2b-48ff-9259-58797b431807"
      },
      "source": [
        "w0 = Window.partitionBy(F.col(\"idade\")).orderBy(\"idade\")\n",
        "\n",
        "(df.withColumn(\"Rank\",F.rank().over(w0))\n",
        "  .withColumn(\"idade\",F.max(F.col(\"idade\")).over(w0))\n",
        "  .select(\"id_usuario\",\"genero\",\"idade\",\"nacionalidade\",\"dias_cargo_anterior\")\n",
        "  .filter(F.col(\"dias_cargo_anterior\") >1).show(10)\n",
        ")"
      ],
      "execution_count": null,
      "outputs": [
        {
          "output_type": "stream",
          "name": "stdout",
          "text": [
            "+----------+---------+-----+--------------+-------------------+\n",
            "|id_usuario|   genero|idade| nacionalidade|dias_cargo_anterior|\n",
            "+----------+---------+-----+--------------+-------------------+\n",
            "|      3511|Masculino|   16|asiatico_leste|               1003|\n",
            "|      3635|Masculino|   16|     hispanico|                366|\n",
            "|      4451|Masculino|   16|     hispanico|                 61|\n",
            "|      4902|Masculino|   16|        ingles|                152|\n",
            "|      6235|Masculino|   16|asiatico_leste|               1219|\n",
            "|      6990| Feminino|   16|asiatico_leste|                762|\n",
            "|      7008| Feminino|   16|        ingles|                730|\n",
            "|      7962| Feminino|   16|asiatico_leste|                 61|\n",
            "|      8158| Feminino|   16|asiatico_leste|                640|\n",
            "|      9054| Feminino|   16|     hispanico|               3012|\n",
            "+----------+---------+-----+--------------+-------------------+\n",
            "only showing top 10 rows\n",
            "\n"
          ]
        }
      ]
    },
    {
      "cell_type": "markdown",
      "metadata": {
        "id": "o8hL6zw2JP5L"
      },
      "source": [
        "***Odernando por \"nacionalidade\" e selecionando apenas algumas colunas***"
      ]
    },
    {
      "cell_type": "code",
      "metadata": {
        "colab": {
          "base_uri": "https://localhost:8080/"
        },
        "id": "JfcYzPaWEBkg",
        "outputId": "d460d56a-b635-47b3-9a6a-92b75248e5d2"
      },
      "source": [
        "w0 = Window.partitionBy(F.col(\"nacionalidade\")).orderBy(\"idade\")\n",
        "\n",
        "(df.withColumn(\"Rank\",F.rank().over(w0))\n",
        "  .withColumn(\"idade\",F.max(F.col(\"idade\")).over(w0))\n",
        "  .select(\"id_usuario\",\"genero\",\"idade\",\"nacionalidade\",\"dias_cargo_anterior\",\"sorriso\",\"oculos\")\n",
        "  .filter(F.col(\"idade\") >20).show(50)\n",
        ")"
      ],
      "execution_count": null,
      "outputs": [
        {
          "output_type": "stream",
          "name": "stdout",
          "text": [
            "+----------+---------+-----+-------------+-------------------+-------+------------+\n",
            "|id_usuario|   genero|idade|nacionalidade|dias_cargo_anterior|sorriso|      oculos|\n",
            "+----------+---------+-----+-------------+-------------------+-------+------------+\n",
            "|     12566|Masculino|   23|     africano|               1186|  10.35|      Nenhum|\n",
            "|      9275|Masculino|   24|     africano|               2496|  13.02|      Nenhum|\n",
            "|      4882|Masculino|   25|     africano|                913|  71.17|Oculos_comum|\n",
            "|       167|Masculino|   27|     africano|               1614|  16.38|      Nenhum|\n",
            "|     10068| Feminino|   27|     africano|               1157|  85.31|      Nenhum|\n",
            "|      1548|Masculino|   28|     africano|                182|   94.3|      Nenhum|\n",
            "|     13717|Masculino|   28|     africano|               1491|  79.92|Oculos_comum|\n",
            "|      3402|Masculino|   29|     africano|                 92|  84.55|      Nenhum|\n",
            "|      7393| Feminino|   29|     africano|                792|   97.0|Oculos_comum|\n",
            "|      1418| Feminino|   29|     africano|                335|  96.14|      Nenhum|\n",
            "|     10843|Masculino|   29|     africano|                123|  22.72|      Nenhum|\n",
            "|      6556|Masculino|   30|     africano|                947|   9.36|Oculos_comum|\n",
            "|      7473| Feminino|   30|     africano|                213|  29.24|      Nenhum|\n",
            "|     13095|Masculino|   30|     africano|                365|  98.69|      Nenhum|\n",
            "|      8107| Feminino|   31|     africano|                212|  75.42|      Nenhum|\n",
            "|      2518|Masculino|   31|     africano|                396|  98.17|Oculos_comum|\n",
            "|     10264|Masculino|   31|     africano|                303|  76.07|      Nenhum|\n",
            "|      6451|Masculino|   32|     africano|               1645|  32.75|      Nenhum|\n",
            "|      2700|Masculino|   32|     africano|                638|  83.51|Oculos_comum|\n",
            "|     10173|Masculino|   32|     africano|               1127|  44.72|Oculos_comum|\n",
            "|     15229|Masculino|   32|     africano|                365|  99.41|      Nenhum|\n",
            "|      6270| Feminino|   33|     africano|                 92|  99.36|      Nenhum|\n",
            "|      1747|Masculino|   33|     africano|                731|  68.33|      Nenhum|\n",
            "|      5210|Masculino|   34|     africano|               2222|  98.22|      Nenhum|\n",
            "|      6768| Feminino|   34|     africano|               2709|  77.48|      Nenhum|\n",
            "|       269|Masculino|   35|     africano|               2556|  56.35|Oculos_comum|\n",
            "|     14304|Masculino|   35|     africano|                365|   5.42|      Nenhum|\n",
            "|      1140|Masculino|   36|     africano|                184|  97.76|      Nenhum|\n",
            "|      8670| Feminino|   37|     africano|                883|   88.5|      Nenhum|\n",
            "|      1933|Masculino|   37|     africano|               2009|  31.38|Oculos_comum|\n",
            "|     13885|Masculino|   37|     africano|                518|  82.79|      Nenhum|\n",
            "|      5171|Masculino|   38|     africano|                517|  95.86|      Nenhum|\n",
            "|      7470|Masculino|   38|     africano|                699|  62.04|      Nenhum|\n",
            "|      9620|Masculino|   38|     africano|                242|  21.41|      Nenhum|\n",
            "|     15002| Feminino|   38|     africano|               1067|  16.24|Oculos_comum|\n",
            "|     12015|Masculino|   39|     africano|                365|  78.77|      Nenhum|\n",
            "|     12365|Masculino|   39|     africano|                335|   98.8|      Nenhum|\n",
            "|      6016|Masculino|   40|     africano|                334|   5.47|      Nenhum|\n",
            "|      2777|Masculino|   40|     africano|                944|  90.83|      Nenhum|\n",
            "|     10960|Masculino|   40|     africano|                792|  97.93|      Nenhum|\n",
            "|      9122|Masculino|   41|     africano|               1522|  22.42|Oculos_comum|\n",
            "|      9137|Masculino|   41|     africano|               1430|  31.23|      Nenhum|\n",
            "|       113|Masculino|   41|     africano|               2436|  14.65|      Nenhum|\n",
            "|      2488|Masculino|   41|     africano|                  0|  96.87|      Nenhum|\n",
            "|     12186|Masculino|   41|     africano|               1096|   4.24|      Nenhum|\n",
            "|     14038|Masculino|   41|     africano|               1461|  18.35|      Nenhum|\n",
            "|      3182|Masculino|   43|     africano|               2375|  97.76|      Nenhum|\n",
            "|      3854| Feminino|   43|     africano|                700|  76.86|      Nenhum|\n",
            "|      5182|Masculino|   43|     africano|                550|  10.61|      Nenhum|\n",
            "|      6110|Masculino|   43|     africano|               2526|  72.51|      Nenhum|\n",
            "+----------+---------+-----+-------------+-------------------+-------+------------+\n",
            "only showing top 50 rows\n",
            "\n"
          ]
        }
      ]
    },
    {
      "cell_type": "markdown",
      "metadata": {
        "id": "9eSLGv3jJ_co"
      },
      "source": [
        "#Salvando no bucket"
      ]
    },
    {
      "cell_type": "code",
      "metadata": {
        "id": "EBUe1w4PKByw"
      },
      "source": [
        "serviceAccount = '/content/projetofinalgrupo8-2dcd866c3f46.json'\n",
        "os.environ['GOOGLE_APPLICATION_CREDENTIALS'] = serviceAccount\n",
        "\n",
        "client = storage.Client()\n",
        "bucket = client.get_bucket('projetofinalgrupo8')\n",
        "\n",
        "bucket.blob('saida/linkedin_tratado_pyspark.csv').upload_from_string(df.toPandas().to_csv(index=False), 'text/csv')"
      ],
      "execution_count": null,
      "outputs": []
    }
  ]
}