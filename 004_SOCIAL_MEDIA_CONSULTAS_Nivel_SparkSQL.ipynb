{
  "nbformat": 4,
  "nbformat_minor": 0,
  "metadata": {
    "colab": {
      "name": "004_SOCIAL_MEDIA_CONSULTAS_Nivel_SparkSQL.ipynb",
      "provenance": [],
      "collapsed_sections": []
    },
    "kernelspec": {
      "name": "python3",
      "display_name": "Python 3"
    },
    "language_info": {
      "name": "python"
    }
  },
  "cells": [
    {
      "cell_type": "markdown",
      "metadata": {
        "id": "6vqBZY1Yi06r"
      },
      "source": [
        "#Instalação Bibliotecas"
      ]
    },
    {
      "cell_type": "code",
      "metadata": {
        "id": "s5yJtNy5z9cv"
      },
      "source": [
        "pip install pyspark"
      ],
      "execution_count": null,
      "outputs": []
    },
    {
      "cell_type": "code",
      "metadata": {
        "id": "NkXN1Q0p0TFN"
      },
      "source": [
        "pip install fsspec"
      ],
      "execution_count": null,
      "outputs": []
    },
    {
      "cell_type": "code",
      "metadata": {
        "id": "c5rv7RM00VY1"
      },
      "source": [
        "pip install gcsfs"
      ],
      "execution_count": null,
      "outputs": []
    },
    {
      "cell_type": "markdown",
      "metadata": {
        "id": "_lefTOzei6FI"
      },
      "source": [
        "#Bibliotecas"
      ]
    },
    {
      "cell_type": "code",
      "metadata": {
        "id": "WgMkIs940XpI"
      },
      "source": [
        "#Importando funcções padrão. Função Window também importada porque será usado mais na frente\n",
        "import os\n",
        "from google.cloud import storage\n",
        "\n",
        "from pyspark.sql import SparkSession, Window\n",
        "spark = SparkSession.builder.appName('GCSFilesRead').getOrCreate()\n",
        "\n",
        "import pyspark.sql.functions as F\n",
        "from pyspark.sql.functions import to_timestamp, to_date\n",
        "\n",
        "from pyspark.sql.types import *\n",
        "import pandas as pd"
      ],
      "execution_count": null,
      "outputs": []
    },
    {
      "cell_type": "code",
      "metadata": {
        "id": "N-UsNBvq05kK"
      },
      "source": [
        "serviceaccount = 'gs://projetofinalgrupo8/chave/projetofinalgrupo8-2dcd866c3f46.json'\n",
        "os.environ[\"GOOGLE_APPLICATION_CREDENTIALS\"] = serviceaccount\n",
        "\n",
        "dfspark = pd.read_csv('gs://projetofinalgrupo8/saida/data_tratado_pyspark.csv', sep=',',encoding='UTF-8', header=0)\n",
        "df = spark.createDataFrame(dfspark).createOrReplaceTempView(\"leitura_sql\")"
      ],
      "execution_count": null,
      "outputs": []
    },
    {
      "cell_type": "markdown",
      "metadata": {
        "id": "gEk2eeWqi9ya"
      },
      "source": [
        "#Consultas"
      ]
    },
    {
      "cell_type": "markdown",
      "metadata": {
        "id": "fUa42ScJiut2"
      },
      "source": [
        "**00.CONSULTA TABELA**"
      ]
    },
    {
      "cell_type": "code",
      "metadata": {
        "colab": {
          "base_uri": "https://localhost:8080/"
        },
        "id": "w-H_SNtO2NCW",
        "outputId": "2d06fde0-ac8c-47a2-e0dc-4ffe98ff3dc9"
      },
      "source": [
        "spark.sql(\"SELECT * FROM leitura_sql LIMIT 10\").show()"
      ],
      "execution_count": null,
      "outputs": [
        {
          "output_type": "stream",
          "name": "stdout",
          "text": [
            "+-----------+--------------------+--------------------+--------------------+-----------------+--------+------------+----------------+-------------------------+----------------------+----+---------------+-----------------+-------------+-------------------------+----------------------------+---------------------------+\n",
            "|   id_video|        titulo_video|            id_canal|          nome_canal|cont_visualizacao|curtidas|nao_curtidas|cont_comentarios|comentarios_desabilitados|curtidas_desabilitadas|pais|      categoria|publicado_em_data|data_destaque|like_por_visualizacao_100|deslike_por_visualizacao_100|coment_por_visualizacao_100|\n",
            "+-----------+--------------------+--------------------+--------------------+-----------------+--------+------------+----------------+-------------------------+----------------------+----+---------------+-----------------+-------------+-------------------------+----------------------------+---------------------------+\n",
            "|s9FH4rDMvds|LEVEI UM FORA? FI...|UCGfBwrCoi9ZJjKiU...|       Pietro Guedes|           263835|   85095|         487|            4500|                    false|                 false|  BR|pessoas_e_blogs|       2020-08-11|   2020-08-12|                    32.25|                        0.18|                       1.71|\n",
            "|jbGRowa5tIk|ITZY “Not Shy” M/...|UCaO6TYtlC8U5ttz6...|   JYP Entertainment|          6000070|  714310|       15176|           31040|                    false|                 false|  BR|         musica|       2020-08-11|   2020-08-12|                    11.91|                        0.25|                       0.52|\n",
            "|3EfkCrXKZNs|Oh Juliana PARÓDI...|UCoXZmVma073v5G1c...|       As Irmãs Mota|          2296748|   39761|        5484|               0|                     true|                 false|  BR|pessoas_e_blogs|       2020-08-10|   2020-08-12|                     1.73|                        0.24|                        0.0|\n",
            "|gBjox7vn3-g|Contos de Runeter...|UC6Xqz2pm50gDCORY...|League of Legends BR|           300510|   46222|         242|            2748|                    false|                 false|  BR|          jogos|       2020-08-11|   2020-08-12|                    15.38|                        0.08|                       0.91|\n",
            "|npoUGx7UW7o|Entrevista com Th...|UCEWOoncsrmirqnFq...|The Noite com Dan...|           327235|   22059|        3972|            2751|                    false|                 false|  BR|        comedia|       2020-08-11|   2020-08-12|                     6.74|                        1.21|                       0.84|\n",
            "|Vu6PNpYKu2U|DICAS DA RODADA 2...|UCJVbvkrBLp7L2pna...|Cartoleiros Gazet...|           117217|   14220|         106|             785|                    false|                 false|  BR|       esportes|       2020-08-11|   2020-08-12|                    12.13|                        0.09|                       0.67|\n",
            "|ly8jXKq_9AE|LIVE PLAYLIST DA ...|UCg9nWuUISG69Hv2V...|      Tayara Andreza|            93022|    7595|         166|             136|                    false|                 false|  BR|         musica|       2020-08-12|   2020-08-12|                     8.16|                        0.18|                       0.15|\n",
            "|QAUqqcEU0Xc|PEDI ELA EM NAMOR...|UCOPS25AxMB9te9_-...|               PEIXE|          1427499|  225365|        2287|            9647|                    false|                 false|  BR| entretenimento|       2020-08-11|   2020-08-12|                    15.79|                        0.16|                       0.68|\n",
            "|eA4FRvf6vdM|AO VIVO - Apresen...|UCZD5qcen7lbLPFTj...|            Vasco TV|            97711|   17153|          65|             226|                    false|                 false|  BR|       esportes|       2020-08-12|   2020-08-12|                    17.55|                        0.07|                       0.23|\n",
            "|8f70QZQB4UA|MASTERCHEF BRASIL...|UC2EWGw-KBjEReUbX...|   MasterChef Brasil|           199577|    7700|         129|             874|                    false|                 false|  BR| entretenimento|       2020-08-12|   2020-08-12|                     3.86|                        0.06|                       0.44|\n",
            "+-----------+--------------------+--------------------+--------------------+-----------------+--------+------------+----------------+-------------------------+----------------------+----+---------------+-----------------+-------------+-------------------------+----------------------------+---------------------------+\n",
            "\n"
          ]
        }
      ]
    },
    {
      "cell_type": "markdown",
      "metadata": {
        "id": "MfAF1__Uinee"
      },
      "source": [
        "**01.CONSULTA VIDEOS COM MAIS DE 50% DE CURTIDAS EM RELAÇÃO AS VISUALIZAÇÕES**"
      ]
    },
    {
      "cell_type": "code",
      "metadata": {
        "colab": {
          "base_uri": "https://localhost:8080/"
        },
        "id": "IdwyUlKS2WsJ",
        "outputId": "b68b7600-90f4-4a44-cbb5-181d25e298a9"
      },
      "source": [
        "#spark.sql(\"SELECT * FROM leitura_sql WHERE pais = 'BR' AND like_por_visualizacao_100 > 50 AND cont_visualizacao > 0\").show()\n",
        "spark.sql(\"SELECT * FROM leitura_sql WHERE like_por_visualizacao_100 > 50 AND cont_visualizacao > 0\").show()"
      ],
      "execution_count": null,
      "outputs": [
        {
          "output_type": "stream",
          "name": "stdout",
          "text": [
            "+-----------+--------------------------+--------------------+--------------------+-----------------+--------+------------+----------------+-------------------------+----------------------+----+----------------+-----------------+-------------+-------------------------+----------------------------+---------------------------+\n",
            "|   id_video|              titulo_video|            id_canal|          nome_canal|cont_visualizacao|curtidas|nao_curtidas|cont_comentarios|comentarios_desabilitados|curtidas_desabilitadas|pais|       categoria|publicado_em_data|data_destaque|like_por_visualizacao_100|deslike_por_visualizacao_100|coment_por_visualizacao_100|\n",
            "+-----------+--------------------------+--------------------+--------------------+-----------------+--------+------------+----------------+-------------------------+----------------------+----+----------------+-----------------+-------------+-------------------------+----------------------------+---------------------------+\n",
            "|CuyTC8FLICY|      Anitta - Girl Fro...|UCqjjyPUghDSSKFBA...|              Anitta|           544091|  325644|        3577|           75510|                    false|                 false|  BR|          musica|       2021-04-30|   2021-04-30|                    59.85|                        0.66|                      13.88|\n",
            "|qSqoTKhPX2M|      𝗸𝗶𝗹𝗹𝗶𝗻𝗴 𝗦...|UCoqkevrDoC-qAFhS...|                mOss|           155035|  147697|         217|           12172|                    false|                 false|  DE|filme_e_animacao|       2020-09-25|   2020-09-25|                    95.27|                        0.14|                       7.85|\n",
            "|ReaVFJt1Pjc|Stray Kids 『神メニュー...|UCXhj2pPWvONXmvgH...|Stray Kids Japan ...|           171638|   92791|          80|            5688|                    false|                 false|  FR|          musica|       2020-10-07|   2020-10-07|                    54.06|                        0.05|                       3.31|\n",
            "|7whb6qdbdlA|     Stray Kids 『ALL I...|UCXhj2pPWvONXmvgH...|Stray Kids Japan ...|           215605|  117909|         116|            7109|                    false|                 false|  GB|          musica|       2020-10-18|   2020-10-18|                    54.69|                        0.05|                        3.3|\n",
            "|IY6AY3NyZyM|      MAX - Blueberry E...|UCbwD4Ynubv_4Y-xD...|             MAXVEVO|           212921|  122009|         307|            6094|                    false|                 false|  RU|          musica|       2020-11-12|   2020-11-12|                     57.3|                        0.14|                       2.86|\n",
            "|lDPIhjfd6zs|      PUBG MOBILE 1.6 -...|UCBhCC4ML5ikKIoyk...|              AnTOnY|            23055|   11606|          59|               8|                    false|                 false|  RU|           jogos|       2021-10-10|   2021-10-11|                    50.34|                        0.26|                       0.03|\n",
            "|vhOh76TxhF4|      SAMP/СНИМАЕМ ЛИДЕ...|UCc2Y9jMTa4oyvPDt...|        Maras Shakur|            33049|   17600|         147|               1|                    false|                 false|  RU|           jogos|       2021-11-17|   2021-11-17|                    53.25|                        0.44|                        0.0|\n",
            "+-----------+--------------------------+--------------------+--------------------+-----------------+--------+------------+----------------+-------------------------+----------------------+----+----------------+-----------------+-------------+-------------------------+----------------------------+---------------------------+\n",
            "\n"
          ]
        }
      ]
    },
    {
      "cell_type": "markdown",
      "metadata": {
        "id": "81kmBdh3iSg0"
      },
      "source": [
        "**02.CONSULTA VIDEOS DA CATEGORIA FILMES E ANIMAÇÃO NOS EUA COM SUAS VISUALIZAÇÕES E PERCENTUAL DE CURTIDAS POR VISUALIZAÇÃO**"
      ]
    },
    {
      "cell_type": "code",
      "metadata": {
        "colab": {
          "base_uri": "https://localhost:8080/"
        },
        "id": "MxguT3_lWAXv",
        "outputId": "29fab06c-b211-4e7c-84f6-717dfc02f4a6"
      },
      "source": [
        "spark.sql(\"SELECT titulo_video, MAX(cont_visualizacao) AS total_visualizacao_por_video, \\\n",
        "                  ROUND((MAX(curtidas) / MAX(cont_visualizacao))*100, 2) AS curtidas_cada_100_visualizacao \\\n",
        "           FROM leitura_sql \\\n",
        "           WHERE (categoria = 'filme_e_animacao' AND pais = 'US') \\\n",
        "           GROUP BY titulo_video \\\n",
        "           ORDER BY total_visualizacao_por_video DESC \\\n",
        "           LIMIT 10\").show()"
      ],
      "execution_count": null,
      "outputs": [
        {
          "output_type": "stream",
          "name": "stdout",
          "text": [
            "+--------------------+----------------------------+------------------------------+\n",
            "|        titulo_video|total_visualizacao_por_video|curtidas_cada_100_visualizacao|\n",
            "+--------------------+----------------------------+------------------------------+\n",
            "|THE BATMAN – Main...|                    31990632|                          3.09|\n",
            "|F9 - Official Tra...|                    23430400|                          0.94|\n",
            "|Friday Night Funk...|                    21184728|                           2.5|\n",
            "|Did you know that...|                    18390451|                          6.06|\n",
            "|David Blaine Asce...|                    17212348|                          2.47|\n",
            "|Friends: The Reun...|                    16143739|                           2.2|\n",
            "|Parkour - Animati...|                    16031212|                          3.13|\n",
            "|THE CONJURING: TH...|                    15396299|                          1.53|\n",
            "|Wonder Woman 1984...|                    14810365|                          1.86|\n",
            "|Peacemaker | Offi...|                    14510945|                          0.63|\n",
            "+--------------------+----------------------------+------------------------------+\n",
            "\n"
          ]
        }
      ]
    },
    {
      "cell_type": "markdown",
      "metadata": {
        "id": "ZVktrg7MiMQS"
      },
      "source": [
        "**03.CONSULTA VÍDEOS QUE TENHAM O NOME DO BTS COM MAIS VISUALIZAÇÕES**"
      ]
    },
    {
      "cell_type": "code",
      "metadata": {
        "colab": {
          "base_uri": "https://localhost:8080/"
        },
        "id": "90OoaBmAVWq6",
        "outputId": "b66b6f7f-f047-4aa8-8132-1e8bc0e113da"
      },
      "source": [
        "spark.sql(\"SELECT titulo_video, MAX(cont_visualizacao) AS visualizacoes \\\n",
        "           FROM leitura_sql \\\n",
        "           WHERE (titulo_video LIKE '%BTS%') \\\n",
        "           GROUP BY titulo_video \\\n",
        "           ORDER BY visualizacoes DESC \\\n",
        "           LIMIT 5\").show()"
      ],
      "execution_count": null,
      "outputs": [
        {
          "output_type": "stream",
          "name": "stdout",
          "text": [
            "+-------------------------+-------------+\n",
            "|             titulo_video|visualizacoes|\n",
            "+-------------------------+-------------+\n",
            "|BTS (방탄소년단) 'Butt...|    296314174|\n",
            "|BTS (방탄소년단) 'Dyna...|    262319276|\n",
            "|BTS (방탄소년단) 'Perm...|    194795844|\n",
            "|BTS (방탄소년단) 'Life...|    161912058|\n",
            "|BTS (방탄소년단) 'Film...|     78893765|\n",
            "+-------------------------+-------------+\n",
            "\n"
          ]
        }
      ]
    },
    {
      "cell_type": "markdown",
      "metadata": {
        "id": "4AllMbPjiEDf"
      },
      "source": [
        "**04.CONSULTA VÍDEOS QUE TENHAM O NOME DO NEYMAR COM MAIS VISUALIZAÇÕES**"
      ]
    },
    {
      "cell_type": "code",
      "metadata": {
        "colab": {
          "base_uri": "https://localhost:8080/"
        },
        "id": "aJj8l0FsU26c",
        "outputId": "b35b8b8a-fa72-41a3-b906-3abfc5f38557"
      },
      "source": [
        "spark.sql(\"SELECT titulo_video, MAX(cont_visualizacao) AS visualizacoes \\\n",
        "           FROM leitura_sql \\\n",
        "           WHERE (titulo_video LIKE '%NEYMAR%') \\\n",
        "           GROUP BY titulo_video \\\n",
        "           ORDER BY visualizacoes DESC \\\n",
        "           LIMIT 10\").show()"
      ],
      "execution_count": null,
      "outputs": [
        {
          "output_type": "stream",
          "name": "stdout",
          "text": [
            "+--------------------+-------------+\n",
            "|        titulo_video|visualizacoes|\n",
            "+--------------------+-------------+\n",
            "|SHOW DE NEYMAR! B...|      5761326|\n",
            "|NEYMAR MARCA DUAS...|      4464807|\n",
            "|PAQUETÁ MARCA, MA...|      3878196|\n",
            "|♫ NEYMAR TÁ ON!!!...|      3847530|\n",
            "|NEYMAR DÁ ASSISTÊ...|      2372773|\n",
            "|NEYMAR JOGA MUITO...|      2244898|\n",
            "|♫ VAI TER NEYMAR ...|      2168694|\n",
            "|♫ DEU PSG!!! NEYM...|      2122704|\n",
            "|A CHEGADA SENSACI...|      2078345|\n",
            "|New *NEYMAR JR* U...|      1942078|\n",
            "+--------------------+-------------+\n",
            "\n"
          ]
        }
      ]
    },
    {
      "cell_type": "markdown",
      "metadata": {
        "id": "0POikBtZegYV"
      },
      "source": [
        "**05.CONSULTA DE VIDEOS COM MAIS DE 10 MILHÕES DE VISUALIZAÇÕES DA CATEGORIA ESPORTES DO YOUTUBE BRASIL**"
      ]
    },
    {
      "cell_type": "code",
      "metadata": {
        "colab": {
          "base_uri": "https://localhost:8080/"
        },
        "id": "T3bTQnFpSAFj",
        "outputId": "1c41a327-4712-4dc9-c297-ff04a4ba786a"
      },
      "source": [
        "spark.sql(\"SELECT titulo_video, MAX(cont_visualizacao) AS visualizacoes \\\n",
        "           FROM leitura_sql \\\n",
        "           WHERE (cont_visualizacao > 10000000 AND categoria = 'esportes' AND pais = 'BR') \\\n",
        "           GROUP BY titulo_video \\\n",
        "           ORDER BY visualizacoes DESC \\\n",
        "           LIMIT 10\").show()"
      ],
      "execution_count": null,
      "outputs": [
        {
          "output_type": "stream",
          "name": "stdout",
          "text": [
            "+--------------------+-------------+\n",
            "|        titulo_video|visualizacoes|\n",
            "+--------------------+-------------+\n",
            "|The Weeknd’s FULL...|     27865785|\n",
            "|#LEOMESSI: First ...|     26294018|\n",
            "|🎥  LEO MESSI,  D...|     20648273|\n",
            "|Khabib Nurmagomed...|     19819443|\n",
            "|Amazing moment of...|     10326487|\n",
            "+--------------------+-------------+\n",
            "\n"
          ]
        }
      ]
    },
    {
      "cell_type": "markdown",
      "metadata": {
        "id": "-bt_0oijfzIh"
      },
      "source": [
        "**06.CONSULTA VIDEOS ANITTA COM NUMERO DE VISUALIZACAO, CURTIDAS E COMENTARIOS PUBLICADOS DEPOIS DE 2021-06-30** "
      ]
    },
    {
      "cell_type": "code",
      "metadata": {
        "colab": {
          "base_uri": "https://localhost:8080/"
        },
        "id": "qMGdP345PS1Z",
        "outputId": "fc669db9-e869-4d52-ce5d-6090c12a81a1"
      },
      "source": [
        "spark.sql(\"SELECT titulo_video, MAX(cont_visualizacao) AS num_visualizacao, MAX(curtidas) AS num_curtidas, MAX(cont_comentarios) AS num_comentarios \\\n",
        "           FROM leitura_sql \\\n",
        "           WHERE nome_canal = 'Anitta' AND publicado_em_data > '2021-06-30' \\\n",
        "           GROUP BY titulo_video \\\n",
        "           ORDER BY num_visualizacao DESC \\\n",
        "           LIMIT 10\").show()"
      ],
      "execution_count": null,
      "outputs": [
        {
          "output_type": "stream",
          "name": "stdout",
          "text": [
            "+--------------------+----------------+------------+---------------+\n",
            "|        titulo_video|num_visualizacao|num_curtidas|num_comentarios|\n",
            "+--------------------+----------------+------------+---------------+\n",
            "|Anitta - Faking L...|         6890459|      347663|          45614|\n",
            "|Anitta - Envolver...|         5087138|      363785|          36343|\n",
            "|Anitta - Faking L...|          423824|       85881|          14683|\n",
            "|Anitta Sings Girl...|          202367|       32648|           2658|\n",
            "+--------------------+----------------+------------+---------------+\n",
            "\n"
          ]
        }
      ]
    },
    {
      "cell_type": "markdown",
      "metadata": {
        "id": "sHlatTGofan_"
      },
      "source": [
        "**07.CONSULTA VIDEOS ANITTA COM NUMERO DE VISUALIZACAO, CURTIDAS E COMENTARIOS**"
      ]
    },
    {
      "cell_type": "code",
      "metadata": {
        "colab": {
          "base_uri": "https://localhost:8080/"
        },
        "id": "CWoo5SeiOGKi",
        "outputId": "1dc8f741-d40e-4c11-87c7-43910466c730"
      },
      "source": [
        "spark.sql(\"SELECT titulo_video, MAX(cont_visualizacao) AS num_visualizacao, MAX(curtidas) AS num_curtidas, MAX(cont_comentarios) AS num_comentarios \\\n",
        "           FROM leitura_sql \\\n",
        "           WHERE nome_canal = 'Anitta' \\\n",
        "           GROUP BY titulo_video \\\n",
        "           ORDER BY num_visualizacao DESC \\\n",
        "           LIMIT 10\").show()"
      ],
      "execution_count": null,
      "outputs": [
        {
          "output_type": "stream",
          "name": "stdout",
          "text": [
            "+--------------------+----------------+------------+---------------+\n",
            "|        titulo_video|num_visualizacao|num_curtidas|num_comentarios|\n",
            "+--------------------+----------------+------------+---------------+\n",
            "|Anitta Me Gusta (...|        26165923|     1257868|         348858|\n",
            "|Anitta - Girl Fro...|        15771509|     1035748|         150062|\n",
            "|Anitta - Loco (Of...|         7982621|      310779|          45966|\n",
            "|Anitta - Faking L...|         6890459|      347663|          45614|\n",
            "|Anitta - Girl Fro...|         5264455|      156690|          10821|\n",
            "|Anitta - Envolver...|         5087138|      363785|          36343|\n",
            "|Anitta Me Gusta (...|         1448503|      149877|          11669|\n",
            "|Anitta Performanc...|         1373409|      113345|           9718|\n",
            "|Anitta | RELEASED...|          989410|       41066|           1165|\n",
            "|Anitta on RELEASE...|          945532|       20102|           2352|\n",
            "+--------------------+----------------+------------+---------------+\n",
            "\n"
          ]
        }
      ]
    },
    {
      "cell_type": "markdown",
      "metadata": {
        "id": "Kd6MGKGVf_IB"
      },
      "source": [
        "**08.CONSULTA DE TOTAL DE VISUALIZACOES E NUMERO DE VIDEOS DOS CANAIS DA CATEGORIA DE JOGOS**"
      ]
    },
    {
      "cell_type": "code",
      "metadata": {
        "colab": {
          "base_uri": "https://localhost:8080/"
        },
        "id": "FwQZ93p5JDCD",
        "outputId": "60c2c9e1-5e32-498d-f7fd-301119dd90d9"
      },
      "source": [
        "spark.sql(\"SELECT nome_canal, COUNT(DISTINCT titulo_video) AS numero_videos, SUM(DISTINCT cont_visualizacao) AS total_visualizacao_por_canal \\\n",
        "           FROM leitura_sql \\\n",
        "           WHERE categoria = 'jogos' \\\n",
        "           GROUP BY nome_canal \\\n",
        "           ORDER BY total_visualizacao_por_canal DESC \\\n",
        "           LIMIT 10\").show()"
      ],
      "execution_count": null,
      "outputs": [
        {
          "output_type": "stream",
          "name": "stdout",
          "text": [
            "+--------------------+-------------+----------------------------+\n",
            "|          nome_canal|numero_videos|total_visualizacao_por_canal|\n",
            "+--------------------+-------------+----------------------------+\n",
            "|      MrBeast Gaming|           61|                  4258737435|\n",
            "|         Brawl Stars|           30|                  2667075201|\n",
            "|             SSundee|          100|                  2090914442|\n",
            "|      Clash of Clans|           40|                  1906048141|\n",
            "|               Dream|           11|                  1561489175|\n",
            "|       AnthonySenpai|           11|                  1262361580|\n",
            "|Free Fire India O...|           48|                  1249355714|\n",
            "|         Klem Family|            7|                  1228945428|\n",
            "|   League of Legends|           36|                  1185810637|\n",
            "|          TommyInnit|           32|                  1091651516|\n",
            "+--------------------+-------------+----------------------------+\n",
            "\n"
          ]
        }
      ]
    },
    {
      "cell_type": "markdown",
      "metadata": {
        "id": "qbOXMZavgclc"
      },
      "source": [
        "**09.CONSULTA NUMERO DE CANAIS E MEDIA DE VISUALIZACOES POR VIDEO DA CATEGORIA**"
      ]
    },
    {
      "cell_type": "code",
      "metadata": {
        "colab": {
          "base_uri": "https://localhost:8080/"
        },
        "id": "2S5cvXMdHVEN",
        "outputId": "c3a8da36-acdd-4d31-fe0b-5fc6153080c2"
      },
      "source": [
        "spark.sql(\"SELECT categoria, COUNT(DISTINCT nome_canal) AS numero_canais, ROUND(MEAN(cont_visualizacao), 2) AS media_visualizacao_por_video \\\n",
        "           FROM leitura_sql \\\n",
        "           GROUP BY categoria \\\n",
        "           ORDER BY media_visualizacao_por_video DESC\").show()"
      ],
      "execution_count": null,
      "outputs": [
        {
          "output_type": "stream",
          "name": "stdout",
          "text": [
            "+--------------------+-------------+----------------------------+\n",
            "|           categoria|numero_canais|media_visualizacao_por_video|\n",
            "+--------------------+-------------+----------------------------+\n",
            "|              musica|         5786|                  4239143.85|\n",
            "|ciencias_e_tecnol...|          784|                  2108160.57|\n",
            "|               jogos|         3469|                  1749334.19|\n",
            "|      entretenimento|         7338|                  1710892.29|\n",
            "|             comedia|         1503|                  1571663.04|\n",
            "|     pessoas_e_blogs|         5134|                  1359910.64|\n",
            "|    filme_e_animacao|         1301|                  1308026.47|\n",
            "|            educacao|          735|                  1266638.11|\n",
            "|            esportes|         2008|                  1187144.65|\n",
            "|  como_faz_e_estilos|         1292|                   878036.94|\n",
            "|              outros|          137|                   835704.84|\n",
            "|             animais|          286|                    793950.2|\n",
            "|noticias_e_politicas|         1532|                   781123.55|\n",
            "|   viagens_e_eventos|          284|                    679063.8|\n",
            "|          automoveis|          831|                   612652.73|\n",
            "+--------------------+-------------+----------------------------+\n",
            "\n"
          ]
        }
      ]
    },
    {
      "cell_type": "markdown",
      "metadata": {
        "id": "BEwLXTgtgnmK"
      },
      "source": [
        "**10.CONSULTA VIDEOS COM MENOR NUMERO DE DESCURTIDAS MAIORES QUE ZERO NA CATEGORIA MUSICA NOS EUA, MOSTRANDO NÚMERO DE VISUALIZAÇÕES**"
      ]
    },
    {
      "cell_type": "code",
      "metadata": {
        "colab": {
          "base_uri": "https://localhost:8080/"
        },
        "id": "Gyw-Q0lu8xEL",
        "outputId": "32561c2c-f347-46c8-a9ae-8290edeb8798"
      },
      "source": [
        "spark.sql(\"SELECT titulo_video, MIN(nao_curtidas) AS menores_nao_curtidas, MAX(cont_visualizacao) AS numero_visualizacao \\\n",
        "           FROM leitura_sql \\\n",
        "           WHERE (categoria = 'musica' AND pais = 'US' AND nao_curtidas > 0) \\\n",
        "           GROUP BY titulo_video \\\n",
        "           ORDER BY menores_nao_curtidas \\\n",
        "           LIMIT 10\").show()"
      ],
      "execution_count": null,
      "outputs": [
        {
          "output_type": "stream",
          "name": "stdout",
          "text": [
            "+--------------------+--------------------+-------------------+\n",
            "|        titulo_video|menores_nao_curtidas|numero_visualizacao|\n",
            "+--------------------+--------------------+-------------------+\n",
            "|Opry Livestream -...|                   7|              56447|\n",
            "|Morgan Wallen - S...|                   9|             580319|\n",
            "|      Beautiful Trip|                  24|             679656|\n",
            "|Sleepy Hallow - 1...|                  28|             525397|\n",
            "|Carole King - So ...|                  30|             527981|\n",
            "|Phish Dinner And ...|                  34|             127299|\n",
            "|Sammy Hagar Remem...|                  36|             351147|\n",
            "|Eddie Van Halen's...|                  37|             595557|\n",
            "|Sammy Hagar Made ...|                  37|             207672|\n",
            "|Morgan Wallen - D...|                  39|             259746|\n",
            "+--------------------+--------------------+-------------------+\n",
            "\n"
          ]
        }
      ]
    },
    {
      "cell_type": "markdown",
      "metadata": {
        "id": "06aqgfbNg4Qs"
      },
      "source": [
        "**11.CONSULTA VIDEOS DO CANAL DO FELIPE NETO COM MAIOR NÚMERO DE VISUALIZAÇÕES**"
      ]
    },
    {
      "cell_type": "code",
      "metadata": {
        "colab": {
          "base_uri": "https://localhost:8080/"
        },
        "id": "JcMh4TQc2GPH",
        "outputId": "dc07741b-53fe-46bf-9313-a09ded526530"
      },
      "source": [
        "spark.sql(\"SELECT titulo_video, MAX(cont_visualizacao) AS numero_visualizacao \\\n",
        "           FROM leitura_sql \\\n",
        "           WHERE nome_canal = 'Felipe Neto' \\\n",
        "           GROUP BY titulo_video \\\n",
        "           ORDER BY numero_visualizacao DESC \\\n",
        "           LIMIT 10\").show()"
      ],
      "execution_count": null,
      "outputs": [
        {
          "output_type": "stream",
          "name": "stdout",
          "text": [
            "+--------------------+-------------------+\n",
            "|        titulo_video|numero_visualizacao|\n",
            "+--------------------+-------------------+\n",
            "|SHOW DA BLACK FRI...|            5533110|\n",
            "|AMONG US COM NETO...|            5178230|\n",
            "|AMONG US / NETOLA...|            4894976|\n",
            "|LIVE / AMONG US c...|            4292845|\n",
            "|AMONG US COM NAVA...|            3943216|\n",
            "|ENTREI NO ROUND 6!!!|            3922688|\n",
            "|LIVE - AMONG US -...|            3675967|\n",
            "|NOVA BATALHA! SIR...|            3465543|\n",
            "|LIVE DE 40 MILHÕE...|            3192567|\n",
            "|FIZ O PIOR MILKSH...|            3148609|\n",
            "+--------------------+-------------------+\n",
            "\n"
          ]
        }
      ]
    },
    {
      "cell_type": "markdown",
      "metadata": {
        "id": "f_oLqD6mhUcS"
      },
      "source": [
        "**12.CONSULTA CANAIS BRASILEIROS COM MAIOR NÚMERO DE VÍDEOS PUBLICADOS**"
      ]
    },
    {
      "cell_type": "code",
      "metadata": {
        "colab": {
          "base_uri": "https://localhost:8080/"
        },
        "id": "RmIaafVvmzGc",
        "outputId": "05e6536b-0c24-46d4-f0bd-913a5bb5cc66"
      },
      "source": [
        "spark.sql(\"SELECT nome_canal, COUNT(DISTINCT titulo_video) AS numero_videos_destaque \\\n",
        "           FROM leitura_sql \\\n",
        "           WHERE pais = 'BR' \\\n",
        "           GROUP BY nome_canal \\\n",
        "           ORDER BY numero_videos_destaque DESC \\\n",
        "           LIMIT 10\").show()"
      ],
      "execution_count": null,
      "outputs": [
        {
          "output_type": "stream",
          "name": "stdout",
          "text": [
            "+------------------+----------------------+\n",
            "|        nome_canal|numero_videos_destaque|\n",
            "+------------------+----------------------+\n",
            "|                ge|                   322|\n",
            "|         A Fazenda|                   207|\n",
            "|       Felipe Neto|                   166|\n",
            "|          De Placa|                   142|\n",
            "| MasterChef Brasil|                    94|\n",
            "|   WebTVBrasileira|                    86|\n",
            "|       FutParódias|                    86|\n",
            "|   Invento na Hora|                    76|\n",
            "|Free Fire - Brasil|                    69|\n",
            "|            AM3NlC|                    66|\n",
            "+------------------+----------------------+\n",
            "\n"
          ]
        }
      ]
    },
    {
      "cell_type": "markdown",
      "metadata": {
        "id": "HfNxrEcnhtJR"
      },
      "source": [
        "**13.CONSULTA NÚMERO DE CANAIS POR PAÍS E SUA MÉDIA DE COMENTÁRIOS POR VÍDEO**"
      ]
    },
    {
      "cell_type": "code",
      "metadata": {
        "colab": {
          "base_uri": "https://localhost:8080/"
        },
        "id": "QvQ3wo-Wjsaz",
        "outputId": "04717c80-da09-4af9-cc23-1e21ef9472fc"
      },
      "source": [
        "spark.sql(\"SELECT pais, COUNT(DISTINCT nome_canal) AS numero_canais, ROUND(MEAN(cont_comentarios), 2) AS media_comentarios_por_video \\\n",
        "           FROM leitura_sql \\\n",
        "           GROUP BY pais \\\n",
        "           ORDER BY numero_canais DESC\").show()"
      ],
      "execution_count": null,
      "outputs": [
        {
          "output_type": "stream",
          "name": "stdout",
          "text": [
            "+----+-------------+---------------------------+\n",
            "|pais|numero_canais|media_comentarios_por_video|\n",
            "+----+-------------+---------------------------+\n",
            "|  RU|         5345|                    5501.33|\n",
            "|  DE|         5015|                    8761.68|\n",
            "|  CA|         4923|                   13011.36|\n",
            "|  US|         4547|                   13990.23|\n",
            "|  GB|         4398|                   11287.87|\n",
            "|  FR|         3636|                    7439.54|\n",
            "|  BR|         3317|                    10544.9|\n",
            "|  MX|         3078|                   13719.64|\n",
            "|  IN|         2799|                   13110.12|\n",
            "|  JP|         2714|                    7991.05|\n",
            "|  KR|         2600|                   10752.21|\n",
            "+----+-------------+---------------------------+\n",
            "\n"
          ]
        }
      ]
    },
    {
      "cell_type": "markdown",
      "metadata": {
        "id": "jQPr0q8Hh7OY"
      },
      "source": [
        "**14.CONSULTA VIDEOS COM MAIS VISUALIZAÇÕES**"
      ]
    },
    {
      "cell_type": "code",
      "metadata": {
        "colab": {
          "base_uri": "https://localhost:8080/"
        },
        "id": "R-GXMAux4cov",
        "outputId": "17715997-9df5-4694-a387-ae10d7c2fee7"
      },
      "source": [
        "spark.sql(\"SELECT titulo_video, MAX(cont_visualizacao) AS total_visualizacao \\\n",
        "           FROM leitura_sql \\\n",
        "           GROUP BY titulo_video \\\n",
        "           ORDER BY total_visualizacao DESC\").show()"
      ],
      "execution_count": null,
      "outputs": [
        {
          "output_type": "stream",
          "name": "stdout",
          "text": [
            "+-------------------------+------------------+\n",
            "|             titulo_video|total_visualizacao|\n",
            "+-------------------------+------------------+\n",
            "|BTS (방탄소년단) 'Butt...|         296314174|\n",
            "|BTS (방탄소년단) 'Dyna...|         262319276|\n",
            "|     Turn into orbeez ...|         206202284|\n",
            "|     Filhaal2 Mohabbat...|         202091414|\n",
            "|BTS (방탄소년단) 'Perm...|         194795844|\n",
            "|     JETSKI WAX PRANK!...|         194625542|\n",
            "|      LISA - 'LALISA' M/V|         192376395|\n",
            "|     BLACKPINK - 'Ice ...|         184778248|\n",
            "|     INSANE strawberry...|         164362471|\n",
            "|BTS (방탄소년단) 'Life...|         161912058|\n",
            "|     BLACKPINK – ‘Love...|         161416953|\n",
            "|     KGF Chapter2 TEAS...|         156704924|\n",
            "|     Beach Money Ball!...|         153462028|\n",
            "|     Paytm IPL 2021 Ad...|         141191928|\n",
            "|     Adele - Easy On M...|         139547582|\n",
            "|     When the cheating...|         137308926|\n",
            "|     She is foxy but n...|         131108950|\n",
            "|     Guru Randhawa: Na...|         130124523|\n",
            "|     MvRyhan Funny vid...|         124476794|\n",
            "|     The Invisible Gla...|         121675030|\n",
            "+-------------------------+------------------+\n",
            "only showing top 20 rows\n",
            "\n"
          ]
        }
      ]
    },
    {
      "cell_type": "code",
      "metadata": {
        "id": "0HAsq4m-BkAn"
      },
      "source": [
        ""
      ],
      "execution_count": null,
      "outputs": []
    }
  ]
}